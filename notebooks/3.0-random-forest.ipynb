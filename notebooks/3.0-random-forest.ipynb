{
 "cells": [
  {
   "cell_type": "code",
   "execution_count": 72,
   "metadata": {
    "collapsed": true
   },
   "outputs": [],
   "source": [
    "from lexnorm.definitions import DATA_PATH\n",
    "import os\n",
    "import pandas as pd\n",
    "\n",
    "train = pd.read_csv(os.path.join(DATA_PATH, \"hpc/train_annotated.txt\"), index_col=0)\n",
    "dev = pd.read_csv(os.path.join(DATA_PATH, \"hpc/dev_annotated.txt\"), index_col=0)"
   ]
  },
  {
   "cell_type": "code",
   "execution_count": 71,
   "outputs": [],
   "source": [
    "from sklearn.ensemble import RandomForestClassifier\n",
    "from sklearn.svm import LinearSVC"
   ],
   "metadata": {
    "collapsed": false
   }
  },
  {
   "cell_type": "code",
   "execution_count": 70,
   "outputs": [],
   "source": [
    "train.fillna(0, inplace=True)\n",
    "dev.fillna(0, inplace=True)\n",
    "X_train = train.drop([\"correct\", \"raw_tok_index\", \"gold\"], axis=1)\n",
    "X_dev = dev.drop([\"correct\", \"raw_tok_index\", \"gold\"], axis=1)\n",
    "y_train = train[\"correct\"]\n",
    "y_dev = dev[\"correct\"]"
   ],
   "metadata": {
    "collapsed": false
   }
  },
  {
   "cell_type": "code",
   "execution_count": 55,
   "outputs": [],
   "source": [
    "from sklearn import preprocessing\n",
    "\n",
    "feature_vals = X_train.values\n",
    "scaler = preprocessing.StandardScaler().fit(feature_vals)\n",
    "feature_vals = scaler.transform(feature_vals)\n",
    "X_train[:] = feature_vals\n",
    "\n",
    "feature_vals = X_dev.values\n",
    "scaler = preprocessing.StandardScaler().fit(feature_vals)\n",
    "feature_vals = scaler.transform(feature_vals)\n",
    "X_dev[:] = feature_vals"
   ],
   "metadata": {
    "collapsed": false
   }
  },
  {
   "cell_type": "code",
   "execution_count": 5,
   "outputs": [
    {
     "name": "stdout",
     "output_type": "stream",
     "text": [
      "[LibLinear]....................................................................................................\n",
      "optimization finished, #iter = 1000\n",
      "\n",
      "WARNING: reaching max number of iterations\n",
      "Using -s 2 may be faster (also see FAQ)\n",
      "\n",
      "Objective value = -77126.360842\n",
      "nSV = 259470\n"
     ]
    },
    {
     "name": "stderr",
     "output_type": "stream",
     "text": [
      "/Users/elijoe/Library/Mobile Documents/com~apple~CloudDocs/Documents/2/Diss/lexnorm/.venv/lib/python3.10/site-packages/sklearn/svm/_base.py:1244: ConvergenceWarning: Liblinear failed to converge, increase the number of iterations.\n",
      "  warnings.warn(\n"
     ]
    }
   ],
   "source": [
    "svm = LinearSVC(class_weight=\"balanced\", verbose=1).fit(X_train, y_train.values.ravel())"
   ],
   "metadata": {
    "collapsed": false
   }
  },
  {
   "cell_type": "code",
   "execution_count": 11,
   "outputs": [
    {
     "data": {
      "text/plain": "array([[ 0.17172243, -0.13962874, -0.20333317,  0.12403685,  0.00285971,\n         1.8674295 , -0.0935477 ,  0.16077809, -0.05016316,  0.14621954,\n        -0.64900722, -0.14582517,  0.        ,  0.08600042]])"
     },
     "execution_count": 11,
     "metadata": {},
     "output_type": "execute_result"
    }
   ],
   "source": [
    "from joblib import dump, load\n",
    "dump(svm, os.path.join(DATA_PATH, \"../models/svm.joblib\"))\n",
    "test = load(os.path.join(DATA_PATH, \"../models/svm.joblib\"))\n",
    "test.coef_"
   ],
   "metadata": {
    "collapsed": false
   }
  },
  {
   "cell_type": "code",
   "execution_count": 64,
   "outputs": [],
   "source": [
    "preds = svm.decision_function(X_dev)"
   ],
   "metadata": {
    "collapsed": false
   }
  },
  {
   "cell_type": "code",
   "execution_count": 65,
   "outputs": [
    {
     "data": {
      "text/plain": "0.9983700596728575"
     },
     "execution_count": 65,
     "metadata": {},
     "output_type": "execute_result"
    }
   ],
   "source": [
    "svm.score(X_dev, y_dev)"
   ],
   "metadata": {
    "collapsed": false
   }
  },
  {
   "cell_type": "code",
   "execution_count": 66,
   "outputs": [
    {
     "data": {
      "text/plain": "array([-1.43408099, -1.56879485, -1.4699958 , ..., -2.39990597,\n       -2.10414587, -3.19460247])"
     },
     "execution_count": 66,
     "metadata": {},
     "output_type": "execute_result"
    }
   ],
   "source": [
    "preds"
   ],
   "metadata": {
    "collapsed": false
   }
  },
  {
   "cell_type": "code",
   "execution_count": 73,
   "outputs": [
    {
     "data": {
      "text/plain": "      cosine_to_orig  embeddings_rank  from_clipping  from_original_token  \\\nan          0.377180              NaN            NaN                  NaN   \nca          0.255824              NaN            NaN                  NaN   \ncab         0.261057              NaN            NaN                  NaN   \ncam         0.299136              NaN            NaN                  NaN   \ncan         1.000000              NaN            1.0                  1.0   \n...              ...              ...            ...                  ...   \nlulu        0.401415              NaN            NaN                  NaN   \npol         0.230619              NaN            NaN                  NaN   \nsmh         0.896277              1.0            NaN                  NaN   \nsol         0.285978              NaN            NaN                  NaN   \nvol         0.235724              NaN            NaN                  NaN   \n\n      from_split  norms_seen  spellcheck_rank  in_lexicon  length  same_order  \\\nan           NaN         NaN              3.0         1.0       2         NaN   \nca           NaN         NaN              4.0         1.0       2         NaN   \ncab          NaN         NaN              1.0         1.0       3         NaN   \ncam          NaN         NaN              2.0         1.0       3         NaN   \ncan          NaN        72.0              NaN         1.0       3         1.0   \n...          ...         ...              ...         ...     ...         ...   \nlulu         NaN         NaN             14.0         1.0       4         NaN   \npol          NaN         NaN              9.0         1.0       3         NaN   \nsmh          NaN         NaN              NaN         NaN       3         NaN   \nsol          NaN         NaN              3.0         1.0       3         NaN   \nvol          NaN         NaN             12.0         NaN       3         NaN   \n\n      orig_norms_seen  orig_in_lexicon  orig_same_order  orig_length  correct  \\\nan               72.0              1.0              1.0          3.0      NaN   \nca               72.0              1.0              1.0          3.0      NaN   \ncab              72.0              1.0              1.0          3.0      NaN   \ncam              72.0              1.0              1.0          3.0      NaN   \ncan              72.0              1.0              1.0          3.0      1.0   \n...               ...              ...              ...          ...      ...   \nlulu            205.0              1.0              1.0          3.0      NaN   \npol             205.0              1.0              1.0          3.0      NaN   \nsmh             205.0              1.0              1.0          3.0      NaN   \nsol             205.0              1.0              1.0          3.0      NaN   \nvol             205.0              1.0              1.0          3.0      NaN   \n\n     raw_tok_index gold     preds  \nan            35_0  can -1.434081  \nca            35_0  can -1.568795  \ncab           35_0  can -1.469996  \ncam           35_0  can -1.476411  \ncan           35_0  can  9.580333  \n...            ...  ...       ...  \nlulu        32_160  lol -2.435480  \npol         32_160  lol -2.371043  \nsmh         32_160  lol -2.399906  \nsol         32_160  lol -2.104146  \nvol         32_160  lol -3.194602  \n\n[727634 rows x 18 columns]",
      "text/html": "<div>\n<style scoped>\n    .dataframe tbody tr th:only-of-type {\n        vertical-align: middle;\n    }\n\n    .dataframe tbody tr th {\n        vertical-align: top;\n    }\n\n    .dataframe thead th {\n        text-align: right;\n    }\n</style>\n<table border=\"1\" class=\"dataframe\">\n  <thead>\n    <tr style=\"text-align: right;\">\n      <th></th>\n      <th>cosine_to_orig</th>\n      <th>embeddings_rank</th>\n      <th>from_clipping</th>\n      <th>from_original_token</th>\n      <th>from_split</th>\n      <th>norms_seen</th>\n      <th>spellcheck_rank</th>\n      <th>in_lexicon</th>\n      <th>length</th>\n      <th>same_order</th>\n      <th>orig_norms_seen</th>\n      <th>orig_in_lexicon</th>\n      <th>orig_same_order</th>\n      <th>orig_length</th>\n      <th>correct</th>\n      <th>raw_tok_index</th>\n      <th>gold</th>\n      <th>preds</th>\n    </tr>\n  </thead>\n  <tbody>\n    <tr>\n      <th>an</th>\n      <td>0.377180</td>\n      <td>NaN</td>\n      <td>NaN</td>\n      <td>NaN</td>\n      <td>NaN</td>\n      <td>NaN</td>\n      <td>3.0</td>\n      <td>1.0</td>\n      <td>2</td>\n      <td>NaN</td>\n      <td>72.0</td>\n      <td>1.0</td>\n      <td>1.0</td>\n      <td>3.0</td>\n      <td>NaN</td>\n      <td>35_0</td>\n      <td>can</td>\n      <td>-1.434081</td>\n    </tr>\n    <tr>\n      <th>ca</th>\n      <td>0.255824</td>\n      <td>NaN</td>\n      <td>NaN</td>\n      <td>NaN</td>\n      <td>NaN</td>\n      <td>NaN</td>\n      <td>4.0</td>\n      <td>1.0</td>\n      <td>2</td>\n      <td>NaN</td>\n      <td>72.0</td>\n      <td>1.0</td>\n      <td>1.0</td>\n      <td>3.0</td>\n      <td>NaN</td>\n      <td>35_0</td>\n      <td>can</td>\n      <td>-1.568795</td>\n    </tr>\n    <tr>\n      <th>cab</th>\n      <td>0.261057</td>\n      <td>NaN</td>\n      <td>NaN</td>\n      <td>NaN</td>\n      <td>NaN</td>\n      <td>NaN</td>\n      <td>1.0</td>\n      <td>1.0</td>\n      <td>3</td>\n      <td>NaN</td>\n      <td>72.0</td>\n      <td>1.0</td>\n      <td>1.0</td>\n      <td>3.0</td>\n      <td>NaN</td>\n      <td>35_0</td>\n      <td>can</td>\n      <td>-1.469996</td>\n    </tr>\n    <tr>\n      <th>cam</th>\n      <td>0.299136</td>\n      <td>NaN</td>\n      <td>NaN</td>\n      <td>NaN</td>\n      <td>NaN</td>\n      <td>NaN</td>\n      <td>2.0</td>\n      <td>1.0</td>\n      <td>3</td>\n      <td>NaN</td>\n      <td>72.0</td>\n      <td>1.0</td>\n      <td>1.0</td>\n      <td>3.0</td>\n      <td>NaN</td>\n      <td>35_0</td>\n      <td>can</td>\n      <td>-1.476411</td>\n    </tr>\n    <tr>\n      <th>can</th>\n      <td>1.000000</td>\n      <td>NaN</td>\n      <td>1.0</td>\n      <td>1.0</td>\n      <td>NaN</td>\n      <td>72.0</td>\n      <td>NaN</td>\n      <td>1.0</td>\n      <td>3</td>\n      <td>1.0</td>\n      <td>72.0</td>\n      <td>1.0</td>\n      <td>1.0</td>\n      <td>3.0</td>\n      <td>1.0</td>\n      <td>35_0</td>\n      <td>can</td>\n      <td>9.580333</td>\n    </tr>\n    <tr>\n      <th>...</th>\n      <td>...</td>\n      <td>...</td>\n      <td>...</td>\n      <td>...</td>\n      <td>...</td>\n      <td>...</td>\n      <td>...</td>\n      <td>...</td>\n      <td>...</td>\n      <td>...</td>\n      <td>...</td>\n      <td>...</td>\n      <td>...</td>\n      <td>...</td>\n      <td>...</td>\n      <td>...</td>\n      <td>...</td>\n      <td>...</td>\n    </tr>\n    <tr>\n      <th>lulu</th>\n      <td>0.401415</td>\n      <td>NaN</td>\n      <td>NaN</td>\n      <td>NaN</td>\n      <td>NaN</td>\n      <td>NaN</td>\n      <td>14.0</td>\n      <td>1.0</td>\n      <td>4</td>\n      <td>NaN</td>\n      <td>205.0</td>\n      <td>1.0</td>\n      <td>1.0</td>\n      <td>3.0</td>\n      <td>NaN</td>\n      <td>32_160</td>\n      <td>lol</td>\n      <td>-2.435480</td>\n    </tr>\n    <tr>\n      <th>pol</th>\n      <td>0.230619</td>\n      <td>NaN</td>\n      <td>NaN</td>\n      <td>NaN</td>\n      <td>NaN</td>\n      <td>NaN</td>\n      <td>9.0</td>\n      <td>1.0</td>\n      <td>3</td>\n      <td>NaN</td>\n      <td>205.0</td>\n      <td>1.0</td>\n      <td>1.0</td>\n      <td>3.0</td>\n      <td>NaN</td>\n      <td>32_160</td>\n      <td>lol</td>\n      <td>-2.371043</td>\n    </tr>\n    <tr>\n      <th>smh</th>\n      <td>0.896277</td>\n      <td>1.0</td>\n      <td>NaN</td>\n      <td>NaN</td>\n      <td>NaN</td>\n      <td>NaN</td>\n      <td>NaN</td>\n      <td>NaN</td>\n      <td>3</td>\n      <td>NaN</td>\n      <td>205.0</td>\n      <td>1.0</td>\n      <td>1.0</td>\n      <td>3.0</td>\n      <td>NaN</td>\n      <td>32_160</td>\n      <td>lol</td>\n      <td>-2.399906</td>\n    </tr>\n    <tr>\n      <th>sol</th>\n      <td>0.285978</td>\n      <td>NaN</td>\n      <td>NaN</td>\n      <td>NaN</td>\n      <td>NaN</td>\n      <td>NaN</td>\n      <td>3.0</td>\n      <td>1.0</td>\n      <td>3</td>\n      <td>NaN</td>\n      <td>205.0</td>\n      <td>1.0</td>\n      <td>1.0</td>\n      <td>3.0</td>\n      <td>NaN</td>\n      <td>32_160</td>\n      <td>lol</td>\n      <td>-2.104146</td>\n    </tr>\n    <tr>\n      <th>vol</th>\n      <td>0.235724</td>\n      <td>NaN</td>\n      <td>NaN</td>\n      <td>NaN</td>\n      <td>NaN</td>\n      <td>NaN</td>\n      <td>12.0</td>\n      <td>NaN</td>\n      <td>3</td>\n      <td>NaN</td>\n      <td>205.0</td>\n      <td>1.0</td>\n      <td>1.0</td>\n      <td>3.0</td>\n      <td>NaN</td>\n      <td>32_160</td>\n      <td>lol</td>\n      <td>-3.194602</td>\n    </tr>\n  </tbody>\n</table>\n<p>727634 rows × 18 columns</p>\n</div>"
     },
     "execution_count": 73,
     "metadata": {},
     "output_type": "execute_result"
    }
   ],
   "source": [
    "dev[\"preds\"] = preds\n",
    "dev"
   ],
   "metadata": {
    "collapsed": false
   }
  },
  {
   "cell_type": "code",
   "execution_count": 74,
   "outputs": [
    {
     "data": {
      "text/plain": "     cosine_to_orig  embeddings_rank  from_clipping  from_original_token  \\\nthe             1.0              NaN            1.0                  1.0   \nthe             1.0              NaN            1.0                  1.0   \nthe             1.0              NaN            1.0                  1.0   \nthe             1.0              NaN            1.0                  1.0   \nthe             1.0              NaN            1.0                  1.0   \n..              ...              ...            ...                  ...   \npun             1.0              NaN            1.0                  1.0   \ndun             1.0              NaN            1.0                  1.0   \nnap             1.0              NaN            1.0                  1.0   \nfog             1.0              NaN            1.0                  1.0   \nlip             1.0              NaN            1.0                  1.0   \n\n     from_split  norms_seen  spellcheck_rank  in_lexicon  length  same_order  \\\nthe         NaN       515.0              NaN         1.0       3         1.0   \nthe         NaN       515.0              NaN         1.0       3         1.0   \nthe         NaN       515.0              NaN         1.0       3         1.0   \nthe         NaN       515.0              NaN         1.0       3         1.0   \nthe         NaN       515.0              NaN         1.0       3         1.0   \n..          ...         ...              ...         ...     ...         ...   \npun         NaN         NaN             16.0         1.0       3         1.0   \ndun         NaN         NaN             16.0         1.0       3         1.0   \nnap         NaN         NaN             16.0         1.0       3         1.0   \nfog         NaN         NaN             16.0         1.0       3         1.0   \nlip         NaN         NaN             16.0         1.0       3         1.0   \n\n     orig_norms_seen  orig_in_lexicon  orig_same_order  orig_length  correct  \\\nthe            515.0              1.0              1.0          3.0      1.0   \nthe            515.0              1.0              1.0          3.0      1.0   \nthe            515.0              1.0              1.0          3.0      1.0   \nthe            515.0              1.0              1.0          3.0      1.0   \nthe            515.0              1.0              1.0          3.0      1.0   \n..               ...              ...              ...          ...      ...   \npun              NaN              1.0              1.0          3.0      1.0   \ndun              NaN              1.0              1.0          3.0      NaN   \nnap              NaN              1.0              1.0          3.0      1.0   \nfog              NaN              1.0              1.0          3.0      1.0   \nlip              NaN              1.0              1.0          3.0      1.0   \n\n    raw_tok_index   gold      preds  \nthe         55_92    the  64.457622  \nthe        32_108    the  64.457622  \nthe         49_79    the  64.457622  \nthe         39_83    the  64.457622  \nthe        25_110    the  64.457622  \n..            ...    ...        ...  \npun        23_115    pun   0.068293  \ndun          2_24  don't   0.068293  \nnap         23_75    nap   0.068293  \nfog         29_56    fog   0.068293  \nlip         18_99    lip   0.068293  \n\n[6876 rows x 18 columns]",
      "text/html": "<div>\n<style scoped>\n    .dataframe tbody tr th:only-of-type {\n        vertical-align: middle;\n    }\n\n    .dataframe tbody tr th {\n        vertical-align: top;\n    }\n\n    .dataframe thead th {\n        text-align: right;\n    }\n</style>\n<table border=\"1\" class=\"dataframe\">\n  <thead>\n    <tr style=\"text-align: right;\">\n      <th></th>\n      <th>cosine_to_orig</th>\n      <th>embeddings_rank</th>\n      <th>from_clipping</th>\n      <th>from_original_token</th>\n      <th>from_split</th>\n      <th>norms_seen</th>\n      <th>spellcheck_rank</th>\n      <th>in_lexicon</th>\n      <th>length</th>\n      <th>same_order</th>\n      <th>orig_norms_seen</th>\n      <th>orig_in_lexicon</th>\n      <th>orig_same_order</th>\n      <th>orig_length</th>\n      <th>correct</th>\n      <th>raw_tok_index</th>\n      <th>gold</th>\n      <th>preds</th>\n    </tr>\n  </thead>\n  <tbody>\n    <tr>\n      <th>the</th>\n      <td>1.0</td>\n      <td>NaN</td>\n      <td>1.0</td>\n      <td>1.0</td>\n      <td>NaN</td>\n      <td>515.0</td>\n      <td>NaN</td>\n      <td>1.0</td>\n      <td>3</td>\n      <td>1.0</td>\n      <td>515.0</td>\n      <td>1.0</td>\n      <td>1.0</td>\n      <td>3.0</td>\n      <td>1.0</td>\n      <td>55_92</td>\n      <td>the</td>\n      <td>64.457622</td>\n    </tr>\n    <tr>\n      <th>the</th>\n      <td>1.0</td>\n      <td>NaN</td>\n      <td>1.0</td>\n      <td>1.0</td>\n      <td>NaN</td>\n      <td>515.0</td>\n      <td>NaN</td>\n      <td>1.0</td>\n      <td>3</td>\n      <td>1.0</td>\n      <td>515.0</td>\n      <td>1.0</td>\n      <td>1.0</td>\n      <td>3.0</td>\n      <td>1.0</td>\n      <td>32_108</td>\n      <td>the</td>\n      <td>64.457622</td>\n    </tr>\n    <tr>\n      <th>the</th>\n      <td>1.0</td>\n      <td>NaN</td>\n      <td>1.0</td>\n      <td>1.0</td>\n      <td>NaN</td>\n      <td>515.0</td>\n      <td>NaN</td>\n      <td>1.0</td>\n      <td>3</td>\n      <td>1.0</td>\n      <td>515.0</td>\n      <td>1.0</td>\n      <td>1.0</td>\n      <td>3.0</td>\n      <td>1.0</td>\n      <td>49_79</td>\n      <td>the</td>\n      <td>64.457622</td>\n    </tr>\n    <tr>\n      <th>the</th>\n      <td>1.0</td>\n      <td>NaN</td>\n      <td>1.0</td>\n      <td>1.0</td>\n      <td>NaN</td>\n      <td>515.0</td>\n      <td>NaN</td>\n      <td>1.0</td>\n      <td>3</td>\n      <td>1.0</td>\n      <td>515.0</td>\n      <td>1.0</td>\n      <td>1.0</td>\n      <td>3.0</td>\n      <td>1.0</td>\n      <td>39_83</td>\n      <td>the</td>\n      <td>64.457622</td>\n    </tr>\n    <tr>\n      <th>the</th>\n      <td>1.0</td>\n      <td>NaN</td>\n      <td>1.0</td>\n      <td>1.0</td>\n      <td>NaN</td>\n      <td>515.0</td>\n      <td>NaN</td>\n      <td>1.0</td>\n      <td>3</td>\n      <td>1.0</td>\n      <td>515.0</td>\n      <td>1.0</td>\n      <td>1.0</td>\n      <td>3.0</td>\n      <td>1.0</td>\n      <td>25_110</td>\n      <td>the</td>\n      <td>64.457622</td>\n    </tr>\n    <tr>\n      <th>...</th>\n      <td>...</td>\n      <td>...</td>\n      <td>...</td>\n      <td>...</td>\n      <td>...</td>\n      <td>...</td>\n      <td>...</td>\n      <td>...</td>\n      <td>...</td>\n      <td>...</td>\n      <td>...</td>\n      <td>...</td>\n      <td>...</td>\n      <td>...</td>\n      <td>...</td>\n      <td>...</td>\n      <td>...</td>\n      <td>...</td>\n    </tr>\n    <tr>\n      <th>pun</th>\n      <td>1.0</td>\n      <td>NaN</td>\n      <td>1.0</td>\n      <td>1.0</td>\n      <td>NaN</td>\n      <td>NaN</td>\n      <td>16.0</td>\n      <td>1.0</td>\n      <td>3</td>\n      <td>1.0</td>\n      <td>NaN</td>\n      <td>1.0</td>\n      <td>1.0</td>\n      <td>3.0</td>\n      <td>1.0</td>\n      <td>23_115</td>\n      <td>pun</td>\n      <td>0.068293</td>\n    </tr>\n    <tr>\n      <th>dun</th>\n      <td>1.0</td>\n      <td>NaN</td>\n      <td>1.0</td>\n      <td>1.0</td>\n      <td>NaN</td>\n      <td>NaN</td>\n      <td>16.0</td>\n      <td>1.0</td>\n      <td>3</td>\n      <td>1.0</td>\n      <td>NaN</td>\n      <td>1.0</td>\n      <td>1.0</td>\n      <td>3.0</td>\n      <td>NaN</td>\n      <td>2_24</td>\n      <td>don't</td>\n      <td>0.068293</td>\n    </tr>\n    <tr>\n      <th>nap</th>\n      <td>1.0</td>\n      <td>NaN</td>\n      <td>1.0</td>\n      <td>1.0</td>\n      <td>NaN</td>\n      <td>NaN</td>\n      <td>16.0</td>\n      <td>1.0</td>\n      <td>3</td>\n      <td>1.0</td>\n      <td>NaN</td>\n      <td>1.0</td>\n      <td>1.0</td>\n      <td>3.0</td>\n      <td>1.0</td>\n      <td>23_75</td>\n      <td>nap</td>\n      <td>0.068293</td>\n    </tr>\n    <tr>\n      <th>fog</th>\n      <td>1.0</td>\n      <td>NaN</td>\n      <td>1.0</td>\n      <td>1.0</td>\n      <td>NaN</td>\n      <td>NaN</td>\n      <td>16.0</td>\n      <td>1.0</td>\n      <td>3</td>\n      <td>1.0</td>\n      <td>NaN</td>\n      <td>1.0</td>\n      <td>1.0</td>\n      <td>3.0</td>\n      <td>1.0</td>\n      <td>29_56</td>\n      <td>fog</td>\n      <td>0.068293</td>\n    </tr>\n    <tr>\n      <th>lip</th>\n      <td>1.0</td>\n      <td>NaN</td>\n      <td>1.0</td>\n      <td>1.0</td>\n      <td>NaN</td>\n      <td>NaN</td>\n      <td>16.0</td>\n      <td>1.0</td>\n      <td>3</td>\n      <td>1.0</td>\n      <td>NaN</td>\n      <td>1.0</td>\n      <td>1.0</td>\n      <td>3.0</td>\n      <td>1.0</td>\n      <td>18_99</td>\n      <td>lip</td>\n      <td>0.068293</td>\n    </tr>\n  </tbody>\n</table>\n<p>6876 rows × 18 columns</p>\n</div>"
     },
     "execution_count": 74,
     "metadata": {},
     "output_type": "execute_result"
    }
   ],
   "source": [
    "# get top prediction for each raw token\n",
    "dev.sort_values(\"preds\", ascending=False).drop_duplicates([\"raw_tok_index\"])"
   ],
   "metadata": {
    "collapsed": false
   }
  },
  {
   "cell_type": "code",
   "execution_count": null,
   "outputs": [],
   "source": [],
   "metadata": {
    "collapsed": false
   }
  }
 ],
 "metadata": {
  "kernelspec": {
   "display_name": "Python 3",
   "language": "python",
   "name": "python3"
  },
  "language_info": {
   "codemirror_mode": {
    "name": "ipython",
    "version": 2
   },
   "file_extension": ".py",
   "mimetype": "text/x-python",
   "name": "python",
   "nbconvert_exporter": "python",
   "pygments_lexer": "ipython2",
   "version": "2.7.6"
  }
 },
 "nbformat": 4,
 "nbformat_minor": 0
}
