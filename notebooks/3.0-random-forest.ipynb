{
 "cells": [
  {
   "cell_type": "code",
   "execution_count": 31,
   "outputs": [],
   "source": [
    "import graphviz as graphviz\n",
    "import tree as tree\n",
    "\n",
    "import lexnorm.models.normalise\n",
    "from lexnorm.definitions import DATA_PATH\n",
    "import os\n",
    "import pandas as pd\n",
    "\n",
    "train = pd.read_csv(os.path.join(DATA_PATH, \"hpc/train_ngrams.txt\"), index_col=0, keep_default_na=False, na_values=\"\")\n",
    "dev = pd.read_csv(os.path.join(DATA_PATH, \"hpc/dev_ngrams.txt\"), index_col=0, keep_default_na=False, na_values=\"\")"
   ],
   "metadata": {
    "collapsed": false
   }
  },
  {
   "cell_type": "code",
   "execution_count": 32,
   "outputs": [
    {
     "data": {
      "text/plain": "      cosine_to_orig  embeddings_rank  from_clipping  from_original_token  \\\nan          0.377180              NaN            NaN                  NaN   \nca          0.255824              NaN            NaN                  NaN   \ncab         0.261057              NaN            NaN                  NaN   \ncam         0.299136              NaN            NaN                  NaN   \ncan         1.000000              NaN            NaN                  1.0   \n...              ...              ...            ...                  ...   \nlulu        0.401415              NaN            NaN                  NaN   \npol         0.230619              NaN            NaN                  NaN   \nsmh         0.896277              2.0            NaN                  NaN   \nsol         0.285978              NaN            NaN                  NaN   \nvol         0.235724              NaN            NaN                  NaN   \n\n      from_split  norms_seen  spellcheck_rank  in_lexicon  length  same_order  \\\nan           NaN         NaN              4.0         1.0       2         NaN   \nca           NaN         NaN              5.0         1.0       2         NaN   \ncab          NaN         NaN              2.0         1.0       3         NaN   \ncam          NaN         NaN              3.0         1.0       3         NaN   \ncan          NaN        72.0              NaN         1.0       3         1.0   \n...          ...         ...              ...         ...     ...         ...   \nlulu         NaN         NaN             15.0         1.0       4         NaN   \npol          NaN         NaN             10.0         1.0       3         NaN   \nsmh          NaN         NaN              NaN         NaN       3         NaN   \nsol          NaN         NaN              4.0         1.0       3         NaN   \nvol          NaN         NaN             13.0         NaN       3         NaN   \n\n      ...  next  process  tweet  tok twitter_uni twitter_bi_prev  \\\nan    ...   you       35      0    2    44841230        0.000000   \nca    ...   you       35      0    2      779786        0.000000   \ncab   ...   you       35      0    2      197597        0.000000   \ncam   ...   you       35      0    2     1000282        0.000000   \ncan   ...   you       35      0    2    71160951        0.000001   \n...   ...   ...      ...    ...  ...         ...             ...   \nlulu  ...     \"       32      9   25       71752        0.000000   \npol   ...     \"       32      9   25       55886        0.000000   \nsmh   ...     \"       32      9   25     4365260        0.000056   \nsol   ...     \"       32      9   25      130095        0.000000   \nvol   ...     \"       32      9   25      121788        0.000000   \n\n     twitter_bi_next  wiki_uni  wiki_bi_prev  wiki_bi_next  \nan          0.000645   9348289           0.0  7.488001e-07  \nca          0.001702     13058           0.0  0.000000e+00  \ncab         0.004838     13063           0.0  0.000000e+00  \ncam         0.006341     10015           0.0  0.000000e+00  \ncan         0.083374   1938264           0.0  1.226355e-03  \n...              ...       ...           ...           ...  \nlulu        0.000181      3345           0.0  0.000000e+00  \npol         0.000072      3705           0.0  0.000000e+00  \nsmh         0.000154       135           0.0  0.000000e+00  \nsol         0.000300      9006           0.0  3.331113e-04  \nvol         0.000000      2936           0.0  0.000000e+00  \n\n[724672 rows x 26 columns]",
      "text/html": "<div>\n<style scoped>\n    .dataframe tbody tr th:only-of-type {\n        vertical-align: middle;\n    }\n\n    .dataframe tbody tr th {\n        vertical-align: top;\n    }\n\n    .dataframe thead th {\n        text-align: right;\n    }\n</style>\n<table border=\"1\" class=\"dataframe\">\n  <thead>\n    <tr style=\"text-align: right;\">\n      <th></th>\n      <th>cosine_to_orig</th>\n      <th>embeddings_rank</th>\n      <th>from_clipping</th>\n      <th>from_original_token</th>\n      <th>from_split</th>\n      <th>norms_seen</th>\n      <th>spellcheck_rank</th>\n      <th>in_lexicon</th>\n      <th>length</th>\n      <th>same_order</th>\n      <th>...</th>\n      <th>next</th>\n      <th>process</th>\n      <th>tweet</th>\n      <th>tok</th>\n      <th>twitter_uni</th>\n      <th>twitter_bi_prev</th>\n      <th>twitter_bi_next</th>\n      <th>wiki_uni</th>\n      <th>wiki_bi_prev</th>\n      <th>wiki_bi_next</th>\n    </tr>\n  </thead>\n  <tbody>\n    <tr>\n      <th>an</th>\n      <td>0.377180</td>\n      <td>NaN</td>\n      <td>NaN</td>\n      <td>NaN</td>\n      <td>NaN</td>\n      <td>NaN</td>\n      <td>4.0</td>\n      <td>1.0</td>\n      <td>2</td>\n      <td>NaN</td>\n      <td>...</td>\n      <td>you</td>\n      <td>35</td>\n      <td>0</td>\n      <td>2</td>\n      <td>44841230</td>\n      <td>0.000000</td>\n      <td>0.000645</td>\n      <td>9348289</td>\n      <td>0.0</td>\n      <td>7.488001e-07</td>\n    </tr>\n    <tr>\n      <th>ca</th>\n      <td>0.255824</td>\n      <td>NaN</td>\n      <td>NaN</td>\n      <td>NaN</td>\n      <td>NaN</td>\n      <td>NaN</td>\n      <td>5.0</td>\n      <td>1.0</td>\n      <td>2</td>\n      <td>NaN</td>\n      <td>...</td>\n      <td>you</td>\n      <td>35</td>\n      <td>0</td>\n      <td>2</td>\n      <td>779786</td>\n      <td>0.000000</td>\n      <td>0.001702</td>\n      <td>13058</td>\n      <td>0.0</td>\n      <td>0.000000e+00</td>\n    </tr>\n    <tr>\n      <th>cab</th>\n      <td>0.261057</td>\n      <td>NaN</td>\n      <td>NaN</td>\n      <td>NaN</td>\n      <td>NaN</td>\n      <td>NaN</td>\n      <td>2.0</td>\n      <td>1.0</td>\n      <td>3</td>\n      <td>NaN</td>\n      <td>...</td>\n      <td>you</td>\n      <td>35</td>\n      <td>0</td>\n      <td>2</td>\n      <td>197597</td>\n      <td>0.000000</td>\n      <td>0.004838</td>\n      <td>13063</td>\n      <td>0.0</td>\n      <td>0.000000e+00</td>\n    </tr>\n    <tr>\n      <th>cam</th>\n      <td>0.299136</td>\n      <td>NaN</td>\n      <td>NaN</td>\n      <td>NaN</td>\n      <td>NaN</td>\n      <td>NaN</td>\n      <td>3.0</td>\n      <td>1.0</td>\n      <td>3</td>\n      <td>NaN</td>\n      <td>...</td>\n      <td>you</td>\n      <td>35</td>\n      <td>0</td>\n      <td>2</td>\n      <td>1000282</td>\n      <td>0.000000</td>\n      <td>0.006341</td>\n      <td>10015</td>\n      <td>0.0</td>\n      <td>0.000000e+00</td>\n    </tr>\n    <tr>\n      <th>can</th>\n      <td>1.000000</td>\n      <td>NaN</td>\n      <td>NaN</td>\n      <td>1.0</td>\n      <td>NaN</td>\n      <td>72.0</td>\n      <td>NaN</td>\n      <td>1.0</td>\n      <td>3</td>\n      <td>1.0</td>\n      <td>...</td>\n      <td>you</td>\n      <td>35</td>\n      <td>0</td>\n      <td>2</td>\n      <td>71160951</td>\n      <td>0.000001</td>\n      <td>0.083374</td>\n      <td>1938264</td>\n      <td>0.0</td>\n      <td>1.226355e-03</td>\n    </tr>\n    <tr>\n      <th>...</th>\n      <td>...</td>\n      <td>...</td>\n      <td>...</td>\n      <td>...</td>\n      <td>...</td>\n      <td>...</td>\n      <td>...</td>\n      <td>...</td>\n      <td>...</td>\n      <td>...</td>\n      <td>...</td>\n      <td>...</td>\n      <td>...</td>\n      <td>...</td>\n      <td>...</td>\n      <td>...</td>\n      <td>...</td>\n      <td>...</td>\n      <td>...</td>\n      <td>...</td>\n      <td>...</td>\n    </tr>\n    <tr>\n      <th>lulu</th>\n      <td>0.401415</td>\n      <td>NaN</td>\n      <td>NaN</td>\n      <td>NaN</td>\n      <td>NaN</td>\n      <td>NaN</td>\n      <td>15.0</td>\n      <td>1.0</td>\n      <td>4</td>\n      <td>NaN</td>\n      <td>...</td>\n      <td>\"</td>\n      <td>32</td>\n      <td>9</td>\n      <td>25</td>\n      <td>71752</td>\n      <td>0.000000</td>\n      <td>0.000181</td>\n      <td>3345</td>\n      <td>0.0</td>\n      <td>0.000000e+00</td>\n    </tr>\n    <tr>\n      <th>pol</th>\n      <td>0.230619</td>\n      <td>NaN</td>\n      <td>NaN</td>\n      <td>NaN</td>\n      <td>NaN</td>\n      <td>NaN</td>\n      <td>10.0</td>\n      <td>1.0</td>\n      <td>3</td>\n      <td>NaN</td>\n      <td>...</td>\n      <td>\"</td>\n      <td>32</td>\n      <td>9</td>\n      <td>25</td>\n      <td>55886</td>\n      <td>0.000000</td>\n      <td>0.000072</td>\n      <td>3705</td>\n      <td>0.0</td>\n      <td>0.000000e+00</td>\n    </tr>\n    <tr>\n      <th>smh</th>\n      <td>0.896277</td>\n      <td>2.0</td>\n      <td>NaN</td>\n      <td>NaN</td>\n      <td>NaN</td>\n      <td>NaN</td>\n      <td>NaN</td>\n      <td>NaN</td>\n      <td>3</td>\n      <td>NaN</td>\n      <td>...</td>\n      <td>\"</td>\n      <td>32</td>\n      <td>9</td>\n      <td>25</td>\n      <td>4365260</td>\n      <td>0.000056</td>\n      <td>0.000154</td>\n      <td>135</td>\n      <td>0.0</td>\n      <td>0.000000e+00</td>\n    </tr>\n    <tr>\n      <th>sol</th>\n      <td>0.285978</td>\n      <td>NaN</td>\n      <td>NaN</td>\n      <td>NaN</td>\n      <td>NaN</td>\n      <td>NaN</td>\n      <td>4.0</td>\n      <td>1.0</td>\n      <td>3</td>\n      <td>NaN</td>\n      <td>...</td>\n      <td>\"</td>\n      <td>32</td>\n      <td>9</td>\n      <td>25</td>\n      <td>130095</td>\n      <td>0.000000</td>\n      <td>0.000300</td>\n      <td>9006</td>\n      <td>0.0</td>\n      <td>3.331113e-04</td>\n    </tr>\n    <tr>\n      <th>vol</th>\n      <td>0.235724</td>\n      <td>NaN</td>\n      <td>NaN</td>\n      <td>NaN</td>\n      <td>NaN</td>\n      <td>NaN</td>\n      <td>13.0</td>\n      <td>NaN</td>\n      <td>3</td>\n      <td>NaN</td>\n      <td>...</td>\n      <td>\"</td>\n      <td>32</td>\n      <td>9</td>\n      <td>25</td>\n      <td>121788</td>\n      <td>0.000000</td>\n      <td>0.000000</td>\n      <td>2936</td>\n      <td>0.0</td>\n      <td>0.000000e+00</td>\n    </tr>\n  </tbody>\n</table>\n<p>724672 rows × 26 columns</p>\n</div>"
     },
     "execution_count": 32,
     "metadata": {},
     "output_type": "execute_result"
    }
   ],
   "source": [
    "from sklearn.svm import LinearSVC\n",
    "dev"
   ],
   "metadata": {
    "collapsed": false
   }
  },
  {
   "cell_type": "code",
   "execution_count": 33,
   "outputs": [],
   "source": [
    "train.fillna(0, inplace=True)\n",
    "dev.fillna(0, inplace=True)\n",
    "X_train = train.drop([\"correct\", \"process\", \"tweet\", \"tok\", \"gold\", \"raw\", \"prev\", \"next\"], axis=1)\n",
    "X_dev = dev.drop([\"process\", \"tweet\", \"tok\", \"raw\", \"prev\", \"next\"], axis=1)\n",
    "y_train = train[\"correct\"]"
   ],
   "metadata": {
    "collapsed": false
   }
  },
  {
   "cell_type": "code",
   "execution_count": 36,
   "outputs": [
    {
     "data": {
      "text/plain": "      cosine_to_orig  embeddings_rank  from_clipping  from_original_token  \\\nan          0.627653        -0.170470      -2.474822            -0.097874   \nca          0.057893        -0.170470      -2.474822            -0.097874   \ncab         0.082459        -0.170470      -2.474822            -0.097874   \ncam         0.261241        -0.170470      -2.474822            -0.097874   \ncan         3.551773        -0.170470      -2.474822            10.217216   \n...              ...              ...            ...                  ...   \nlulu        0.741435        -0.170470      -2.474822            -0.097874   \npol        -0.060446        -0.170470      -2.474822            -0.097874   \nsmh         3.064797         1.999929      -2.474822            -0.097874   \nsol         0.199462        -0.170470      -2.474822            -0.097874   \nvol        -0.036479        -0.170470      -2.474822            -0.097874   \n\n      from_split  norms_seen  spellcheck_rank  in_lexicon    length  \\\nan      -0.04862   -0.048873         1.195236    0.227769 -2.076705   \nca      -0.04862   -0.048873         1.565143    0.227769 -2.076705   \ncab     -0.04862   -0.048873         0.455422    0.227769 -1.746082   \ncam     -0.04862   -0.048873         0.825329    0.227769 -1.746082   \ncan     -0.04862    4.885382        -0.284392    0.227769 -1.746082   \n...          ...         ...              ...         ...       ...   \nlulu    -0.04862   -0.048873         5.264212    0.227769 -1.415459   \npol     -0.04862   -0.048873         3.414678    0.227769 -1.746082   \nsmh     -0.04862   -0.048873        -0.284392   -4.390404 -1.746082   \nsol     -0.04862   -0.048873         1.195236    0.227769 -1.746082   \nvol     -0.04862   -0.048873         4.524398   -4.390404 -1.746082   \n\n      same_order  orig_norms_seen  orig_in_lexicon  orig_same_order  \\\nan     -3.048499        -0.663646         0.337691              0.0   \nca     -3.048499        -0.663646         0.337691              0.0   \ncab    -3.048499        -0.663646         0.337691              0.0   \ncam    -3.048499        -0.663646         0.337691              0.0   \ncan     0.328030        -0.663646         0.337691              0.0   \n...          ...              ...              ...              ...   \nlulu   -3.048499         0.230612         0.337691              0.0   \npol    -3.048499         0.230612         0.337691              0.0   \nsmh    -3.048499         0.230612         0.337691              0.0   \nsol    -3.048499         0.230612         0.337691              0.0   \nvol    -3.048499         0.230612         0.337691              0.0   \n\n      orig_length  twitter_uni  twitter_bi_prev  twitter_bi_next  wiki_uni  \\\nan       0.416862     1.501276        -0.148572        -0.120367  2.384874   \nca       0.416862    -0.064304        -0.148572        -0.080547 -0.054789   \ncab      0.416862    -0.084990        -0.148572         0.037614 -0.054788   \ncam      0.416862    -0.056469        -0.148572         0.094242 -0.055585   \ncan      0.416862     2.436461        -0.148520         2.996429  0.448343   \n...           ...          ...              ...              ...       ...   \nlulu     0.416862    -0.089461        -0.148572        -0.137834 -0.057328   \npol      0.416862    -0.090025        -0.148572        -0.141963 -0.057234   \nsmh      0.416862     0.063094        -0.146468        -0.138869 -0.058167   \nsol      0.416862    -0.087388        -0.148572        -0.133366 -0.055848   \nvol      0.416862    -0.087684        -0.148572        -0.144660 -0.057435   \n\n      wiki_bi_prev  wiki_bi_next  \nan       -0.122505     -0.121960  \nca       -0.122505     -0.121987  \ncab      -0.122505     -0.121987  \ncam      -0.122505     -0.121987  \ncan      -0.122505     -0.077587  \n...            ...           ...  \nlulu     -0.122505     -0.121987  \npol      -0.122505     -0.121987  \nsmh      -0.122505     -0.121987  \nsol      -0.122505     -0.109927  \nvol      -0.122505     -0.121987  \n\n[724672 rows x 20 columns]",
      "text/html": "<div>\n<style scoped>\n    .dataframe tbody tr th:only-of-type {\n        vertical-align: middle;\n    }\n\n    .dataframe tbody tr th {\n        vertical-align: top;\n    }\n\n    .dataframe thead th {\n        text-align: right;\n    }\n</style>\n<table border=\"1\" class=\"dataframe\">\n  <thead>\n    <tr style=\"text-align: right;\">\n      <th></th>\n      <th>cosine_to_orig</th>\n      <th>embeddings_rank</th>\n      <th>from_clipping</th>\n      <th>from_original_token</th>\n      <th>from_split</th>\n      <th>norms_seen</th>\n      <th>spellcheck_rank</th>\n      <th>in_lexicon</th>\n      <th>length</th>\n      <th>same_order</th>\n      <th>orig_norms_seen</th>\n      <th>orig_in_lexicon</th>\n      <th>orig_same_order</th>\n      <th>orig_length</th>\n      <th>twitter_uni</th>\n      <th>twitter_bi_prev</th>\n      <th>twitter_bi_next</th>\n      <th>wiki_uni</th>\n      <th>wiki_bi_prev</th>\n      <th>wiki_bi_next</th>\n    </tr>\n  </thead>\n  <tbody>\n    <tr>\n      <th>an</th>\n      <td>0.627653</td>\n      <td>-0.170470</td>\n      <td>-2.474822</td>\n      <td>-0.097874</td>\n      <td>-0.04862</td>\n      <td>-0.048873</td>\n      <td>1.195236</td>\n      <td>0.227769</td>\n      <td>-2.076705</td>\n      <td>-3.048499</td>\n      <td>-0.663646</td>\n      <td>0.337691</td>\n      <td>0.0</td>\n      <td>0.416862</td>\n      <td>1.501276</td>\n      <td>-0.148572</td>\n      <td>-0.120367</td>\n      <td>2.384874</td>\n      <td>-0.122505</td>\n      <td>-0.121960</td>\n    </tr>\n    <tr>\n      <th>ca</th>\n      <td>0.057893</td>\n      <td>-0.170470</td>\n      <td>-2.474822</td>\n      <td>-0.097874</td>\n      <td>-0.04862</td>\n      <td>-0.048873</td>\n      <td>1.565143</td>\n      <td>0.227769</td>\n      <td>-2.076705</td>\n      <td>-3.048499</td>\n      <td>-0.663646</td>\n      <td>0.337691</td>\n      <td>0.0</td>\n      <td>0.416862</td>\n      <td>-0.064304</td>\n      <td>-0.148572</td>\n      <td>-0.080547</td>\n      <td>-0.054789</td>\n      <td>-0.122505</td>\n      <td>-0.121987</td>\n    </tr>\n    <tr>\n      <th>cab</th>\n      <td>0.082459</td>\n      <td>-0.170470</td>\n      <td>-2.474822</td>\n      <td>-0.097874</td>\n      <td>-0.04862</td>\n      <td>-0.048873</td>\n      <td>0.455422</td>\n      <td>0.227769</td>\n      <td>-1.746082</td>\n      <td>-3.048499</td>\n      <td>-0.663646</td>\n      <td>0.337691</td>\n      <td>0.0</td>\n      <td>0.416862</td>\n      <td>-0.084990</td>\n      <td>-0.148572</td>\n      <td>0.037614</td>\n      <td>-0.054788</td>\n      <td>-0.122505</td>\n      <td>-0.121987</td>\n    </tr>\n    <tr>\n      <th>cam</th>\n      <td>0.261241</td>\n      <td>-0.170470</td>\n      <td>-2.474822</td>\n      <td>-0.097874</td>\n      <td>-0.04862</td>\n      <td>-0.048873</td>\n      <td>0.825329</td>\n      <td>0.227769</td>\n      <td>-1.746082</td>\n      <td>-3.048499</td>\n      <td>-0.663646</td>\n      <td>0.337691</td>\n      <td>0.0</td>\n      <td>0.416862</td>\n      <td>-0.056469</td>\n      <td>-0.148572</td>\n      <td>0.094242</td>\n      <td>-0.055585</td>\n      <td>-0.122505</td>\n      <td>-0.121987</td>\n    </tr>\n    <tr>\n      <th>can</th>\n      <td>3.551773</td>\n      <td>-0.170470</td>\n      <td>-2.474822</td>\n      <td>10.217216</td>\n      <td>-0.04862</td>\n      <td>4.885382</td>\n      <td>-0.284392</td>\n      <td>0.227769</td>\n      <td>-1.746082</td>\n      <td>0.328030</td>\n      <td>-0.663646</td>\n      <td>0.337691</td>\n      <td>0.0</td>\n      <td>0.416862</td>\n      <td>2.436461</td>\n      <td>-0.148520</td>\n      <td>2.996429</td>\n      <td>0.448343</td>\n      <td>-0.122505</td>\n      <td>-0.077587</td>\n    </tr>\n    <tr>\n      <th>...</th>\n      <td>...</td>\n      <td>...</td>\n      <td>...</td>\n      <td>...</td>\n      <td>...</td>\n      <td>...</td>\n      <td>...</td>\n      <td>...</td>\n      <td>...</td>\n      <td>...</td>\n      <td>...</td>\n      <td>...</td>\n      <td>...</td>\n      <td>...</td>\n      <td>...</td>\n      <td>...</td>\n      <td>...</td>\n      <td>...</td>\n      <td>...</td>\n      <td>...</td>\n    </tr>\n    <tr>\n      <th>lulu</th>\n      <td>0.741435</td>\n      <td>-0.170470</td>\n      <td>-2.474822</td>\n      <td>-0.097874</td>\n      <td>-0.04862</td>\n      <td>-0.048873</td>\n      <td>5.264212</td>\n      <td>0.227769</td>\n      <td>-1.415459</td>\n      <td>-3.048499</td>\n      <td>0.230612</td>\n      <td>0.337691</td>\n      <td>0.0</td>\n      <td>0.416862</td>\n      <td>-0.089461</td>\n      <td>-0.148572</td>\n      <td>-0.137834</td>\n      <td>-0.057328</td>\n      <td>-0.122505</td>\n      <td>-0.121987</td>\n    </tr>\n    <tr>\n      <th>pol</th>\n      <td>-0.060446</td>\n      <td>-0.170470</td>\n      <td>-2.474822</td>\n      <td>-0.097874</td>\n      <td>-0.04862</td>\n      <td>-0.048873</td>\n      <td>3.414678</td>\n      <td>0.227769</td>\n      <td>-1.746082</td>\n      <td>-3.048499</td>\n      <td>0.230612</td>\n      <td>0.337691</td>\n      <td>0.0</td>\n      <td>0.416862</td>\n      <td>-0.090025</td>\n      <td>-0.148572</td>\n      <td>-0.141963</td>\n      <td>-0.057234</td>\n      <td>-0.122505</td>\n      <td>-0.121987</td>\n    </tr>\n    <tr>\n      <th>smh</th>\n      <td>3.064797</td>\n      <td>1.999929</td>\n      <td>-2.474822</td>\n      <td>-0.097874</td>\n      <td>-0.04862</td>\n      <td>-0.048873</td>\n      <td>-0.284392</td>\n      <td>-4.390404</td>\n      <td>-1.746082</td>\n      <td>-3.048499</td>\n      <td>0.230612</td>\n      <td>0.337691</td>\n      <td>0.0</td>\n      <td>0.416862</td>\n      <td>0.063094</td>\n      <td>-0.146468</td>\n      <td>-0.138869</td>\n      <td>-0.058167</td>\n      <td>-0.122505</td>\n      <td>-0.121987</td>\n    </tr>\n    <tr>\n      <th>sol</th>\n      <td>0.199462</td>\n      <td>-0.170470</td>\n      <td>-2.474822</td>\n      <td>-0.097874</td>\n      <td>-0.04862</td>\n      <td>-0.048873</td>\n      <td>1.195236</td>\n      <td>0.227769</td>\n      <td>-1.746082</td>\n      <td>-3.048499</td>\n      <td>0.230612</td>\n      <td>0.337691</td>\n      <td>0.0</td>\n      <td>0.416862</td>\n      <td>-0.087388</td>\n      <td>-0.148572</td>\n      <td>-0.133366</td>\n      <td>-0.055848</td>\n      <td>-0.122505</td>\n      <td>-0.109927</td>\n    </tr>\n    <tr>\n      <th>vol</th>\n      <td>-0.036479</td>\n      <td>-0.170470</td>\n      <td>-2.474822</td>\n      <td>-0.097874</td>\n      <td>-0.04862</td>\n      <td>-0.048873</td>\n      <td>4.524398</td>\n      <td>-4.390404</td>\n      <td>-1.746082</td>\n      <td>-3.048499</td>\n      <td>0.230612</td>\n      <td>0.337691</td>\n      <td>0.0</td>\n      <td>0.416862</td>\n      <td>-0.087684</td>\n      <td>-0.148572</td>\n      <td>-0.144660</td>\n      <td>-0.057435</td>\n      <td>-0.122505</td>\n      <td>-0.121987</td>\n    </tr>\n  </tbody>\n</table>\n<p>724672 rows × 20 columns</p>\n</div>"
     },
     "execution_count": 36,
     "metadata": {},
     "output_type": "execute_result"
    }
   ],
   "source": [
    "X_dev"
   ],
   "metadata": {
    "collapsed": false
   }
  },
  {
   "cell_type": "code",
   "execution_count": 35,
   "outputs": [],
   "source": [
    "from sklearn import preprocessing\n",
    "\n",
    "feature_vals = X_train.values\n",
    "scaler = preprocessing.StandardScaler().fit(feature_vals)\n",
    "feature_vals = scaler.transform(feature_vals)\n",
    "X_train[:] = feature_vals\n",
    "\n",
    "feature_vals = X_dev.values\n",
    "scaler = preprocessing.StandardScaler().fit(feature_vals)\n",
    "feature_vals = scaler.transform(feature_vals)\n",
    "X_dev[:] = feature_vals"
   ],
   "metadata": {
    "collapsed": false
   }
  },
  {
   "cell_type": "code",
   "execution_count": null,
   "outputs": [
    {
     "name": "stdout",
     "output_type": "stream",
     "text": [
      "[LibLinear].............................."
     ]
    }
   ],
   "source": [
    "svm = LinearSVC(class_weight=\"balanced\", verbose=1).fit(X_train, y_train.values.ravel())"
   ],
   "metadata": {
    "collapsed": false
   }
  },
  {
   "cell_type": "code",
   "execution_count": 3,
   "outputs": [
    {
     "ename": "NameError",
     "evalue": "name 'svm' is not defined",
     "output_type": "error",
     "traceback": [
      "\u001B[0;31m---------------------------------------------------------------------------\u001B[0m",
      "\u001B[0;31mNameError\u001B[0m                                 Traceback (most recent call last)",
      "Cell \u001B[0;32mIn[3], line 2\u001B[0m\n\u001B[1;32m      1\u001B[0m \u001B[38;5;28;01mfrom\u001B[39;00m \u001B[38;5;21;01mjoblib\u001B[39;00m \u001B[38;5;28;01mimport\u001B[39;00m dump, load\n\u001B[0;32m----> 2\u001B[0m dump(\u001B[43msvm\u001B[49m, os\u001B[38;5;241m.\u001B[39mpath\u001B[38;5;241m.\u001B[39mjoin(DATA_PATH, \u001B[38;5;124m\"\u001B[39m\u001B[38;5;124m../models/svm.joblib\u001B[39m\u001B[38;5;124m\"\u001B[39m))\n\u001B[1;32m      3\u001B[0m test \u001B[38;5;241m=\u001B[39m load(os\u001B[38;5;241m.\u001B[39mpath\u001B[38;5;241m.\u001B[39mjoin(DATA_PATH, \u001B[38;5;124m\"\u001B[39m\u001B[38;5;124m../models/svm.joblib\u001B[39m\u001B[38;5;124m\"\u001B[39m))\n\u001B[1;32m      4\u001B[0m test\u001B[38;5;241m.\u001B[39mcoef_\n",
      "\u001B[0;31mNameError\u001B[0m: name 'svm' is not defined"
     ]
    }
   ],
   "source": [
    "from joblib import dump, load\n",
    "dump(svm, os.path.join(DATA_PATH, \"../models/svm.joblib\"))\n",
    "test = load(os.path.join(DATA_PATH, \"../models/svm.joblib\"))\n",
    "test.coef_"
   ],
   "metadata": {
    "collapsed": false
   }
  },
  {
   "cell_type": "code",
   "execution_count": 134,
   "outputs": [],
   "source": [
    "preds = svm.decision_function(X_dev)"
   ],
   "metadata": {
    "collapsed": false
   }
  },
  {
   "cell_type": "code",
   "execution_count": 81,
   "outputs": [
    {
     "data": {
      "text/plain": "0.9983700596728575"
     },
     "execution_count": 81,
     "metadata": {},
     "output_type": "execute_result"
    }
   ],
   "source": [
    "svm.score(X_dev, y_dev)"
   ],
   "metadata": {
    "collapsed": false
   }
  },
  {
   "cell_type": "code",
   "execution_count": 153,
   "outputs": [
    {
     "data": {
      "text/plain": "          cosine_to_orig  embeddings_rank  from_clipping  from_original_token  \\\nnah             2.656120         3.877197      -2.593884            -0.094405   \noh              2.745444         2.535195      -2.593884            -0.094405   \nuh              2.624856         5.219199      -2.593884            -0.094405   \nye ah          -1.138580        -0.148809      -2.593884            -0.094405   \nye-ah          -1.138580        -0.148809      -2.593884            -0.094405   \n...                  ...              ...            ...                  ...   \nupward          0.569510        -0.148809       0.385522            -0.094405   \nupwardly        0.702616        -0.148809       0.385522            -0.094405   \nupwards         0.833669        -0.148809       0.385522            -0.094405   \nus              1.122110        -0.148809      -2.593884            -0.094405   \nyup            -0.101099        -0.148809      -2.593884            -0.094405   \n\n          from_split  norms_seen  spellcheck_rank  in_lexicon    length  \\\nnah        -0.046030   -0.048241        -0.268871   -4.348835 -1.763720   \noh         -0.046030   -0.048241        -0.268871    0.229947 -2.095137   \nuh         -0.046030   -0.048241        -0.268871    0.229947 -2.095137   \nye ah      21.724887   -0.048241         1.360023   -4.348835 -1.100884   \nye-ah      -0.046030   -0.048241         1.767247   -4.348835 -1.100884   \n...              ...         ...              ...         ...       ...   \nupward     -0.046030   -0.048241        -0.268871    0.229947 -0.769467   \nupwardly   -0.046030   -0.048241        -0.268871    0.229947 -0.106631   \nupwards    -0.046030   -0.048241        -0.268871    0.229947 -0.438049   \nus         -0.046030   -0.048241         2.988917    0.229947 -2.095137   \nyup        -0.046030   -0.048241         2.581694    0.229947 -1.763720   \n\n          same_order  orig_norms_seen  orig_in_lexicon  orig_same_order  \\\nnah        -3.155060        -1.057043         0.345895              0.0   \noh         -3.155060        -1.057043         0.345895              0.0   \nuh         -3.155060        -1.057043         0.345895              0.0   \nye ah       0.316951        -1.057043         0.345895              0.0   \nye-ah       0.316951        -1.057043         0.345895              0.0   \n...              ...              ...              ...              ...   \nupward      0.316951        -0.688526         0.345895              0.0   \nupwardly    0.316951        -0.688526         0.345895              0.0   \nupwards     0.316951        -0.688526         0.345895              0.0   \nus         -3.155060        -0.688526         0.345895              0.0   \nyup         0.316951        -0.688526         0.345895              0.0   \n\n          orig_length  \nnah          1.361154  \noh           1.361154  \nuh           1.361154  \nye ah        1.361154  \nye-ah        1.361154  \n...               ...  \nupward      -0.462068  \nupwardly    -0.462068  \nupwards     -0.462068  \nus          -0.462068  \nyup         -0.462068  \n\n[2988229 rows x 14 columns]",
      "text/html": "<div>\n<style scoped>\n    .dataframe tbody tr th:only-of-type {\n        vertical-align: middle;\n    }\n\n    .dataframe tbody tr th {\n        vertical-align: top;\n    }\n\n    .dataframe thead th {\n        text-align: right;\n    }\n</style>\n<table border=\"1\" class=\"dataframe\">\n  <thead>\n    <tr style=\"text-align: right;\">\n      <th></th>\n      <th>cosine_to_orig</th>\n      <th>embeddings_rank</th>\n      <th>from_clipping</th>\n      <th>from_original_token</th>\n      <th>from_split</th>\n      <th>norms_seen</th>\n      <th>spellcheck_rank</th>\n      <th>in_lexicon</th>\n      <th>length</th>\n      <th>same_order</th>\n      <th>orig_norms_seen</th>\n      <th>orig_in_lexicon</th>\n      <th>orig_same_order</th>\n      <th>orig_length</th>\n    </tr>\n  </thead>\n  <tbody>\n    <tr>\n      <th>nah</th>\n      <td>2.656120</td>\n      <td>3.877197</td>\n      <td>-2.593884</td>\n      <td>-0.094405</td>\n      <td>-0.046030</td>\n      <td>-0.048241</td>\n      <td>-0.268871</td>\n      <td>-4.348835</td>\n      <td>-1.763720</td>\n      <td>-3.155060</td>\n      <td>-1.057043</td>\n      <td>0.345895</td>\n      <td>0.0</td>\n      <td>1.361154</td>\n    </tr>\n    <tr>\n      <th>oh</th>\n      <td>2.745444</td>\n      <td>2.535195</td>\n      <td>-2.593884</td>\n      <td>-0.094405</td>\n      <td>-0.046030</td>\n      <td>-0.048241</td>\n      <td>-0.268871</td>\n      <td>0.229947</td>\n      <td>-2.095137</td>\n      <td>-3.155060</td>\n      <td>-1.057043</td>\n      <td>0.345895</td>\n      <td>0.0</td>\n      <td>1.361154</td>\n    </tr>\n    <tr>\n      <th>uh</th>\n      <td>2.624856</td>\n      <td>5.219199</td>\n      <td>-2.593884</td>\n      <td>-0.094405</td>\n      <td>-0.046030</td>\n      <td>-0.048241</td>\n      <td>-0.268871</td>\n      <td>0.229947</td>\n      <td>-2.095137</td>\n      <td>-3.155060</td>\n      <td>-1.057043</td>\n      <td>0.345895</td>\n      <td>0.0</td>\n      <td>1.361154</td>\n    </tr>\n    <tr>\n      <th>ye ah</th>\n      <td>-1.138580</td>\n      <td>-0.148809</td>\n      <td>-2.593884</td>\n      <td>-0.094405</td>\n      <td>21.724887</td>\n      <td>-0.048241</td>\n      <td>1.360023</td>\n      <td>-4.348835</td>\n      <td>-1.100884</td>\n      <td>0.316951</td>\n      <td>-1.057043</td>\n      <td>0.345895</td>\n      <td>0.0</td>\n      <td>1.361154</td>\n    </tr>\n    <tr>\n      <th>ye-ah</th>\n      <td>-1.138580</td>\n      <td>-0.148809</td>\n      <td>-2.593884</td>\n      <td>-0.094405</td>\n      <td>-0.046030</td>\n      <td>-0.048241</td>\n      <td>1.767247</td>\n      <td>-4.348835</td>\n      <td>-1.100884</td>\n      <td>0.316951</td>\n      <td>-1.057043</td>\n      <td>0.345895</td>\n      <td>0.0</td>\n      <td>1.361154</td>\n    </tr>\n    <tr>\n      <th>...</th>\n      <td>...</td>\n      <td>...</td>\n      <td>...</td>\n      <td>...</td>\n      <td>...</td>\n      <td>...</td>\n      <td>...</td>\n      <td>...</td>\n      <td>...</td>\n      <td>...</td>\n      <td>...</td>\n      <td>...</td>\n      <td>...</td>\n      <td>...</td>\n    </tr>\n    <tr>\n      <th>upward</th>\n      <td>0.569510</td>\n      <td>-0.148809</td>\n      <td>0.385522</td>\n      <td>-0.094405</td>\n      <td>-0.046030</td>\n      <td>-0.048241</td>\n      <td>-0.268871</td>\n      <td>0.229947</td>\n      <td>-0.769467</td>\n      <td>0.316951</td>\n      <td>-0.688526</td>\n      <td>0.345895</td>\n      <td>0.0</td>\n      <td>-0.462068</td>\n    </tr>\n    <tr>\n      <th>upwardly</th>\n      <td>0.702616</td>\n      <td>-0.148809</td>\n      <td>0.385522</td>\n      <td>-0.094405</td>\n      <td>-0.046030</td>\n      <td>-0.048241</td>\n      <td>-0.268871</td>\n      <td>0.229947</td>\n      <td>-0.106631</td>\n      <td>0.316951</td>\n      <td>-0.688526</td>\n      <td>0.345895</td>\n      <td>0.0</td>\n      <td>-0.462068</td>\n    </tr>\n    <tr>\n      <th>upwards</th>\n      <td>0.833669</td>\n      <td>-0.148809</td>\n      <td>0.385522</td>\n      <td>-0.094405</td>\n      <td>-0.046030</td>\n      <td>-0.048241</td>\n      <td>-0.268871</td>\n      <td>0.229947</td>\n      <td>-0.438049</td>\n      <td>0.316951</td>\n      <td>-0.688526</td>\n      <td>0.345895</td>\n      <td>0.0</td>\n      <td>-0.462068</td>\n    </tr>\n    <tr>\n      <th>us</th>\n      <td>1.122110</td>\n      <td>-0.148809</td>\n      <td>-2.593884</td>\n      <td>-0.094405</td>\n      <td>-0.046030</td>\n      <td>-0.048241</td>\n      <td>2.988917</td>\n      <td>0.229947</td>\n      <td>-2.095137</td>\n      <td>-3.155060</td>\n      <td>-0.688526</td>\n      <td>0.345895</td>\n      <td>0.0</td>\n      <td>-0.462068</td>\n    </tr>\n    <tr>\n      <th>yup</th>\n      <td>-0.101099</td>\n      <td>-0.148809</td>\n      <td>-2.593884</td>\n      <td>-0.094405</td>\n      <td>-0.046030</td>\n      <td>-0.048241</td>\n      <td>2.581694</td>\n      <td>0.229947</td>\n      <td>-1.763720</td>\n      <td>0.316951</td>\n      <td>-0.688526</td>\n      <td>0.345895</td>\n      <td>0.0</td>\n      <td>-0.462068</td>\n    </tr>\n  </tbody>\n</table>\n<p>2988229 rows × 14 columns</p>\n</div>"
     },
     "execution_count": 153,
     "metadata": {},
     "output_type": "execute_result"
    }
   ],
   "source": [
    "X_train"
   ],
   "metadata": {
    "collapsed": false
   }
  },
  {
   "cell_type": "code",
   "execution_count": 149,
   "outputs": [
    {
     "data": {
      "text/plain": "         cosine_to_orig  embeddings_rank  from_clipping  from_original_token  \\\ncitch          0.756863              1.0            0.0                  0.0   \nco             0.240537              0.0            0.0                  0.0   \nhoe            0.741933              4.0            0.0                  0.0   \nlo             0.361795              0.0            0.0                  0.0   \nnigga          0.742659              3.0            0.0                  0.0   \n...                 ...              ...            ...                  ...   \nyowl's         0.000000              0.0            1.0                  0.0   \nyowled         0.283298              0.0            1.0                  0.0   \nyowling        0.225846              0.0            1.0                  0.0   \nyowls          0.204925              0.0            1.0                  0.0   \nyr             0.448676              0.0            0.0                  0.0   \n\n         from_split  norms_seen  spellcheck_rank  in_lexicon  length  \\\ncitch           0.0         0.0              0.0         0.0       5   \nco              0.0         0.0             14.0         0.0       2   \nhoe             0.0         0.0              0.0         1.0       3   \nlo              0.0         0.0             13.0         1.0       2   \nnigga           0.0         0.0              0.0         1.0       5   \n...             ...         ...              ...         ...     ...   \nyowl's          0.0         0.0              0.0         1.0       6   \nyowled          0.0         0.0              0.0         1.0       6   \nyowling         0.0         0.0              0.0         1.0       7   \nyowls           0.0         0.0              0.0         1.0       5   \nyr              0.0         0.0             12.0         0.0       2   \n\n         same_order  orig_norms_seen  orig_in_lexicon  orig_same_order  \\\ncitch           0.0              1.0              1.0              1.0   \nco              0.0              1.0              1.0              1.0   \nhoe             0.0              1.0              1.0              1.0   \nlo              0.0              1.0              1.0              1.0   \nnigga           0.0              1.0              1.0              1.0   \n...             ...              ...              ...              ...   \nyowl's          1.0              1.0              1.0              1.0   \nyowled          1.0              1.0              1.0              1.0   \nyowling         1.0              1.0              1.0              1.0   \nyowls           1.0              1.0              1.0              1.0   \nyr              0.0              1.0              1.0              1.0   \n\n         orig_length  process  tweet  tok     preds  \ncitch            2.0        0      0    4 -1.731161  \nco               2.0        0      0    4 -2.434154  \nhoe              2.0        0      0    4 -1.538175  \nlo               2.0        0      0    4 -1.583027  \nnigga            2.0        0      0    4 -1.389208  \n...              ...      ...    ...  ...       ...  \nyowl's           2.0        0      0    4 -1.555294  \nyowled           2.0        0      0    4 -1.327322  \nyowling          2.0        0      0    4 -1.390141  \nyowls            2.0        0      0    4 -1.373803  \nyr               2.0        0      0    4 -2.192546  \n\n[112 rows x 18 columns]",
      "text/html": "<div>\n<style scoped>\n    .dataframe tbody tr th:only-of-type {\n        vertical-align: middle;\n    }\n\n    .dataframe tbody tr th {\n        vertical-align: top;\n    }\n\n    .dataframe thead th {\n        text-align: right;\n    }\n</style>\n<table border=\"1\" class=\"dataframe\">\n  <thead>\n    <tr style=\"text-align: right;\">\n      <th></th>\n      <th>cosine_to_orig</th>\n      <th>embeddings_rank</th>\n      <th>from_clipping</th>\n      <th>from_original_token</th>\n      <th>from_split</th>\n      <th>norms_seen</th>\n      <th>spellcheck_rank</th>\n      <th>in_lexicon</th>\n      <th>length</th>\n      <th>same_order</th>\n      <th>orig_norms_seen</th>\n      <th>orig_in_lexicon</th>\n      <th>orig_same_order</th>\n      <th>orig_length</th>\n      <th>process</th>\n      <th>tweet</th>\n      <th>tok</th>\n      <th>preds</th>\n    </tr>\n  </thead>\n  <tbody>\n    <tr>\n      <th>citch</th>\n      <td>0.756863</td>\n      <td>1.0</td>\n      <td>0.0</td>\n      <td>0.0</td>\n      <td>0.0</td>\n      <td>0.0</td>\n      <td>0.0</td>\n      <td>0.0</td>\n      <td>5</td>\n      <td>0.0</td>\n      <td>1.0</td>\n      <td>1.0</td>\n      <td>1.0</td>\n      <td>2.0</td>\n      <td>0</td>\n      <td>0</td>\n      <td>4</td>\n      <td>-1.731161</td>\n    </tr>\n    <tr>\n      <th>co</th>\n      <td>0.240537</td>\n      <td>0.0</td>\n      <td>0.0</td>\n      <td>0.0</td>\n      <td>0.0</td>\n      <td>0.0</td>\n      <td>14.0</td>\n      <td>0.0</td>\n      <td>2</td>\n      <td>0.0</td>\n      <td>1.0</td>\n      <td>1.0</td>\n      <td>1.0</td>\n      <td>2.0</td>\n      <td>0</td>\n      <td>0</td>\n      <td>4</td>\n      <td>-2.434154</td>\n    </tr>\n    <tr>\n      <th>hoe</th>\n      <td>0.741933</td>\n      <td>4.0</td>\n      <td>0.0</td>\n      <td>0.0</td>\n      <td>0.0</td>\n      <td>0.0</td>\n      <td>0.0</td>\n      <td>1.0</td>\n      <td>3</td>\n      <td>0.0</td>\n      <td>1.0</td>\n      <td>1.0</td>\n      <td>1.0</td>\n      <td>2.0</td>\n      <td>0</td>\n      <td>0</td>\n      <td>4</td>\n      <td>-1.538175</td>\n    </tr>\n    <tr>\n      <th>lo</th>\n      <td>0.361795</td>\n      <td>0.0</td>\n      <td>0.0</td>\n      <td>0.0</td>\n      <td>0.0</td>\n      <td>0.0</td>\n      <td>13.0</td>\n      <td>1.0</td>\n      <td>2</td>\n      <td>0.0</td>\n      <td>1.0</td>\n      <td>1.0</td>\n      <td>1.0</td>\n      <td>2.0</td>\n      <td>0</td>\n      <td>0</td>\n      <td>4</td>\n      <td>-1.583027</td>\n    </tr>\n    <tr>\n      <th>nigga</th>\n      <td>0.742659</td>\n      <td>3.0</td>\n      <td>0.0</td>\n      <td>0.0</td>\n      <td>0.0</td>\n      <td>0.0</td>\n      <td>0.0</td>\n      <td>1.0</td>\n      <td>5</td>\n      <td>0.0</td>\n      <td>1.0</td>\n      <td>1.0</td>\n      <td>1.0</td>\n      <td>2.0</td>\n      <td>0</td>\n      <td>0</td>\n      <td>4</td>\n      <td>-1.389208</td>\n    </tr>\n    <tr>\n      <th>...</th>\n      <td>...</td>\n      <td>...</td>\n      <td>...</td>\n      <td>...</td>\n      <td>...</td>\n      <td>...</td>\n      <td>...</td>\n      <td>...</td>\n      <td>...</td>\n      <td>...</td>\n      <td>...</td>\n      <td>...</td>\n      <td>...</td>\n      <td>...</td>\n      <td>...</td>\n      <td>...</td>\n      <td>...</td>\n      <td>...</td>\n    </tr>\n    <tr>\n      <th>yowl's</th>\n      <td>0.000000</td>\n      <td>0.0</td>\n      <td>1.0</td>\n      <td>0.0</td>\n      <td>0.0</td>\n      <td>0.0</td>\n      <td>0.0</td>\n      <td>1.0</td>\n      <td>6</td>\n      <td>1.0</td>\n      <td>1.0</td>\n      <td>1.0</td>\n      <td>1.0</td>\n      <td>2.0</td>\n      <td>0</td>\n      <td>0</td>\n      <td>4</td>\n      <td>-1.555294</td>\n    </tr>\n    <tr>\n      <th>yowled</th>\n      <td>0.283298</td>\n      <td>0.0</td>\n      <td>1.0</td>\n      <td>0.0</td>\n      <td>0.0</td>\n      <td>0.0</td>\n      <td>0.0</td>\n      <td>1.0</td>\n      <td>6</td>\n      <td>1.0</td>\n      <td>1.0</td>\n      <td>1.0</td>\n      <td>1.0</td>\n      <td>2.0</td>\n      <td>0</td>\n      <td>0</td>\n      <td>4</td>\n      <td>-1.327322</td>\n    </tr>\n    <tr>\n      <th>yowling</th>\n      <td>0.225846</td>\n      <td>0.0</td>\n      <td>1.0</td>\n      <td>0.0</td>\n      <td>0.0</td>\n      <td>0.0</td>\n      <td>0.0</td>\n      <td>1.0</td>\n      <td>7</td>\n      <td>1.0</td>\n      <td>1.0</td>\n      <td>1.0</td>\n      <td>1.0</td>\n      <td>2.0</td>\n      <td>0</td>\n      <td>0</td>\n      <td>4</td>\n      <td>-1.390141</td>\n    </tr>\n    <tr>\n      <th>yowls</th>\n      <td>0.204925</td>\n      <td>0.0</td>\n      <td>1.0</td>\n      <td>0.0</td>\n      <td>0.0</td>\n      <td>0.0</td>\n      <td>0.0</td>\n      <td>1.0</td>\n      <td>5</td>\n      <td>1.0</td>\n      <td>1.0</td>\n      <td>1.0</td>\n      <td>1.0</td>\n      <td>2.0</td>\n      <td>0</td>\n      <td>0</td>\n      <td>4</td>\n      <td>-1.373803</td>\n    </tr>\n    <tr>\n      <th>yr</th>\n      <td>0.448676</td>\n      <td>0.0</td>\n      <td>0.0</td>\n      <td>0.0</td>\n      <td>0.0</td>\n      <td>0.0</td>\n      <td>12.0</td>\n      <td>0.0</td>\n      <td>2</td>\n      <td>0.0</td>\n      <td>1.0</td>\n      <td>1.0</td>\n      <td>1.0</td>\n      <td>2.0</td>\n      <td>0</td>\n      <td>0</td>\n      <td>4</td>\n      <td>-2.192546</td>\n    </tr>\n  </tbody>\n</table>\n<p>112 rows × 18 columns</p>\n</div>"
     },
     "execution_count": 149,
     "metadata": {},
     "output_type": "execute_result"
    }
   ],
   "source": [
    "dev[\"preds\"] = preds\n",
    "dev.loc[(dev.process == 0) & (dev.tweet == 0) & (dev.tok == 4)]"
   ],
   "metadata": {
    "collapsed": false
   }
  },
  {
   "cell_type": "code",
   "execution_count": 137,
   "outputs": [
    {
     "data": {
      "text/plain": "['brother',\n 'get',\n 'out',\n 'yo',\n 'feelings',\n 'lol',\n 'manan',\n 'dund',\n 'xaragdax',\n 'ter',\n 'uuliin',\n 'oroid',\n 'minii',\n 'aav',\n 'xezee',\n 'neg',\n 'cagt',\n 'zogsoj',\n 'baisan',\n 'photo',\n 'by',\n 'why',\n 'dese',\n 'niggers',\n 'think',\n 'dey',\n 'doin',\n 'summn',\n \"it's\",\n 'about',\n 'more',\n 'than',\n 'number',\n 'brother',\n 'and',\n \"i'm\",\n 'not',\n 'talkn',\n 'about',\n 'statistics',\n \"i'm\",\n 'talkn',\n 'about',\n 'skill',\n 'level',\n 'yes',\n 'omg',\n 'i',\n \"don't\",\n 'want',\n 'him',\n 'feeling',\n 'unappreciated',\n 'or',\n 'stuff',\n 'like',\n 'that',\n 'lmao',\n 'the',\n 'whole',\n 'time',\n 'actually',\n 'we',\n 'need',\n 'to',\n 'start',\n 'our',\n 'own',\n 'team',\n \"y'all\",\n 'were',\n 'wilding',\n 'last',\n 'nigjt',\n 'yoh',\n 'niya',\n 'ja',\n 'saying',\n 'kau',\n 'aku',\n 'with',\n 'couple',\n 'is',\n 'actually',\n 'sweet',\n 'k',\n 'michelle',\n 'met',\n 'yo',\n 'match',\n 'that',\n 'fonk',\n 'rana',\n 'samaha',\n 'ignore',\n 'all',\n 'the',\n 'criticism',\n 'a',\n 'spotlight',\n 'can',\n 'never',\n 'see',\n 'the',\n 'shadows',\n 'anyways',\n \"you're\",\n 'flawless',\n 'boko',\n 'haram',\n 'shettima',\n 'warns',\n 'nigerian',\n 'leaders',\n 'over',\n 'politicization',\n 'of',\n 'chibok',\n 'abduction',\n 'and',\n 'in',\n 'that',\n 'moment',\n 'karma',\n 'realised',\n 'she',\n 'was',\n 'hella',\n 'gay',\n 'for',\n 'her',\n 'bestie',\n 'not',\n 'you',\n 'because',\n 'you',\n 'chillen',\n 'wit',\n 'me',\n 'kardashia',\n 'kardashian',\n 'died',\n 'because',\n 'her',\n 'ass',\n 'was',\n 'too',\n 'big',\n 'hahah',\n 'niggra',\n 'summation',\n 'classified',\n 'directory',\n 'high',\n 'grille',\n 'for',\n 'the',\n 'online',\n 'game',\n 'atd',\n 'lexx',\n 'little',\n 'cute',\n 'ass',\n 'woke',\n 'up',\n 'mad',\n 'as',\n 'hell',\n 'lol',\n 'green',\n 'day',\n 'paramore',\n 'yellowcard',\n 'fall',\n 'out',\n 'boy',\n 'is',\n 'that',\n 'minho',\n 'beside',\n 'taemin',\n 'omo',\n 'looks',\n 'like',\n 'him',\n '140529',\n 'smtown',\n 'artists',\n 'with',\n 'exo',\n 'photoset',\n 'flintandpyrite',\n 'ume',\n 'by',\n 'andrea',\n 'rangel',\n 'knits',\n 'for',\n 'spring',\n 'because',\n \"that's\",\n 'going to',\n 'happen',\n 'lol',\n 'need',\n 'to',\n 'revisit',\n 'their',\n 'thameslink',\n 'bid',\n 'the',\n 'moorgate',\n 'route',\n 'closed',\n '4',\n 'years',\n 'ago',\n 'icons',\n 'da',\n 'demi',\n 'sem',\n 'psd',\n 'no',\n 'the',\n 'x',\n 'factor',\n 'x8',\n 'you',\n 'dun',\n \"i'm\",\n 'da',\n 'king',\n 'of',\n 'sweg',\n 'haha',\n \"that's\",\n 'funny',\n 'but',\n 'not',\n 'every',\n 'girl',\n 'is',\n 'darlin',\n 'imran',\n 'khan',\n 'saying',\n 'really',\n 'true',\n 'about',\n 'pmln',\n 'and',\n \"you'll\",\n 'always',\n 'be',\n 'my',\n '5',\n 'heros',\n 'who',\n 'can',\n 'always',\n 'make',\n 'me',\n 'smyle',\n 'even',\n 'when',\n 'i',\n 'm',\n 'in',\n 'the',\n 'sadest',\n 'mood',\n 'ever',\n 'xxc',\n 'lol',\n 'what',\n 'he',\n 'trippin',\n 'on',\n 'xabi',\n 'alonso',\n 'just',\n 'achieved',\n 'stratospheric',\n 'heights',\n 'of',\n 'coolness',\n 'lmaoo',\n 'my',\n 'fault',\n 'yo',\n 'ima',\n 'let',\n 'you',\n 'get',\n 'your',\n 'shine',\n 'james',\n 'and',\n 'i',\n 'say',\n 'hi',\n 'with',\n 'a',\n 'dog',\n 'tenerezza',\n 'omg',\n 'hawt',\n 'like',\n 'omg',\n 'can',\n 'my',\n 'husband',\n 'please',\n 'look',\n 'like',\n 'you',\n 'or',\n 'can',\n 'i',\n 'have',\n 'your',\n 'babies',\n 'i',\n 'miss',\n 'going',\n 'to',\n 'mansion',\n 'elan',\n 'ery',\n 'wkeend',\n \"i'm\",\n 'finna',\n 'start',\n 'back',\n 'going',\n 'doe',\n 'facts',\n 'bro',\n 'this',\n 'babyface',\n \"ain't\",\n 'helping',\n 'nothing',\n 'lmao',\n 'can',\n 'i',\n 'have',\n 'him',\n 'yet',\n 'orrr',\n 'noo',\n 'ughh',\n '140524',\n 'hyoyeon',\n 'yuri',\n '2nd',\n 'day',\n 'kobe',\n 'by',\n 'rebecca',\n 'crowdfunding',\n 'roundup',\n 'a',\n 'late',\n 'spring',\n 'flowering',\n 'of',\n 'projects',\n 'every',\n 'week',\n 'tuaw',\n 'provides',\n 'readers',\n 'with',\n 'an',\n 'update',\n 'o',\n 'mayweather',\n 'needs',\n 'to',\n 'fight',\n 'paquiao',\n 'that',\n 'would',\n 'be',\n 'ammmazing',\n \"i'm\",\n 'actully',\n 'excited',\n 'to',\n 'see',\n 'what',\n 'it',\n 'will',\n 'look',\n 'like',\n 'so',\n 'its',\n 'happening',\n 'when',\n 'the',\n 'lawn',\n 'area',\n 'get',\n 'done',\n 'lol',\n 'who',\n 'bouta',\n 'come',\n 'way',\n 'out',\n 'there',\n 'come',\n 'get',\n 'me',\n 'bring',\n 'me',\n 'bck',\n \"we'll\",\n 'come',\n 'lol',\n 'i',\n 'forgot',\n 'you',\n 'moved',\n 'canal',\n 'then',\n 'lol',\n 'apple',\n 'forgets',\n 'to',\n 'renew',\n 'ssl',\n 'certificate',\n 'breaking',\n 'os',\n 'x',\n 'software',\n 'update',\n 'ik',\n 'id',\n 'rather',\n 'someone',\n 'unfollow',\n 'me',\n 'than',\n 'mute',\n 'me',\n 'like',\n 'what',\n 'ohhh',\n 'my',\n 'poor',\n 'zac',\n 'take',\n 'good',\n 'care',\n 'of',\n 'urself',\n 'kimberley',\n 'walsh',\n 'confirms',\n 'cheryl',\n \"cole's\",\n \"britain's\",\n 'got',\n 'talent',\n 'appearance',\n 'contactmusic',\n 'comkimberley',\n 'walsh',\n 'confir',\n 'exo',\n 'is',\n 'practising',\n 'for',\n 'concert',\n 'lol',\n 'you',\n 'still',\n 'in',\n 'school',\n 'shutup',\n 'he',\n 'wants',\n 'to',\n 'get',\n 'bigger',\n 'than',\n 'parth',\n 'lmfao',\n 'chanyeol',\n 'is',\n 'so',\n 'caring',\n 'omg',\n 'be',\n 'mine',\n 'please',\n 'nothin',\n 'just',\n 'chillin',\n 'imy',\n 'you',\n \"don't\",\n 'fuck',\n 'with',\n 'a',\n 'thug',\n 'nomore',\n 'lol',\n 'udah',\n 'lama',\n 'nda',\n 'how',\n 'about',\n 'it',\n 'how',\n 'about',\n 'that',\n 'lol',\n 'ik',\n 'i',\n 'just',\n 'took',\n 'them',\n 'real',\n 'quick',\n 'i',\n 'wasnt',\n 'thinkin',\n 'the',\n 'order',\n '1',\n 'daily',\n 'follower',\n '0',\n 'unfollowers',\n 'justunfollow',\n \"doesn't\",\n 'miss',\n 'a',\n 'trick',\n \"i'm\",\n 'going to',\n 'do',\n 'it',\n 'after',\n 'graduation',\n 'lol',\n 'second',\n 'time',\n 'this',\n 'shit',\n 'crashed',\n 'on',\n 'datpiff',\n 'so',\n 'we',\n 'on',\n 'soundcloud',\n 'with',\n 'it',\n 'genji',\n 'sports',\n 'pop',\n 'up',\n 'family',\n 'beach',\n 'tent',\n 'and',\n 'beach',\n 'sunshelter',\n 'genji',\n 'sports',\n 'pop',\n 'up',\n 'fami',\n 'titan',\n 'baseball',\n 'beats',\n 'brv',\n 'to',\n 'advance',\n 'to',\n 'county',\n 'championship',\n 'tri',\n 'tomorrow',\n '4',\n 'pm',\n 'jumpseat',\n 'radio',\n '018',\n 'combat',\n 'ready',\n 'firefighting',\n 'with',\n 'tony',\n 'kelleher',\n 'repost',\n 'i',\n 'added',\n 'a',\n 'video',\n 'to',\n 'a',\n 'playlist',\n 'plg',\n 'sensual',\n 'toribash',\n 'ep',\n '3',\n \"let's\",\n 'tango',\n 'wildfires',\n 'turkey',\n 'feather',\n 'fletching',\n 'for',\n 'archery',\n 'arrows',\n 'diy',\n 'pheasant',\n 'feathers',\n 'for',\n 'arro',\n 'where',\n 'the',\n 'mj',\n 'though',\n 'lol',\n '492',\n 'luke',\n 'hemmings',\n 'from',\n '5sos',\n 'i',\n 'love',\n 'you',\n 'so',\n 'much',\n 'please',\n 'follow',\n 'me',\n 'you',\n 'are',\n 'everything',\n 'to',\n 'me',\n 'please',\n 'dude',\n 'you',\n 'never',\n 'gave',\n 'me',\n 'the',\n 'kik',\n 'or',\n 'snapchat',\n \"you'll\",\n 'sea',\n 'lmfao',\n 'oookay',\n 'bean',\n 'eating',\n 'headass',\n 'morning',\n 'exercise',\n 'paakyat',\n 'ng',\n 'thunderbird',\n 'i',\n 'love',\n 'you',\n 'phil',\n 'of',\n 'the',\n 'future',\n 'i',\n 'love',\n 'everything',\n 'abt',\n 'you',\n 'nao',\n 'superei',\n 'ainda',\n 'this',\n 'is',\n 'for',\n 'niall',\n 'e',\n 'vcs',\n 'wara',\n 'man',\n 'talaga',\n 'forever',\n 'niyata',\n 'ano',\n 'una',\n 'mo',\n 'imortal',\n 'ka',\n 'hahahahahahhahaha',\n 'hot',\n 'music',\n 'mariah',\n 'carey',\n 'meteorite',\n 'q',\n 'meteorite',\n 'version',\n 'mariah',\n 'carey',\n 'has',\n 'ohh',\n 'i',\n 'feel',\n 'you',\n 'haha',\n 'so',\n 'is',\n 'writin',\n 'a',\n 'book',\n 'about',\n 'jay',\n 'z',\n 'and',\n 'beyonce',\n 'tellin',\n 'someone',\n \"else's\",\n 'secrets',\n 'for',\n 'money',\n 'shows',\n 'how',\n 'low',\n 'some',\n 'people',\n 'will',\n 'stoop',\n 'fast',\n 'forward',\n 'to',\n 'june',\n '9',\n 'please',\n 'para',\n 'makapag',\n 'ipon',\n 'na',\n 'hahahahahah',\n 'lol',\n 'thank',\n 'you',\n 'liam',\n 'for',\n 'asking',\n 'louis',\n 'what',\n 'flavour',\n 'harry',\n 'is',\n \"i'm\",\n 'so',\n 'jskcosnxoancoamxis',\n 'ahhhhh',\n 'salt',\n 'and',\n 'vinegar',\n \"don't\",\n 'take',\n 'it',\n 'personal',\n 'kid',\n 'caroline',\n 'wozniacki',\n 'breaks',\n 'silence',\n 'on',\n 'rory',\n 'mcilroy',\n 'breakup',\n '140525',\n 'boakwon',\n 'ig',\n 'update',\n 'with',\n 'exo',\n 'and',\n 'suju',\n 'siwon',\n 'donghae',\n 'more',\n 'and',\n 'forehead',\n 'ft',\n 'hyuk',\n 'thanks',\n 'for',\n 'that',\n 'spiderman',\n 'carnage',\n 'mask',\n '300rb',\n 'lom',\n 'ama',\n 'ongkir',\n 'ready',\n 'stock',\n 'runnin',\n 'with',\n 'who',\n 'do',\n 'you',\n 'think',\n 'is',\n 'faster',\n 'nicki',\n 'minaj',\n 'slick',\n 'went',\n 'from',\n 'brownskin',\n 'to',\n 'lightskin',\n 'over',\n 'the',\n 'years',\n 'if',\n 'you',\n \"don't\",\n 'fuck',\n 'wit',\n 'dunny',\n 'gage',\n 'then',\n 'fuck',\n 'ya',\n 'life',\n 'last',\n 'day',\n 'of',\n 'school',\n 'gonna',\n 'have',\n 'people',\n 'like',\n 'the',\n 'bad',\n 'pastor',\n 'impostors',\n 'so',\n 'loves',\n 'a',\n 'lottle',\n 'to',\n 'jesus',\n 'the',\n 'people',\n 'can',\n 'intercesion',\n 'for',\n 'he',\n 'for',\n 'the',\n 'soul',\n 'peole',\n 'wilshire',\n 'itq',\n 'hehe',\n 'stay',\n 'strong',\n '1',\n 'k',\n 'swim',\n 'sauna',\n 'post',\n 'work',\n 'now',\n 'beer',\n 'work',\n 'tomorrow',\n 'terserah',\n 'suho',\n 'gave',\n 'a',\n 'teddy',\n 'bear',\n 'and',\n 'took',\n 'a',\n 'selca',\n 'with',\n 'a',\n 'fan',\n 'tazz',\n 'needa',\n 'quit',\n 'it',\n 'wit',\n 'that',\n 'last',\n 'quote',\n 'lol',\n 'she',\n \"don't\",\n 'live',\n 'that',\n 'life',\n 'why',\n 'the',\n 'fuck',\n 'did',\n 'i',\n 'think',\n 'i',\n 'was',\n 'scheduled',\n 'today',\n 'am',\n 'i',\n 'on',\n 'crack',\n 'lmao',\n 'wut',\n 'my',\n 'top',\n '3',\n 'artists',\n 'girls',\n 'aloud',\n '15',\n 'christina',\n 'aguilera',\n '13',\n 'kylie',\n 'minogue',\n '12',\n 'how',\n 'he',\n 'top',\n '5',\n 'scorer',\n 'and',\n 'the',\n 'offense',\n \"ain't\",\n 'around',\n 'atleast',\n 'him',\n 'lol',\n 'that',\n \"don't\",\n 'make',\n 'sense',\n 'that',\n 'mean',\n 'he',\n 'jackin',\n 'then',\n 'lol',\n 'kompany',\n 'going',\n 'up',\n 'to',\n 'yaya',\n 'toure',\n 'after',\n 'he',\n 'found',\n 'out',\n 'he',\n 'wanted',\n 'to',\n 'leave',\n 'first',\n 'class',\n 'thing',\n 'see',\n 'wizkid',\n 'and',\n 'banky',\n 'w',\n 'having',\n 'fun',\n 'on',\n 'via',\n 'the',\n 'old',\n 'bargin',\n 'giant',\n 'would',\n 'make',\n 'a',\n 'good',\n 'entertainment',\n ...]"
     },
     "execution_count": 137,
     "metadata": {},
     "output_type": "execute_result"
    }
   ],
   "source": [
    "# get top prediction for each raw token\n",
    "predictions = dev.sort_values(\"preds\", ascending=False).drop_duplicates([\"process\", \"tweet\", \"tok\"])\n",
    "pred_tokens = predictions.sort_values([\"process\", \"tweet\", \"tok\"]).index.tolist()\n",
    "pred_tokens"
   ],
   "metadata": {
    "collapsed": false
   }
  },
  {
   "cell_type": "code",
   "execution_count": 22,
   "outputs": [],
   "source": [
    "from lexnorm.data.normEval import loadNormData\n",
    "\n",
    "raw, norm = loadNormData(os.path.join(DATA_PATH, \"raw/dev.norm\"))"
   ],
   "metadata": {
    "collapsed": false
   }
  },
  {
   "cell_type": "code",
   "execution_count": 199,
   "outputs": [
    {
     "ename": "NameError",
     "evalue": "name 'pred_tokens' is not defined",
     "output_type": "error",
     "traceback": [
      "\u001B[0;31m---------------------------------------------------------------------------\u001B[0m",
      "\u001B[0;31mNameError\u001B[0m                                 Traceback (most recent call last)",
      "Cell \u001B[0;32mIn[199], line 3\u001B[0m\n\u001B[1;32m      1\u001B[0m \u001B[38;5;28;01mfrom\u001B[39;00m \u001B[38;5;21;01mlexnorm\u001B[39;00m\u001B[38;5;21;01m.\u001B[39;00m\u001B[38;5;21;01mgenerate_extract\u001B[39;00m\u001B[38;5;21;01m.\u001B[39;00m\u001B[38;5;21;01mfiltering\u001B[39;00m \u001B[38;5;28;01mimport\u001B[39;00m is_eligible\n\u001B[0;32m----> 3\u001B[0m pred_tokens_iter \u001B[38;5;241m=\u001B[39m \u001B[38;5;28miter\u001B[39m(\u001B[43mpred_tokens\u001B[49m)\n\u001B[1;32m      5\u001B[0m pred_tweets \u001B[38;5;241m=\u001B[39m []\n\u001B[1;32m      7\u001B[0m \u001B[38;5;28;01mfor\u001B[39;00m tweet \u001B[38;5;129;01min\u001B[39;00m raw:\n",
      "\u001B[0;31mNameError\u001B[0m: name 'pred_tokens' is not defined"
     ]
    }
   ],
   "source": [
    "from lexnorm.generate_extract.filtering import is_eligible\n",
    "\n",
    "pred_tokens_iter = iter(pred_tokens)\n",
    "\n",
    "pred_tweets = []\n",
    "\n",
    "for tweet in raw:\n",
    "    pred_tweet = []\n",
    "    for tok in tweet:\n",
    "        if is_eligible(tok):\n",
    "            pred_tweet.append(next(pred_tokens_iter))\n",
    "        else:\n",
    "            pred_tweet.append(tok)\n",
    "    pred_tweets.append(pred_tweet)"
   ],
   "metadata": {
    "collapsed": false
   }
  },
  {
   "cell_type": "code",
   "execution_count": 24,
   "outputs": [
    {
     "name": "stdout",
     "output_type": "stream",
     "text": [
      "Baseline acc.(LAI): 93.10\n",
      "Accuracy:           96.28\n",
      "ERR:                46.13\n"
     ]
    },
    {
     "data": {
      "text/plain": "(0.9309630275929763, 0.9628094666812084, 0.4612954186413895)"
     },
     "execution_count": 24,
     "metadata": {},
     "output_type": "execute_result"
    }
   ],
   "source": [
    "from lexnorm.data.normEval import evaluate\n",
    "\n",
    "evaluate(raw, norm, pred_tweets)\n",
    "# pretty bad. Some reasons: not good enough feature extraction, using a linear svm when data might not be linearly seperable in our feature space (may need different kernel), set non-calculated/absent values to zero which can be picked up by a random forest but NOT by most models! May need to give highest possible value instead."
   ],
   "metadata": {
    "collapsed": false
   }
  },
  {
   "cell_type": "code",
   "execution_count": 157,
   "outputs": [
    {
     "ename": "InvalidIndexError",
     "evalue": "(slice(None, None, None), slice(None, 2, None))",
     "output_type": "error",
     "traceback": [
      "\u001B[0;31m---------------------------------------------------------------------------\u001B[0m",
      "\u001B[0;31mTypeError\u001B[0m                                 Traceback (most recent call last)",
      "File \u001B[0;32m~/Library/Mobile Documents/com~apple~CloudDocs/Documents/2/Diss/lexnorm/.venv/lib/python3.10/site-packages/pandas/core/indexes/base.py:3802\u001B[0m, in \u001B[0;36mIndex.get_loc\u001B[0;34m(self, key, method, tolerance)\u001B[0m\n\u001B[1;32m   3801\u001B[0m \u001B[38;5;28;01mtry\u001B[39;00m:\n\u001B[0;32m-> 3802\u001B[0m     \u001B[38;5;28;01mreturn\u001B[39;00m \u001B[38;5;28;43mself\u001B[39;49m\u001B[38;5;241;43m.\u001B[39;49m\u001B[43m_engine\u001B[49m\u001B[38;5;241;43m.\u001B[39;49m\u001B[43mget_loc\u001B[49m\u001B[43m(\u001B[49m\u001B[43mcasted_key\u001B[49m\u001B[43m)\u001B[49m\n\u001B[1;32m   3803\u001B[0m \u001B[38;5;28;01mexcept\u001B[39;00m \u001B[38;5;167;01mKeyError\u001B[39;00m \u001B[38;5;28;01mas\u001B[39;00m err:\n",
      "File \u001B[0;32m~/Library/Mobile Documents/com~apple~CloudDocs/Documents/2/Diss/lexnorm/.venv/lib/python3.10/site-packages/pandas/_libs/index.pyx:138\u001B[0m, in \u001B[0;36mpandas._libs.index.IndexEngine.get_loc\u001B[0;34m()\u001B[0m\n",
      "File \u001B[0;32m~/Library/Mobile Documents/com~apple~CloudDocs/Documents/2/Diss/lexnorm/.venv/lib/python3.10/site-packages/pandas/_libs/index.pyx:144\u001B[0m, in \u001B[0;36mpandas._libs.index.IndexEngine.get_loc\u001B[0;34m()\u001B[0m\n",
      "\u001B[0;31mTypeError\u001B[0m: '(slice(None, None, None), slice(None, 2, None))' is an invalid key",
      "\nDuring handling of the above exception, another exception occurred:\n",
      "\u001B[0;31mInvalidIndexError\u001B[0m                         Traceback (most recent call last)",
      "Cell \u001B[0;32mIn[157], line 2\u001B[0m\n\u001B[1;32m      1\u001B[0m \u001B[38;5;28;01mfrom\u001B[39;00m \u001B[38;5;21;01msklearn\u001B[39;00m\u001B[38;5;21;01m.\u001B[39;00m\u001B[38;5;21;01minspection\u001B[39;00m \u001B[38;5;28;01mimport\u001B[39;00m DecisionBoundaryDisplay\n\u001B[0;32m----> 2\u001B[0m DecisionBoundaryDisplay\u001B[38;5;241m.\u001B[39mfrom_estimator(svm, \u001B[43mX_dev\u001B[49m\u001B[43m[\u001B[49m\u001B[43m:\u001B[49m\u001B[43m,\u001B[49m\u001B[43m \u001B[49m\u001B[43m:\u001B[49m\u001B[38;5;241;43m2\u001B[39;49m\u001B[43m]\u001B[49m)\n",
      "File \u001B[0;32m~/Library/Mobile Documents/com~apple~CloudDocs/Documents/2/Diss/lexnorm/.venv/lib/python3.10/site-packages/pandas/core/frame.py:3807\u001B[0m, in \u001B[0;36mDataFrame.__getitem__\u001B[0;34m(self, key)\u001B[0m\n\u001B[1;32m   3805\u001B[0m \u001B[38;5;28;01mif\u001B[39;00m \u001B[38;5;28mself\u001B[39m\u001B[38;5;241m.\u001B[39mcolumns\u001B[38;5;241m.\u001B[39mnlevels \u001B[38;5;241m>\u001B[39m \u001B[38;5;241m1\u001B[39m:\n\u001B[1;32m   3806\u001B[0m     \u001B[38;5;28;01mreturn\u001B[39;00m \u001B[38;5;28mself\u001B[39m\u001B[38;5;241m.\u001B[39m_getitem_multilevel(key)\n\u001B[0;32m-> 3807\u001B[0m indexer \u001B[38;5;241m=\u001B[39m \u001B[38;5;28;43mself\u001B[39;49m\u001B[38;5;241;43m.\u001B[39;49m\u001B[43mcolumns\u001B[49m\u001B[38;5;241;43m.\u001B[39;49m\u001B[43mget_loc\u001B[49m\u001B[43m(\u001B[49m\u001B[43mkey\u001B[49m\u001B[43m)\u001B[49m\n\u001B[1;32m   3808\u001B[0m \u001B[38;5;28;01mif\u001B[39;00m is_integer(indexer):\n\u001B[1;32m   3809\u001B[0m     indexer \u001B[38;5;241m=\u001B[39m [indexer]\n",
      "File \u001B[0;32m~/Library/Mobile Documents/com~apple~CloudDocs/Documents/2/Diss/lexnorm/.venv/lib/python3.10/site-packages/pandas/core/indexes/base.py:3809\u001B[0m, in \u001B[0;36mIndex.get_loc\u001B[0;34m(self, key, method, tolerance)\u001B[0m\n\u001B[1;32m   3804\u001B[0m         \u001B[38;5;28;01mraise\u001B[39;00m \u001B[38;5;167;01mKeyError\u001B[39;00m(key) \u001B[38;5;28;01mfrom\u001B[39;00m \u001B[38;5;21;01merr\u001B[39;00m\n\u001B[1;32m   3805\u001B[0m     \u001B[38;5;28;01mexcept\u001B[39;00m \u001B[38;5;167;01mTypeError\u001B[39;00m:\n\u001B[1;32m   3806\u001B[0m         \u001B[38;5;66;03m# If we have a listlike key, _check_indexing_error will raise\u001B[39;00m\n\u001B[1;32m   3807\u001B[0m         \u001B[38;5;66;03m#  InvalidIndexError. Otherwise we fall through and re-raise\u001B[39;00m\n\u001B[1;32m   3808\u001B[0m         \u001B[38;5;66;03m#  the TypeError.\u001B[39;00m\n\u001B[0;32m-> 3809\u001B[0m         \u001B[38;5;28;43mself\u001B[39;49m\u001B[38;5;241;43m.\u001B[39;49m\u001B[43m_check_indexing_error\u001B[49m\u001B[43m(\u001B[49m\u001B[43mkey\u001B[49m\u001B[43m)\u001B[49m\n\u001B[1;32m   3810\u001B[0m         \u001B[38;5;28;01mraise\u001B[39;00m\n\u001B[1;32m   3812\u001B[0m \u001B[38;5;66;03m# GH#42269\u001B[39;00m\n",
      "File \u001B[0;32m~/Library/Mobile Documents/com~apple~CloudDocs/Documents/2/Diss/lexnorm/.venv/lib/python3.10/site-packages/pandas/core/indexes/base.py:5925\u001B[0m, in \u001B[0;36mIndex._check_indexing_error\u001B[0;34m(self, key)\u001B[0m\n\u001B[1;32m   5921\u001B[0m \u001B[38;5;28;01mdef\u001B[39;00m \u001B[38;5;21m_check_indexing_error\u001B[39m(\u001B[38;5;28mself\u001B[39m, key):\n\u001B[1;32m   5922\u001B[0m     \u001B[38;5;28;01mif\u001B[39;00m \u001B[38;5;129;01mnot\u001B[39;00m is_scalar(key):\n\u001B[1;32m   5923\u001B[0m         \u001B[38;5;66;03m# if key is not a scalar, directly raise an error (the code below\u001B[39;00m\n\u001B[1;32m   5924\u001B[0m         \u001B[38;5;66;03m# would convert to numpy arrays and raise later any way) - GH29926\u001B[39;00m\n\u001B[0;32m-> 5925\u001B[0m         \u001B[38;5;28;01mraise\u001B[39;00m InvalidIndexError(key)\n",
      "\u001B[0;31mInvalidIndexError\u001B[0m: (slice(None, None, None), slice(None, 2, None))"
     ]
    }
   ],
   "source": [
    "from sklearn.inspection import DecisionBoundaryDisplay\n",
    "DecisionBoundaryDisplay.from_estimator(svm, X_dev[:, :2])"
   ],
   "metadata": {
    "collapsed": false
   }
  },
  {
   "cell_type": "code",
   "execution_count": 4,
   "outputs": [],
   "source": [
    "from joblib import load\n",
    "import os\n",
    "from lexnorm.definitions import DATA_PATH\n",
    "rd_clf = load(os.path.join(DATA_PATH, \"../models/rf.joblib\"))"
   ],
   "metadata": {
    "collapsed": false
   }
  },
  {
   "cell_type": "code",
   "execution_count": 198,
   "outputs": [
    {
     "data": {
      "text/plain": "[DecisionTreeClassifier(max_features='sqrt', random_state=1608637542),\n DecisionTreeClassifier(max_features='sqrt', random_state=1273642419),\n DecisionTreeClassifier(max_features='sqrt', random_state=1935803228),\n DecisionTreeClassifier(max_features='sqrt', random_state=787846414),\n DecisionTreeClassifier(max_features='sqrt', random_state=996406378),\n DecisionTreeClassifier(max_features='sqrt', random_state=1201263687),\n DecisionTreeClassifier(max_features='sqrt', random_state=423734972),\n DecisionTreeClassifier(max_features='sqrt', random_state=415968276),\n DecisionTreeClassifier(max_features='sqrt', random_state=670094950),\n DecisionTreeClassifier(max_features='sqrt', random_state=1914837113),\n DecisionTreeClassifier(max_features='sqrt', random_state=669991378),\n DecisionTreeClassifier(max_features='sqrt', random_state=429389014),\n DecisionTreeClassifier(max_features='sqrt', random_state=249467210),\n DecisionTreeClassifier(max_features='sqrt', random_state=1972458954),\n DecisionTreeClassifier(max_features='sqrt', random_state=1572714583),\n DecisionTreeClassifier(max_features='sqrt', random_state=1433267572),\n DecisionTreeClassifier(max_features='sqrt', random_state=434285667),\n DecisionTreeClassifier(max_features='sqrt', random_state=613608295),\n DecisionTreeClassifier(max_features='sqrt', random_state=893664919),\n DecisionTreeClassifier(max_features='sqrt', random_state=648061058),\n DecisionTreeClassifier(max_features='sqrt', random_state=88409749),\n DecisionTreeClassifier(max_features='sqrt', random_state=242285876),\n DecisionTreeClassifier(max_features='sqrt', random_state=2018247425),\n DecisionTreeClassifier(max_features='sqrt', random_state=953477463),\n DecisionTreeClassifier(max_features='sqrt', random_state=1427830251),\n DecisionTreeClassifier(max_features='sqrt', random_state=1883569565),\n DecisionTreeClassifier(max_features='sqrt', random_state=911989541),\n DecisionTreeClassifier(max_features='sqrt', random_state=3344769),\n DecisionTreeClassifier(max_features='sqrt', random_state=780932287),\n DecisionTreeClassifier(max_features='sqrt', random_state=2114032571),\n DecisionTreeClassifier(max_features='sqrt', random_state=787716372),\n DecisionTreeClassifier(max_features='sqrt', random_state=504579232),\n DecisionTreeClassifier(max_features='sqrt', random_state=1306710475),\n DecisionTreeClassifier(max_features='sqrt', random_state=479546681),\n DecisionTreeClassifier(max_features='sqrt', random_state=106328085),\n DecisionTreeClassifier(max_features='sqrt', random_state=30349564),\n DecisionTreeClassifier(max_features='sqrt', random_state=1855189739),\n DecisionTreeClassifier(max_features='sqrt', random_state=99052376),\n DecisionTreeClassifier(max_features='sqrt', random_state=1250819632),\n DecisionTreeClassifier(max_features='sqrt', random_state=106406362),\n DecisionTreeClassifier(max_features='sqrt', random_state=480404538),\n DecisionTreeClassifier(max_features='sqrt', random_state=1717389822),\n DecisionTreeClassifier(max_features='sqrt', random_state=599121577),\n DecisionTreeClassifier(max_features='sqrt', random_state=200427519),\n DecisionTreeClassifier(max_features='sqrt', random_state=1254751707),\n DecisionTreeClassifier(max_features='sqrt', random_state=2034764475),\n DecisionTreeClassifier(max_features='sqrt', random_state=1573512143),\n DecisionTreeClassifier(max_features='sqrt', random_state=999745294),\n DecisionTreeClassifier(max_features='sqrt', random_state=1958805693),\n DecisionTreeClassifier(max_features='sqrt', random_state=389151677),\n DecisionTreeClassifier(max_features='sqrt', random_state=1224821422),\n DecisionTreeClassifier(max_features='sqrt', random_state=508464061),\n DecisionTreeClassifier(max_features='sqrt', random_state=857592370),\n DecisionTreeClassifier(max_features='sqrt', random_state=1642661739),\n DecisionTreeClassifier(max_features='sqrt', random_state=61136438),\n DecisionTreeClassifier(max_features='sqrt', random_state=2075460851),\n DecisionTreeClassifier(max_features='sqrt', random_state=396917567),\n DecisionTreeClassifier(max_features='sqrt', random_state=2004731384),\n DecisionTreeClassifier(max_features='sqrt', random_state=199502978),\n DecisionTreeClassifier(max_features='sqrt', random_state=1545932260),\n DecisionTreeClassifier(max_features='sqrt', random_state=461901618),\n DecisionTreeClassifier(max_features='sqrt', random_state=774414982),\n DecisionTreeClassifier(max_features='sqrt', random_state=732395540),\n DecisionTreeClassifier(max_features='sqrt', random_state=1934879560),\n DecisionTreeClassifier(max_features='sqrt', random_state=279394470),\n DecisionTreeClassifier(max_features='sqrt', random_state=56972561),\n DecisionTreeClassifier(max_features='sqrt', random_state=1927948675),\n DecisionTreeClassifier(max_features='sqrt', random_state=1899242072),\n DecisionTreeClassifier(max_features='sqrt', random_state=1999874363),\n DecisionTreeClassifier(max_features='sqrt', random_state=271820813),\n DecisionTreeClassifier(max_features='sqrt', random_state=1324556529),\n DecisionTreeClassifier(max_features='sqrt', random_state=1655351289),\n DecisionTreeClassifier(max_features='sqrt', random_state=1308306184),\n DecisionTreeClassifier(max_features='sqrt', random_state=68574553),\n DecisionTreeClassifier(max_features='sqrt', random_state=419498548),\n DecisionTreeClassifier(max_features='sqrt', random_state=991681409),\n DecisionTreeClassifier(max_features='sqrt', random_state=791274835),\n DecisionTreeClassifier(max_features='sqrt', random_state=1035196507),\n DecisionTreeClassifier(max_features='sqrt', random_state=1890440558),\n DecisionTreeClassifier(max_features='sqrt', random_state=787110843),\n DecisionTreeClassifier(max_features='sqrt', random_state=524150214),\n DecisionTreeClassifier(max_features='sqrt', random_state=472432043),\n DecisionTreeClassifier(max_features='sqrt', random_state=2126768636),\n DecisionTreeClassifier(max_features='sqrt', random_state=1431061255),\n DecisionTreeClassifier(max_features='sqrt', random_state=147697582),\n DecisionTreeClassifier(max_features='sqrt', random_state=744595490),\n DecisionTreeClassifier(max_features='sqrt', random_state=1758017741),\n DecisionTreeClassifier(max_features='sqrt', random_state=1679592528),\n DecisionTreeClassifier(max_features='sqrt', random_state=1111451555),\n DecisionTreeClassifier(max_features='sqrt', random_state=782698033),\n DecisionTreeClassifier(max_features='sqrt', random_state=698027879),\n DecisionTreeClassifier(max_features='sqrt', random_state=1096768899),\n DecisionTreeClassifier(max_features='sqrt', random_state=1338788865),\n DecisionTreeClassifier(max_features='sqrt', random_state=1826030589),\n DecisionTreeClassifier(max_features='sqrt', random_state=86191493),\n DecisionTreeClassifier(max_features='sqrt', random_state=893102645),\n DecisionTreeClassifier(max_features='sqrt', random_state=200619113),\n DecisionTreeClassifier(max_features='sqrt', random_state=290770691),\n DecisionTreeClassifier(max_features='sqrt', random_state=793943861),\n DecisionTreeClassifier(max_features='sqrt', random_state=134489564)]"
     },
     "execution_count": 198,
     "metadata": {},
     "output_type": "execute_result"
    }
   ],
   "source": [
    "rd_clf.estimators_"
   ],
   "metadata": {
    "collapsed": false
   }
  },
  {
   "cell_type": "code",
   "execution_count": 12,
   "outputs": [
    {
     "data": {
      "text/plain": "0.9995261407341941"
     },
     "execution_count": 12,
     "metadata": {},
     "output_type": "execute_result"
    }
   ],
   "source": [
    "rd_clf.oob_score_"
   ],
   "metadata": {
    "collapsed": false
   }
  },
  {
   "cell_type": "code",
   "execution_count": 200,
   "outputs": [
    {
     "name": "stderr",
     "output_type": "stream",
     "text": [
      "[Parallel(n_jobs=-1)]: Using backend ThreadingBackend with 12 concurrent workers.\n",
      "[Parallel(n_jobs=-1)]: Done  26 tasks      | elapsed:    0.9s\n",
      "[Parallel(n_jobs=-1)]: Done 100 out of 100 | elapsed:    4.5s finished\n"
     ]
    },
    {
     "ename": "KeyboardInterrupt",
     "evalue": "",
     "output_type": "error",
     "traceback": [
      "\u001B[0;31m---------------------------------------------------------------------------\u001B[0m",
      "\u001B[0;31mKeyboardInterrupt\u001B[0m                         Traceback (most recent call last)",
      "Cell \u001B[0;32mIn[200], line 1\u001B[0m\n\u001B[0;32m----> 1\u001B[0m \u001B[43mrd_clf\u001B[49m\u001B[38;5;241;43m.\u001B[39;49m\u001B[43mdecision_path\u001B[49m\u001B[43m(\u001B[49m\u001B[43mX_dev\u001B[49m\u001B[43m)\u001B[49m\n",
      "File \u001B[0;32m~/Library/Mobile Documents/com~apple~CloudDocs/Documents/2/Diss/lexnorm/.venv/lib/python3.10/site-packages/sklearn/ensemble/_forest.py:311\u001B[0m, in \u001B[0;36mBaseForest.decision_path\u001B[0;34m(self, X)\u001B[0m\n\u001B[1;32m    308\u001B[0m n_nodes\u001B[38;5;241m.\u001B[39mextend([i\u001B[38;5;241m.\u001B[39mshape[\u001B[38;5;241m1\u001B[39m] \u001B[38;5;28;01mfor\u001B[39;00m i \u001B[38;5;129;01min\u001B[39;00m indicators])\n\u001B[1;32m    309\u001B[0m n_nodes_ptr \u001B[38;5;241m=\u001B[39m np\u001B[38;5;241m.\u001B[39marray(n_nodes)\u001B[38;5;241m.\u001B[39mcumsum()\n\u001B[0;32m--> 311\u001B[0m \u001B[38;5;28;01mreturn\u001B[39;00m \u001B[43msparse_hstack\u001B[49m\u001B[43m(\u001B[49m\u001B[43mindicators\u001B[49m\u001B[43m)\u001B[49m\u001B[38;5;241m.\u001B[39mtocsr(), n_nodes_ptr\n",
      "File \u001B[0;32m~/Library/Mobile Documents/com~apple~CloudDocs/Documents/2/Diss/lexnorm/.venv/lib/python3.10/site-packages/scipy/sparse/_construct.py:535\u001B[0m, in \u001B[0;36mhstack\u001B[0;34m(blocks, format, dtype)\u001B[0m\n\u001B[1;32m    505\u001B[0m \u001B[38;5;28;01mdef\u001B[39;00m \u001B[38;5;21mhstack\u001B[39m(blocks, \u001B[38;5;28mformat\u001B[39m\u001B[38;5;241m=\u001B[39m\u001B[38;5;28;01mNone\u001B[39;00m, dtype\u001B[38;5;241m=\u001B[39m\u001B[38;5;28;01mNone\u001B[39;00m):\n\u001B[1;32m    506\u001B[0m \u001B[38;5;250m    \u001B[39m\u001B[38;5;124;03m\"\"\"\u001B[39;00m\n\u001B[1;32m    507\u001B[0m \u001B[38;5;124;03m    Stack sparse matrices horizontally (column wise)\u001B[39;00m\n\u001B[1;32m    508\u001B[0m \n\u001B[0;32m   (...)\u001B[0m\n\u001B[1;32m    533\u001B[0m \n\u001B[1;32m    534\u001B[0m \u001B[38;5;124;03m    \"\"\"\u001B[39;00m\n\u001B[0;32m--> 535\u001B[0m     \u001B[38;5;28;01mreturn\u001B[39;00m \u001B[43mbmat\u001B[49m\u001B[43m(\u001B[49m\u001B[43m[\u001B[49m\u001B[43mblocks\u001B[49m\u001B[43m]\u001B[49m\u001B[43m,\u001B[49m\u001B[43m \u001B[49m\u001B[38;5;28;43mformat\u001B[39;49m\u001B[38;5;241;43m=\u001B[39;49m\u001B[38;5;28;43mformat\u001B[39;49m\u001B[43m,\u001B[49m\u001B[43m \u001B[49m\u001B[43mdtype\u001B[49m\u001B[38;5;241;43m=\u001B[39;49m\u001B[43mdtype\u001B[49m\u001B[43m)\u001B[49m\n",
      "File \u001B[0;32m~/Library/Mobile Documents/com~apple~CloudDocs/Documents/2/Diss/lexnorm/.venv/lib/python3.10/site-packages/scipy/sparse/_construct.py:627\u001B[0m, in \u001B[0;36mbmat\u001B[0;34m(blocks, format, dtype)\u001B[0m\n\u001B[1;32m    623\u001B[0m \u001B[38;5;28;01mif\u001B[39;00m (\u001B[38;5;28mformat\u001B[39m \u001B[38;5;129;01min\u001B[39;00m (\u001B[38;5;28;01mNone\u001B[39;00m, \u001B[38;5;124m'\u001B[39m\u001B[38;5;124mcsr\u001B[39m\u001B[38;5;124m'\u001B[39m) \u001B[38;5;129;01mand\u001B[39;00m \u001B[38;5;28mall\u001B[39m(\u001B[38;5;28misinstance\u001B[39m(b, csr_matrix)\n\u001B[1;32m    624\u001B[0m                                     \u001B[38;5;28;01mfor\u001B[39;00m b \u001B[38;5;129;01min\u001B[39;00m blocks\u001B[38;5;241m.\u001B[39mflat)):\n\u001B[1;32m    625\u001B[0m     \u001B[38;5;28;01mif\u001B[39;00m N \u001B[38;5;241m>\u001B[39m \u001B[38;5;241m1\u001B[39m:\n\u001B[1;32m    626\u001B[0m         \u001B[38;5;66;03m# stack along columns (axis 1):\u001B[39;00m\n\u001B[0;32m--> 627\u001B[0m         blocks \u001B[38;5;241m=\u001B[39m [[_stack_along_minor_axis(blocks[b, :], \u001B[38;5;241m1\u001B[39m)]\n\u001B[1;32m    628\u001B[0m                   \u001B[38;5;28;01mfor\u001B[39;00m b \u001B[38;5;129;01min\u001B[39;00m \u001B[38;5;28mrange\u001B[39m(M)]   \u001B[38;5;66;03m# must have shape: (M, 1)\u001B[39;00m\n\u001B[1;32m    629\u001B[0m         blocks \u001B[38;5;241m=\u001B[39m np\u001B[38;5;241m.\u001B[39masarray(blocks, dtype\u001B[38;5;241m=\u001B[39m\u001B[38;5;124m'\u001B[39m\u001B[38;5;124mobject\u001B[39m\u001B[38;5;124m'\u001B[39m)\n\u001B[1;32m    631\u001B[0m     \u001B[38;5;66;03m# stack along rows (axis 0):\u001B[39;00m\n",
      "File \u001B[0;32m~/Library/Mobile Documents/com~apple~CloudDocs/Documents/2/Diss/lexnorm/.venv/lib/python3.10/site-packages/scipy/sparse/_construct.py:627\u001B[0m, in \u001B[0;36m<listcomp>\u001B[0;34m(.0)\u001B[0m\n\u001B[1;32m    623\u001B[0m \u001B[38;5;28;01mif\u001B[39;00m (\u001B[38;5;28mformat\u001B[39m \u001B[38;5;129;01min\u001B[39;00m (\u001B[38;5;28;01mNone\u001B[39;00m, \u001B[38;5;124m'\u001B[39m\u001B[38;5;124mcsr\u001B[39m\u001B[38;5;124m'\u001B[39m) \u001B[38;5;129;01mand\u001B[39;00m \u001B[38;5;28mall\u001B[39m(\u001B[38;5;28misinstance\u001B[39m(b, csr_matrix)\n\u001B[1;32m    624\u001B[0m                                     \u001B[38;5;28;01mfor\u001B[39;00m b \u001B[38;5;129;01min\u001B[39;00m blocks\u001B[38;5;241m.\u001B[39mflat)):\n\u001B[1;32m    625\u001B[0m     \u001B[38;5;28;01mif\u001B[39;00m N \u001B[38;5;241m>\u001B[39m \u001B[38;5;241m1\u001B[39m:\n\u001B[1;32m    626\u001B[0m         \u001B[38;5;66;03m# stack along columns (axis 1):\u001B[39;00m\n\u001B[0;32m--> 627\u001B[0m         blocks \u001B[38;5;241m=\u001B[39m [[\u001B[43m_stack_along_minor_axis\u001B[49m\u001B[43m(\u001B[49m\u001B[43mblocks\u001B[49m\u001B[43m[\u001B[49m\u001B[43mb\u001B[49m\u001B[43m,\u001B[49m\u001B[43m \u001B[49m\u001B[43m:\u001B[49m\u001B[43m]\u001B[49m\u001B[43m,\u001B[49m\u001B[43m \u001B[49m\u001B[38;5;241;43m1\u001B[39;49m\u001B[43m)\u001B[49m]\n\u001B[1;32m    628\u001B[0m                   \u001B[38;5;28;01mfor\u001B[39;00m b \u001B[38;5;129;01min\u001B[39;00m \u001B[38;5;28mrange\u001B[39m(M)]   \u001B[38;5;66;03m# must have shape: (M, 1)\u001B[39;00m\n\u001B[1;32m    629\u001B[0m         blocks \u001B[38;5;241m=\u001B[39m np\u001B[38;5;241m.\u001B[39masarray(blocks, dtype\u001B[38;5;241m=\u001B[39m\u001B[38;5;124m'\u001B[39m\u001B[38;5;124mobject\u001B[39m\u001B[38;5;124m'\u001B[39m)\n\u001B[1;32m    631\u001B[0m     \u001B[38;5;66;03m# stack along rows (axis 0):\u001B[39;00m\n",
      "File \u001B[0;32m~/Library/Mobile Documents/com~apple~CloudDocs/Documents/2/Diss/lexnorm/.venv/lib/python3.10/site-packages/scipy/sparse/_construct.py:484\u001B[0m, in \u001B[0;36m_stack_along_minor_axis\u001B[0;34m(blocks, axis)\u001B[0m\n\u001B[1;32m    482\u001B[0m \u001B[38;5;28;01mif\u001B[39;00m data_cat\u001B[38;5;241m.\u001B[39msize \u001B[38;5;241m>\u001B[39m \u001B[38;5;241m0\u001B[39m:\n\u001B[1;32m    483\u001B[0m     indptr_cat \u001B[38;5;241m=\u001B[39m np\u001B[38;5;241m.\u001B[39mconcatenate(indptr_list)\u001B[38;5;241m.\u001B[39mastype(idx_dtype)\n\u001B[0;32m--> 484\u001B[0m     indices_cat \u001B[38;5;241m=\u001B[39m (\u001B[43mnp\u001B[49m\u001B[38;5;241;43m.\u001B[39;49m\u001B[43mconcatenate\u001B[49m\u001B[43m(\u001B[49m\u001B[43m[\u001B[49m\u001B[43mb\u001B[49m\u001B[38;5;241;43m.\u001B[39;49m\u001B[43mindices\u001B[49m\u001B[43m \u001B[49m\u001B[38;5;28;43;01mfor\u001B[39;49;00m\u001B[43m \u001B[49m\u001B[43mb\u001B[49m\u001B[43m \u001B[49m\u001B[38;5;129;43;01min\u001B[39;49;00m\u001B[43m \u001B[49m\u001B[43mblocks\u001B[49m\u001B[43m]\u001B[49m\u001B[43m)\u001B[49m\n\u001B[1;32m    485\u001B[0m                    \u001B[38;5;241m.\u001B[39mastype(idx_dtype))\n\u001B[1;32m    486\u001B[0m     indptr \u001B[38;5;241m=\u001B[39m np\u001B[38;5;241m.\u001B[39mempty(constant_dim \u001B[38;5;241m+\u001B[39m \u001B[38;5;241m1\u001B[39m, dtype\u001B[38;5;241m=\u001B[39midx_dtype)\n\u001B[1;32m    487\u001B[0m     indices \u001B[38;5;241m=\u001B[39m np\u001B[38;5;241m.\u001B[39mempty_like(indices_cat)\n",
      "File \u001B[0;32m<__array_function__ internals>:200\u001B[0m, in \u001B[0;36mconcatenate\u001B[0;34m(*args, **kwargs)\u001B[0m\n",
      "\u001B[0;31mKeyboardInterrupt\u001B[0m: "
     ]
    }
   ],
   "source": [
    "rd_clf.decision_path(X_dev)"
   ],
   "metadata": {
    "collapsed": false
   }
  },
  {
   "cell_type": "code",
   "execution_count": 223,
   "outputs": [
    {
     "data": {
      "text/plain": "array(['cosine_to_orig', 'embeddings_rank', 'from_clipping',\n       'from_original_token', 'from_split', 'norms_seen',\n       'spellcheck_rank', 'in_lexicon', 'length', 'same_order',\n       'orig_norms_seen', 'orig_in_lexicon', 'orig_same_order',\n       'orig_length'], dtype=object)"
     },
     "execution_count": 223,
     "metadata": {},
     "output_type": "execute_result"
    }
   ],
   "source": [
    "rd_clf.feature_names_in_"
   ],
   "metadata": {
    "collapsed": false
   }
  },
  {
   "cell_type": "code",
   "execution_count": 17,
   "outputs": [
    {
     "data": {
      "text/plain": "array([2.52070851e-01, 4.31976125e-03, 7.92054467e-03, 1.64534043e-01,\n       1.61258200e-04, 4.01924066e-01, 3.03852361e-03, 7.35963146e-03,\n       6.02726879e-02, 9.02983575e-03, 3.24685801e-02, 7.44901879e-03,\n       0.00000000e+00, 4.94511981e-02])"
     },
     "execution_count": 17,
     "metadata": {},
     "output_type": "execute_result"
    }
   ],
   "source": [
    "rd_clf.feature_importances_"
   ],
   "metadata": {
    "collapsed": false
   }
  },
  {
   "cell_type": "code",
   "execution_count": 8,
   "outputs": [
    {
     "name": "stderr",
     "output_type": "stream",
     "text": [
      "[Parallel(n_jobs=12)]: Using backend ThreadingBackend with 12 concurrent workers.\n",
      "[Parallel(n_jobs=12)]: Done  26 tasks      | elapsed:    0.3s\n",
      "[Parallel(n_jobs=12)]: Done 100 out of 100 | elapsed:    0.8s finished\n"
     ]
    }
   ],
   "source": [
    "preds = rd_clf.predict_proba(X_dev)"
   ],
   "metadata": {
    "collapsed": false
   }
  },
  {
   "cell_type": "code",
   "execution_count": 9,
   "outputs": [
    {
     "data": {
      "text/plain": "['brother',\n 'get',\n 'out',\n 'you',\n 'feelings',\n 'lol',\n 'manan',\n 'dund',\n 'paradox',\n 'ter',\n 'insulin',\n 'oroid',\n 'minii',\n 'aav',\n 'xezee',\n 'neg',\n 'cagt',\n 'couscous',\n 'baisan',\n 'photo',\n 'by',\n 'why',\n 'dese',\n 'niggers',\n 'think',\n 'dey',\n 'doing',\n 'summn',\n \"it's\",\n 'about',\n 'more',\n 'than',\n 'number',\n 'brother',\n 'and',\n \"i'm\",\n 'not',\n 'talking',\n 'about',\n 'statistics',\n \"i'm\",\n 'talking',\n 'about',\n 'skill',\n 'level',\n 'yes',\n 'omg',\n 'i',\n \"don't\",\n 'want',\n 'him',\n 'feeling',\n 'unappreciated',\n 'or',\n 'stuff',\n 'like',\n 'that',\n 'lmao',\n 'the',\n 'whole',\n 'time',\n 'actually',\n 'we',\n 'need',\n 'to',\n 'start',\n 'our',\n 'own',\n 'team',\n \"y'all\",\n 'were',\n 'wilding',\n 'last',\n 'nigjt',\n 'yoh',\n 'niya',\n 'ja',\n 'saying',\n 'kau',\n 'aku',\n 'with',\n 'couple',\n 'is',\n 'actually',\n 'sweet',\n 'k',\n 'michelle',\n 'met',\n 'you',\n 'match',\n 'that',\n 'fonk',\n 'rana',\n 'samaha',\n 'ignore',\n 'all',\n 'the',\n 'criticism',\n 'a',\n 'spotlight',\n 'can',\n 'never',\n 'see',\n 'the',\n 'shadows',\n 'anyways',\n \"you're\",\n 'flawless',\n 'boko',\n 'haram',\n 'estimate',\n 'warns',\n 'nigerian',\n 'leaders',\n 'over',\n 'politicization',\n 'of',\n 'chibok',\n 'abduction',\n 'and',\n 'in',\n 'that',\n 'moment',\n 'karma',\n 'realised',\n 'she',\n 'was',\n 'hella',\n 'gay',\n 'for',\n 'her',\n 'bestie',\n 'not',\n 'you',\n 'because',\n 'you',\n 'chillen',\n 'with',\n 'me',\n 'kardashia',\n 'kardashian',\n 'died',\n 'because',\n 'her',\n 'ass',\n 'was',\n 'too',\n 'big',\n 'hahah',\n 'niggra',\n 'summation',\n 'classified',\n 'directory',\n 'high',\n 'grille',\n 'for',\n 'the',\n 'online',\n 'game',\n 'atd',\n 'lexx',\n 'little',\n 'cute',\n 'ass',\n 'woke',\n 'up',\n 'mad',\n 'as',\n 'hell',\n 'lol',\n 'green',\n 'day',\n 'paramore',\n 'yellowcard',\n 'fall',\n 'out',\n 'boy',\n 'is',\n 'that',\n 'minho',\n 'beside',\n 'taemin',\n 'omo',\n 'looks',\n 'like',\n 'him',\n '140529',\n 'smtown',\n 'artists',\n 'with',\n 'exo',\n 'photoset',\n 'flintandpyrite',\n 'ume',\n 'by',\n 'andrea',\n 'rangel',\n 'knits',\n 'for',\n 'spring',\n 'because',\n \"that's\",\n 'going to',\n 'happen',\n 'lol',\n 'need',\n 'to',\n 'revisit',\n 'their',\n 'thameslink',\n 'bid',\n 'the',\n 'moorgate',\n 'route',\n 'closed',\n '4',\n 'years',\n 'ago',\n 'icons',\n 'the',\n 'demi',\n 'sem',\n 'psd',\n 'no',\n 'the',\n 'x',\n 'factoring',\n 'x8',\n 'you',\n \"don't\",\n \"i'm\",\n 'the',\n 'king',\n 'of',\n 'sweg',\n 'haha',\n \"that's\",\n 'funny',\n 'but',\n 'not',\n 'every',\n 'girl',\n 'is',\n 'darlin',\n 'imran',\n 'khan',\n 'saying',\n 'really',\n 'true',\n 'about',\n 'pmln',\n 'and',\n \"you'll\",\n 'always',\n 'be',\n 'my',\n '5',\n 'heros',\n 'who',\n 'can',\n 'always',\n 'make',\n 'me',\n 'smyle',\n 'even',\n 'when',\n 'i',\n 'm',\n 'in',\n 'the',\n 'sadest',\n 'mood',\n 'ever',\n 'xxc',\n 'lol',\n 'what',\n 'he',\n 'tripping',\n 'on',\n 'xabi',\n 'alonso',\n 'just',\n 'achieved',\n 'stratospheric',\n 'heights',\n 'of',\n 'coolness',\n 'lmaoo',\n 'my',\n 'fault',\n 'you',\n \"i'm going to\",\n 'let',\n 'you',\n 'get',\n 'your',\n 'shine',\n 'james',\n 'and',\n 'i',\n 'say',\n 'hi',\n 'with',\n 'a',\n 'dog',\n 'containerize',\n 'omg',\n 'hawt',\n 'like',\n 'omg',\n 'can',\n 'my',\n 'husband',\n 'please',\n 'look',\n 'like',\n 'you',\n 'or',\n 'can',\n 'i',\n 'have',\n 'your',\n 'babies',\n 'i',\n 'miss',\n 'going',\n 'to',\n 'mansion',\n 'elan',\n 'ery',\n 'keen',\n \"i'm\",\n 'going to',\n 'start',\n 'back',\n 'going',\n 'doe',\n 'facts',\n 'bro',\n 'this',\n 'babyface',\n \"ain't\",\n 'helping',\n 'nothing',\n 'lmao',\n 'can',\n 'i',\n 'have',\n 'him',\n 'yet',\n 'orrr',\n 'noo',\n 'ughh',\n '140524',\n 'hyoyeon',\n 'yuri',\n '2nd',\n 'day',\n 'kobe',\n 'by',\n 'rebecca',\n 'crowdfunding',\n 'roundup',\n 'a',\n 'late',\n 'spring',\n 'flowering',\n 'of',\n 'projects',\n 'every',\n 'week',\n 'tuaw',\n 'provides',\n 'reviewers',\n 'with',\n 'an',\n 'update',\n 'o',\n 'mayweather',\n 'needs',\n 'to',\n 'fight',\n 'paquiao',\n 'that',\n 'would',\n 'be',\n 'ammmazing',\n \"i'm\",\n 'actully',\n 'excited',\n 'to',\n 'see',\n 'what',\n 'it',\n 'will',\n 'look',\n 'like',\n 'so',\n 'its',\n 'happening',\n 'when',\n 'the',\n 'lawn',\n 'area',\n 'get',\n 'done',\n 'lol',\n 'who',\n 'about to',\n 'come',\n 'way',\n 'out',\n 'there',\n 'come',\n 'get',\n 'me',\n 'bring',\n 'me',\n 'back',\n \"we'll\",\n 'come',\n 'lol',\n 'i',\n 'forgot',\n 'you',\n 'moved',\n 'canal',\n 'then',\n 'lol',\n 'apple',\n 'forgets',\n 'to',\n 'renew',\n 'ssl',\n 'certificate',\n 'breaking',\n 'os',\n 'x',\n 'software',\n 'update',\n 'i know',\n 'id',\n 'rather',\n 'someone',\n 'unfollow',\n 'me',\n 'than',\n 'mute',\n 'me',\n 'like',\n 'what',\n 'oh',\n 'my',\n 'poor',\n 'zac',\n 'take',\n 'good',\n 'care',\n 'of',\n 'yourself',\n 'kimberley',\n 'walsh',\n 'confirms',\n 'cheryl',\n \"cole's\",\n \"britain's\",\n 'got',\n 'talent',\n 'appearance',\n 'contact music',\n 'comkimberley',\n 'walsh',\n 'confir',\n 'exo',\n 'is',\n 'practising',\n 'for',\n 'concert',\n 'lol',\n 'you',\n 'still',\n 'in',\n 'school',\n 'shut up',\n 'he',\n 'wants',\n 'to',\n 'get',\n 'bigger',\n 'than',\n 'parth',\n 'lmfao',\n 'chanyeol',\n 'is',\n 'so',\n 'caring',\n 'omg',\n 'be',\n 'mine',\n 'please',\n 'nothing',\n 'just',\n 'chilling',\n 'imy',\n 'you',\n \"don't\",\n 'fuck',\n 'with',\n 'a',\n 'thug',\n 'no more',\n 'lol',\n 'udah',\n 'lama',\n 'nda',\n 'how',\n 'about',\n 'it',\n 'how',\n 'about',\n 'that',\n 'lol',\n 'i know',\n 'i',\n 'just',\n 'took',\n 'them',\n 'real',\n 'quick',\n 'i',\n \"wasn't\",\n 'thinking',\n 'the',\n 'order',\n '1',\n 'daily',\n 'follower',\n '0',\n 'unfollowers',\n 'just unfollow',\n \"doesn't\",\n 'miss',\n 'a',\n 'trick',\n \"i'm\",\n 'going to',\n 'do',\n 'it',\n 'after',\n 'graduation',\n 'lol',\n 'second',\n 'time',\n 'this',\n 'shit',\n 'crashed',\n 'on',\n 'datpiff',\n 'so',\n 'we',\n 'on',\n 'soundcloud',\n 'with',\n 'it',\n 'genji',\n 'sports',\n 'pop',\n 'up',\n 'family',\n 'beach',\n 'tent',\n 'and',\n 'beach',\n 'sun shelter',\n 'genji',\n 'sports',\n 'pop',\n 'up',\n 'fami',\n 'titan',\n 'baseball',\n 'beats',\n 'brv',\n 'to',\n 'advance',\n 'to',\n 'county',\n 'championship',\n 'tri',\n 'tomorrow',\n '4',\n 'pm',\n 'jump seat',\n 'radio',\n '018',\n 'combat',\n 'ready',\n 'firefighting',\n 'with',\n 'tony',\n 'kelleher',\n 'repost',\n 'i',\n 'added',\n 'a',\n 'video',\n 'to',\n 'a',\n 'playlist',\n 'plg',\n 'seductive',\n 'retribution',\n 'ep',\n '3',\n \"let's\",\n 'tango',\n 'wildfires',\n 'turkey',\n 'feather',\n 'fletching',\n 'for',\n 'archery',\n 'arrows',\n 'diy',\n 'pheasant',\n 'feathers',\n 'for',\n 'arro',\n 'where',\n 'the',\n 'mj',\n 'though',\n 'lol',\n '492',\n 'luke',\n 'hemmings',\n 'from',\n '5sos',\n 'i',\n 'love',\n 'you',\n 'so',\n 'much',\n 'please',\n 'follow',\n 'me',\n 'you',\n 'are',\n 'everything',\n 'to',\n 'me',\n 'please',\n 'dude',\n 'you',\n 'never',\n 'gave',\n 'me',\n 'the',\n 'kik',\n 'or',\n 'snapchat',\n \"you'll\",\n 'sea',\n 'lmfao',\n 'oookay',\n 'bean',\n 'eating',\n 'headass',\n 'morning',\n 'exercise',\n 'paakyat',\n 'ng',\n 'thunderbird',\n 'i',\n 'love',\n 'you',\n 'phil',\n 'of',\n 'the',\n 'future',\n 'i',\n 'love',\n 'everything',\n 'about',\n 'you',\n 'nao',\n 'superei',\n 'ainda',\n 'this',\n 'is',\n 'for',\n 'niall',\n 'e',\n 'vcs',\n 'wara',\n 'man',\n 'talaga',\n 'forever',\n 'lanyard',\n 'ano',\n 'una',\n 'mo',\n 'imortal',\n 'ka',\n 'hahahahahahhahaha',\n 'hot',\n 'music',\n 'mariah',\n 'carey',\n 'meteorite',\n 'q',\n 'meteorite',\n 'version',\n 'mariah',\n 'carey',\n 'has',\n 'ohh',\n 'i',\n 'feel',\n 'you',\n 'haha',\n 'so',\n 'is',\n 'writing',\n 'a',\n 'book',\n 'about',\n 'jay',\n 'z',\n 'and',\n 'beyonce',\n 'telling',\n 'someone',\n \"else's\",\n 'secrets',\n 'for',\n 'money',\n 'shows',\n 'how',\n 'low',\n 'some',\n 'people',\n 'will',\n 'stoop',\n 'fast',\n 'forward',\n 'to',\n 'june',\n '9',\n 'please',\n 'para',\n 'makapag',\n 'ipon',\n 'na',\n 'hahahahahah',\n 'lol',\n 'thank',\n 'you',\n 'liam',\n 'for',\n 'asking',\n 'louis',\n 'what',\n 'flavour',\n 'harry',\n 'is',\n \"i'm\",\n 'so',\n 'jskcosnxoancoamxis',\n 'ahhhhh',\n 'salt',\n 'and',\n 'vinegar',\n \"don't\",\n 'take',\n 'it',\n 'personal',\n 'kid',\n 'caroline',\n 'wozniacki',\n 'breaks',\n 'silence',\n 'on',\n 'rory',\n 'mcilroy',\n 'breakup',\n '140525',\n 'boakwon',\n 'instagram',\n 'update',\n 'with',\n 'exo',\n 'and',\n 'suju',\n 'siwon',\n 'donghae',\n 'more',\n 'and',\n 'forehead',\n 'ft',\n 'hyuk',\n 'thanks',\n 'for',\n 'that',\n 'spiderman',\n 'carnage',\n 'mask',\n '300rb',\n 'lom',\n 'ama',\n 'ongkir',\n 'ready',\n 'stock',\n 'running',\n 'with',\n 'who',\n 'do',\n 'you',\n 'think',\n 'is',\n 'faster',\n 'nicki',\n 'minaj',\n 'slick',\n 'went',\n 'from',\n 'brownskin',\n 'to',\n 'lightskin',\n 'over',\n 'the',\n 'years',\n 'if',\n 'you',\n \"don't\",\n 'fuck',\n 'with',\n 'dunny',\n 'gage',\n 'then',\n 'fuck',\n 'ya',\n 'life',\n 'last',\n 'day',\n 'of',\n 'school',\n 'gonna',\n 'have',\n 'people',\n 'like',\n 'the',\n 'bad',\n 'pastor',\n 'impostors',\n 'so',\n 'loves',\n 'a',\n 'lottle',\n 'to',\n 'jesus',\n 'the',\n 'people',\n 'can',\n 'intercession',\n 'for',\n 'he',\n 'for',\n 'the',\n 'soul',\n 'peole',\n 'wilshire',\n 'itq',\n 'hehe',\n 'stay',\n 'strong',\n '1',\n 'k',\n 'swim',\n 'sauna',\n 'post',\n 'work',\n 'now',\n 'beer',\n 'work',\n 'tomorrow',\n 'terserah',\n 'suho',\n 'gave',\n 'a',\n 'teddy',\n 'bear',\n 'and',\n 'took',\n 'a',\n 'selca',\n 'with',\n 'a',\n 'fan',\n 'tazz',\n 'needa',\n 'quit',\n 'it',\n 'with',\n 'that',\n 'last',\n 'quote',\n 'lol',\n 'she',\n \"don't\",\n 'live',\n 'that',\n 'life',\n 'why',\n 'the',\n 'fuck',\n 'did',\n 'i',\n 'think',\n 'i',\n 'was',\n 'scheduled',\n 'today',\n 'am',\n 'i',\n 'on',\n 'crack',\n 'lmao',\n 'what',\n 'my',\n 'top',\n '3',\n 'artists',\n 'girls',\n 'aloud',\n '15',\n 'christina',\n 'aguilera',\n '13',\n 'kylie',\n 'minogue',\n '12',\n 'how',\n 'he',\n 'top',\n '5',\n 'scorer',\n 'and',\n 'the',\n 'offense',\n \"ain't\",\n 'around',\n 'atleast',\n 'him',\n 'lol',\n 'that',\n \"don't\",\n 'make',\n 'sense',\n 'that',\n 'mean',\n 'he',\n 'jackin',\n 'then',\n 'lol',\n 'kompany',\n 'going',\n 'up',\n 'to',\n 'yaya',\n 'toure',\n 'after',\n 'he',\n 'found',\n 'out',\n 'he',\n 'wanted',\n 'to',\n 'leave',\n 'first',\n 'class',\n 'thing',\n 'see',\n 'wizkid',\n 'and',\n 'banky',\n 'w',\n 'having',\n 'fun',\n 'on',\n 'via',\n 'the',\n 'old',\n 'bargin',\n 'giant',\n 'would',\n 'make',\n 'a',\n 'good',\n 'entertainment',\n ...]"
     },
     "execution_count": 9,
     "metadata": {},
     "output_type": "execute_result"
    }
   ],
   "source": [
    "dev[\"preds\"] = preds[:, 1]\n",
    "predictions = dev.sort_values(\"preds\", ascending=False).drop_duplicates([\"process\", \"tweet\", \"tok\"])\n",
    "pred_tokens = predictions.sort_values([\"process\", \"tweet\", \"tok\"]).index.tolist()\n",
    "pred_tokens"
   ],
   "metadata": {
    "collapsed": false
   }
  },
  {
   "cell_type": "code",
   "execution_count": 35,
   "outputs": [],
   "source": [
    "from lexnorm.generate_extract.filtering import is_eligible\n",
    "from lexnorm.data.normEval import loadNormData, evaluate\n",
    "raw, norm = loadNormData(os.path.join(DATA_PATH, \"raw/dev.norm\"))\n",
    "# pred_tokens_iter = iter(pred_tokens)\n",
    "#\n",
    "# pred_tweets = []\n",
    "#\n",
    "# for tweet in raw:\n",
    "#     pred_tweet = []\n",
    "#     for tok in tweet:\n",
    "#         if is_eligible(tok):\n",
    "#             pred_tweet.append(next(pred_tokens_iter))\n",
    "#         else:\n",
    "#             pred_tweet.append(tok)\n",
    "#     pred_tweets.append(pred_tweet)"
   ],
   "metadata": {
    "collapsed": false
   }
  },
  {
   "cell_type": "code",
   "execution_count": 14,
   "outputs": [
    {
     "name": "stdout",
     "output_type": "stream",
     "text": [
      "Baseline acc.(LAI): 93.10\n",
      "Accuracy:           96.28\n",
      "ERR:                46.13\n"
     ]
    },
    {
     "data": {
      "text/plain": "(0.9309630275929763, 0.9628094666812084, 0.4612954186413895)"
     },
     "execution_count": 14,
     "metadata": {},
     "output_type": "execute_result"
    }
   ],
   "source": [
    "# better!!\n",
    "evaluate(raw, norm, pred_tweets)"
   ],
   "metadata": {
    "collapsed": false
   }
  },
  {
   "cell_type": "code",
   "execution_count": 234,
   "outputs": [
    {
     "data": {
      "text/plain": "array([[1.  , 0.  ],\n       [1.  , 0.  ],\n       [1.  , 0.  ],\n       ...,\n       [0.98, 0.02],\n       [1.  , 0.  ],\n       [1.  , 0.  ]])"
     },
     "execution_count": 234,
     "metadata": {},
     "output_type": "execute_result"
    }
   ],
   "source": [
    "preds"
   ],
   "metadata": {
    "collapsed": false
   }
  },
  {
   "cell_type": "code",
   "execution_count": 39,
   "outputs": [],
   "source": [
    "import pandas as pd\n",
    "import os\n",
    "from lexnorm.definitions import DATA_PATH\n",
    "\n",
    "train = pd.read_csv(os.path.join(DATA_PATH, \"hpc/train_processed_annotated.txt\"), index_col=0)\n",
    "dev = pd.read_csv(os.path.join(DATA_PATH, \"hpc/dev_processed.txt\"), index_col=0)"
   ],
   "metadata": {
    "collapsed": false
   }
  },
  {
   "cell_type": "code",
   "execution_count": 29,
   "outputs": [
    {
     "ename": "AttributeError",
     "evalue": "'function' object has no attribute 'loc'",
     "output_type": "error",
     "traceback": [
      "\u001B[0;31m---------------------------------------------------------------------------\u001B[0m",
      "\u001B[0;31mAttributeError\u001B[0m                            Traceback (most recent call last)",
      "Cell \u001B[0;32mIn[29], line 1\u001B[0m\n\u001B[0;32m----> 1\u001B[0m \u001B[43mtrain\u001B[49m\u001B[38;5;241;43m.\u001B[39;49m\u001B[43mloc\u001B[49m[(train[\u001B[38;5;124m'\u001B[39m\u001B[38;5;124mprocess\u001B[39m\u001B[38;5;124m'\u001B[39m] \u001B[38;5;241m==\u001B[39m \u001B[38;5;241m63\u001B[39m) \u001B[38;5;241m&\u001B[39m (train[\u001B[38;5;124m'\u001B[39m\u001B[38;5;124mtweet\u001B[39m\u001B[38;5;124m'\u001B[39m] \u001B[38;5;241m==\u001B[39m \u001B[38;5;241m0\u001B[39m) \u001B[38;5;241m&\u001B[39m (train[\u001B[38;5;124m'\u001B[39m\u001B[38;5;124mtok\u001B[39m\u001B[38;5;124m'\u001B[39m] \u001B[38;5;241m==\u001B[39m \u001B[38;5;241m2\u001B[39m)]\n",
      "\u001B[0;31mAttributeError\u001B[0m: 'function' object has no attribute 'loc'"
     ]
    }
   ],
   "source": [
    "train.loc[(train['process'] == 63) & (train['tweet'] == 0) & (train['tok'] == 2)]"
   ],
   "metadata": {
    "collapsed": false
   }
  },
  {
   "cell_type": "code",
   "execution_count": 25,
   "outputs": [],
   "source": [
    "from lexnorm.data.word2vec import get_vectors\n",
    "\n",
    "vectors = get_vectors(os.path.join(DATA_PATH, \"raw/train.norm\"))"
   ],
   "metadata": {
    "collapsed": false
   }
  },
  {
   "cell_type": "code",
   "execution_count": 26,
   "outputs": [
    {
     "name": "stderr",
     "output_type": "stream",
     "text": [
      "/Users/elijoe/Library/Mobile Documents/com~apple~CloudDocs/Documents/2/Diss/lexnorm/.venv/lib/python3.10/site-packages/gensim/models/keyedvectors.py:849: RuntimeWarning: invalid value encountered in divide\n",
      "  dists = dot(self.vectors[clip_start:clip_end], mean) / self.norms[clip_start:clip_end]\n"
     ]
    },
    {
     "data": {
      "text/plain": "     cosine_to_orig  embeddings_rank\nyea        0.912848                1\nyes        0.821176                2\noh         0.817392                3\nnah        0.798594                4\nuh         0.792015                5",
      "text/html": "<div>\n<style scoped>\n    .dataframe tbody tr th:only-of-type {\n        vertical-align: middle;\n    }\n\n    .dataframe tbody tr th {\n        vertical-align: top;\n    }\n\n    .dataframe thead th {\n        text-align: right;\n    }\n</style>\n<table border=\"1\" class=\"dataframe\">\n  <thead>\n    <tr style=\"text-align: right;\">\n      <th></th>\n      <th>cosine_to_orig</th>\n      <th>embeddings_rank</th>\n    </tr>\n  </thead>\n  <tbody>\n    <tr>\n      <th>yea</th>\n      <td>0.912848</td>\n      <td>1</td>\n    </tr>\n    <tr>\n      <th>yes</th>\n      <td>0.821176</td>\n      <td>2</td>\n    </tr>\n    <tr>\n      <th>oh</th>\n      <td>0.817392</td>\n      <td>3</td>\n    </tr>\n    <tr>\n      <th>nah</th>\n      <td>0.798594</td>\n      <td>4</td>\n    </tr>\n    <tr>\n      <th>uh</th>\n      <td>0.792015</td>\n      <td>5</td>\n    </tr>\n  </tbody>\n</table>\n</div>"
     },
     "execution_count": 26,
     "metadata": {},
     "output_type": "execute_result"
    }
   ],
   "source": [
    "from lexnorm.generate_extract.modules import word_embeddings\n",
    "\n",
    "word_embeddings(\"yeah\", vectors)"
   ],
   "metadata": {
    "collapsed": false
   }
  },
  {
   "cell_type": "code",
   "execution_count": 40,
   "outputs": [
    {
     "data": {
      "text/plain": "process  tweet  tok\n0        0      1       16\n                2       34\n                3      291\n                4      113\n                5       11\n                      ... \n58       9      10      49\n                11      55\n                12      38\n                13       6\n                14       1\nLength: 6876, dtype: int64"
     },
     "execution_count": 40,
     "metadata": {},
     "output_type": "execute_result"
    }
   ],
   "source": [
    "# from lexnorm.models.random_forest import train\n",
    "\n",
    "dev.groupby([\"process\", \"tweet\", \"tok\"]).size()"
   ],
   "metadata": {
    "collapsed": false
   }
  },
  {
   "cell_type": "code",
   "execution_count": 42,
   "outputs": [
    {
     "name": "stdout",
     "output_type": "stream",
     "text": [
      "6876\n"
     ]
    }
   ],
   "source": [
    "count = 0\n",
    "\n",
    "for tweet in raw:\n",
    "    for tok in tweet:\n",
    "        if is_eligible(tok):\n",
    "            count += 1\n",
    "\n",
    "print(count)\n",
    "# as expected - candidates generated for every eligible raw token"
   ],
   "metadata": {
    "collapsed": false
   }
  },
  {
   "cell_type": "code",
   "execution_count": 62,
   "outputs": [
    {
     "ename": "NameError",
     "evalue": "name 'lexnorm' is not defined",
     "output_type": "error",
     "traceback": [
      "\u001B[0;31m---------------------------------------------------------------------------\u001B[0m",
      "\u001B[0;31mNameError\u001B[0m                                 Traceback (most recent call last)",
      "Cell \u001B[0;32mIn[62], line 6\u001B[0m\n\u001B[1;32m      3\u001B[0m \u001B[38;5;28;01mfrom\u001B[39;00m \u001B[38;5;21;01mlexnorm\u001B[39;00m\u001B[38;5;21;01m.\u001B[39;00m\u001B[38;5;21;01mmodels\u001B[39;00m \u001B[38;5;28;01mimport\u001B[39;00m random_forest\n\u001B[1;32m      4\u001B[0m \u001B[38;5;28;01mimport\u001B[39;00m \u001B[38;5;21;01mimportlib\u001B[39;00m\n\u001B[0;32m----> 6\u001B[0m importlib\u001B[38;5;241m.\u001B[39mreload(\u001B[43mlexnorm\u001B[49m\u001B[38;5;241m.\u001B[39mmodels\u001B[38;5;241m.\u001B[39mnormalise\u001B[38;5;241m.\u001B[39mprep_test)\n\u001B[1;32m      7\u001B[0m clf \u001B[38;5;241m=\u001B[39m joblib\u001B[38;5;241m.\u001B[39mload(os\u001B[38;5;241m.\u001B[39mpath\u001B[38;5;241m.\u001B[39mjoin(DATA_PATH, \u001B[38;5;124m\"\u001B[39m\u001B[38;5;124m../models/rf.joblib\u001B[39m\u001B[38;5;124m\"\u001B[39m))\n\u001B[1;32m      8\u001B[0m dev_X \u001B[38;5;241m=\u001B[39m prep_test(os\u001B[38;5;241m.\u001B[39mpath\u001B[38;5;241m.\u001B[39mjoin(DATA_PATH, \u001B[38;5;124m\"\u001B[39m\u001B[38;5;124mhpc/dev_processed.txt\u001B[39m\u001B[38;5;124m\"\u001B[39m))\n",
      "\u001B[0;31mNameError\u001B[0m: name 'lexnorm' is not defined"
     ]
    }
   ],
   "source": [
    "from lexnorm.models.normalise import prep_test, normalise\n",
    "import joblib\n",
    "\n",
    "from lexnorm.models import random_forest\n",
    "clf = joblib.load(os.path.join(DATA_PATH, \"../models/rf.joblib\"))\n",
    "dev_X = prep_test(os.path.join(DATA_PATH, \"hpc/dev_processed.txt\"))\n",
    "dev = pd.read_csv(os.path.join(DATA_PATH, \"hpc/dev_processed.txt\"), index_col=0)\n",
    "preds = random_forest.predict(clf, dev_X, dev)\n",
    "predictions = normalise(raw, preds)"
   ],
   "metadata": {
    "collapsed": false
   }
  },
  {
   "cell_type": "code",
   "execution_count": 59,
   "outputs": [
    {
     "name": "stdout",
     "output_type": "stream",
     "text": [
      "yo your you\n",
      "xaragdax xaragdax paradox\n",
      "uuliin uuliin insulin\n",
      "zogsoj zogsoj couscous\n",
      "dese these dese\n",
      "dey they dey\n",
      "summn something summn\n",
      "nigjt night nigjt\n",
      "shettima shettima estimate\n",
      "realised realized realised\n",
      "hella hell of a lot of hella\n",
      "bestie best friend bestie\n",
      "chillen chilling chillen\n",
      "niggra nigger niggra\n",
      "yellowcard yellow card yellowcard\n",
      "da da the\n",
      "factor factor factoring\n",
      "darlin darling darlin\n",
      "smyle smile smyle\n",
      "sadest saddest sadest\n",
      "tenerezza tenerezza containerize\n",
      "wkeend weekend keen\n",
      "bro brother bro\n",
      "babyface baby face babyface\n",
      "orrr or orrr\n",
      "noo no noo\n",
      "readers readers reviewers\n",
      "ammmazing amazing ammmazing\n",
      "actully actually actully\n",
      "id i'd id\n",
      "ohhh ohhh oh\n",
      "contactmusic contactmusic contact music\n",
      "datpiff the piff datpiff\n",
      "soundcloud sound cloud soundcloud\n",
      "sunshelter sunshelter sun shelter\n",
      "jumpseat jumpseat jump seat\n",
      "sensual sensual seductive\n",
      "toribash toribash retribution\n",
      "diy do it yourself diy\n",
      "oookay okay oookay\n",
      "headass head ass headass\n",
      "niyata niyata lanyard\n",
      "flavour flavor flavour\n",
      "n n and\n",
      "brownskin brown skin brownskin\n",
      "lightskin light skin lightskin\n",
      "ya your ya\n",
      "lottle lot lottle\n",
      "intercesion intercesion intercession\n",
      "peole people peole\n",
      "atleast at least atleast\n",
      "jackin jacking jackin\n",
      "centre center centre\n",
      "akukamba akukamba akimbo\n",
      "rt rt retweet\n",
      "vag vagina vag\n",
      "thang thing thang\n",
      "tho though tho\n",
      "carcillo carcillo gazillion\n",
      "yovani yovani ovarian\n",
      "nows now is nows\n",
      "pdx portland pdx\n",
      "glisan glisan glissandi\n",
      "whatdoiwear what do i wear whatdoiwear\n",
      "brutha brother brutha\n",
      "asst assistant asst\n",
      "yah you yah\n",
      "n n and\n",
      "fav favorite fav\n",
      "falaknuma falaknuma flakiness\n",
      "whisky whiskey whisky\n",
      "nid need nid\n",
      "2 to 2\n",
      "meetin meeting meetin\n",
      "tho though tho\n",
      "openheart openheart open heart\n",
      "shizz shit shizz\n",
      "ill i'll ill\n",
      "shoutout shout out shoutout\n",
      "d d the\n",
      "bre breath bre\n",
      "happylgovo happy happylgovo\n",
      "gal guy gal\n",
      "nd and nd\n",
      "liek like liek\n",
      "nd and nd\n",
      "doesng doesn't doesng\n",
      "lang long lang\n",
      "yhu you yhu\n",
      "nuh know nuh\n",
      "ntn nothing ntn\n",
      "wearr wear wearr\n",
      "reherseal rehearsal reherseal\n",
      "thotler thotler throttler\n",
      "mnl my new love mnl\n",
      "alrdy already alrdy\n",
      "bongkaran bongkaran background\n",
      "ya you ya\n",
      "poooollll pool poooollll\n",
      "sence sense sence\n",
      "humour humor humour\n",
      "ish ish shit\n",
      "tho though tho\n",
      "tho though tho\n",
      "havr have havr\n",
      "dogg dog dogg\n",
      "dogg dog dogg\n",
      "goddamit god damn it goddamit\n",
      "jornet jornet cornet\n",
      "zegama zegama amalgam\n",
      "b be b\n",
      "w with w\n",
      "throught through throught\n",
      "throught through throught\n",
      "singapore singapore singletree\n",
      "viru virus viru\n",
      "theirselves themselves theirselves\n",
      "golelhum golelhum glenohumeral\n",
      "farrukh farrukh farrago\n",
      "getcha get you getcha\n",
      "openfollow open follow openfollow\n",
      "sayeng sayeng sang\n",
      "vuldemurt vuldemurt voltmeter\n",
      "ur you're your\n",
      "wezird wezird weir\n",
      "ca'nt can't ca'nt\n",
      "whr where whr\n",
      "peewee peewee pee wee\n",
      "voy boy voy\n",
      "photobomb photo bomb photobomb\n",
      "photobomb photo bomb photobomb\n",
      "shoutout shout out shoutout\n",
      "skepta sunglasses skepta\n",
      "youtbe youtube youtbe\n",
      "d d the\n",
      "filmz film filmz\n",
      "bro brother bro\n",
      "adultwork adult work adultwork\n",
      "devs developer devs\n",
      "pies pies pie's\n",
      "ym my ym\n",
      "gdo god gdo\n",
      "keepin keeping keepin\n",
      "witchu with you witchu\n",
      "witchu with you witchu\n",
      "prez president prez\n",
      "quil quill quil\n",
      "nem they nem\n",
      "yo your you\n",
      "fkn fucking fkn\n",
      "tickt ticket tickt\n",
      "swsh swsh swoosh\n",
      "tix tickets ticket\n",
      "ya you ya\n",
      "sim seems sim\n",
      "upto up to upto\n",
      "nizamabad nizamabad consumable\n",
      "ya you ya\n",
      "clareta clareta clarity\n",
      "gospe gospel gospe\n",
      "switc switch switc\n",
      "alot a lot alot\n",
      "fav favorite fav\n",
      "ill i'll ill\n",
      "ill i'll ill\n",
      "rememberin remembering rememberin\n",
      "prayin praying prayin\n",
      "em em them\n",
      "dm dm direct message\n",
      "mamodou mamodou marmot\n",
      "1000follow 1000follow follow\n",
      "satnite saturday night satnite\n",
      "ya you ya\n",
      "esp especially esp\n",
      "hazard hazard hazard's\n",
      "asap asap as soon as possible\n",
      "diaporama diaporama pyramidal\n",
      "clonedvd clonedvd cloned\n",
      "haboyo haboyo harbor\n",
      "kaygeo kaygeo kayo\n",
      "hw homework hw\n",
      "nuffin nothing nuffin\n",
      "diss this diss\n",
      "hapi happy hapi\n",
      "2 to 2\n",
      "nd and nd\n",
      "nd and nd\n",
      "nd and nd\n",
      "2 to 2\n",
      "tho though tho\n",
      "legt left legt\n",
      "doesnot doesn't doesnot\n",
      "inspite in spite inspite\n",
      "r r are\n",
      "452740 452740 4th\n",
      "hapi happy hapi\n",
      "weeknd weeknd weekend\n",
      "hbu how about you hbu\n",
      "yessss yes yessss\n",
      "fu fu fuck\n",
      "fu fu fuck\n",
      "d d the\n",
      "ofcourse of course ofcourse\n",
      "vas was vas\n",
      "happenin happening happenin\n",
      "los los las\n",
      "boliches boliches abolishes\n",
      "closeeee close closeeee\n",
      "turnup turn up turnup\n",
      "redsox red sox redsox\n",
      "lifeee life lifeee\n",
      "loveholic loveholic alcoholic\n",
      "harrystyles harry styles harrystyles\n",
      "feela feels feela\n",
      "runnn run runnn\n",
      "townvilla townvilla town villa\n",
      "moodbreaker mood breaker moodbreaker\n",
      "moodbooster mood booster moodbooster\n",
      "marketwatch market watch marketwatch\n",
      "marketwatch market watch marketwatch\n",
      "fanmeet fan meet fanmeet\n",
      "ur you're your\n",
      "fav favorite fav\n",
      "sup what's up sup\n",
      "fatass fat ass fatass\n",
      "wassup what's up wassup\n",
      "meth methamphetamine meth\n",
      "meth methamphetamine meth\n",
      "d d the\n",
      "cocky cocky conceited\n",
      "c see c\n",
      "c see c\n",
      "4 for 4\n",
      "za that za\n",
      "wateva whatever wateva\n",
      "cums comes cums\n",
      "dnt doesn't don't\n",
      "los los las\n",
      "angeles angeles francisco\n",
      "thou though thou\n",
      "andd and andd\n",
      "ur you're your\n",
      "no not no\n",
      "polls polls elections\n",
      "singles singles dingles\n",
      "da da the\n",
      "mammaye mammaye mayoress\n",
      "nw nw now\n",
      "waitin waiting waitin\n",
      "its it's its\n",
      "onew one onew\n",
      "angeres angeres anger\n",
      "crippers crippers crippler\n",
      "sweatin sweating sweatin\n",
      "otha other otha\n",
      "yuh you yuh\n",
      "yuh you yuh\n",
      "judgement judgment judgement\n",
      "fav favorite fav\n",
      "meth methamphetamine meth\n",
      "cupcake cupcake shortcake\n",
      "orenjy orenjy orange\n",
      "mountsby mountsby mounts by\n",
      "incase in case incase\n",
      "shat shit shat\n",
      "d d the\n",
      "yea you yeah\n",
      "camikum camikum cadmium\n",
      "openfollow open follow openfollow\n",
      "thankyou thank you thankyou\n",
      "anyones anyone anyones\n",
      "tech tech techs\n",
      "sawtell sawtell satellite\n",
      "slp sleep slp\n",
      "famly family famly\n",
      "cupcake cupcake shortcake\n",
      "swearin swearing swearin\n",
      "o on o\n",
      "4 for 4\n",
      "dia their dia\n",
      "gd gd good\n",
      "creekview creek view creekview\n",
      "bc bc because\n",
      "yo your you\n",
      "fuccin fucking fuccin\n",
      "cuh see you cuh\n",
      "3volution 3volution convolution\n",
      "hovsepian hovsepian overspent\n",
      "tonyselznick tonyselznick tony selznick\n",
      "trynna trying to trynna\n",
      "c see c\n",
      "hw homework hw\n",
      "w with w\n",
      "wayeee wayeee freeway\n",
      "pepl people pepl\n",
      "heurelho heurelho heraldic\n",
      "ish ish shit\n",
      "nuff enough nuff\n",
      "teamchill teamchill team chill\n",
      "eatin eating eatin\n",
      "pre preorder pre\n",
      "order  order\n",
      "asheville asheville archival\n",
      "asheville asheville archival\n",
      "donut doughnut donut\n",
      "definitley definitely definitley\n",
      "pics pics pictures\n",
      "yeh yeah yeh\n",
      "tix tickets ticket\n",
      "miles miles kilometers\n",
      "da that the\n",
      "kishwar kishwar coachwork\n",
      "bedi's bedi's bedding's\n",
      "mazkirah mazkirah muskrat\n",
      "rip rip rest in peace\n",
      "v very v\n",
      "l'wren l'wren wren\n",
      "waitin waiting waitin\n",
      "b be b\n",
      "w with w\n",
      "af as fuck af\n",
      "czech czech ukrainian\n",
      "cannnot can't cannnot\n",
      "mybe maybe mybe\n",
      "ull you will ull\n",
      "fqauwh fqauwh foxhole\n",
      "icant i can't icant\n",
      "harrystyles harry styles harrystyles\n",
      "mah my mah\n",
      "brotha brother brotha\n",
      "dottie's dottie's dot tie's\n",
      "v very v\n",
      "b be b\n",
      "rangera rangera anger\n",
      "wada water wada\n",
      "suckin sucking suckin\n",
      "chu you chu\n",
      "loctite loctite lactate\n",
      "epoxy epoxy thermoplastic\n",
      "loctite loctite lactate\n",
      "Baseline acc.(LAI): 93.10\n",
      "Accuracy:           96.29\n",
      "ERR:                46.29\n"
     ]
    },
    {
     "data": {
      "text/plain": "(0.9309630275929763, 0.9629185298287709, 0.4628751974723546)"
     },
     "execution_count": 59,
     "metadata": {},
     "output_type": "execute_result"
    }
   ],
   "source": [
    "evaluate(raw, norm, predictions, verbose=True)"
   ],
   "metadata": {
    "collapsed": false
   }
  },
  {
   "cell_type": "code",
   "execution_count": 66,
   "outputs": [
    {
     "name": "stdout",
     "output_type": "stream",
     "text": [
      "114.09050270864114\n",
      "113.20335644201992\n"
     ]
    }
   ],
   "source": [
    "dev = pd.read_csv(os.path.join(DATA_PATH, \"hpc/train_processed_annotated.txt\"), index_col=0)\n",
    "print(dev.groupby([\"process\", \"tweet\", \"tok\"]).size().mean())\n",
    "dev = pd.read_csv(os.path.join(DATA_PATH, \"hpc/train_annotated.txt\"), index_col=0)\n",
    "print(dev.groupby([\"process\", \"tweet\", \"tok\"]).size().mean())"
   ],
   "metadata": {
    "collapsed": false
   }
  },
  {
   "cell_type": "code",
   "execution_count": 83,
   "outputs": [
    {
     "data": {
      "text/plain": "        cosine_to_orig  embeddings_rank  from_clipping  from_original_token  \\\nnah           0.798594              3.0            NaN                  NaN   \noh            0.817392              2.0            NaN                  NaN   \nuh            0.792014              4.0            NaN                  NaN   \nye ah              NaN              NaN            NaN                  NaN   \nye-ah              NaN              NaN            NaN                  NaN   \nyea           0.912848              0.0            NaN                  NaN   \nyea h              NaN              NaN            NaN                  NaN   \nyea-h              NaN              NaN            NaN                  NaN   \nyeah          1.000000              NaN            1.0                  1.0   \nyeah's        0.587786              NaN            1.0                  NaN   \nyeahs         0.659100              NaN            1.0                  NaN   \nyear          0.396437              NaN            NaN                  NaN   \nyeas          0.574666              NaN            NaN                  NaN   \nyeoman        0.221668              NaN            NaN                  NaN   \nyes           0.821176              1.0            NaN                  NaN   \nyeti          0.378206              NaN            NaN                  NaN   \n\n        from_split  norms_seen  spellcheck_rank  in_lexicon  length  \\\nnah            NaN         NaN              NaN         NaN       3   \noh             NaN         NaN              NaN         1.0       2   \nuh             NaN         NaN              NaN         1.0       2   \nye ah          1.0         NaN              4.0         NaN       5   \nye-ah          NaN         NaN              5.0         NaN       5   \nyea            NaN         NaN              0.0         1.0       3   \nyea h          NaN         NaN              6.0         NaN       5   \nyea-h          NaN         NaN              7.0         NaN       5   \nyeah           NaN        18.0              NaN         1.0       4   \nyeah's         NaN         NaN              NaN         1.0       6   \nyeahs          NaN         NaN              1.0         1.0       5   \nyear           NaN         NaN              3.0         1.0       4   \nyeas           NaN         NaN              2.0         1.0       4   \nyeoman         NaN         NaN              9.0         1.0       6   \nyes            NaN         NaN              NaN         1.0       3   \nyeti           NaN         NaN              8.0         1.0       4   \n\n        same_order  orig_norms_seen  orig_in_lexicon  orig_same_order  \\\nnah            NaN             18.0              1.0              1.0   \noh             NaN             18.0              1.0              1.0   \nuh             NaN             18.0              1.0              1.0   \nye ah          1.0             18.0              1.0              1.0   \nye-ah          1.0             18.0              1.0              1.0   \nyea            NaN             18.0              1.0              1.0   \nyea h          1.0             18.0              1.0              1.0   \nyea-h          1.0             18.0              1.0              1.0   \nyeah           1.0             18.0              1.0              1.0   \nyeah's         1.0             18.0              1.0              1.0   \nyeahs          1.0             18.0              1.0              1.0   \nyear           NaN             18.0              1.0              1.0   \nyeas           NaN             18.0              1.0              1.0   \nyeoman         NaN             18.0              1.0              1.0   \nyes            NaN             18.0              1.0              1.0   \nyeti           NaN             18.0              1.0              1.0   \n\n        orig_length  correct  process  tweet  tok  gold  \nnah             4.0      NaN       63      0    2  yeah  \noh              4.0      NaN       63      0    2  yeah  \nuh              4.0      NaN       63      0    2  yeah  \nye ah           4.0      NaN       63      0    2  yeah  \nye-ah           4.0      NaN       63      0    2  yeah  \nyea             4.0      NaN       63      0    2  yeah  \nyea h           4.0      NaN       63      0    2  yeah  \nyea-h           4.0      NaN       63      0    2  yeah  \nyeah            4.0      1.0       63      0    2  yeah  \nyeah's          4.0      NaN       63      0    2  yeah  \nyeahs           4.0      NaN       63      0    2  yeah  \nyear            4.0      NaN       63      0    2  yeah  \nyeas            4.0      NaN       63      0    2  yeah  \nyeoman          4.0      NaN       63      0    2  yeah  \nyes             4.0      NaN       63      0    2  yeah  \nyeti            4.0      NaN       63      0    2  yeah  ",
      "text/html": "<div>\n<style scoped>\n    .dataframe tbody tr th:only-of-type {\n        vertical-align: middle;\n    }\n\n    .dataframe tbody tr th {\n        vertical-align: top;\n    }\n\n    .dataframe thead th {\n        text-align: right;\n    }\n</style>\n<table border=\"1\" class=\"dataframe\">\n  <thead>\n    <tr style=\"text-align: right;\">\n      <th></th>\n      <th>cosine_to_orig</th>\n      <th>embeddings_rank</th>\n      <th>from_clipping</th>\n      <th>from_original_token</th>\n      <th>from_split</th>\n      <th>norms_seen</th>\n      <th>spellcheck_rank</th>\n      <th>in_lexicon</th>\n      <th>length</th>\n      <th>same_order</th>\n      <th>orig_norms_seen</th>\n      <th>orig_in_lexicon</th>\n      <th>orig_same_order</th>\n      <th>orig_length</th>\n      <th>correct</th>\n      <th>process</th>\n      <th>tweet</th>\n      <th>tok</th>\n      <th>gold</th>\n    </tr>\n  </thead>\n  <tbody>\n    <tr>\n      <th>nah</th>\n      <td>0.798594</td>\n      <td>3.0</td>\n      <td>NaN</td>\n      <td>NaN</td>\n      <td>NaN</td>\n      <td>NaN</td>\n      <td>NaN</td>\n      <td>NaN</td>\n      <td>3</td>\n      <td>NaN</td>\n      <td>18.0</td>\n      <td>1.0</td>\n      <td>1.0</td>\n      <td>4.0</td>\n      <td>NaN</td>\n      <td>63</td>\n      <td>0</td>\n      <td>2</td>\n      <td>yeah</td>\n    </tr>\n    <tr>\n      <th>oh</th>\n      <td>0.817392</td>\n      <td>2.0</td>\n      <td>NaN</td>\n      <td>NaN</td>\n      <td>NaN</td>\n      <td>NaN</td>\n      <td>NaN</td>\n      <td>1.0</td>\n      <td>2</td>\n      <td>NaN</td>\n      <td>18.0</td>\n      <td>1.0</td>\n      <td>1.0</td>\n      <td>4.0</td>\n      <td>NaN</td>\n      <td>63</td>\n      <td>0</td>\n      <td>2</td>\n      <td>yeah</td>\n    </tr>\n    <tr>\n      <th>uh</th>\n      <td>0.792014</td>\n      <td>4.0</td>\n      <td>NaN</td>\n      <td>NaN</td>\n      <td>NaN</td>\n      <td>NaN</td>\n      <td>NaN</td>\n      <td>1.0</td>\n      <td>2</td>\n      <td>NaN</td>\n      <td>18.0</td>\n      <td>1.0</td>\n      <td>1.0</td>\n      <td>4.0</td>\n      <td>NaN</td>\n      <td>63</td>\n      <td>0</td>\n      <td>2</td>\n      <td>yeah</td>\n    </tr>\n    <tr>\n      <th>ye ah</th>\n      <td>NaN</td>\n      <td>NaN</td>\n      <td>NaN</td>\n      <td>NaN</td>\n      <td>1.0</td>\n      <td>NaN</td>\n      <td>4.0</td>\n      <td>NaN</td>\n      <td>5</td>\n      <td>1.0</td>\n      <td>18.0</td>\n      <td>1.0</td>\n      <td>1.0</td>\n      <td>4.0</td>\n      <td>NaN</td>\n      <td>63</td>\n      <td>0</td>\n      <td>2</td>\n      <td>yeah</td>\n    </tr>\n    <tr>\n      <th>ye-ah</th>\n      <td>NaN</td>\n      <td>NaN</td>\n      <td>NaN</td>\n      <td>NaN</td>\n      <td>NaN</td>\n      <td>NaN</td>\n      <td>5.0</td>\n      <td>NaN</td>\n      <td>5</td>\n      <td>1.0</td>\n      <td>18.0</td>\n      <td>1.0</td>\n      <td>1.0</td>\n      <td>4.0</td>\n      <td>NaN</td>\n      <td>63</td>\n      <td>0</td>\n      <td>2</td>\n      <td>yeah</td>\n    </tr>\n    <tr>\n      <th>yea</th>\n      <td>0.912848</td>\n      <td>0.0</td>\n      <td>NaN</td>\n      <td>NaN</td>\n      <td>NaN</td>\n      <td>NaN</td>\n      <td>0.0</td>\n      <td>1.0</td>\n      <td>3</td>\n      <td>NaN</td>\n      <td>18.0</td>\n      <td>1.0</td>\n      <td>1.0</td>\n      <td>4.0</td>\n      <td>NaN</td>\n      <td>63</td>\n      <td>0</td>\n      <td>2</td>\n      <td>yeah</td>\n    </tr>\n    <tr>\n      <th>yea h</th>\n      <td>NaN</td>\n      <td>NaN</td>\n      <td>NaN</td>\n      <td>NaN</td>\n      <td>NaN</td>\n      <td>NaN</td>\n      <td>6.0</td>\n      <td>NaN</td>\n      <td>5</td>\n      <td>1.0</td>\n      <td>18.0</td>\n      <td>1.0</td>\n      <td>1.0</td>\n      <td>4.0</td>\n      <td>NaN</td>\n      <td>63</td>\n      <td>0</td>\n      <td>2</td>\n      <td>yeah</td>\n    </tr>\n    <tr>\n      <th>yea-h</th>\n      <td>NaN</td>\n      <td>NaN</td>\n      <td>NaN</td>\n      <td>NaN</td>\n      <td>NaN</td>\n      <td>NaN</td>\n      <td>7.0</td>\n      <td>NaN</td>\n      <td>5</td>\n      <td>1.0</td>\n      <td>18.0</td>\n      <td>1.0</td>\n      <td>1.0</td>\n      <td>4.0</td>\n      <td>NaN</td>\n      <td>63</td>\n      <td>0</td>\n      <td>2</td>\n      <td>yeah</td>\n    </tr>\n    <tr>\n      <th>yeah</th>\n      <td>1.000000</td>\n      <td>NaN</td>\n      <td>1.0</td>\n      <td>1.0</td>\n      <td>NaN</td>\n      <td>18.0</td>\n      <td>NaN</td>\n      <td>1.0</td>\n      <td>4</td>\n      <td>1.0</td>\n      <td>18.0</td>\n      <td>1.0</td>\n      <td>1.0</td>\n      <td>4.0</td>\n      <td>1.0</td>\n      <td>63</td>\n      <td>0</td>\n      <td>2</td>\n      <td>yeah</td>\n    </tr>\n    <tr>\n      <th>yeah's</th>\n      <td>0.587786</td>\n      <td>NaN</td>\n      <td>1.0</td>\n      <td>NaN</td>\n      <td>NaN</td>\n      <td>NaN</td>\n      <td>NaN</td>\n      <td>1.0</td>\n      <td>6</td>\n      <td>1.0</td>\n      <td>18.0</td>\n      <td>1.0</td>\n      <td>1.0</td>\n      <td>4.0</td>\n      <td>NaN</td>\n      <td>63</td>\n      <td>0</td>\n      <td>2</td>\n      <td>yeah</td>\n    </tr>\n    <tr>\n      <th>yeahs</th>\n      <td>0.659100</td>\n      <td>NaN</td>\n      <td>1.0</td>\n      <td>NaN</td>\n      <td>NaN</td>\n      <td>NaN</td>\n      <td>1.0</td>\n      <td>1.0</td>\n      <td>5</td>\n      <td>1.0</td>\n      <td>18.0</td>\n      <td>1.0</td>\n      <td>1.0</td>\n      <td>4.0</td>\n      <td>NaN</td>\n      <td>63</td>\n      <td>0</td>\n      <td>2</td>\n      <td>yeah</td>\n    </tr>\n    <tr>\n      <th>year</th>\n      <td>0.396437</td>\n      <td>NaN</td>\n      <td>NaN</td>\n      <td>NaN</td>\n      <td>NaN</td>\n      <td>NaN</td>\n      <td>3.0</td>\n      <td>1.0</td>\n      <td>4</td>\n      <td>NaN</td>\n      <td>18.0</td>\n      <td>1.0</td>\n      <td>1.0</td>\n      <td>4.0</td>\n      <td>NaN</td>\n      <td>63</td>\n      <td>0</td>\n      <td>2</td>\n      <td>yeah</td>\n    </tr>\n    <tr>\n      <th>yeas</th>\n      <td>0.574666</td>\n      <td>NaN</td>\n      <td>NaN</td>\n      <td>NaN</td>\n      <td>NaN</td>\n      <td>NaN</td>\n      <td>2.0</td>\n      <td>1.0</td>\n      <td>4</td>\n      <td>NaN</td>\n      <td>18.0</td>\n      <td>1.0</td>\n      <td>1.0</td>\n      <td>4.0</td>\n      <td>NaN</td>\n      <td>63</td>\n      <td>0</td>\n      <td>2</td>\n      <td>yeah</td>\n    </tr>\n    <tr>\n      <th>yeoman</th>\n      <td>0.221668</td>\n      <td>NaN</td>\n      <td>NaN</td>\n      <td>NaN</td>\n      <td>NaN</td>\n      <td>NaN</td>\n      <td>9.0</td>\n      <td>1.0</td>\n      <td>6</td>\n      <td>NaN</td>\n      <td>18.0</td>\n      <td>1.0</td>\n      <td>1.0</td>\n      <td>4.0</td>\n      <td>NaN</td>\n      <td>63</td>\n      <td>0</td>\n      <td>2</td>\n      <td>yeah</td>\n    </tr>\n    <tr>\n      <th>yes</th>\n      <td>0.821176</td>\n      <td>1.0</td>\n      <td>NaN</td>\n      <td>NaN</td>\n      <td>NaN</td>\n      <td>NaN</td>\n      <td>NaN</td>\n      <td>1.0</td>\n      <td>3</td>\n      <td>NaN</td>\n      <td>18.0</td>\n      <td>1.0</td>\n      <td>1.0</td>\n      <td>4.0</td>\n      <td>NaN</td>\n      <td>63</td>\n      <td>0</td>\n      <td>2</td>\n      <td>yeah</td>\n    </tr>\n    <tr>\n      <th>yeti</th>\n      <td>0.378206</td>\n      <td>NaN</td>\n      <td>NaN</td>\n      <td>NaN</td>\n      <td>NaN</td>\n      <td>NaN</td>\n      <td>8.0</td>\n      <td>1.0</td>\n      <td>4</td>\n      <td>NaN</td>\n      <td>18.0</td>\n      <td>1.0</td>\n      <td>1.0</td>\n      <td>4.0</td>\n      <td>NaN</td>\n      <td>63</td>\n      <td>0</td>\n      <td>2</td>\n      <td>yeah</td>\n    </tr>\n  </tbody>\n</table>\n</div>"
     },
     "execution_count": 83,
     "metadata": {},
     "output_type": "execute_result"
    }
   ],
   "source": [
    "dev = pd.read_csv(os.path.join(DATA_PATH, \"hpc/train_annotated.txt\"), index_col=0)\n",
    "dev.loc[(dev['process'] == 63) & (dev['tweet'] == 0) & (dev['tok'] == 2)]"
   ],
   "metadata": {
    "collapsed": false
   }
  },
  {
   "cell_type": "code",
   "execution_count": 82,
   "outputs": [
    {
     "data": {
      "text/plain": "        cosine_to_orig  embeddings_rank  from_clipping  from_original_token  \\\nleah          0.384448              NaN            NaN                  NaN   \nnah           0.798594              5.0            NaN                  NaN   \noh            0.817392              4.0            NaN                  NaN   \nuh            0.792014              6.0            NaN                  NaN   \nye ah              NaN              NaN            NaN                  NaN   \nye-ah              NaN              NaN            NaN                  NaN   \nyea           0.912848              1.0            NaN                  NaN   \nyea h              NaN              NaN            NaN                  NaN   \nyea-h              NaN              NaN            NaN                  NaN   \nyeah          1.000000              2.0            NaN                  1.0   \nyeah's        0.587786              NaN            1.0                  NaN   \nyeahs         0.659100              NaN            1.0                  NaN   \nyear          0.396437              NaN            NaN                  NaN   \nyeas          0.574666              NaN            NaN                  NaN   \nyeoman        0.221668              NaN            NaN                  NaN   \nyes           0.821176              3.0            NaN                  NaN   \nyeti          0.378206              NaN            NaN                  NaN   \n\n        from_split  norms_seen  spellcheck_rank  in_lexicon  length  \\\nleah           NaN         NaN              5.0         1.0       4   \nnah            NaN         NaN              NaN         NaN       3   \noh             NaN         NaN              NaN         1.0       2   \nuh             NaN         NaN              NaN         1.0       2   \nye ah          1.0         NaN              6.0         NaN       5   \nye-ah          NaN         NaN              7.0         NaN       5   \nyea            NaN         NaN              1.0         1.0       3   \nyea h          NaN         NaN              8.0         NaN       5   \nyea-h          NaN         NaN              9.0         NaN       5   \nyeah           NaN        18.0              NaN         1.0       4   \nyeah's         NaN         NaN              NaN         1.0       6   \nyeahs          NaN         NaN              2.0         1.0       5   \nyear           NaN         NaN              4.0         1.0       4   \nyeas           NaN         NaN              3.0         1.0       4   \nyeoman         NaN         NaN             11.0         1.0       6   \nyes            NaN         NaN              NaN         1.0       3   \nyeti           NaN         NaN             10.0         1.0       4   \n\n        same_order  orig_norms_seen  orig_in_lexicon  orig_same_order  \\\nleah           NaN             18.0              1.0              1.0   \nnah            NaN             18.0              1.0              1.0   \noh             NaN             18.0              1.0              1.0   \nuh             NaN             18.0              1.0              1.0   \nye ah          1.0             18.0              1.0              1.0   \nye-ah          1.0             18.0              1.0              1.0   \nyea            NaN             18.0              1.0              1.0   \nyea h          1.0             18.0              1.0              1.0   \nyea-h          1.0             18.0              1.0              1.0   \nyeah           1.0             18.0              1.0              1.0   \nyeah's         1.0             18.0              1.0              1.0   \nyeahs          1.0             18.0              1.0              1.0   \nyear           NaN             18.0              1.0              1.0   \nyeas           NaN             18.0              1.0              1.0   \nyeoman         NaN             18.0              1.0              1.0   \nyes            NaN             18.0              1.0              1.0   \nyeti           NaN             18.0              1.0              1.0   \n\n        orig_length   raw  gold  correct  process  tweet  tok  \nleah            4.0  yeah  yeah      NaN       63      0    2  \nnah             4.0  yeah  yeah      NaN       63      0    2  \noh              4.0  yeah  yeah      NaN       63      0    2  \nuh              4.0  yeah  yeah      NaN       63      0    2  \nye ah           4.0  yeah  yeah      NaN       63      0    2  \nye-ah           4.0  yeah  yeah      NaN       63      0    2  \nyea             4.0  yeah  yeah      NaN       63      0    2  \nyea h           4.0  yeah  yeah      NaN       63      0    2  \nyea-h           4.0  yeah  yeah      NaN       63      0    2  \nyeah            4.0  yeah  yeah      1.0       63      0    2  \nyeah's          4.0  yeah  yeah      NaN       63      0    2  \nyeahs           4.0  yeah  yeah      NaN       63      0    2  \nyear            4.0  yeah  yeah      NaN       63      0    2  \nyeas            4.0  yeah  yeah      NaN       63      0    2  \nyeoman          4.0  yeah  yeah      NaN       63      0    2  \nyes             4.0  yeah  yeah      NaN       63      0    2  \nyeti            4.0  yeah  yeah      NaN       63      0    2  ",
      "text/html": "<div>\n<style scoped>\n    .dataframe tbody tr th:only-of-type {\n        vertical-align: middle;\n    }\n\n    .dataframe tbody tr th {\n        vertical-align: top;\n    }\n\n    .dataframe thead th {\n        text-align: right;\n    }\n</style>\n<table border=\"1\" class=\"dataframe\">\n  <thead>\n    <tr style=\"text-align: right;\">\n      <th></th>\n      <th>cosine_to_orig</th>\n      <th>embeddings_rank</th>\n      <th>from_clipping</th>\n      <th>from_original_token</th>\n      <th>from_split</th>\n      <th>norms_seen</th>\n      <th>spellcheck_rank</th>\n      <th>in_lexicon</th>\n      <th>length</th>\n      <th>same_order</th>\n      <th>orig_norms_seen</th>\n      <th>orig_in_lexicon</th>\n      <th>orig_same_order</th>\n      <th>orig_length</th>\n      <th>raw</th>\n      <th>gold</th>\n      <th>correct</th>\n      <th>process</th>\n      <th>tweet</th>\n      <th>tok</th>\n    </tr>\n  </thead>\n  <tbody>\n    <tr>\n      <th>leah</th>\n      <td>0.384448</td>\n      <td>NaN</td>\n      <td>NaN</td>\n      <td>NaN</td>\n      <td>NaN</td>\n      <td>NaN</td>\n      <td>5.0</td>\n      <td>1.0</td>\n      <td>4</td>\n      <td>NaN</td>\n      <td>18.0</td>\n      <td>1.0</td>\n      <td>1.0</td>\n      <td>4.0</td>\n      <td>yeah</td>\n      <td>yeah</td>\n      <td>NaN</td>\n      <td>63</td>\n      <td>0</td>\n      <td>2</td>\n    </tr>\n    <tr>\n      <th>nah</th>\n      <td>0.798594</td>\n      <td>5.0</td>\n      <td>NaN</td>\n      <td>NaN</td>\n      <td>NaN</td>\n      <td>NaN</td>\n      <td>NaN</td>\n      <td>NaN</td>\n      <td>3</td>\n      <td>NaN</td>\n      <td>18.0</td>\n      <td>1.0</td>\n      <td>1.0</td>\n      <td>4.0</td>\n      <td>yeah</td>\n      <td>yeah</td>\n      <td>NaN</td>\n      <td>63</td>\n      <td>0</td>\n      <td>2</td>\n    </tr>\n    <tr>\n      <th>oh</th>\n      <td>0.817392</td>\n      <td>4.0</td>\n      <td>NaN</td>\n      <td>NaN</td>\n      <td>NaN</td>\n      <td>NaN</td>\n      <td>NaN</td>\n      <td>1.0</td>\n      <td>2</td>\n      <td>NaN</td>\n      <td>18.0</td>\n      <td>1.0</td>\n      <td>1.0</td>\n      <td>4.0</td>\n      <td>yeah</td>\n      <td>yeah</td>\n      <td>NaN</td>\n      <td>63</td>\n      <td>0</td>\n      <td>2</td>\n    </tr>\n    <tr>\n      <th>uh</th>\n      <td>0.792014</td>\n      <td>6.0</td>\n      <td>NaN</td>\n      <td>NaN</td>\n      <td>NaN</td>\n      <td>NaN</td>\n      <td>NaN</td>\n      <td>1.0</td>\n      <td>2</td>\n      <td>NaN</td>\n      <td>18.0</td>\n      <td>1.0</td>\n      <td>1.0</td>\n      <td>4.0</td>\n      <td>yeah</td>\n      <td>yeah</td>\n      <td>NaN</td>\n      <td>63</td>\n      <td>0</td>\n      <td>2</td>\n    </tr>\n    <tr>\n      <th>ye ah</th>\n      <td>NaN</td>\n      <td>NaN</td>\n      <td>NaN</td>\n      <td>NaN</td>\n      <td>1.0</td>\n      <td>NaN</td>\n      <td>6.0</td>\n      <td>NaN</td>\n      <td>5</td>\n      <td>1.0</td>\n      <td>18.0</td>\n      <td>1.0</td>\n      <td>1.0</td>\n      <td>4.0</td>\n      <td>yeah</td>\n      <td>yeah</td>\n      <td>NaN</td>\n      <td>63</td>\n      <td>0</td>\n      <td>2</td>\n    </tr>\n    <tr>\n      <th>ye-ah</th>\n      <td>NaN</td>\n      <td>NaN</td>\n      <td>NaN</td>\n      <td>NaN</td>\n      <td>NaN</td>\n      <td>NaN</td>\n      <td>7.0</td>\n      <td>NaN</td>\n      <td>5</td>\n      <td>1.0</td>\n      <td>18.0</td>\n      <td>1.0</td>\n      <td>1.0</td>\n      <td>4.0</td>\n      <td>yeah</td>\n      <td>yeah</td>\n      <td>NaN</td>\n      <td>63</td>\n      <td>0</td>\n      <td>2</td>\n    </tr>\n    <tr>\n      <th>yea</th>\n      <td>0.912848</td>\n      <td>1.0</td>\n      <td>NaN</td>\n      <td>NaN</td>\n      <td>NaN</td>\n      <td>NaN</td>\n      <td>1.0</td>\n      <td>1.0</td>\n      <td>3</td>\n      <td>NaN</td>\n      <td>18.0</td>\n      <td>1.0</td>\n      <td>1.0</td>\n      <td>4.0</td>\n      <td>yeah</td>\n      <td>yeah</td>\n      <td>NaN</td>\n      <td>63</td>\n      <td>0</td>\n      <td>2</td>\n    </tr>\n    <tr>\n      <th>yea h</th>\n      <td>NaN</td>\n      <td>NaN</td>\n      <td>NaN</td>\n      <td>NaN</td>\n      <td>NaN</td>\n      <td>NaN</td>\n      <td>8.0</td>\n      <td>NaN</td>\n      <td>5</td>\n      <td>1.0</td>\n      <td>18.0</td>\n      <td>1.0</td>\n      <td>1.0</td>\n      <td>4.0</td>\n      <td>yeah</td>\n      <td>yeah</td>\n      <td>NaN</td>\n      <td>63</td>\n      <td>0</td>\n      <td>2</td>\n    </tr>\n    <tr>\n      <th>yea-h</th>\n      <td>NaN</td>\n      <td>NaN</td>\n      <td>NaN</td>\n      <td>NaN</td>\n      <td>NaN</td>\n      <td>NaN</td>\n      <td>9.0</td>\n      <td>NaN</td>\n      <td>5</td>\n      <td>1.0</td>\n      <td>18.0</td>\n      <td>1.0</td>\n      <td>1.0</td>\n      <td>4.0</td>\n      <td>yeah</td>\n      <td>yeah</td>\n      <td>NaN</td>\n      <td>63</td>\n      <td>0</td>\n      <td>2</td>\n    </tr>\n    <tr>\n      <th>yeah</th>\n      <td>1.000000</td>\n      <td>2.0</td>\n      <td>NaN</td>\n      <td>1.0</td>\n      <td>NaN</td>\n      <td>18.0</td>\n      <td>NaN</td>\n      <td>1.0</td>\n      <td>4</td>\n      <td>1.0</td>\n      <td>18.0</td>\n      <td>1.0</td>\n      <td>1.0</td>\n      <td>4.0</td>\n      <td>yeah</td>\n      <td>yeah</td>\n      <td>1.0</td>\n      <td>63</td>\n      <td>0</td>\n      <td>2</td>\n    </tr>\n    <tr>\n      <th>yeah's</th>\n      <td>0.587786</td>\n      <td>NaN</td>\n      <td>1.0</td>\n      <td>NaN</td>\n      <td>NaN</td>\n      <td>NaN</td>\n      <td>NaN</td>\n      <td>1.0</td>\n      <td>6</td>\n      <td>1.0</td>\n      <td>18.0</td>\n      <td>1.0</td>\n      <td>1.0</td>\n      <td>4.0</td>\n      <td>yeah</td>\n      <td>yeah</td>\n      <td>NaN</td>\n      <td>63</td>\n      <td>0</td>\n      <td>2</td>\n    </tr>\n    <tr>\n      <th>yeahs</th>\n      <td>0.659100</td>\n      <td>NaN</td>\n      <td>1.0</td>\n      <td>NaN</td>\n      <td>NaN</td>\n      <td>NaN</td>\n      <td>2.0</td>\n      <td>1.0</td>\n      <td>5</td>\n      <td>1.0</td>\n      <td>18.0</td>\n      <td>1.0</td>\n      <td>1.0</td>\n      <td>4.0</td>\n      <td>yeah</td>\n      <td>yeah</td>\n      <td>NaN</td>\n      <td>63</td>\n      <td>0</td>\n      <td>2</td>\n    </tr>\n    <tr>\n      <th>year</th>\n      <td>0.396437</td>\n      <td>NaN</td>\n      <td>NaN</td>\n      <td>NaN</td>\n      <td>NaN</td>\n      <td>NaN</td>\n      <td>4.0</td>\n      <td>1.0</td>\n      <td>4</td>\n      <td>NaN</td>\n      <td>18.0</td>\n      <td>1.0</td>\n      <td>1.0</td>\n      <td>4.0</td>\n      <td>yeah</td>\n      <td>yeah</td>\n      <td>NaN</td>\n      <td>63</td>\n      <td>0</td>\n      <td>2</td>\n    </tr>\n    <tr>\n      <th>yeas</th>\n      <td>0.574666</td>\n      <td>NaN</td>\n      <td>NaN</td>\n      <td>NaN</td>\n      <td>NaN</td>\n      <td>NaN</td>\n      <td>3.0</td>\n      <td>1.0</td>\n      <td>4</td>\n      <td>NaN</td>\n      <td>18.0</td>\n      <td>1.0</td>\n      <td>1.0</td>\n      <td>4.0</td>\n      <td>yeah</td>\n      <td>yeah</td>\n      <td>NaN</td>\n      <td>63</td>\n      <td>0</td>\n      <td>2</td>\n    </tr>\n    <tr>\n      <th>yeoman</th>\n      <td>0.221668</td>\n      <td>NaN</td>\n      <td>NaN</td>\n      <td>NaN</td>\n      <td>NaN</td>\n      <td>NaN</td>\n      <td>11.0</td>\n      <td>1.0</td>\n      <td>6</td>\n      <td>NaN</td>\n      <td>18.0</td>\n      <td>1.0</td>\n      <td>1.0</td>\n      <td>4.0</td>\n      <td>yeah</td>\n      <td>yeah</td>\n      <td>NaN</td>\n      <td>63</td>\n      <td>0</td>\n      <td>2</td>\n    </tr>\n    <tr>\n      <th>yes</th>\n      <td>0.821176</td>\n      <td>3.0</td>\n      <td>NaN</td>\n      <td>NaN</td>\n      <td>NaN</td>\n      <td>NaN</td>\n      <td>NaN</td>\n      <td>1.0</td>\n      <td>3</td>\n      <td>NaN</td>\n      <td>18.0</td>\n      <td>1.0</td>\n      <td>1.0</td>\n      <td>4.0</td>\n      <td>yeah</td>\n      <td>yeah</td>\n      <td>NaN</td>\n      <td>63</td>\n      <td>0</td>\n      <td>2</td>\n    </tr>\n    <tr>\n      <th>yeti</th>\n      <td>0.378206</td>\n      <td>NaN</td>\n      <td>NaN</td>\n      <td>NaN</td>\n      <td>NaN</td>\n      <td>NaN</td>\n      <td>10.0</td>\n      <td>1.0</td>\n      <td>4</td>\n      <td>NaN</td>\n      <td>18.0</td>\n      <td>1.0</td>\n      <td>1.0</td>\n      <td>4.0</td>\n      <td>yeah</td>\n      <td>yeah</td>\n      <td>NaN</td>\n      <td>63</td>\n      <td>0</td>\n      <td>2</td>\n    </tr>\n  </tbody>\n</table>\n</div>"
     },
     "execution_count": 82,
     "metadata": {},
     "output_type": "execute_result"
    }
   ],
   "source": [
    "dev = pd.read_csv(os.path.join(DATA_PATH, \"hpc/train_processed_annotated.txt\"), index_col=0)\n",
    "dev.loc[(dev['process'] == 63) & (dev['tweet'] == 0) & (dev['tok'] == 2)]"
   ],
   "metadata": {
    "collapsed": false
   }
  },
  {
   "cell_type": "code",
   "execution_count": 77,
   "outputs": [
    {
     "name": "stderr",
     "output_type": "stream",
     "text": [
      "/Users/elijoe/Library/Mobile Documents/com~apple~CloudDocs/Documents/2/Diss/lexnorm/.venv/lib/python3.10/site-packages/sklearn/base.py:420: UserWarning: X does not have valid feature names, but RandomForestClassifier was fitted with feature names\n",
      "  warnings.warn(\n"
     ]
    },
    {
     "ename": "ValueError",
     "evalue": "could not convert string to float: 'test'",
     "output_type": "error",
     "traceback": [
      "\u001B[0;31m---------------------------------------------------------------------------\u001B[0m",
      "\u001B[0;31mValueError\u001B[0m                                Traceback (most recent call last)",
      "Cell \u001B[0;32mIn[77], line 1\u001B[0m\n\u001B[0;32m----> 1\u001B[0m \u001B[43mclf\u001B[49m\u001B[38;5;241;43m.\u001B[39;49m\u001B[43mpredict_log_proba\u001B[49m\u001B[43m(\u001B[49m\u001B[38;5;124;43m\"\u001B[39;49m\u001B[38;5;124;43mtest\u001B[39;49m\u001B[38;5;124;43m\"\u001B[39;49m\u001B[43m)\u001B[49m\n",
      "File \u001B[0;32m~/Library/Mobile Documents/com~apple~CloudDocs/Documents/2/Diss/lexnorm/.venv/lib/python3.10/site-packages/sklearn/ensemble/_forest.py:907\u001B[0m, in \u001B[0;36mForestClassifier.predict_log_proba\u001B[0;34m(self, X)\u001B[0m\n\u001B[1;32m    886\u001B[0m \u001B[38;5;28;01mdef\u001B[39;00m \u001B[38;5;21mpredict_log_proba\u001B[39m(\u001B[38;5;28mself\u001B[39m, X):\n\u001B[1;32m    887\u001B[0m \u001B[38;5;250m    \u001B[39m\u001B[38;5;124;03m\"\"\"\u001B[39;00m\n\u001B[1;32m    888\u001B[0m \u001B[38;5;124;03m    Predict class log-probabilities for X.\u001B[39;00m\n\u001B[1;32m    889\u001B[0m \n\u001B[0;32m   (...)\u001B[0m\n\u001B[1;32m    905\u001B[0m \u001B[38;5;124;03m        classes corresponds to that in the attribute :term:`classes_`.\u001B[39;00m\n\u001B[1;32m    906\u001B[0m \u001B[38;5;124;03m    \"\"\"\u001B[39;00m\n\u001B[0;32m--> 907\u001B[0m     proba \u001B[38;5;241m=\u001B[39m \u001B[38;5;28;43mself\u001B[39;49m\u001B[38;5;241;43m.\u001B[39;49m\u001B[43mpredict_proba\u001B[49m\u001B[43m(\u001B[49m\u001B[43mX\u001B[49m\u001B[43m)\u001B[49m\n\u001B[1;32m    909\u001B[0m     \u001B[38;5;28;01mif\u001B[39;00m \u001B[38;5;28mself\u001B[39m\u001B[38;5;241m.\u001B[39mn_outputs_ \u001B[38;5;241m==\u001B[39m \u001B[38;5;241m1\u001B[39m:\n\u001B[1;32m    910\u001B[0m         \u001B[38;5;28;01mreturn\u001B[39;00m np\u001B[38;5;241m.\u001B[39mlog(proba)\n",
      "File \u001B[0;32m~/Library/Mobile Documents/com~apple~CloudDocs/Documents/2/Diss/lexnorm/.venv/lib/python3.10/site-packages/sklearn/ensemble/_forest.py:862\u001B[0m, in \u001B[0;36mForestClassifier.predict_proba\u001B[0;34m(self, X)\u001B[0m\n\u001B[1;32m    860\u001B[0m check_is_fitted(\u001B[38;5;28mself\u001B[39m)\n\u001B[1;32m    861\u001B[0m \u001B[38;5;66;03m# Check data\u001B[39;00m\n\u001B[0;32m--> 862\u001B[0m X \u001B[38;5;241m=\u001B[39m \u001B[38;5;28;43mself\u001B[39;49m\u001B[38;5;241;43m.\u001B[39;49m\u001B[43m_validate_X_predict\u001B[49m\u001B[43m(\u001B[49m\u001B[43mX\u001B[49m\u001B[43m)\u001B[49m\n\u001B[1;32m    864\u001B[0m \u001B[38;5;66;03m# Assign chunk of trees to jobs\u001B[39;00m\n\u001B[1;32m    865\u001B[0m n_jobs, _, _ \u001B[38;5;241m=\u001B[39m _partition_estimators(\u001B[38;5;28mself\u001B[39m\u001B[38;5;241m.\u001B[39mn_estimators, \u001B[38;5;28mself\u001B[39m\u001B[38;5;241m.\u001B[39mn_jobs)\n",
      "File \u001B[0;32m~/Library/Mobile Documents/com~apple~CloudDocs/Documents/2/Diss/lexnorm/.venv/lib/python3.10/site-packages/sklearn/ensemble/_forest.py:602\u001B[0m, in \u001B[0;36mBaseForest._validate_X_predict\u001B[0;34m(self, X)\u001B[0m\n\u001B[1;32m    599\u001B[0m \u001B[38;5;250m\u001B[39m\u001B[38;5;124;03m\"\"\"\u001B[39;00m\n\u001B[1;32m    600\u001B[0m \u001B[38;5;124;03mValidate X whenever one tries to predict, apply, predict_proba.\"\"\"\u001B[39;00m\n\u001B[1;32m    601\u001B[0m check_is_fitted(\u001B[38;5;28mself\u001B[39m)\n\u001B[0;32m--> 602\u001B[0m X \u001B[38;5;241m=\u001B[39m \u001B[38;5;28;43mself\u001B[39;49m\u001B[38;5;241;43m.\u001B[39;49m\u001B[43m_validate_data\u001B[49m\u001B[43m(\u001B[49m\u001B[43mX\u001B[49m\u001B[43m,\u001B[49m\u001B[43m \u001B[49m\u001B[43mdtype\u001B[49m\u001B[38;5;241;43m=\u001B[39;49m\u001B[43mDTYPE\u001B[49m\u001B[43m,\u001B[49m\u001B[43m \u001B[49m\u001B[43maccept_sparse\u001B[49m\u001B[38;5;241;43m=\u001B[39;49m\u001B[38;5;124;43m\"\u001B[39;49m\u001B[38;5;124;43mcsr\u001B[39;49m\u001B[38;5;124;43m\"\u001B[39;49m\u001B[43m,\u001B[49m\u001B[43m \u001B[49m\u001B[43mreset\u001B[49m\u001B[38;5;241;43m=\u001B[39;49m\u001B[38;5;28;43;01mFalse\u001B[39;49;00m\u001B[43m)\u001B[49m\n\u001B[1;32m    603\u001B[0m \u001B[38;5;28;01mif\u001B[39;00m issparse(X) \u001B[38;5;129;01mand\u001B[39;00m (X\u001B[38;5;241m.\u001B[39mindices\u001B[38;5;241m.\u001B[39mdtype \u001B[38;5;241m!=\u001B[39m np\u001B[38;5;241m.\u001B[39mintc \u001B[38;5;129;01mor\u001B[39;00m X\u001B[38;5;241m.\u001B[39mindptr\u001B[38;5;241m.\u001B[39mdtype \u001B[38;5;241m!=\u001B[39m np\u001B[38;5;241m.\u001B[39mintc):\n\u001B[1;32m    604\u001B[0m     \u001B[38;5;28;01mraise\u001B[39;00m \u001B[38;5;167;01mValueError\u001B[39;00m(\u001B[38;5;124m\"\u001B[39m\u001B[38;5;124mNo support for np.int64 index based sparse matrices\u001B[39m\u001B[38;5;124m\"\u001B[39m)\n",
      "File \u001B[0;32m~/Library/Mobile Documents/com~apple~CloudDocs/Documents/2/Diss/lexnorm/.venv/lib/python3.10/site-packages/sklearn/base.py:546\u001B[0m, in \u001B[0;36mBaseEstimator._validate_data\u001B[0;34m(self, X, y, reset, validate_separately, **check_params)\u001B[0m\n\u001B[1;32m    544\u001B[0m     \u001B[38;5;28;01mraise\u001B[39;00m \u001B[38;5;167;01mValueError\u001B[39;00m(\u001B[38;5;124m\"\u001B[39m\u001B[38;5;124mValidation should be done on X, y or both.\u001B[39m\u001B[38;5;124m\"\u001B[39m)\n\u001B[1;32m    545\u001B[0m \u001B[38;5;28;01melif\u001B[39;00m \u001B[38;5;129;01mnot\u001B[39;00m no_val_X \u001B[38;5;129;01mand\u001B[39;00m no_val_y:\n\u001B[0;32m--> 546\u001B[0m     X \u001B[38;5;241m=\u001B[39m \u001B[43mcheck_array\u001B[49m\u001B[43m(\u001B[49m\u001B[43mX\u001B[49m\u001B[43m,\u001B[49m\u001B[43m \u001B[49m\u001B[43minput_name\u001B[49m\u001B[38;5;241;43m=\u001B[39;49m\u001B[38;5;124;43m\"\u001B[39;49m\u001B[38;5;124;43mX\u001B[39;49m\u001B[38;5;124;43m\"\u001B[39;49m\u001B[43m,\u001B[49m\u001B[43m \u001B[49m\u001B[38;5;241;43m*\u001B[39;49m\u001B[38;5;241;43m*\u001B[39;49m\u001B[43mcheck_params\u001B[49m\u001B[43m)\u001B[49m\n\u001B[1;32m    547\u001B[0m     out \u001B[38;5;241m=\u001B[39m X\n\u001B[1;32m    548\u001B[0m \u001B[38;5;28;01melif\u001B[39;00m no_val_X \u001B[38;5;129;01mand\u001B[39;00m \u001B[38;5;129;01mnot\u001B[39;00m no_val_y:\n",
      "File \u001B[0;32m~/Library/Mobile Documents/com~apple~CloudDocs/Documents/2/Diss/lexnorm/.venv/lib/python3.10/site-packages/sklearn/utils/validation.py:879\u001B[0m, in \u001B[0;36mcheck_array\u001B[0;34m(array, accept_sparse, accept_large_sparse, dtype, order, copy, force_all_finite, ensure_2d, allow_nd, ensure_min_samples, ensure_min_features, estimator, input_name)\u001B[0m\n\u001B[1;32m    877\u001B[0m         array \u001B[38;5;241m=\u001B[39m xp\u001B[38;5;241m.\u001B[39mastype(array, dtype, copy\u001B[38;5;241m=\u001B[39m\u001B[38;5;28;01mFalse\u001B[39;00m)\n\u001B[1;32m    878\u001B[0m     \u001B[38;5;28;01melse\u001B[39;00m:\n\u001B[0;32m--> 879\u001B[0m         array \u001B[38;5;241m=\u001B[39m \u001B[43m_asarray_with_order\u001B[49m\u001B[43m(\u001B[49m\u001B[43marray\u001B[49m\u001B[43m,\u001B[49m\u001B[43m \u001B[49m\u001B[43morder\u001B[49m\u001B[38;5;241;43m=\u001B[39;49m\u001B[43morder\u001B[49m\u001B[43m,\u001B[49m\u001B[43m \u001B[49m\u001B[43mdtype\u001B[49m\u001B[38;5;241;43m=\u001B[39;49m\u001B[43mdtype\u001B[49m\u001B[43m,\u001B[49m\u001B[43m \u001B[49m\u001B[43mxp\u001B[49m\u001B[38;5;241;43m=\u001B[39;49m\u001B[43mxp\u001B[49m\u001B[43m)\u001B[49m\n\u001B[1;32m    880\u001B[0m \u001B[38;5;28;01mexcept\u001B[39;00m ComplexWarning \u001B[38;5;28;01mas\u001B[39;00m complex_warning:\n\u001B[1;32m    881\u001B[0m     \u001B[38;5;28;01mraise\u001B[39;00m \u001B[38;5;167;01mValueError\u001B[39;00m(\n\u001B[1;32m    882\u001B[0m         \u001B[38;5;124m\"\u001B[39m\u001B[38;5;124mComplex data not supported\u001B[39m\u001B[38;5;130;01m\\n\u001B[39;00m\u001B[38;5;132;01m{}\u001B[39;00m\u001B[38;5;130;01m\\n\u001B[39;00m\u001B[38;5;124m\"\u001B[39m\u001B[38;5;241m.\u001B[39mformat(array)\n\u001B[1;32m    883\u001B[0m     ) \u001B[38;5;28;01mfrom\u001B[39;00m \u001B[38;5;21;01mcomplex_warning\u001B[39;00m\n",
      "File \u001B[0;32m~/Library/Mobile Documents/com~apple~CloudDocs/Documents/2/Diss/lexnorm/.venv/lib/python3.10/site-packages/sklearn/utils/_array_api.py:185\u001B[0m, in \u001B[0;36m_asarray_with_order\u001B[0;34m(array, dtype, order, copy, xp)\u001B[0m\n\u001B[1;32m    182\u001B[0m     xp, _ \u001B[38;5;241m=\u001B[39m get_namespace(array)\n\u001B[1;32m    183\u001B[0m \u001B[38;5;28;01mif\u001B[39;00m xp\u001B[38;5;241m.\u001B[39m\u001B[38;5;18m__name__\u001B[39m \u001B[38;5;129;01min\u001B[39;00m {\u001B[38;5;124m\"\u001B[39m\u001B[38;5;124mnumpy\u001B[39m\u001B[38;5;124m\"\u001B[39m, \u001B[38;5;124m\"\u001B[39m\u001B[38;5;124mnumpy.array_api\u001B[39m\u001B[38;5;124m\"\u001B[39m}:\n\u001B[1;32m    184\u001B[0m     \u001B[38;5;66;03m# Use NumPy API to support order\u001B[39;00m\n\u001B[0;32m--> 185\u001B[0m     array \u001B[38;5;241m=\u001B[39m \u001B[43mnumpy\u001B[49m\u001B[38;5;241;43m.\u001B[39;49m\u001B[43masarray\u001B[49m\u001B[43m(\u001B[49m\u001B[43marray\u001B[49m\u001B[43m,\u001B[49m\u001B[43m \u001B[49m\u001B[43morder\u001B[49m\u001B[38;5;241;43m=\u001B[39;49m\u001B[43morder\u001B[49m\u001B[43m,\u001B[49m\u001B[43m \u001B[49m\u001B[43mdtype\u001B[49m\u001B[38;5;241;43m=\u001B[39;49m\u001B[43mdtype\u001B[49m\u001B[43m)\u001B[49m\n\u001B[1;32m    186\u001B[0m     \u001B[38;5;28;01mreturn\u001B[39;00m xp\u001B[38;5;241m.\u001B[39masarray(array, copy\u001B[38;5;241m=\u001B[39mcopy)\n\u001B[1;32m    187\u001B[0m \u001B[38;5;28;01melse\u001B[39;00m:\n",
      "\u001B[0;31mValueError\u001B[0m: could not convert string to float: 'test'"
     ]
    }
   ],
   "source": [
    "clf.predict_log_proba(\"test\")"
   ],
   "metadata": {
    "collapsed": false
   }
  },
  {
   "cell_type": "code",
   "execution_count": 116,
   "outputs": [
    {
     "name": "stderr",
     "output_type": "stream",
     "text": [
      "/Users/elijoe/Library/Mobile Documents/com~apple~CloudDocs/Documents/2/Diss/lexnorm/.venv/lib/python3.10/site-packages/gensim/models/keyedvectors.py:849: RuntimeWarning: invalid value encountered in divide\n",
      "  dists = dot(self.vectors[clip_start:clip_end], mean) / self.norms[clip_start:clip_end]\n"
     ]
    },
    {
     "data": {
      "text/plain": "     cosine_to_orig  embeddings_rank\nThe        0.757326                1",
      "text/html": "<div>\n<style scoped>\n    .dataframe tbody tr th:only-of-type {\n        vertical-align: middle;\n    }\n\n    .dataframe tbody tr th {\n        vertical-align: top;\n    }\n\n    .dataframe thead th {\n        text-align: right;\n    }\n</style>\n<table border=\"1\" class=\"dataframe\">\n  <thead>\n    <tr style=\"text-align: right;\">\n      <th></th>\n      <th>cosine_to_orig</th>\n      <th>embeddings_rank</th>\n    </tr>\n  </thead>\n  <tbody>\n    <tr>\n      <th>The</th>\n      <td>0.757326</td>\n      <td>1</td>\n    </tr>\n  </tbody>\n</table>\n</div>"
     },
     "execution_count": 116,
     "metadata": {},
     "output_type": "execute_result"
    }
   ],
   "source": [
    "import importlib\n",
    "from lexnorm.generate_extract import modules\n",
    "from lexnorm.generate_extract import candidate_generation\n",
    "importlib.reload(modules)\n",
    "\n",
    "modules.word_embeddings(\"the\", vectors)"
   ],
   "metadata": {
    "collapsed": false
   }
  },
  {
   "cell_type": "code",
   "execution_count": 251,
   "outputs": [
    {
     "data": {
      "text/plain": "        cosine_to_orig  embeddings_rank  from_clipping  from_original_token  \\\nLeah          0.220881              0.0            0.0                  0.0   \nYea           0.780648              7.0            0.0                  0.0   \nYeah          0.834787              2.0            0.0                  0.0   \nnah           0.798594              5.0            0.0                  0.0   \noh            0.817392              4.0            0.0                  0.0   \n...                ...              ...            ...                  ...   \nilysfm        0.867017              2.0            0.0                  0.0   \nilysm         1.000000              0.0            0.0                  1.0   \nlysm          0.855508              4.0            0.0                  0.0   \nsilly         0.200586              0.0            0.0                  0.0   \nsmiley        0.340538              0.0            0.0                  0.0   \n\n        from_split  norms_seen  spellcheck_rank  in_lexicon  length  \\\nLeah           0.0         0.0              5.0         0.0       4   \nYea            0.0         0.0              0.0         0.0       3   \nYeah           0.0         0.0              0.0         0.0       4   \nnah            0.0         0.0              0.0         0.0       3   \noh             0.0         0.0              0.0         1.0       2   \n...            ...         ...              ...         ...     ...   \nilysfm         0.0         0.0              0.0         0.0       6   \nilysm          0.0         7.0              0.0         0.0       5   \nlysm           0.0         0.0              0.0         0.0       4   \nsilly          0.0         0.0              2.0         1.0       5   \nsmiley         0.0         0.0              1.0         1.0       6   \n\n        same_order  orig_norms_seen  orig_in_lexicon  orig_same_order  \\\nLeah           0.0             18.0              1.0              1.0   \nYea            0.0             18.0              1.0              1.0   \nYeah           0.0             18.0              1.0              1.0   \nnah            0.0             18.0              1.0              1.0   \noh             0.0             18.0              1.0              1.0   \n...            ...              ...              ...              ...   \nilysfm         1.0              7.0              0.0              1.0   \nilysm          1.0              7.0              0.0              1.0   \nlysm           0.0              7.0              0.0              1.0   \nsilly          0.0              7.0              0.0              1.0   \nsmiley         0.0              7.0              0.0              1.0   \n\n        orig_length  initial_capital  lowercase  uppercase  \nLeah            4.0                1          0          0  \nYea             4.0                1          0          0  \nYeah            4.0                1          0          0  \nnah             4.0                0          1          0  \noh              4.0                0          1          0  \n...             ...              ...        ...        ...  \nilysfm          5.0                0          1          0  \nilysm           5.0                0          1          0  \nlysm            5.0                0          1          0  \nsilly           5.0                0          1          0  \nsmiley          5.0                0          1          0  \n\n[3030660 rows x 17 columns]",
      "text/html": "<div>\n<style scoped>\n    .dataframe tbody tr th:only-of-type {\n        vertical-align: middle;\n    }\n\n    .dataframe tbody tr th {\n        vertical-align: top;\n    }\n\n    .dataframe thead th {\n        text-align: right;\n    }\n</style>\n<table border=\"1\" class=\"dataframe\">\n  <thead>\n    <tr style=\"text-align: right;\">\n      <th></th>\n      <th>cosine_to_orig</th>\n      <th>embeddings_rank</th>\n      <th>from_clipping</th>\n      <th>from_original_token</th>\n      <th>from_split</th>\n      <th>norms_seen</th>\n      <th>spellcheck_rank</th>\n      <th>in_lexicon</th>\n      <th>length</th>\n      <th>same_order</th>\n      <th>orig_norms_seen</th>\n      <th>orig_in_lexicon</th>\n      <th>orig_same_order</th>\n      <th>orig_length</th>\n      <th>initial_capital</th>\n      <th>lowercase</th>\n      <th>uppercase</th>\n    </tr>\n  </thead>\n  <tbody>\n    <tr>\n      <th>Leah</th>\n      <td>0.220881</td>\n      <td>0.0</td>\n      <td>0.0</td>\n      <td>0.0</td>\n      <td>0.0</td>\n      <td>0.0</td>\n      <td>5.0</td>\n      <td>0.0</td>\n      <td>4</td>\n      <td>0.0</td>\n      <td>18.0</td>\n      <td>1.0</td>\n      <td>1.0</td>\n      <td>4.0</td>\n      <td>1</td>\n      <td>0</td>\n      <td>0</td>\n    </tr>\n    <tr>\n      <th>Yea</th>\n      <td>0.780648</td>\n      <td>7.0</td>\n      <td>0.0</td>\n      <td>0.0</td>\n      <td>0.0</td>\n      <td>0.0</td>\n      <td>0.0</td>\n      <td>0.0</td>\n      <td>3</td>\n      <td>0.0</td>\n      <td>18.0</td>\n      <td>1.0</td>\n      <td>1.0</td>\n      <td>4.0</td>\n      <td>1</td>\n      <td>0</td>\n      <td>0</td>\n    </tr>\n    <tr>\n      <th>Yeah</th>\n      <td>0.834787</td>\n      <td>2.0</td>\n      <td>0.0</td>\n      <td>0.0</td>\n      <td>0.0</td>\n      <td>0.0</td>\n      <td>0.0</td>\n      <td>0.0</td>\n      <td>4</td>\n      <td>0.0</td>\n      <td>18.0</td>\n      <td>1.0</td>\n      <td>1.0</td>\n      <td>4.0</td>\n      <td>1</td>\n      <td>0</td>\n      <td>0</td>\n    </tr>\n    <tr>\n      <th>nah</th>\n      <td>0.798594</td>\n      <td>5.0</td>\n      <td>0.0</td>\n      <td>0.0</td>\n      <td>0.0</td>\n      <td>0.0</td>\n      <td>0.0</td>\n      <td>0.0</td>\n      <td>3</td>\n      <td>0.0</td>\n      <td>18.0</td>\n      <td>1.0</td>\n      <td>1.0</td>\n      <td>4.0</td>\n      <td>0</td>\n      <td>1</td>\n      <td>0</td>\n    </tr>\n    <tr>\n      <th>oh</th>\n      <td>0.817392</td>\n      <td>4.0</td>\n      <td>0.0</td>\n      <td>0.0</td>\n      <td>0.0</td>\n      <td>0.0</td>\n      <td>0.0</td>\n      <td>1.0</td>\n      <td>2</td>\n      <td>0.0</td>\n      <td>18.0</td>\n      <td>1.0</td>\n      <td>1.0</td>\n      <td>4.0</td>\n      <td>0</td>\n      <td>1</td>\n      <td>0</td>\n    </tr>\n    <tr>\n      <th>...</th>\n      <td>...</td>\n      <td>...</td>\n      <td>...</td>\n      <td>...</td>\n      <td>...</td>\n      <td>...</td>\n      <td>...</td>\n      <td>...</td>\n      <td>...</td>\n      <td>...</td>\n      <td>...</td>\n      <td>...</td>\n      <td>...</td>\n      <td>...</td>\n      <td>...</td>\n      <td>...</td>\n      <td>...</td>\n    </tr>\n    <tr>\n      <th>ilysfm</th>\n      <td>0.867017</td>\n      <td>2.0</td>\n      <td>0.0</td>\n      <td>0.0</td>\n      <td>0.0</td>\n      <td>0.0</td>\n      <td>0.0</td>\n      <td>0.0</td>\n      <td>6</td>\n      <td>1.0</td>\n      <td>7.0</td>\n      <td>0.0</td>\n      <td>1.0</td>\n      <td>5.0</td>\n      <td>0</td>\n      <td>1</td>\n      <td>0</td>\n    </tr>\n    <tr>\n      <th>ilysm</th>\n      <td>1.000000</td>\n      <td>0.0</td>\n      <td>0.0</td>\n      <td>1.0</td>\n      <td>0.0</td>\n      <td>7.0</td>\n      <td>0.0</td>\n      <td>0.0</td>\n      <td>5</td>\n      <td>1.0</td>\n      <td>7.0</td>\n      <td>0.0</td>\n      <td>1.0</td>\n      <td>5.0</td>\n      <td>0</td>\n      <td>1</td>\n      <td>0</td>\n    </tr>\n    <tr>\n      <th>lysm</th>\n      <td>0.855508</td>\n      <td>4.0</td>\n      <td>0.0</td>\n      <td>0.0</td>\n      <td>0.0</td>\n      <td>0.0</td>\n      <td>0.0</td>\n      <td>0.0</td>\n      <td>4</td>\n      <td>0.0</td>\n      <td>7.0</td>\n      <td>0.0</td>\n      <td>1.0</td>\n      <td>5.0</td>\n      <td>0</td>\n      <td>1</td>\n      <td>0</td>\n    </tr>\n    <tr>\n      <th>silly</th>\n      <td>0.200586</td>\n      <td>0.0</td>\n      <td>0.0</td>\n      <td>0.0</td>\n      <td>0.0</td>\n      <td>0.0</td>\n      <td>2.0</td>\n      <td>1.0</td>\n      <td>5</td>\n      <td>0.0</td>\n      <td>7.0</td>\n      <td>0.0</td>\n      <td>1.0</td>\n      <td>5.0</td>\n      <td>0</td>\n      <td>1</td>\n      <td>0</td>\n    </tr>\n    <tr>\n      <th>smiley</th>\n      <td>0.340538</td>\n      <td>0.0</td>\n      <td>0.0</td>\n      <td>0.0</td>\n      <td>0.0</td>\n      <td>0.0</td>\n      <td>1.0</td>\n      <td>1.0</td>\n      <td>6</td>\n      <td>0.0</td>\n      <td>7.0</td>\n      <td>0.0</td>\n      <td>1.0</td>\n      <td>5.0</td>\n      <td>0</td>\n      <td>1</td>\n      <td>0</td>\n    </tr>\n  </tbody>\n</table>\n<p>3030660 rows × 17 columns</p>\n</div>"
     },
     "execution_count": 251,
     "metadata": {},
     "output_type": "execute_result"
    }
   ],
   "source": [
    "from lexnorm.models import normalise\n",
    "\n",
    "importlib.reload(normalise)\n",
    "\n",
    "train1 = normalise.prep_train(os.path.join(DATA_PATH, \"hpc/train_processed_annotated.txt\"))\n",
    "# dev.loc[(dev['process'] == 35) & (dev['tweet'] == 0) & (dev['tok'] == 2)]\n",
    "# dev[dev.index.map(lambda x: isinstance(x, float))]\n",
    "train1 = train1[0]\n",
    "train1filtered = train1.loc[train1.index.map(lambda x: not any(c.isupper() for c in x))]\n",
    "train1\n",
    "# TODO ARGHHHH maybe just revert to ignoring uppercase suggestions - this is a mess. Come back with a clearer head. Remove uppercase suggestions and try again"
   ],
   "metadata": {
    "collapsed": false
   }
  },
  {
   "cell_type": "code",
   "execution_count": 196,
   "outputs": [
    {
     "data": {
      "text/plain": "          cosine_to_orig  embeddings_rank  from_clipping  from_original_token  \\\nnah             0.798594              3.0            NaN                  NaN   \noh              0.817392              2.0            NaN                  NaN   \nuh              0.792014              4.0            NaN                  NaN   \nye ah                NaN              NaN            NaN                  NaN   \nye-ah                NaN              NaN            NaN                  NaN   \n...                  ...              ...            ...                  ...   \npoppn           0.861424              1.0            NaN                  NaN   \npopppin         0.820347              4.0            NaN                  NaN   \npropping        0.259834              NaN            NaN                  NaN   \npupping         0.272816              NaN            NaN                  NaN   \ntopping         0.379635              NaN            NaN                  NaN   \n\n          from_split  norms_seen  spellcheck_rank  in_lexicon  length  \\\nnah              NaN         NaN              NaN         NaN       3   \noh               NaN         NaN              NaN         1.0       2   \nuh               NaN         NaN              NaN         1.0       2   \nye ah            1.0         NaN              4.0         NaN       5   \nye-ah            NaN         NaN              5.0         NaN       5   \n...              ...         ...              ...         ...     ...   \npoppn            NaN         NaN              NaN         NaN       5   \npopppin          NaN         NaN              NaN         NaN       7   \npropping         NaN         NaN              5.0         1.0       8   \npupping          NaN         NaN              9.0         1.0       7   \ntopping          NaN         NaN              7.0         1.0       7   \n\n          same_order  orig_norms_seen  orig_in_lexicon  orig_same_order  \\\nnah              NaN             18.0              1.0              1.0   \noh               NaN             18.0              1.0              1.0   \nuh               NaN             18.0              1.0              1.0   \nye ah            1.0             18.0              1.0              1.0   \nye-ah            1.0             18.0              1.0              1.0   \n...              ...              ...              ...              ...   \npoppn            NaN              NaN              NaN              1.0   \npopppin          1.0              NaN              NaN              1.0   \npropping         1.0              NaN              NaN              1.0   \npupping          NaN              NaN              NaN              1.0   \ntopping          NaN              NaN              NaN              1.0   \n\n          orig_length  correct  process  tweet  tok     gold  \nnah               4.0      NaN       63      0    2     yeah  \noh                4.0      NaN       63      0    2     yeah  \nuh                4.0      NaN       63      0    2     yeah  \nye ah             4.0      NaN       63      0    2     yeah  \nye-ah             4.0      NaN       63      0    2     yeah  \n...               ...      ...      ...    ...  ...      ...  \npoppn             6.0      NaN       24     36  600  popping  \npopppin           6.0      NaN       24     36  600  popping  \npropping          6.0      NaN       24     36  600  popping  \npupping           6.0      NaN       24     36  600  popping  \ntopping           6.0      NaN       24     36  600  popping  \n\n[2988229 rows x 19 columns]",
      "text/html": "<div>\n<style scoped>\n    .dataframe tbody tr th:only-of-type {\n        vertical-align: middle;\n    }\n\n    .dataframe tbody tr th {\n        vertical-align: top;\n    }\n\n    .dataframe thead th {\n        text-align: right;\n    }\n</style>\n<table border=\"1\" class=\"dataframe\">\n  <thead>\n    <tr style=\"text-align: right;\">\n      <th></th>\n      <th>cosine_to_orig</th>\n      <th>embeddings_rank</th>\n      <th>from_clipping</th>\n      <th>from_original_token</th>\n      <th>from_split</th>\n      <th>norms_seen</th>\n      <th>spellcheck_rank</th>\n      <th>in_lexicon</th>\n      <th>length</th>\n      <th>same_order</th>\n      <th>orig_norms_seen</th>\n      <th>orig_in_lexicon</th>\n      <th>orig_same_order</th>\n      <th>orig_length</th>\n      <th>correct</th>\n      <th>process</th>\n      <th>tweet</th>\n      <th>tok</th>\n      <th>gold</th>\n    </tr>\n  </thead>\n  <tbody>\n    <tr>\n      <th>nah</th>\n      <td>0.798594</td>\n      <td>3.0</td>\n      <td>NaN</td>\n      <td>NaN</td>\n      <td>NaN</td>\n      <td>NaN</td>\n      <td>NaN</td>\n      <td>NaN</td>\n      <td>3</td>\n      <td>NaN</td>\n      <td>18.0</td>\n      <td>1.0</td>\n      <td>1.0</td>\n      <td>4.0</td>\n      <td>NaN</td>\n      <td>63</td>\n      <td>0</td>\n      <td>2</td>\n      <td>yeah</td>\n    </tr>\n    <tr>\n      <th>oh</th>\n      <td>0.817392</td>\n      <td>2.0</td>\n      <td>NaN</td>\n      <td>NaN</td>\n      <td>NaN</td>\n      <td>NaN</td>\n      <td>NaN</td>\n      <td>1.0</td>\n      <td>2</td>\n      <td>NaN</td>\n      <td>18.0</td>\n      <td>1.0</td>\n      <td>1.0</td>\n      <td>4.0</td>\n      <td>NaN</td>\n      <td>63</td>\n      <td>0</td>\n      <td>2</td>\n      <td>yeah</td>\n    </tr>\n    <tr>\n      <th>uh</th>\n      <td>0.792014</td>\n      <td>4.0</td>\n      <td>NaN</td>\n      <td>NaN</td>\n      <td>NaN</td>\n      <td>NaN</td>\n      <td>NaN</td>\n      <td>1.0</td>\n      <td>2</td>\n      <td>NaN</td>\n      <td>18.0</td>\n      <td>1.0</td>\n      <td>1.0</td>\n      <td>4.0</td>\n      <td>NaN</td>\n      <td>63</td>\n      <td>0</td>\n      <td>2</td>\n      <td>yeah</td>\n    </tr>\n    <tr>\n      <th>ye ah</th>\n      <td>NaN</td>\n      <td>NaN</td>\n      <td>NaN</td>\n      <td>NaN</td>\n      <td>1.0</td>\n      <td>NaN</td>\n      <td>4.0</td>\n      <td>NaN</td>\n      <td>5</td>\n      <td>1.0</td>\n      <td>18.0</td>\n      <td>1.0</td>\n      <td>1.0</td>\n      <td>4.0</td>\n      <td>NaN</td>\n      <td>63</td>\n      <td>0</td>\n      <td>2</td>\n      <td>yeah</td>\n    </tr>\n    <tr>\n      <th>ye-ah</th>\n      <td>NaN</td>\n      <td>NaN</td>\n      <td>NaN</td>\n      <td>NaN</td>\n      <td>NaN</td>\n      <td>NaN</td>\n      <td>5.0</td>\n      <td>NaN</td>\n      <td>5</td>\n      <td>1.0</td>\n      <td>18.0</td>\n      <td>1.0</td>\n      <td>1.0</td>\n      <td>4.0</td>\n      <td>NaN</td>\n      <td>63</td>\n      <td>0</td>\n      <td>2</td>\n      <td>yeah</td>\n    </tr>\n    <tr>\n      <th>...</th>\n      <td>...</td>\n      <td>...</td>\n      <td>...</td>\n      <td>...</td>\n      <td>...</td>\n      <td>...</td>\n      <td>...</td>\n      <td>...</td>\n      <td>...</td>\n      <td>...</td>\n      <td>...</td>\n      <td>...</td>\n      <td>...</td>\n      <td>...</td>\n      <td>...</td>\n      <td>...</td>\n      <td>...</td>\n      <td>...</td>\n      <td>...</td>\n    </tr>\n    <tr>\n      <th>poppn</th>\n      <td>0.861424</td>\n      <td>1.0</td>\n      <td>NaN</td>\n      <td>NaN</td>\n      <td>NaN</td>\n      <td>NaN</td>\n      <td>NaN</td>\n      <td>NaN</td>\n      <td>5</td>\n      <td>NaN</td>\n      <td>NaN</td>\n      <td>NaN</td>\n      <td>1.0</td>\n      <td>6.0</td>\n      <td>NaN</td>\n      <td>24</td>\n      <td>36</td>\n      <td>600</td>\n      <td>popping</td>\n    </tr>\n    <tr>\n      <th>popppin</th>\n      <td>0.820347</td>\n      <td>4.0</td>\n      <td>NaN</td>\n      <td>NaN</td>\n      <td>NaN</td>\n      <td>NaN</td>\n      <td>NaN</td>\n      <td>NaN</td>\n      <td>7</td>\n      <td>1.0</td>\n      <td>NaN</td>\n      <td>NaN</td>\n      <td>1.0</td>\n      <td>6.0</td>\n      <td>NaN</td>\n      <td>24</td>\n      <td>36</td>\n      <td>600</td>\n      <td>popping</td>\n    </tr>\n    <tr>\n      <th>propping</th>\n      <td>0.259834</td>\n      <td>NaN</td>\n      <td>NaN</td>\n      <td>NaN</td>\n      <td>NaN</td>\n      <td>NaN</td>\n      <td>5.0</td>\n      <td>1.0</td>\n      <td>8</td>\n      <td>1.0</td>\n      <td>NaN</td>\n      <td>NaN</td>\n      <td>1.0</td>\n      <td>6.0</td>\n      <td>NaN</td>\n      <td>24</td>\n      <td>36</td>\n      <td>600</td>\n      <td>popping</td>\n    </tr>\n    <tr>\n      <th>pupping</th>\n      <td>0.272816</td>\n      <td>NaN</td>\n      <td>NaN</td>\n      <td>NaN</td>\n      <td>NaN</td>\n      <td>NaN</td>\n      <td>9.0</td>\n      <td>1.0</td>\n      <td>7</td>\n      <td>NaN</td>\n      <td>NaN</td>\n      <td>NaN</td>\n      <td>1.0</td>\n      <td>6.0</td>\n      <td>NaN</td>\n      <td>24</td>\n      <td>36</td>\n      <td>600</td>\n      <td>popping</td>\n    </tr>\n    <tr>\n      <th>topping</th>\n      <td>0.379635</td>\n      <td>NaN</td>\n      <td>NaN</td>\n      <td>NaN</td>\n      <td>NaN</td>\n      <td>NaN</td>\n      <td>7.0</td>\n      <td>1.0</td>\n      <td>7</td>\n      <td>NaN</td>\n      <td>NaN</td>\n      <td>NaN</td>\n      <td>1.0</td>\n      <td>6.0</td>\n      <td>NaN</td>\n      <td>24</td>\n      <td>36</td>\n      <td>600</td>\n      <td>popping</td>\n    </tr>\n  </tbody>\n</table>\n<p>2988229 rows × 19 columns</p>\n</div>"
     },
     "execution_count": 196,
     "metadata": {},
     "output_type": "execute_result"
    }
   ],
   "source": [
    "dev = pd.read_csv(os.path.join(DATA_PATH, \"hpc/train_annotated.txt\"), index_col=0, keep_default_na=False, na_values=\"\")\n",
    "# dev.loc[(dev['process'] == 35) & (dev['tweet'] == 0) & (dev['tok'] == 2)]\n",
    "dev"
   ],
   "metadata": {
    "collapsed": false
   }
  },
  {
   "cell_type": "code",
   "execution_count": 222,
   "outputs": [
    {
     "data": {
      "text/plain": "      cosine_to_orig  embeddings_rank  from_clipping  from_original_token  \\\n2 2         0.000000              0.0            0.0                  0.0   \n2-2         0.339055              0.0            0.0                  0.0   \n150         0.931679              6.0            0.0                  0.0   \n250         0.941498              3.0            0.0                  0.0   \n400         0.939982              4.0            0.0                  0.0   \n...              ...              ...            ...                  ...   \n1974        0.945421              4.0            0.0                  0.0   \n1976        0.934110              9.0            0.0                  0.0   \n1977        0.944008              6.0            0.0                  0.0   \n1978        0.951944              2.0            0.0                  0.0   \n1981        0.940626              7.0            0.0                  0.0   \n\n      from_split  norms_seen  spellcheck_rank  in_lexicon  length  same_order  \\\n2 2          0.0         0.0              2.0         0.0       3         1.0   \n2-2          0.0         0.0              3.0         0.0       3         1.0   \n150          0.0         0.0              0.0         0.0       3         0.0   \n250          0.0         0.0              0.0         0.0       3         0.0   \n400          0.0         0.0              0.0         0.0       3         0.0   \n...          ...         ...              ...         ...     ...         ...   \n1974         0.0         0.0              0.0         0.0       4         0.0   \n1976         0.0         0.0              0.0         0.0       4         0.0   \n1977         0.0         0.0              0.0         0.0       4         0.0   \n1978         0.0         0.0              0.0         0.0       4         0.0   \n1981         0.0         0.0              0.0         0.0       4         0.0   \n\n      orig_norms_seen  orig_in_lexicon  orig_same_order  orig_length  \\\n2 2               1.0              0.0              1.0          2.0   \n2-2               1.0              0.0              1.0          2.0   \n150               2.0              0.0              1.0          4.0   \n250               2.0              0.0              1.0          4.0   \n400               2.0              0.0              1.0          4.0   \n...               ...              ...              ...          ...   \n1974              1.0              0.0              1.0          4.0   \n1976              1.0              0.0              1.0          4.0   \n1977              1.0              0.0              1.0          4.0   \n1978              1.0              0.0              1.0          4.0   \n1981              1.0              0.0              1.0          4.0   \n\n      initial_capital  lowercase  uppercase  \n2 2                 0          0          0  \n2-2                 0          0          0  \n150                 0          0          0  \n250                 0          0          0  \n400                 0          0          0  \n...               ...        ...        ...  \n1974                0          0          0  \n1976                0          0          0  \n1977                0          0          0  \n1978                0          0          0  \n1981                0          0          0  \n\n[955 rows x 17 columns]",
      "text/html": "<div>\n<style scoped>\n    .dataframe tbody tr th:only-of-type {\n        vertical-align: middle;\n    }\n\n    .dataframe tbody tr th {\n        vertical-align: top;\n    }\n\n    .dataframe thead th {\n        text-align: right;\n    }\n</style>\n<table border=\"1\" class=\"dataframe\">\n  <thead>\n    <tr style=\"text-align: right;\">\n      <th></th>\n      <th>cosine_to_orig</th>\n      <th>embeddings_rank</th>\n      <th>from_clipping</th>\n      <th>from_original_token</th>\n      <th>from_split</th>\n      <th>norms_seen</th>\n      <th>spellcheck_rank</th>\n      <th>in_lexicon</th>\n      <th>length</th>\n      <th>same_order</th>\n      <th>orig_norms_seen</th>\n      <th>orig_in_lexicon</th>\n      <th>orig_same_order</th>\n      <th>orig_length</th>\n      <th>initial_capital</th>\n      <th>lowercase</th>\n      <th>uppercase</th>\n    </tr>\n  </thead>\n  <tbody>\n    <tr>\n      <th>2 2</th>\n      <td>0.000000</td>\n      <td>0.0</td>\n      <td>0.0</td>\n      <td>0.0</td>\n      <td>0.0</td>\n      <td>0.0</td>\n      <td>2.0</td>\n      <td>0.0</td>\n      <td>3</td>\n      <td>1.0</td>\n      <td>1.0</td>\n      <td>0.0</td>\n      <td>1.0</td>\n      <td>2.0</td>\n      <td>0</td>\n      <td>0</td>\n      <td>0</td>\n    </tr>\n    <tr>\n      <th>2-2</th>\n      <td>0.339055</td>\n      <td>0.0</td>\n      <td>0.0</td>\n      <td>0.0</td>\n      <td>0.0</td>\n      <td>0.0</td>\n      <td>3.0</td>\n      <td>0.0</td>\n      <td>3</td>\n      <td>1.0</td>\n      <td>1.0</td>\n      <td>0.0</td>\n      <td>1.0</td>\n      <td>2.0</td>\n      <td>0</td>\n      <td>0</td>\n      <td>0</td>\n    </tr>\n    <tr>\n      <th>150</th>\n      <td>0.931679</td>\n      <td>6.0</td>\n      <td>0.0</td>\n      <td>0.0</td>\n      <td>0.0</td>\n      <td>0.0</td>\n      <td>0.0</td>\n      <td>0.0</td>\n      <td>3</td>\n      <td>0.0</td>\n      <td>2.0</td>\n      <td>0.0</td>\n      <td>1.0</td>\n      <td>4.0</td>\n      <td>0</td>\n      <td>0</td>\n      <td>0</td>\n    </tr>\n    <tr>\n      <th>250</th>\n      <td>0.941498</td>\n      <td>3.0</td>\n      <td>0.0</td>\n      <td>0.0</td>\n      <td>0.0</td>\n      <td>0.0</td>\n      <td>0.0</td>\n      <td>0.0</td>\n      <td>3</td>\n      <td>0.0</td>\n      <td>2.0</td>\n      <td>0.0</td>\n      <td>1.0</td>\n      <td>4.0</td>\n      <td>0</td>\n      <td>0</td>\n      <td>0</td>\n    </tr>\n    <tr>\n      <th>400</th>\n      <td>0.939982</td>\n      <td>4.0</td>\n      <td>0.0</td>\n      <td>0.0</td>\n      <td>0.0</td>\n      <td>0.0</td>\n      <td>0.0</td>\n      <td>0.0</td>\n      <td>3</td>\n      <td>0.0</td>\n      <td>2.0</td>\n      <td>0.0</td>\n      <td>1.0</td>\n      <td>4.0</td>\n      <td>0</td>\n      <td>0</td>\n      <td>0</td>\n    </tr>\n    <tr>\n      <th>...</th>\n      <td>...</td>\n      <td>...</td>\n      <td>...</td>\n      <td>...</td>\n      <td>...</td>\n      <td>...</td>\n      <td>...</td>\n      <td>...</td>\n      <td>...</td>\n      <td>...</td>\n      <td>...</td>\n      <td>...</td>\n      <td>...</td>\n      <td>...</td>\n      <td>...</td>\n      <td>...</td>\n      <td>...</td>\n    </tr>\n    <tr>\n      <th>1974</th>\n      <td>0.945421</td>\n      <td>4.0</td>\n      <td>0.0</td>\n      <td>0.0</td>\n      <td>0.0</td>\n      <td>0.0</td>\n      <td>0.0</td>\n      <td>0.0</td>\n      <td>4</td>\n      <td>0.0</td>\n      <td>1.0</td>\n      <td>0.0</td>\n      <td>1.0</td>\n      <td>4.0</td>\n      <td>0</td>\n      <td>0</td>\n      <td>0</td>\n    </tr>\n    <tr>\n      <th>1976</th>\n      <td>0.934110</td>\n      <td>9.0</td>\n      <td>0.0</td>\n      <td>0.0</td>\n      <td>0.0</td>\n      <td>0.0</td>\n      <td>0.0</td>\n      <td>0.0</td>\n      <td>4</td>\n      <td>0.0</td>\n      <td>1.0</td>\n      <td>0.0</td>\n      <td>1.0</td>\n      <td>4.0</td>\n      <td>0</td>\n      <td>0</td>\n      <td>0</td>\n    </tr>\n    <tr>\n      <th>1977</th>\n      <td>0.944008</td>\n      <td>6.0</td>\n      <td>0.0</td>\n      <td>0.0</td>\n      <td>0.0</td>\n      <td>0.0</td>\n      <td>0.0</td>\n      <td>0.0</td>\n      <td>4</td>\n      <td>0.0</td>\n      <td>1.0</td>\n      <td>0.0</td>\n      <td>1.0</td>\n      <td>4.0</td>\n      <td>0</td>\n      <td>0</td>\n      <td>0</td>\n    </tr>\n    <tr>\n      <th>1978</th>\n      <td>0.951944</td>\n      <td>2.0</td>\n      <td>0.0</td>\n      <td>0.0</td>\n      <td>0.0</td>\n      <td>0.0</td>\n      <td>0.0</td>\n      <td>0.0</td>\n      <td>4</td>\n      <td>0.0</td>\n      <td>1.0</td>\n      <td>0.0</td>\n      <td>1.0</td>\n      <td>4.0</td>\n      <td>0</td>\n      <td>0</td>\n      <td>0</td>\n    </tr>\n    <tr>\n      <th>1981</th>\n      <td>0.940626</td>\n      <td>7.0</td>\n      <td>0.0</td>\n      <td>0.0</td>\n      <td>0.0</td>\n      <td>0.0</td>\n      <td>0.0</td>\n      <td>0.0</td>\n      <td>4</td>\n      <td>0.0</td>\n      <td>1.0</td>\n      <td>0.0</td>\n      <td>1.0</td>\n      <td>4.0</td>\n      <td>0</td>\n      <td>0</td>\n      <td>0</td>\n    </tr>\n  </tbody>\n</table>\n<p>955 rows × 17 columns</p>\n</div>"
     },
     "execution_count": 222,
     "metadata": {},
     "output_type": "execute_result"
    }
   ],
   "source": [
    "import numpy as np\n",
    "\n",
    "train1filtered.loc[train1filtered.index.to_series().isin(dev.index.to_series())==False]\n",
    "# TODO: the difference in predictions"
   ],
   "metadata": {
    "collapsed": false
   }
  },
  {
   "cell_type": "code",
   "execution_count": 231,
   "outputs": [
    {
     "data": {
      "text/plain": "         cosine_to_orig  embeddings_rank  from_clipping  from_original_token  \\\nLeah           0.220881              0.0            0.0                  0.0   \nYea            0.780648              7.0            0.0                  0.0   \nYeah           0.834787              2.0            0.0                  0.0   \nHahn           0.188633              0.0            0.0                  0.0   \nHannah         0.186623              0.0            0.0                  0.0   \n...                 ...              ...            ...                  ...   \nCamilla        0.393767              0.0            0.0                  0.0   \nCamille        0.365450              0.0            0.0                  0.0   \nCarmela        0.363765              0.0            0.0                  0.0   \nElysium        0.071589              0.0            0.0                  0.0   \nIlysm          0.856666              3.0            0.0                  0.0   \n\n         from_split  norms_seen  spellcheck_rank  in_lexicon  length  \\\nLeah            0.0         0.0              5.0         0.0       4   \nYea             0.0         0.0              0.0         0.0       3   \nYeah            0.0         0.0              0.0         0.0       4   \nHahn            0.0         0.0              6.0         0.0       4   \nHannah          0.0         0.0              7.0         0.0       6   \n...             ...         ...              ...         ...     ...   \nCamilla         0.0         0.0              1.0         0.0       7   \nCamille         0.0         0.0              2.0         0.0       7   \nCarmela         0.0         0.0              6.0         0.0       7   \nElysium         0.0         0.0              3.0         0.0       7   \nIlysm           0.0         0.0              0.0         0.0       5   \n\n         same_order  orig_norms_seen  orig_in_lexicon  orig_same_order  \\\nLeah            0.0             18.0              1.0              1.0   \nYea             0.0             18.0              1.0              1.0   \nYeah            0.0             18.0              1.0              1.0   \nHahn            0.0             67.0              0.0              1.0   \nHannah          0.0             67.0              0.0              1.0   \n...             ...              ...              ...              ...   \nCamilla         0.0              2.0              0.0              1.0   \nCamille         0.0              2.0              0.0              1.0   \nCarmela         0.0              2.0              0.0              1.0   \nElysium         0.0              7.0              0.0              1.0   \nIlysm           0.0              7.0              0.0              1.0   \n\n         orig_length  initial_capital  lowercase  uppercase  \nLeah             4.0                1          0          0  \nYea              4.0                1          0          0  \nYeah             4.0                1          0          0  \nHahn             4.0                1          0          0  \nHannah           4.0                1          0          0  \n...              ...              ...        ...        ...  \nCamilla          6.0                1          0          0  \nCamille          6.0                1          0          0  \nCarmela          6.0                1          0          0  \nElysium          5.0                1          0          0  \nIlysm            5.0                1          0          0  \n\n[39919 rows x 17 columns]",
      "text/html": "<div>\n<style scoped>\n    .dataframe tbody tr th:only-of-type {\n        vertical-align: middle;\n    }\n\n    .dataframe tbody tr th {\n        vertical-align: top;\n    }\n\n    .dataframe thead th {\n        text-align: right;\n    }\n</style>\n<table border=\"1\" class=\"dataframe\">\n  <thead>\n    <tr style=\"text-align: right;\">\n      <th></th>\n      <th>cosine_to_orig</th>\n      <th>embeddings_rank</th>\n      <th>from_clipping</th>\n      <th>from_original_token</th>\n      <th>from_split</th>\n      <th>norms_seen</th>\n      <th>spellcheck_rank</th>\n      <th>in_lexicon</th>\n      <th>length</th>\n      <th>same_order</th>\n      <th>orig_norms_seen</th>\n      <th>orig_in_lexicon</th>\n      <th>orig_same_order</th>\n      <th>orig_length</th>\n      <th>initial_capital</th>\n      <th>lowercase</th>\n      <th>uppercase</th>\n    </tr>\n  </thead>\n  <tbody>\n    <tr>\n      <th>Leah</th>\n      <td>0.220881</td>\n      <td>0.0</td>\n      <td>0.0</td>\n      <td>0.0</td>\n      <td>0.0</td>\n      <td>0.0</td>\n      <td>5.0</td>\n      <td>0.0</td>\n      <td>4</td>\n      <td>0.0</td>\n      <td>18.0</td>\n      <td>1.0</td>\n      <td>1.0</td>\n      <td>4.0</td>\n      <td>1</td>\n      <td>0</td>\n      <td>0</td>\n    </tr>\n    <tr>\n      <th>Yea</th>\n      <td>0.780648</td>\n      <td>7.0</td>\n      <td>0.0</td>\n      <td>0.0</td>\n      <td>0.0</td>\n      <td>0.0</td>\n      <td>0.0</td>\n      <td>0.0</td>\n      <td>3</td>\n      <td>0.0</td>\n      <td>18.0</td>\n      <td>1.0</td>\n      <td>1.0</td>\n      <td>4.0</td>\n      <td>1</td>\n      <td>0</td>\n      <td>0</td>\n    </tr>\n    <tr>\n      <th>Yeah</th>\n      <td>0.834787</td>\n      <td>2.0</td>\n      <td>0.0</td>\n      <td>0.0</td>\n      <td>0.0</td>\n      <td>0.0</td>\n      <td>0.0</td>\n      <td>0.0</td>\n      <td>4</td>\n      <td>0.0</td>\n      <td>18.0</td>\n      <td>1.0</td>\n      <td>1.0</td>\n      <td>4.0</td>\n      <td>1</td>\n      <td>0</td>\n      <td>0</td>\n    </tr>\n    <tr>\n      <th>Hahn</th>\n      <td>0.188633</td>\n      <td>0.0</td>\n      <td>0.0</td>\n      <td>0.0</td>\n      <td>0.0</td>\n      <td>0.0</td>\n      <td>6.0</td>\n      <td>0.0</td>\n      <td>4</td>\n      <td>0.0</td>\n      <td>67.0</td>\n      <td>0.0</td>\n      <td>1.0</td>\n      <td>4.0</td>\n      <td>1</td>\n      <td>0</td>\n      <td>0</td>\n    </tr>\n    <tr>\n      <th>Hannah</th>\n      <td>0.186623</td>\n      <td>0.0</td>\n      <td>0.0</td>\n      <td>0.0</td>\n      <td>0.0</td>\n      <td>0.0</td>\n      <td>7.0</td>\n      <td>0.0</td>\n      <td>6</td>\n      <td>0.0</td>\n      <td>67.0</td>\n      <td>0.0</td>\n      <td>1.0</td>\n      <td>4.0</td>\n      <td>1</td>\n      <td>0</td>\n      <td>0</td>\n    </tr>\n    <tr>\n      <th>...</th>\n      <td>...</td>\n      <td>...</td>\n      <td>...</td>\n      <td>...</td>\n      <td>...</td>\n      <td>...</td>\n      <td>...</td>\n      <td>...</td>\n      <td>...</td>\n      <td>...</td>\n      <td>...</td>\n      <td>...</td>\n      <td>...</td>\n      <td>...</td>\n      <td>...</td>\n      <td>...</td>\n      <td>...</td>\n    </tr>\n    <tr>\n      <th>Camilla</th>\n      <td>0.393767</td>\n      <td>0.0</td>\n      <td>0.0</td>\n      <td>0.0</td>\n      <td>0.0</td>\n      <td>0.0</td>\n      <td>1.0</td>\n      <td>0.0</td>\n      <td>7</td>\n      <td>0.0</td>\n      <td>2.0</td>\n      <td>0.0</td>\n      <td>1.0</td>\n      <td>6.0</td>\n      <td>1</td>\n      <td>0</td>\n      <td>0</td>\n    </tr>\n    <tr>\n      <th>Camille</th>\n      <td>0.365450</td>\n      <td>0.0</td>\n      <td>0.0</td>\n      <td>0.0</td>\n      <td>0.0</td>\n      <td>0.0</td>\n      <td>2.0</td>\n      <td>0.0</td>\n      <td>7</td>\n      <td>0.0</td>\n      <td>2.0</td>\n      <td>0.0</td>\n      <td>1.0</td>\n      <td>6.0</td>\n      <td>1</td>\n      <td>0</td>\n      <td>0</td>\n    </tr>\n    <tr>\n      <th>Carmela</th>\n      <td>0.363765</td>\n      <td>0.0</td>\n      <td>0.0</td>\n      <td>0.0</td>\n      <td>0.0</td>\n      <td>0.0</td>\n      <td>6.0</td>\n      <td>0.0</td>\n      <td>7</td>\n      <td>0.0</td>\n      <td>2.0</td>\n      <td>0.0</td>\n      <td>1.0</td>\n      <td>6.0</td>\n      <td>1</td>\n      <td>0</td>\n      <td>0</td>\n    </tr>\n    <tr>\n      <th>Elysium</th>\n      <td>0.071589</td>\n      <td>0.0</td>\n      <td>0.0</td>\n      <td>0.0</td>\n      <td>0.0</td>\n      <td>0.0</td>\n      <td>3.0</td>\n      <td>0.0</td>\n      <td>7</td>\n      <td>0.0</td>\n      <td>7.0</td>\n      <td>0.0</td>\n      <td>1.0</td>\n      <td>5.0</td>\n      <td>1</td>\n      <td>0</td>\n      <td>0</td>\n    </tr>\n    <tr>\n      <th>Ilysm</th>\n      <td>0.856666</td>\n      <td>3.0</td>\n      <td>0.0</td>\n      <td>0.0</td>\n      <td>0.0</td>\n      <td>0.0</td>\n      <td>0.0</td>\n      <td>0.0</td>\n      <td>5</td>\n      <td>0.0</td>\n      <td>7.0</td>\n      <td>0.0</td>\n      <td>1.0</td>\n      <td>5.0</td>\n      <td>1</td>\n      <td>0</td>\n      <td>0</td>\n    </tr>\n  </tbody>\n</table>\n<p>39919 rows × 17 columns</p>\n</div>"
     },
     "execution_count": 231,
     "metadata": {},
     "output_type": "execute_result"
    }
   ],
   "source": [
    "train1.loc[train1.index.to_series().isin(dev.index.to_series())==False]\n",
    "# the difference is entirely from embeddings and spellcheck module putting out stuff that isn't lowercase!"
   ],
   "metadata": {
    "collapsed": false
   }
  },
  {
   "cell_type": "code",
   "execution_count": 204,
   "outputs": [
    {
     "data": {
      "text/plain": "6876"
     },
     "execution_count": 204,
     "metadata": {},
     "output_type": "execute_result"
    }
   ],
   "source": [
    "counter = 0\n",
    "\n",
    "for tweet in raw:\n",
    "    for tok in tweet:\n",
    "        if is_eligible(tok):\n",
    "           counter += 1\n",
    "\n",
    "counter"
   ],
   "metadata": {
    "collapsed": false
   }
  },
  {
   "cell_type": "code",
   "execution_count": 238,
   "outputs": [
    {
     "data": {
      "text/plain": "False"
     },
     "execution_count": 238,
     "metadata": {},
     "output_type": "execute_result"
    }
   ],
   "source": [
    "\"5\".islower()"
   ],
   "metadata": {
    "collapsed": false
   }
  },
  {
   "cell_type": "code",
   "execution_count": 236,
   "outputs": [
    {
     "data": {
      "text/plain": "Leah       True\nYea        True\nYeah       True\nHahn       True\nHannah     True\n           ... \nCamilla    True\nCamille    True\nCarmela    True\nElysium    True\nIlysm      True\nLength: 42595, dtype: bool"
     },
     "execution_count": 236,
     "metadata": {},
     "output_type": "execute_result"
    }
   ],
   "source": [
    "train1.loc[((train1.embeddings_rank > 0) | (train1.spellcheck_rank > 0)) & (train1.lowercase == 0)].index.to_series().isin(train1.loc[train1.index.to_series().isin(dev.index.to_series())==False].index.to_series())"
   ],
   "metadata": {
    "collapsed": false
   }
  },
  {
   "cell_type": "code",
   "execution_count": 274,
   "outputs": [
    {
     "data": {
      "text/plain": "         cosine_to_orig  embeddings_rank  from_clipping  from_original_token  \\\nLeah           0.220881              0.0            0.0                  0.0   \nYea            0.780648              7.0            0.0                  0.0   \nYeah           0.834787              2.0            0.0                  0.0   \nHahn           0.188633              0.0            0.0                  0.0   \nHannah         0.186623              0.0            0.0                  0.0   \n...                 ...              ...            ...                  ...   \nCamilla        0.393767              0.0            0.0                  0.0   \nCamille        0.365450              0.0            0.0                  0.0   \nCarmela        0.363765              0.0            0.0                  0.0   \nElysium        0.071589              0.0            0.0                  0.0   \nIlysm          0.856666              3.0            0.0                  0.0   \n\n         from_split  norms_seen  spellcheck_rank  in_lexicon  length  \\\nLeah            0.0         0.0              5.0         0.0       4   \nYea             0.0         0.0              0.0         0.0       3   \nYeah            0.0         0.0              0.0         0.0       4   \nHahn            0.0         0.0              6.0         0.0       4   \nHannah          0.0         0.0              7.0         0.0       6   \n...             ...         ...              ...         ...     ...   \nCamilla         0.0         0.0              1.0         0.0       7   \nCamille         0.0         0.0              2.0         0.0       7   \nCarmela         0.0         0.0              6.0         0.0       7   \nElysium         0.0         0.0              3.0         0.0       7   \nIlysm           0.0         0.0              0.0         0.0       5   \n\n         same_order  orig_norms_seen  orig_in_lexicon  orig_same_order  \\\nLeah            0.0             18.0              1.0              1.0   \nYea             0.0             18.0              1.0              1.0   \nYeah            0.0             18.0              1.0              1.0   \nHahn            0.0             67.0              0.0              1.0   \nHannah          0.0             67.0              0.0              1.0   \n...             ...              ...              ...              ...   \nCamilla         0.0              2.0              0.0              1.0   \nCamille         0.0              2.0              0.0              1.0   \nCarmela         0.0              2.0              0.0              1.0   \nElysium         0.0              7.0              0.0              1.0   \nIlysm           0.0              7.0              0.0              1.0   \n\n         orig_length  initial_capital  lowercase  uppercase  \nLeah             4.0                1          0          0  \nYea              4.0                1          0          0  \nYeah             4.0                1          0          0  \nHahn             4.0                1          0          0  \nHannah           4.0                1          0          0  \n...              ...              ...        ...        ...  \nCamilla          6.0                1          0          0  \nCamille          6.0                1          0          0  \nCarmela          6.0                1          0          0  \nElysium          5.0                1          0          0  \nIlysm            5.0                1          0          0  \n\n[39278 rows x 17 columns]",
      "text/html": "<div>\n<style scoped>\n    .dataframe tbody tr th:only-of-type {\n        vertical-align: middle;\n    }\n\n    .dataframe tbody tr th {\n        vertical-align: top;\n    }\n\n    .dataframe thead th {\n        text-align: right;\n    }\n</style>\n<table border=\"1\" class=\"dataframe\">\n  <thead>\n    <tr style=\"text-align: right;\">\n      <th></th>\n      <th>cosine_to_orig</th>\n      <th>embeddings_rank</th>\n      <th>from_clipping</th>\n      <th>from_original_token</th>\n      <th>from_split</th>\n      <th>norms_seen</th>\n      <th>spellcheck_rank</th>\n      <th>in_lexicon</th>\n      <th>length</th>\n      <th>same_order</th>\n      <th>orig_norms_seen</th>\n      <th>orig_in_lexicon</th>\n      <th>orig_same_order</th>\n      <th>orig_length</th>\n      <th>initial_capital</th>\n      <th>lowercase</th>\n      <th>uppercase</th>\n    </tr>\n  </thead>\n  <tbody>\n    <tr>\n      <th>Leah</th>\n      <td>0.220881</td>\n      <td>0.0</td>\n      <td>0.0</td>\n      <td>0.0</td>\n      <td>0.0</td>\n      <td>0.0</td>\n      <td>5.0</td>\n      <td>0.0</td>\n      <td>4</td>\n      <td>0.0</td>\n      <td>18.0</td>\n      <td>1.0</td>\n      <td>1.0</td>\n      <td>4.0</td>\n      <td>1</td>\n      <td>0</td>\n      <td>0</td>\n    </tr>\n    <tr>\n      <th>Yea</th>\n      <td>0.780648</td>\n      <td>7.0</td>\n      <td>0.0</td>\n      <td>0.0</td>\n      <td>0.0</td>\n      <td>0.0</td>\n      <td>0.0</td>\n      <td>0.0</td>\n      <td>3</td>\n      <td>0.0</td>\n      <td>18.0</td>\n      <td>1.0</td>\n      <td>1.0</td>\n      <td>4.0</td>\n      <td>1</td>\n      <td>0</td>\n      <td>0</td>\n    </tr>\n    <tr>\n      <th>Yeah</th>\n      <td>0.834787</td>\n      <td>2.0</td>\n      <td>0.0</td>\n      <td>0.0</td>\n      <td>0.0</td>\n      <td>0.0</td>\n      <td>0.0</td>\n      <td>0.0</td>\n      <td>4</td>\n      <td>0.0</td>\n      <td>18.0</td>\n      <td>1.0</td>\n      <td>1.0</td>\n      <td>4.0</td>\n      <td>1</td>\n      <td>0</td>\n      <td>0</td>\n    </tr>\n    <tr>\n      <th>Hahn</th>\n      <td>0.188633</td>\n      <td>0.0</td>\n      <td>0.0</td>\n      <td>0.0</td>\n      <td>0.0</td>\n      <td>0.0</td>\n      <td>6.0</td>\n      <td>0.0</td>\n      <td>4</td>\n      <td>0.0</td>\n      <td>67.0</td>\n      <td>0.0</td>\n      <td>1.0</td>\n      <td>4.0</td>\n      <td>1</td>\n      <td>0</td>\n      <td>0</td>\n    </tr>\n    <tr>\n      <th>Hannah</th>\n      <td>0.186623</td>\n      <td>0.0</td>\n      <td>0.0</td>\n      <td>0.0</td>\n      <td>0.0</td>\n      <td>0.0</td>\n      <td>7.0</td>\n      <td>0.0</td>\n      <td>6</td>\n      <td>0.0</td>\n      <td>67.0</td>\n      <td>0.0</td>\n      <td>1.0</td>\n      <td>4.0</td>\n      <td>1</td>\n      <td>0</td>\n      <td>0</td>\n    </tr>\n    <tr>\n      <th>...</th>\n      <td>...</td>\n      <td>...</td>\n      <td>...</td>\n      <td>...</td>\n      <td>...</td>\n      <td>...</td>\n      <td>...</td>\n      <td>...</td>\n      <td>...</td>\n      <td>...</td>\n      <td>...</td>\n      <td>...</td>\n      <td>...</td>\n      <td>...</td>\n      <td>...</td>\n      <td>...</td>\n      <td>...</td>\n    </tr>\n    <tr>\n      <th>Camilla</th>\n      <td>0.393767</td>\n      <td>0.0</td>\n      <td>0.0</td>\n      <td>0.0</td>\n      <td>0.0</td>\n      <td>0.0</td>\n      <td>1.0</td>\n      <td>0.0</td>\n      <td>7</td>\n      <td>0.0</td>\n      <td>2.0</td>\n      <td>0.0</td>\n      <td>1.0</td>\n      <td>6.0</td>\n      <td>1</td>\n      <td>0</td>\n      <td>0</td>\n    </tr>\n    <tr>\n      <th>Camille</th>\n      <td>0.365450</td>\n      <td>0.0</td>\n      <td>0.0</td>\n      <td>0.0</td>\n      <td>0.0</td>\n      <td>0.0</td>\n      <td>2.0</td>\n      <td>0.0</td>\n      <td>7</td>\n      <td>0.0</td>\n      <td>2.0</td>\n      <td>0.0</td>\n      <td>1.0</td>\n      <td>6.0</td>\n      <td>1</td>\n      <td>0</td>\n      <td>0</td>\n    </tr>\n    <tr>\n      <th>Carmela</th>\n      <td>0.363765</td>\n      <td>0.0</td>\n      <td>0.0</td>\n      <td>0.0</td>\n      <td>0.0</td>\n      <td>0.0</td>\n      <td>6.0</td>\n      <td>0.0</td>\n      <td>7</td>\n      <td>0.0</td>\n      <td>2.0</td>\n      <td>0.0</td>\n      <td>1.0</td>\n      <td>6.0</td>\n      <td>1</td>\n      <td>0</td>\n      <td>0</td>\n    </tr>\n    <tr>\n      <th>Elysium</th>\n      <td>0.071589</td>\n      <td>0.0</td>\n      <td>0.0</td>\n      <td>0.0</td>\n      <td>0.0</td>\n      <td>0.0</td>\n      <td>3.0</td>\n      <td>0.0</td>\n      <td>7</td>\n      <td>0.0</td>\n      <td>7.0</td>\n      <td>0.0</td>\n      <td>1.0</td>\n      <td>5.0</td>\n      <td>1</td>\n      <td>0</td>\n      <td>0</td>\n    </tr>\n    <tr>\n      <th>Ilysm</th>\n      <td>0.856666</td>\n      <td>3.0</td>\n      <td>0.0</td>\n      <td>0.0</td>\n      <td>0.0</td>\n      <td>0.0</td>\n      <td>0.0</td>\n      <td>0.0</td>\n      <td>5</td>\n      <td>0.0</td>\n      <td>7.0</td>\n      <td>0.0</td>\n      <td>1.0</td>\n      <td>5.0</td>\n      <td>1</td>\n      <td>0</td>\n      <td>0</td>\n    </tr>\n  </tbody>\n</table>\n<p>39278 rows × 17 columns</p>\n</div>"
     },
     "execution_count": 274,
     "metadata": {},
     "output_type": "execute_result"
    }
   ],
   "source": [
    "train1.loc[((train1.embeddings_rank > 0) | (train1.spellcheck_rank > 0)) & (train1.lowercase == 0) & (train1.index.map(lambda x: not x.isnumeric()))]"
   ],
   "metadata": {
    "collapsed": false
   }
  },
  {
   "cell_type": "code",
   "execution_count": 259,
   "outputs": [
    {
     "data": {
      "text/plain": "True"
     },
     "execution_count": 259,
     "metadata": {},
     "output_type": "execute_result"
    }
   ],
   "source": [
    "# TODO: perhaps just give up and do not generate non-lowercase suggestions for\n",
    "\"漢\".isalnum()\n",
    "# CHINESE, ARABIC, KOREAN seen as alphanumeric in python!!"
   ],
   "metadata": {
    "collapsed": false
   }
  },
  {
   "cell_type": "code",
   "execution_count": 277,
   "outputs": [
    {
     "data": {
      "text/plain": "         cosine_to_orig  embeddings_rank  from_clipping  from_original_token  \\\ncan                 1.0              NaN            1.0                  1.0   \nyou                 1.0              NaN            1.0                  1.0   \nopen                1.0              NaN            1.0                  1.0   \nthe                 1.0              NaN            1.0                  1.0   \nlink                1.0              NaN            1.0                  1.0   \n...                 ...              ...            ...                  ...   \nthere               1.0              NaN            1.0                  1.0   \ncalling             1.0              NaN            1.0                  1.0   \nyall                1.0              NaN            NaN                  1.0   \nthots               1.0              NaN            NaN                  1.0   \nlol                 1.0              NaN            1.0                  1.0   \n\n         from_split  norms_seen  spellcheck_rank  in_lexicon  length  \\\ncan             NaN        72.0              NaN         1.0       3   \nyou             NaN       274.0              NaN         1.0       3   \nopen            NaN         8.0              NaN         1.0       4   \nthe             NaN       515.0              NaN         1.0       3   \nlink            NaN         4.0              NaN         1.0       4   \n...             ...         ...              ...         ...     ...   \nthere           NaN        24.0              2.0         1.0       5   \ncalling         NaN         1.0              0.0         1.0       7   \nyall            NaN         NaN              NaN         NaN       4   \nthots           NaN         5.0              NaN         NaN       5   \nlol             NaN       205.0              NaN         1.0       3   \n\n         same_order  orig_norms_seen  orig_in_lexicon  orig_same_order  \\\ncan             1.0             72.0              1.0              1.0   \nyou             1.0            274.0              1.0              1.0   \nopen            1.0              8.0              1.0              1.0   \nthe             1.0            515.0              1.0              1.0   \nlink            1.0              4.0              1.0              1.0   \n...             ...              ...              ...              ...   \nthere           1.0             24.0              1.0              1.0   \ncalling         1.0              1.0              1.0              1.0   \nyall            1.0              NaN              NaN              1.0   \nthots           1.0              5.0              NaN              1.0   \nlol             1.0            205.0              1.0              1.0   \n\n         orig_length  correct raw_tok_index     gold  \ncan              3.0      1.0          35_0      can  \nyou              3.0      1.0          35_1      you  \nopen             4.0      1.0          35_2     open  \nthe              3.0      1.0          35_3      the  \nlink             4.0      1.0          35_4     link  \n...              ...      ...           ...      ...  \nthere            5.0      1.0        32_156    there  \ncalling          7.0      1.0        32_157  calling  \nyall             4.0      NaN        32_158    y'all  \nthots            5.0      1.0        32_159    thots  \nlol              3.0      1.0        32_160      lol  \n\n[6876 rows x 17 columns]",
      "text/html": "<div>\n<style scoped>\n    .dataframe tbody tr th:only-of-type {\n        vertical-align: middle;\n    }\n\n    .dataframe tbody tr th {\n        vertical-align: top;\n    }\n\n    .dataframe thead th {\n        text-align: right;\n    }\n</style>\n<table border=\"1\" class=\"dataframe\">\n  <thead>\n    <tr style=\"text-align: right;\">\n      <th></th>\n      <th>cosine_to_orig</th>\n      <th>embeddings_rank</th>\n      <th>from_clipping</th>\n      <th>from_original_token</th>\n      <th>from_split</th>\n      <th>norms_seen</th>\n      <th>spellcheck_rank</th>\n      <th>in_lexicon</th>\n      <th>length</th>\n      <th>same_order</th>\n      <th>orig_norms_seen</th>\n      <th>orig_in_lexicon</th>\n      <th>orig_same_order</th>\n      <th>orig_length</th>\n      <th>correct</th>\n      <th>raw_tok_index</th>\n      <th>gold</th>\n    </tr>\n  </thead>\n  <tbody>\n    <tr>\n      <th>can</th>\n      <td>1.0</td>\n      <td>NaN</td>\n      <td>1.0</td>\n      <td>1.0</td>\n      <td>NaN</td>\n      <td>72.0</td>\n      <td>NaN</td>\n      <td>1.0</td>\n      <td>3</td>\n      <td>1.0</td>\n      <td>72.0</td>\n      <td>1.0</td>\n      <td>1.0</td>\n      <td>3.0</td>\n      <td>1.0</td>\n      <td>35_0</td>\n      <td>can</td>\n    </tr>\n    <tr>\n      <th>you</th>\n      <td>1.0</td>\n      <td>NaN</td>\n      <td>1.0</td>\n      <td>1.0</td>\n      <td>NaN</td>\n      <td>274.0</td>\n      <td>NaN</td>\n      <td>1.0</td>\n      <td>3</td>\n      <td>1.0</td>\n      <td>274.0</td>\n      <td>1.0</td>\n      <td>1.0</td>\n      <td>3.0</td>\n      <td>1.0</td>\n      <td>35_1</td>\n      <td>you</td>\n    </tr>\n    <tr>\n      <th>open</th>\n      <td>1.0</td>\n      <td>NaN</td>\n      <td>1.0</td>\n      <td>1.0</td>\n      <td>NaN</td>\n      <td>8.0</td>\n      <td>NaN</td>\n      <td>1.0</td>\n      <td>4</td>\n      <td>1.0</td>\n      <td>8.0</td>\n      <td>1.0</td>\n      <td>1.0</td>\n      <td>4.0</td>\n      <td>1.0</td>\n      <td>35_2</td>\n      <td>open</td>\n    </tr>\n    <tr>\n      <th>the</th>\n      <td>1.0</td>\n      <td>NaN</td>\n      <td>1.0</td>\n      <td>1.0</td>\n      <td>NaN</td>\n      <td>515.0</td>\n      <td>NaN</td>\n      <td>1.0</td>\n      <td>3</td>\n      <td>1.0</td>\n      <td>515.0</td>\n      <td>1.0</td>\n      <td>1.0</td>\n      <td>3.0</td>\n      <td>1.0</td>\n      <td>35_3</td>\n      <td>the</td>\n    </tr>\n    <tr>\n      <th>link</th>\n      <td>1.0</td>\n      <td>NaN</td>\n      <td>1.0</td>\n      <td>1.0</td>\n      <td>NaN</td>\n      <td>4.0</td>\n      <td>NaN</td>\n      <td>1.0</td>\n      <td>4</td>\n      <td>1.0</td>\n      <td>4.0</td>\n      <td>1.0</td>\n      <td>1.0</td>\n      <td>4.0</td>\n      <td>1.0</td>\n      <td>35_4</td>\n      <td>link</td>\n    </tr>\n    <tr>\n      <th>...</th>\n      <td>...</td>\n      <td>...</td>\n      <td>...</td>\n      <td>...</td>\n      <td>...</td>\n      <td>...</td>\n      <td>...</td>\n      <td>...</td>\n      <td>...</td>\n      <td>...</td>\n      <td>...</td>\n      <td>...</td>\n      <td>...</td>\n      <td>...</td>\n      <td>...</td>\n      <td>...</td>\n      <td>...</td>\n    </tr>\n    <tr>\n      <th>there</th>\n      <td>1.0</td>\n      <td>NaN</td>\n      <td>1.0</td>\n      <td>1.0</td>\n      <td>NaN</td>\n      <td>24.0</td>\n      <td>2.0</td>\n      <td>1.0</td>\n      <td>5</td>\n      <td>1.0</td>\n      <td>24.0</td>\n      <td>1.0</td>\n      <td>1.0</td>\n      <td>5.0</td>\n      <td>1.0</td>\n      <td>32_156</td>\n      <td>there</td>\n    </tr>\n    <tr>\n      <th>calling</th>\n      <td>1.0</td>\n      <td>NaN</td>\n      <td>1.0</td>\n      <td>1.0</td>\n      <td>NaN</td>\n      <td>1.0</td>\n      <td>0.0</td>\n      <td>1.0</td>\n      <td>7</td>\n      <td>1.0</td>\n      <td>1.0</td>\n      <td>1.0</td>\n      <td>1.0</td>\n      <td>7.0</td>\n      <td>1.0</td>\n      <td>32_157</td>\n      <td>calling</td>\n    </tr>\n    <tr>\n      <th>yall</th>\n      <td>1.0</td>\n      <td>NaN</td>\n      <td>NaN</td>\n      <td>1.0</td>\n      <td>NaN</td>\n      <td>NaN</td>\n      <td>NaN</td>\n      <td>NaN</td>\n      <td>4</td>\n      <td>1.0</td>\n      <td>NaN</td>\n      <td>NaN</td>\n      <td>1.0</td>\n      <td>4.0</td>\n      <td>NaN</td>\n      <td>32_158</td>\n      <td>y'all</td>\n    </tr>\n    <tr>\n      <th>thots</th>\n      <td>1.0</td>\n      <td>NaN</td>\n      <td>NaN</td>\n      <td>1.0</td>\n      <td>NaN</td>\n      <td>5.0</td>\n      <td>NaN</td>\n      <td>NaN</td>\n      <td>5</td>\n      <td>1.0</td>\n      <td>5.0</td>\n      <td>NaN</td>\n      <td>1.0</td>\n      <td>5.0</td>\n      <td>1.0</td>\n      <td>32_159</td>\n      <td>thots</td>\n    </tr>\n    <tr>\n      <th>lol</th>\n      <td>1.0</td>\n      <td>NaN</td>\n      <td>1.0</td>\n      <td>1.0</td>\n      <td>NaN</td>\n      <td>205.0</td>\n      <td>NaN</td>\n      <td>1.0</td>\n      <td>3</td>\n      <td>1.0</td>\n      <td>205.0</td>\n      <td>1.0</td>\n      <td>1.0</td>\n      <td>3.0</td>\n      <td>1.0</td>\n      <td>32_160</td>\n      <td>lol</td>\n    </tr>\n  </tbody>\n</table>\n<p>6876 rows × 17 columns</p>\n</div>"
     },
     "execution_count": 277,
     "metadata": {},
     "output_type": "execute_result"
    }
   ],
   "source": [
    "dev = pd.read_csv(os.path.join(DATA_PATH, \"hpc/dev_annotated.txt\"), index_col=0, keep_default_na=False, na_values=\"\")\n",
    "dev.loc[dev.from_original_token == 1]"
   ],
   "metadata": {
    "collapsed": false
   }
  },
  {
   "cell_type": "code",
   "execution_count": 287,
   "outputs": [
    {
     "data": {
      "text/plain": "              index  process  tweet  tok\n0                ah        0      0    4\n1               why        0      0    8\n2               sub        0      0    9\n3              ozil        0      0   10\n4             opolo        0      0   14\n...             ...      ...    ...  ...\n26392            of       63     28   11\n26393           the       63     28   12\n26394        summer       63     28   13\n26395        wearin       63     28   14\n26396  chinchilla's       63     28   16\n\n[26397 rows x 4 columns]",
      "text/html": "<div>\n<style scoped>\n    .dataframe tbody tr th:only-of-type {\n        vertical-align: middle;\n    }\n\n    .dataframe tbody tr th {\n        vertical-align: top;\n    }\n\n    .dataframe thead th {\n        text-align: right;\n    }\n</style>\n<table border=\"1\" class=\"dataframe\">\n  <thead>\n    <tr style=\"text-align: right;\">\n      <th></th>\n      <th>index</th>\n      <th>process</th>\n      <th>tweet</th>\n      <th>tok</th>\n    </tr>\n  </thead>\n  <tbody>\n    <tr>\n      <th>0</th>\n      <td>ah</td>\n      <td>0</td>\n      <td>0</td>\n      <td>4</td>\n    </tr>\n    <tr>\n      <th>1</th>\n      <td>why</td>\n      <td>0</td>\n      <td>0</td>\n      <td>8</td>\n    </tr>\n    <tr>\n      <th>2</th>\n      <td>sub</td>\n      <td>0</td>\n      <td>0</td>\n      <td>9</td>\n    </tr>\n    <tr>\n      <th>3</th>\n      <td>ozil</td>\n      <td>0</td>\n      <td>0</td>\n      <td>10</td>\n    </tr>\n    <tr>\n      <th>4</th>\n      <td>opolo</td>\n      <td>0</td>\n      <td>0</td>\n      <td>14</td>\n    </tr>\n    <tr>\n      <th>...</th>\n      <td>...</td>\n      <td>...</td>\n      <td>...</td>\n      <td>...</td>\n    </tr>\n    <tr>\n      <th>26392</th>\n      <td>of</td>\n      <td>63</td>\n      <td>28</td>\n      <td>11</td>\n    </tr>\n    <tr>\n      <th>26393</th>\n      <td>the</td>\n      <td>63</td>\n      <td>28</td>\n      <td>12</td>\n    </tr>\n    <tr>\n      <th>26394</th>\n      <td>summer</td>\n      <td>63</td>\n      <td>28</td>\n      <td>13</td>\n    </tr>\n    <tr>\n      <th>26395</th>\n      <td>wearin</td>\n      <td>63</td>\n      <td>28</td>\n      <td>14</td>\n    </tr>\n    <tr>\n      <th>26396</th>\n      <td>chinchilla's</td>\n      <td>63</td>\n      <td>28</td>\n      <td>16</td>\n    </tr>\n  </tbody>\n</table>\n<p>26397 rows × 4 columns</p>\n</div>"
     },
     "execution_count": 287,
     "metadata": {},
     "output_type": "execute_result"
    }
   ],
   "source": [
    "train.loc[train.from_original_token == 1].sort_values([\"process\", \"tweet\", \"tok\"]).loc[:, [\"process\", \"tweet\", \"tok\"]].reset_index()"
   ],
   "metadata": {
    "collapsed": false
   }
  },
  {
   "cell_type": "code",
   "execution_count": 3,
   "outputs": [
    {
     "data": {
      "text/plain": "            cosine_to_orig  embeddings_rank  from_clipping  \\\nRuhr              0.150083              NaN            NaN   \nbreh              0.881024              7.0            NaN   \nbro               0.873462              8.0            NaN   \nbrother           0.444352              NaN            NaN   \nbruh              1.000000              NaN            NaN   \n...                    ...              ...            ...   \nlocate                 NaN              NaN            NaN   \nloctite                NaN              NaN            NaN   \nloiter                 NaN              NaN            NaN   \nstalactite             NaN              NaN            NaN   \n1405603                NaN              NaN            NaN   \n\n            from_original_token  from_split  norms_seen  spellcheck_rank  \\\nRuhr                        NaN         NaN         NaN              2.0   \nbreh                        NaN         NaN         NaN              NaN   \nbro                         NaN         NaN         NaN              NaN   \nbrother                     NaN         NaN        26.0              NaN   \nbruh                        1.0         NaN         NaN              NaN   \n...                         ...         ...         ...              ...   \nlocate                      NaN         NaN         NaN              1.0   \nloctite                     1.0         NaN         NaN              NaN   \nloiter                      NaN         NaN         NaN              2.0   \nstalactite                  NaN         NaN         NaN              5.0   \n1405603                     1.0         NaN         NaN              NaN   \n\n            in_lexicon  length  same_order  orig_norms_seen  orig_in_lexicon  \\\nRuhr               NaN       4         NaN              NaN              NaN   \nbreh               NaN       4         NaN              NaN              NaN   \nbro                NaN       3         NaN              NaN              NaN   \nbrother            1.0       7         NaN              NaN              NaN   \nbruh               NaN       4         1.0              NaN              NaN   \n...                ...     ...         ...              ...              ...   \nlocate             1.0       6         NaN              NaN              NaN   \nloctite            NaN       7         1.0              NaN              NaN   \nloiter             1.0       6         NaN              NaN              NaN   \nstalactite         1.0      10         NaN              NaN              NaN   \n1405603            NaN       7         1.0              NaN              NaN   \n\n            orig_same_order  orig_length      raw  tok_id  \nRuhr                    1.0          4.0     bruh       0  \nbreh                    1.0          4.0     bruh       0  \nbro                     1.0          4.0     bruh       0  \nbrother                 1.0          4.0     bruh       0  \nbruh                    1.0          4.0     bruh       0  \n...                     ...          ...      ...     ...  \nlocate                  1.0          7.0  loctite    6874  \nloctite                 1.0          7.0  loctite    6874  \nloiter                  1.0          7.0  loctite    6874  \nstalactite              1.0          7.0  loctite    6874  \n1405603                 1.0          7.0  1405603    6875  \n\n[738491 rows x 16 columns]",
      "text/html": "<div>\n<style scoped>\n    .dataframe tbody tr th:only-of-type {\n        vertical-align: middle;\n    }\n\n    .dataframe tbody tr th {\n        vertical-align: top;\n    }\n\n    .dataframe thead th {\n        text-align: right;\n    }\n</style>\n<table border=\"1\" class=\"dataframe\">\n  <thead>\n    <tr style=\"text-align: right;\">\n      <th></th>\n      <th>cosine_to_orig</th>\n      <th>embeddings_rank</th>\n      <th>from_clipping</th>\n      <th>from_original_token</th>\n      <th>from_split</th>\n      <th>norms_seen</th>\n      <th>spellcheck_rank</th>\n      <th>in_lexicon</th>\n      <th>length</th>\n      <th>same_order</th>\n      <th>orig_norms_seen</th>\n      <th>orig_in_lexicon</th>\n      <th>orig_same_order</th>\n      <th>orig_length</th>\n      <th>raw</th>\n      <th>tok_id</th>\n    </tr>\n  </thead>\n  <tbody>\n    <tr>\n      <th>Ruhr</th>\n      <td>0.150083</td>\n      <td>NaN</td>\n      <td>NaN</td>\n      <td>NaN</td>\n      <td>NaN</td>\n      <td>NaN</td>\n      <td>2.0</td>\n      <td>NaN</td>\n      <td>4</td>\n      <td>NaN</td>\n      <td>NaN</td>\n      <td>NaN</td>\n      <td>1.0</td>\n      <td>4.0</td>\n      <td>bruh</td>\n      <td>0</td>\n    </tr>\n    <tr>\n      <th>breh</th>\n      <td>0.881024</td>\n      <td>7.0</td>\n      <td>NaN</td>\n      <td>NaN</td>\n      <td>NaN</td>\n      <td>NaN</td>\n      <td>NaN</td>\n      <td>NaN</td>\n      <td>4</td>\n      <td>NaN</td>\n      <td>NaN</td>\n      <td>NaN</td>\n      <td>1.0</td>\n      <td>4.0</td>\n      <td>bruh</td>\n      <td>0</td>\n    </tr>\n    <tr>\n      <th>bro</th>\n      <td>0.873462</td>\n      <td>8.0</td>\n      <td>NaN</td>\n      <td>NaN</td>\n      <td>NaN</td>\n      <td>NaN</td>\n      <td>NaN</td>\n      <td>NaN</td>\n      <td>3</td>\n      <td>NaN</td>\n      <td>NaN</td>\n      <td>NaN</td>\n      <td>1.0</td>\n      <td>4.0</td>\n      <td>bruh</td>\n      <td>0</td>\n    </tr>\n    <tr>\n      <th>brother</th>\n      <td>0.444352</td>\n      <td>NaN</td>\n      <td>NaN</td>\n      <td>NaN</td>\n      <td>NaN</td>\n      <td>26.0</td>\n      <td>NaN</td>\n      <td>1.0</td>\n      <td>7</td>\n      <td>NaN</td>\n      <td>NaN</td>\n      <td>NaN</td>\n      <td>1.0</td>\n      <td>4.0</td>\n      <td>bruh</td>\n      <td>0</td>\n    </tr>\n    <tr>\n      <th>bruh</th>\n      <td>1.000000</td>\n      <td>NaN</td>\n      <td>NaN</td>\n      <td>1.0</td>\n      <td>NaN</td>\n      <td>NaN</td>\n      <td>NaN</td>\n      <td>NaN</td>\n      <td>4</td>\n      <td>1.0</td>\n      <td>NaN</td>\n      <td>NaN</td>\n      <td>1.0</td>\n      <td>4.0</td>\n      <td>bruh</td>\n      <td>0</td>\n    </tr>\n    <tr>\n      <th>...</th>\n      <td>...</td>\n      <td>...</td>\n      <td>...</td>\n      <td>...</td>\n      <td>...</td>\n      <td>...</td>\n      <td>...</td>\n      <td>...</td>\n      <td>...</td>\n      <td>...</td>\n      <td>...</td>\n      <td>...</td>\n      <td>...</td>\n      <td>...</td>\n      <td>...</td>\n      <td>...</td>\n    </tr>\n    <tr>\n      <th>locate</th>\n      <td>NaN</td>\n      <td>NaN</td>\n      <td>NaN</td>\n      <td>NaN</td>\n      <td>NaN</td>\n      <td>NaN</td>\n      <td>1.0</td>\n      <td>1.0</td>\n      <td>6</td>\n      <td>NaN</td>\n      <td>NaN</td>\n      <td>NaN</td>\n      <td>1.0</td>\n      <td>7.0</td>\n      <td>loctite</td>\n      <td>6874</td>\n    </tr>\n    <tr>\n      <th>loctite</th>\n      <td>NaN</td>\n      <td>NaN</td>\n      <td>NaN</td>\n      <td>1.0</td>\n      <td>NaN</td>\n      <td>NaN</td>\n      <td>NaN</td>\n      <td>NaN</td>\n      <td>7</td>\n      <td>1.0</td>\n      <td>NaN</td>\n      <td>NaN</td>\n      <td>1.0</td>\n      <td>7.0</td>\n      <td>loctite</td>\n      <td>6874</td>\n    </tr>\n    <tr>\n      <th>loiter</th>\n      <td>NaN</td>\n      <td>NaN</td>\n      <td>NaN</td>\n      <td>NaN</td>\n      <td>NaN</td>\n      <td>NaN</td>\n      <td>2.0</td>\n      <td>1.0</td>\n      <td>6</td>\n      <td>NaN</td>\n      <td>NaN</td>\n      <td>NaN</td>\n      <td>1.0</td>\n      <td>7.0</td>\n      <td>loctite</td>\n      <td>6874</td>\n    </tr>\n    <tr>\n      <th>stalactite</th>\n      <td>NaN</td>\n      <td>NaN</td>\n      <td>NaN</td>\n      <td>NaN</td>\n      <td>NaN</td>\n      <td>NaN</td>\n      <td>5.0</td>\n      <td>1.0</td>\n      <td>10</td>\n      <td>NaN</td>\n      <td>NaN</td>\n      <td>NaN</td>\n      <td>1.0</td>\n      <td>7.0</td>\n      <td>loctite</td>\n      <td>6874</td>\n    </tr>\n    <tr>\n      <th>1405603</th>\n      <td>NaN</td>\n      <td>NaN</td>\n      <td>NaN</td>\n      <td>1.0</td>\n      <td>NaN</td>\n      <td>NaN</td>\n      <td>NaN</td>\n      <td>NaN</td>\n      <td>7</td>\n      <td>1.0</td>\n      <td>NaN</td>\n      <td>NaN</td>\n      <td>1.0</td>\n      <td>7.0</td>\n      <td>1405603</td>\n      <td>6875</td>\n    </tr>\n  </tbody>\n</table>\n<p>738491 rows × 16 columns</p>\n</div>"
     },
     "execution_count": 3,
     "metadata": {},
     "output_type": "execute_result"
    }
   ],
   "source": [
    "from lexnorm.generate_extract import process\n",
    "import pandas as pd\n",
    "import os\n",
    "from lexnorm.definitions import DATA_PATH\n",
    "import importlib\n",
    "importlib.reload(process)\n",
    "dev = pd.read_csv(os.path.join(DATA_PATH, \"hpc/dev_processed.txt\"), index_col=0, keep_default_na=False, na_values=\"\")\n",
    "process.create_index(dev)"
   ],
   "metadata": {
    "collapsed": false
   }
  },
  {
   "cell_type": "code",
   "execution_count": 4,
   "outputs": [
    {
     "data": {
      "text/plain": "            cosine_to_orig  embeddings_rank  from_clipping  \\\nbreh              0.881024              7.0            NaN   \nbro               0.873462              8.0            NaN   \nbrother           0.444352              NaN            NaN   \nbruh              1.000000              NaN            NaN   \nbruhhh            0.887914              4.0            NaN   \n...                    ...              ...            ...   \nlocate                 NaN              NaN            NaN   \nloctite                NaN              NaN            NaN   \nloiter                 NaN              NaN            NaN   \nstalactite             NaN              NaN            NaN   \n1405603                NaN              NaN            NaN   \n\n            from_original_token  from_split  norms_seen  spellcheck_rank  \\\nbreh                        NaN         NaN         NaN              NaN   \nbro                         NaN         NaN         NaN              NaN   \nbrother                     NaN         NaN        26.0              NaN   \nbruh                        1.0         NaN         NaN              NaN   \nbruhhh                      NaN         NaN         NaN              NaN   \n...                         ...         ...         ...              ...   \nlocate                      NaN         NaN         NaN              1.0   \nloctite                     1.0         NaN         NaN              NaN   \nloiter                      NaN         NaN         NaN              2.0   \nstalactite                  NaN         NaN         NaN              4.0   \n1405603                     1.0         NaN         NaN              NaN   \n\n            in_lexicon  length  same_order  orig_norms_seen  orig_in_lexicon  \\\nbreh               NaN       4         NaN              NaN              NaN   \nbro                NaN       3         NaN              NaN              NaN   \nbrother            1.0       7         NaN              NaN              NaN   \nbruh               NaN       4         1.0              NaN              NaN   \nbruhhh             NaN       6         1.0              NaN              NaN   \n...                ...     ...         ...              ...              ...   \nlocate             1.0       6         NaN              NaN              NaN   \nloctite            NaN       7         1.0              NaN              NaN   \nloiter             1.0       6         NaN              NaN              NaN   \nstalactite         1.0      10         NaN              NaN              NaN   \n1405603            NaN       7         1.0              NaN              NaN   \n\n            orig_same_order  orig_length      raw      prev     next  tok_id  \\\nbreh                    1.0          4.0     bruh  @cdutra5      get       0   \nbro                     1.0          4.0     bruh  @cdutra5      get       0   \nbrother                 1.0          4.0     bruh  @cdutra5      get       0   \nbruh                    1.0          4.0     bruh  @cdutra5      get       0   \nbruhhh                  1.0          4.0     bruh  @cdutra5      get       0   \n...                     ...          ...      ...       ...      ...     ...   \nlocate                  1.0          7.0  loctite       gel  1405603    6874   \nloctite                 1.0          7.0  loctite       gel  1405603    6874   \nloiter                  1.0          7.0  loctite       gel  1405603    6874   \nstalactite              1.0          7.0  loctite       gel  1405603    6874   \n1405603                 1.0          7.0  1405603   loctite      0.8    6875   \n\n               gold  \nbreh        brother  \nbro         brother  \nbrother     brother  \nbruh        brother  \nbruhhh      brother  \n...             ...  \nlocate      loctite  \nloctite     loctite  \nloiter      loctite  \nstalactite  loctite  \n1405603     1405603  \n\n[724672 rows x 19 columns]",
      "text/html": "<div>\n<style scoped>\n    .dataframe tbody tr th:only-of-type {\n        vertical-align: middle;\n    }\n\n    .dataframe tbody tr th {\n        vertical-align: top;\n    }\n\n    .dataframe thead th {\n        text-align: right;\n    }\n</style>\n<table border=\"1\" class=\"dataframe\">\n  <thead>\n    <tr style=\"text-align: right;\">\n      <th></th>\n      <th>cosine_to_orig</th>\n      <th>embeddings_rank</th>\n      <th>from_clipping</th>\n      <th>from_original_token</th>\n      <th>from_split</th>\n      <th>norms_seen</th>\n      <th>spellcheck_rank</th>\n      <th>in_lexicon</th>\n      <th>length</th>\n      <th>same_order</th>\n      <th>orig_norms_seen</th>\n      <th>orig_in_lexicon</th>\n      <th>orig_same_order</th>\n      <th>orig_length</th>\n      <th>raw</th>\n      <th>prev</th>\n      <th>next</th>\n      <th>tok_id</th>\n      <th>gold</th>\n    </tr>\n  </thead>\n  <tbody>\n    <tr>\n      <th>breh</th>\n      <td>0.881024</td>\n      <td>7.0</td>\n      <td>NaN</td>\n      <td>NaN</td>\n      <td>NaN</td>\n      <td>NaN</td>\n      <td>NaN</td>\n      <td>NaN</td>\n      <td>4</td>\n      <td>NaN</td>\n      <td>NaN</td>\n      <td>NaN</td>\n      <td>1.0</td>\n      <td>4.0</td>\n      <td>bruh</td>\n      <td>@cdutra5</td>\n      <td>get</td>\n      <td>0</td>\n      <td>brother</td>\n    </tr>\n    <tr>\n      <th>bro</th>\n      <td>0.873462</td>\n      <td>8.0</td>\n      <td>NaN</td>\n      <td>NaN</td>\n      <td>NaN</td>\n      <td>NaN</td>\n      <td>NaN</td>\n      <td>NaN</td>\n      <td>3</td>\n      <td>NaN</td>\n      <td>NaN</td>\n      <td>NaN</td>\n      <td>1.0</td>\n      <td>4.0</td>\n      <td>bruh</td>\n      <td>@cdutra5</td>\n      <td>get</td>\n      <td>0</td>\n      <td>brother</td>\n    </tr>\n    <tr>\n      <th>brother</th>\n      <td>0.444352</td>\n      <td>NaN</td>\n      <td>NaN</td>\n      <td>NaN</td>\n      <td>NaN</td>\n      <td>26.0</td>\n      <td>NaN</td>\n      <td>1.0</td>\n      <td>7</td>\n      <td>NaN</td>\n      <td>NaN</td>\n      <td>NaN</td>\n      <td>1.0</td>\n      <td>4.0</td>\n      <td>bruh</td>\n      <td>@cdutra5</td>\n      <td>get</td>\n      <td>0</td>\n      <td>brother</td>\n    </tr>\n    <tr>\n      <th>bruh</th>\n      <td>1.000000</td>\n      <td>NaN</td>\n      <td>NaN</td>\n      <td>1.0</td>\n      <td>NaN</td>\n      <td>NaN</td>\n      <td>NaN</td>\n      <td>NaN</td>\n      <td>4</td>\n      <td>1.0</td>\n      <td>NaN</td>\n      <td>NaN</td>\n      <td>1.0</td>\n      <td>4.0</td>\n      <td>bruh</td>\n      <td>@cdutra5</td>\n      <td>get</td>\n      <td>0</td>\n      <td>brother</td>\n    </tr>\n    <tr>\n      <th>bruhhh</th>\n      <td>0.887914</td>\n      <td>4.0</td>\n      <td>NaN</td>\n      <td>NaN</td>\n      <td>NaN</td>\n      <td>NaN</td>\n      <td>NaN</td>\n      <td>NaN</td>\n      <td>6</td>\n      <td>1.0</td>\n      <td>NaN</td>\n      <td>NaN</td>\n      <td>1.0</td>\n      <td>4.0</td>\n      <td>bruh</td>\n      <td>@cdutra5</td>\n      <td>get</td>\n      <td>0</td>\n      <td>brother</td>\n    </tr>\n    <tr>\n      <th>...</th>\n      <td>...</td>\n      <td>...</td>\n      <td>...</td>\n      <td>...</td>\n      <td>...</td>\n      <td>...</td>\n      <td>...</td>\n      <td>...</td>\n      <td>...</td>\n      <td>...</td>\n      <td>...</td>\n      <td>...</td>\n      <td>...</td>\n      <td>...</td>\n      <td>...</td>\n      <td>...</td>\n      <td>...</td>\n      <td>...</td>\n      <td>...</td>\n    </tr>\n    <tr>\n      <th>locate</th>\n      <td>NaN</td>\n      <td>NaN</td>\n      <td>NaN</td>\n      <td>NaN</td>\n      <td>NaN</td>\n      <td>NaN</td>\n      <td>1.0</td>\n      <td>1.0</td>\n      <td>6</td>\n      <td>NaN</td>\n      <td>NaN</td>\n      <td>NaN</td>\n      <td>1.0</td>\n      <td>7.0</td>\n      <td>loctite</td>\n      <td>gel</td>\n      <td>1405603</td>\n      <td>6874</td>\n      <td>loctite</td>\n    </tr>\n    <tr>\n      <th>loctite</th>\n      <td>NaN</td>\n      <td>NaN</td>\n      <td>NaN</td>\n      <td>1.0</td>\n      <td>NaN</td>\n      <td>NaN</td>\n      <td>NaN</td>\n      <td>NaN</td>\n      <td>7</td>\n      <td>1.0</td>\n      <td>NaN</td>\n      <td>NaN</td>\n      <td>1.0</td>\n      <td>7.0</td>\n      <td>loctite</td>\n      <td>gel</td>\n      <td>1405603</td>\n      <td>6874</td>\n      <td>loctite</td>\n    </tr>\n    <tr>\n      <th>loiter</th>\n      <td>NaN</td>\n      <td>NaN</td>\n      <td>NaN</td>\n      <td>NaN</td>\n      <td>NaN</td>\n      <td>NaN</td>\n      <td>2.0</td>\n      <td>1.0</td>\n      <td>6</td>\n      <td>NaN</td>\n      <td>NaN</td>\n      <td>NaN</td>\n      <td>1.0</td>\n      <td>7.0</td>\n      <td>loctite</td>\n      <td>gel</td>\n      <td>1405603</td>\n      <td>6874</td>\n      <td>loctite</td>\n    </tr>\n    <tr>\n      <th>stalactite</th>\n      <td>NaN</td>\n      <td>NaN</td>\n      <td>NaN</td>\n      <td>NaN</td>\n      <td>NaN</td>\n      <td>NaN</td>\n      <td>4.0</td>\n      <td>1.0</td>\n      <td>10</td>\n      <td>NaN</td>\n      <td>NaN</td>\n      <td>NaN</td>\n      <td>1.0</td>\n      <td>7.0</td>\n      <td>loctite</td>\n      <td>gel</td>\n      <td>1405603</td>\n      <td>6874</td>\n      <td>loctite</td>\n    </tr>\n    <tr>\n      <th>1405603</th>\n      <td>NaN</td>\n      <td>NaN</td>\n      <td>NaN</td>\n      <td>1.0</td>\n      <td>NaN</td>\n      <td>NaN</td>\n      <td>NaN</td>\n      <td>NaN</td>\n      <td>7</td>\n      <td>1.0</td>\n      <td>NaN</td>\n      <td>NaN</td>\n      <td>1.0</td>\n      <td>7.0</td>\n      <td>1405603</td>\n      <td>loctite</td>\n      <td>0.8</td>\n      <td>6875</td>\n      <td>1405603</td>\n    </tr>\n  </tbody>\n</table>\n<p>724672 rows × 19 columns</p>\n</div>"
     },
     "execution_count": 4,
     "metadata": {},
     "output_type": "execute_result"
    }
   ],
   "source": [
    "# using create_index to index into corresponding normalisations list for each candidate - dev.gold\n",
    "dev = pd.read_csv(os.path.join(DATA_PATH, \"hpc/dev_processed_nocap_neighbours.txt\"), index_col=0, keep_default_na=False, na_values=\"\")\n",
    "dev = process.create_index(dev)\n",
    "\n",
    "from lexnorm.data import normEval\n",
    "from lexnorm.generate_extract.filtering import is_eligible\n",
    "\n",
    "raw, norm = normEval.loadNormData(os.path.join(DATA_PATH, \"raw/dev.norm\"))\n",
    "eligible_norms = []\n",
    "for raw_tweet, norm_tweet in zip(raw, norm):\n",
    "    for raw_tok, norm_tok in zip(raw_tweet, norm_tweet):\n",
    "        if is_eligible(raw_tok):\n",
    "            eligible_norms.append(norm_tok)\n",
    "dev[\"gold\"] = dev.apply(lambda x: eligible_norms[x.tok_id], axis=1)\n",
    "dev"
   ],
   "metadata": {
    "collapsed": false
   }
  },
  {
   "cell_type": "code",
   "execution_count": 5,
   "outputs": [
    {
     "data": {
      "text/plain": "                    raw            gold\ndeese              dese           these\nsemen             summn       something\nbeside           bestie     best friend\nbrenneh          niggra          nigger\ndatatype        datpiff        the piff\ncricut              diy  do it yourself\na                    ya            your\nbottle           lottle             lot\nbows               nows          now is\ntidewater   whatdoiwear  what do i wear\nbreath           brutha         brother\naah                 yah             you\nchizz             shizz            shit\nhappily      happylgovo           happy\ncal                 gal             guy\naffi                nuh            know\nbauni               ntn         nothing\ncabanatuan          mnl     my new love\nbajakk        poooollll            pool\ndammit         goddamit     god damn it\nbetcha           getcha         get you\navicci           skepta      sunglasses\ncreators           devs       developer\nhitch            witchu        with you\ndrika               nem            they\nf kn                fkn         fucking\naim                 sim           seems\nhavefun         satnite  saturday night\ninfinity         nuffin         nothing\ndies               diss            this\napish              hapi           happy\nbu                  hbu   how about you\nessayer          yessss             yes\nas                  vas             was\nbedsore          redsox         red sox\ncup                 sup       what's up\nsurpass          wassup       what's up\na                    za            that\ncams               cums           comes\nant                 dnt         doesn't\nchat               shat            shit\naight               yea             you\n2sleep              slp           sleep\naid                 dia           their\nfckin            fuccin         fucking\nbrah                cuh         see you\nfinna            trynna       trying to\nbuff               nuff          enough\nempting             pre        preorder\nborder            order                \na                    da            that\na                     v            very\nannotate        cannnot           can't\nall                 ull        you will\nagent             icant         i can't\nbreath           brotha         brother\ndhul               wada           water\nch                  chu             you",
      "text/html": "<div>\n<style scoped>\n    .dataframe tbody tr th:only-of-type {\n        vertical-align: middle;\n    }\n\n    .dataframe tbody tr th {\n        vertical-align: top;\n    }\n\n    .dataframe thead th {\n        text-align: right;\n    }\n</style>\n<table border=\"1\" class=\"dataframe\">\n  <thead>\n    <tr style=\"text-align: right;\">\n      <th></th>\n      <th>raw</th>\n      <th>gold</th>\n    </tr>\n  </thead>\n  <tbody>\n    <tr>\n      <th>deese</th>\n      <td>dese</td>\n      <td>these</td>\n    </tr>\n    <tr>\n      <th>semen</th>\n      <td>summn</td>\n      <td>something</td>\n    </tr>\n    <tr>\n      <th>beside</th>\n      <td>bestie</td>\n      <td>best friend</td>\n    </tr>\n    <tr>\n      <th>brenneh</th>\n      <td>niggra</td>\n      <td>nigger</td>\n    </tr>\n    <tr>\n      <th>datatype</th>\n      <td>datpiff</td>\n      <td>the piff</td>\n    </tr>\n    <tr>\n      <th>cricut</th>\n      <td>diy</td>\n      <td>do it yourself</td>\n    </tr>\n    <tr>\n      <th>a</th>\n      <td>ya</td>\n      <td>your</td>\n    </tr>\n    <tr>\n      <th>bottle</th>\n      <td>lottle</td>\n      <td>lot</td>\n    </tr>\n    <tr>\n      <th>bows</th>\n      <td>nows</td>\n      <td>now is</td>\n    </tr>\n    <tr>\n      <th>tidewater</th>\n      <td>whatdoiwear</td>\n      <td>what do i wear</td>\n    </tr>\n    <tr>\n      <th>breath</th>\n      <td>brutha</td>\n      <td>brother</td>\n    </tr>\n    <tr>\n      <th>aah</th>\n      <td>yah</td>\n      <td>you</td>\n    </tr>\n    <tr>\n      <th>chizz</th>\n      <td>shizz</td>\n      <td>shit</td>\n    </tr>\n    <tr>\n      <th>happily</th>\n      <td>happylgovo</td>\n      <td>happy</td>\n    </tr>\n    <tr>\n      <th>cal</th>\n      <td>gal</td>\n      <td>guy</td>\n    </tr>\n    <tr>\n      <th>affi</th>\n      <td>nuh</td>\n      <td>know</td>\n    </tr>\n    <tr>\n      <th>bauni</th>\n      <td>ntn</td>\n      <td>nothing</td>\n    </tr>\n    <tr>\n      <th>cabanatuan</th>\n      <td>mnl</td>\n      <td>my new love</td>\n    </tr>\n    <tr>\n      <th>bajakk</th>\n      <td>poooollll</td>\n      <td>pool</td>\n    </tr>\n    <tr>\n      <th>dammit</th>\n      <td>goddamit</td>\n      <td>god damn it</td>\n    </tr>\n    <tr>\n      <th>betcha</th>\n      <td>getcha</td>\n      <td>get you</td>\n    </tr>\n    <tr>\n      <th>avicci</th>\n      <td>skepta</td>\n      <td>sunglasses</td>\n    </tr>\n    <tr>\n      <th>creators</th>\n      <td>devs</td>\n      <td>developer</td>\n    </tr>\n    <tr>\n      <th>hitch</th>\n      <td>witchu</td>\n      <td>with you</td>\n    </tr>\n    <tr>\n      <th>drika</th>\n      <td>nem</td>\n      <td>they</td>\n    </tr>\n    <tr>\n      <th>f kn</th>\n      <td>fkn</td>\n      <td>fucking</td>\n    </tr>\n    <tr>\n      <th>aim</th>\n      <td>sim</td>\n      <td>seems</td>\n    </tr>\n    <tr>\n      <th>havefun</th>\n      <td>satnite</td>\n      <td>saturday night</td>\n    </tr>\n    <tr>\n      <th>infinity</th>\n      <td>nuffin</td>\n      <td>nothing</td>\n    </tr>\n    <tr>\n      <th>dies</th>\n      <td>diss</td>\n      <td>this</td>\n    </tr>\n    <tr>\n      <th>apish</th>\n      <td>hapi</td>\n      <td>happy</td>\n    </tr>\n    <tr>\n      <th>bu</th>\n      <td>hbu</td>\n      <td>how about you</td>\n    </tr>\n    <tr>\n      <th>essayer</th>\n      <td>yessss</td>\n      <td>yes</td>\n    </tr>\n    <tr>\n      <th>as</th>\n      <td>vas</td>\n      <td>was</td>\n    </tr>\n    <tr>\n      <th>bedsore</th>\n      <td>redsox</td>\n      <td>red sox</td>\n    </tr>\n    <tr>\n      <th>cup</th>\n      <td>sup</td>\n      <td>what's up</td>\n    </tr>\n    <tr>\n      <th>surpass</th>\n      <td>wassup</td>\n      <td>what's up</td>\n    </tr>\n    <tr>\n      <th>a</th>\n      <td>za</td>\n      <td>that</td>\n    </tr>\n    <tr>\n      <th>cams</th>\n      <td>cums</td>\n      <td>comes</td>\n    </tr>\n    <tr>\n      <th>ant</th>\n      <td>dnt</td>\n      <td>doesn't</td>\n    </tr>\n    <tr>\n      <th>chat</th>\n      <td>shat</td>\n      <td>shit</td>\n    </tr>\n    <tr>\n      <th>aight</th>\n      <td>yea</td>\n      <td>you</td>\n    </tr>\n    <tr>\n      <th>2sleep</th>\n      <td>slp</td>\n      <td>sleep</td>\n    </tr>\n    <tr>\n      <th>aid</th>\n      <td>dia</td>\n      <td>their</td>\n    </tr>\n    <tr>\n      <th>fckin</th>\n      <td>fuccin</td>\n      <td>fucking</td>\n    </tr>\n    <tr>\n      <th>brah</th>\n      <td>cuh</td>\n      <td>see you</td>\n    </tr>\n    <tr>\n      <th>finna</th>\n      <td>trynna</td>\n      <td>trying to</td>\n    </tr>\n    <tr>\n      <th>buff</th>\n      <td>nuff</td>\n      <td>enough</td>\n    </tr>\n    <tr>\n      <th>empting</th>\n      <td>pre</td>\n      <td>preorder</td>\n    </tr>\n    <tr>\n      <th>border</th>\n      <td>order</td>\n      <td></td>\n    </tr>\n    <tr>\n      <th>a</th>\n      <td>da</td>\n      <td>that</td>\n    </tr>\n    <tr>\n      <th>a</th>\n      <td>v</td>\n      <td>very</td>\n    </tr>\n    <tr>\n      <th>annotate</th>\n      <td>cannnot</td>\n      <td>can't</td>\n    </tr>\n    <tr>\n      <th>all</th>\n      <td>ull</td>\n      <td>you will</td>\n    </tr>\n    <tr>\n      <th>agent</th>\n      <td>icant</td>\n      <td>i can't</td>\n    </tr>\n    <tr>\n      <th>breath</th>\n      <td>brotha</td>\n      <td>brother</td>\n    </tr>\n    <tr>\n      <th>dhul</th>\n      <td>wada</td>\n      <td>water</td>\n    </tr>\n    <tr>\n      <th>ch</th>\n      <td>chu</td>\n      <td>you</td>\n    </tr>\n  </tbody>\n</table>\n</div>"
     },
     "execution_count": 5,
     "metadata": {},
     "output_type": "execute_result"
    }
   ],
   "source": [
    "# continuing from last cell, get all raw, gold pairs that were not generated by candidate generation:\n",
    "\n",
    "dev[\"correct\"] = dev.index.values == dev.gold\n",
    "dev.groupby(\"tok_id\").filter(lambda s: s.correct.sum() == 0).drop_duplicates([\"raw\", \"gold\"]).loc[:, [\"raw\", \"gold\"]]"
   ],
   "metadata": {
    "collapsed": false
   }
  },
  {
   "cell_type": "code",
   "execution_count": 11,
   "outputs": [
    {
     "data": {
      "text/plain": "               cosine_to_orig  embeddings_rank  from_clipping  \\\nbreh                 0.881024              7.0            NaN   \nbro                  0.873462              8.0            NaN   \nbrother              0.444352              NaN            NaN   \nbruh                 1.000000              NaN            NaN   \nbruhhh               0.887914              4.0            NaN   \n...                       ...              ...            ...   \noutcrop's                 NaN              NaN            1.0   \noutcropped                NaN              NaN            1.0   \noutcropping          0.360041              NaN            1.0   \noutcropping's             NaN              NaN            1.0   \noutcroppings         0.381839              NaN            1.0   \n\n               from_original_token  from_split  norms_seen  spellcheck_rank  \\\nbreh                           NaN         NaN         NaN              NaN   \nbro                            NaN         NaN         NaN              NaN   \nbrother                        NaN         NaN        26.0              NaN   \nbruh                           1.0         NaN         NaN              NaN   \nbruhhh                         NaN         NaN         NaN              NaN   \n...                            ...         ...         ...              ...   \noutcrop's                      NaN         NaN         NaN              NaN   \noutcropped                     NaN         NaN         NaN              NaN   \noutcropping                    NaN         NaN         NaN              NaN   \noutcropping's                  NaN         NaN         NaN              NaN   \noutcroppings                   NaN         NaN         NaN              NaN   \n\n               in_lexicon  length  same_order  ...  orig_length   raw  \\\nbreh                  NaN       4         NaN  ...          4.0  bruh   \nbro                   NaN       3         NaN  ...          4.0  bruh   \nbrother               1.0       7         NaN  ...          4.0  bruh   \nbruh                  NaN       4         1.0  ...          4.0  bruh   \nbruhhh                NaN       6         1.0  ...          4.0  bruh   \n...                   ...     ...         ...  ...          ...   ...   \noutcrop's             1.0       9         1.0  ...          3.0   out   \noutcropped            1.0      10         1.0  ...          3.0   out   \noutcropping           1.0      11         1.0  ...          3.0   out   \noutcropping's         1.0      13         1.0  ...          3.0   out   \noutcroppings          1.0      12         1.0  ...          3.0   out   \n\n                   prev  next tok_id     gold correct  wiki_uni wiki_bi_prev  \\\nbreh           @cdutra5   get      0  brother   False         9          0.0   \nbro            @cdutra5   get      0  brother   False      1121          0.0   \nbrother        @cdutra5   get      0  brother    True    269718          0.0   \nbruh           @cdutra5   get      0  brother   False        16          0.0   \nbruhhh         @cdutra5   get      0  brother   False         1          0.0   \n...                 ...   ...    ...      ...     ...       ...          ...   \noutcrop's           get    yo      2      out   False         8          0.0   \noutcropped          get    yo      2      out   False        48          0.0   \noutcropping         get    yo      2      out   False       829          0.0   \noutcropping's       get    yo      2      out   False         1          0.0   \noutcroppings        get    yo      2      out   False       516          0.0   \n\n               wiki_bi_next  \nbreh               0.000000  \nbro                0.000000  \nbrother            0.000043  \nbruh               0.000000  \nbruhhh             0.000000  \n...                     ...  \noutcrop's          0.000000  \noutcropped         0.000000  \noutcropping        0.000000  \noutcropping's      0.000000  \noutcroppings       0.000000  \n\n[100 rows x 23 columns]",
      "text/html": "<div>\n<style scoped>\n    .dataframe tbody tr th:only-of-type {\n        vertical-align: middle;\n    }\n\n    .dataframe tbody tr th {\n        vertical-align: top;\n    }\n\n    .dataframe thead th {\n        text-align: right;\n    }\n</style>\n<table border=\"1\" class=\"dataframe\">\n  <thead>\n    <tr style=\"text-align: right;\">\n      <th></th>\n      <th>cosine_to_orig</th>\n      <th>embeddings_rank</th>\n      <th>from_clipping</th>\n      <th>from_original_token</th>\n      <th>from_split</th>\n      <th>norms_seen</th>\n      <th>spellcheck_rank</th>\n      <th>in_lexicon</th>\n      <th>length</th>\n      <th>same_order</th>\n      <th>...</th>\n      <th>orig_length</th>\n      <th>raw</th>\n      <th>prev</th>\n      <th>next</th>\n      <th>tok_id</th>\n      <th>gold</th>\n      <th>correct</th>\n      <th>wiki_uni</th>\n      <th>wiki_bi_prev</th>\n      <th>wiki_bi_next</th>\n    </tr>\n  </thead>\n  <tbody>\n    <tr>\n      <th>breh</th>\n      <td>0.881024</td>\n      <td>7.0</td>\n      <td>NaN</td>\n      <td>NaN</td>\n      <td>NaN</td>\n      <td>NaN</td>\n      <td>NaN</td>\n      <td>NaN</td>\n      <td>4</td>\n      <td>NaN</td>\n      <td>...</td>\n      <td>4.0</td>\n      <td>bruh</td>\n      <td>@cdutra5</td>\n      <td>get</td>\n      <td>0</td>\n      <td>brother</td>\n      <td>False</td>\n      <td>9</td>\n      <td>0.0</td>\n      <td>0.000000</td>\n    </tr>\n    <tr>\n      <th>bro</th>\n      <td>0.873462</td>\n      <td>8.0</td>\n      <td>NaN</td>\n      <td>NaN</td>\n      <td>NaN</td>\n      <td>NaN</td>\n      <td>NaN</td>\n      <td>NaN</td>\n      <td>3</td>\n      <td>NaN</td>\n      <td>...</td>\n      <td>4.0</td>\n      <td>bruh</td>\n      <td>@cdutra5</td>\n      <td>get</td>\n      <td>0</td>\n      <td>brother</td>\n      <td>False</td>\n      <td>1121</td>\n      <td>0.0</td>\n      <td>0.000000</td>\n    </tr>\n    <tr>\n      <th>brother</th>\n      <td>0.444352</td>\n      <td>NaN</td>\n      <td>NaN</td>\n      <td>NaN</td>\n      <td>NaN</td>\n      <td>26.0</td>\n      <td>NaN</td>\n      <td>1.0</td>\n      <td>7</td>\n      <td>NaN</td>\n      <td>...</td>\n      <td>4.0</td>\n      <td>bruh</td>\n      <td>@cdutra5</td>\n      <td>get</td>\n      <td>0</td>\n      <td>brother</td>\n      <td>True</td>\n      <td>269718</td>\n      <td>0.0</td>\n      <td>0.000043</td>\n    </tr>\n    <tr>\n      <th>bruh</th>\n      <td>1.000000</td>\n      <td>NaN</td>\n      <td>NaN</td>\n      <td>1.0</td>\n      <td>NaN</td>\n      <td>NaN</td>\n      <td>NaN</td>\n      <td>NaN</td>\n      <td>4</td>\n      <td>1.0</td>\n      <td>...</td>\n      <td>4.0</td>\n      <td>bruh</td>\n      <td>@cdutra5</td>\n      <td>get</td>\n      <td>0</td>\n      <td>brother</td>\n      <td>False</td>\n      <td>16</td>\n      <td>0.0</td>\n      <td>0.000000</td>\n    </tr>\n    <tr>\n      <th>bruhhh</th>\n      <td>0.887914</td>\n      <td>4.0</td>\n      <td>NaN</td>\n      <td>NaN</td>\n      <td>NaN</td>\n      <td>NaN</td>\n      <td>NaN</td>\n      <td>NaN</td>\n      <td>6</td>\n      <td>1.0</td>\n      <td>...</td>\n      <td>4.0</td>\n      <td>bruh</td>\n      <td>@cdutra5</td>\n      <td>get</td>\n      <td>0</td>\n      <td>brother</td>\n      <td>False</td>\n      <td>1</td>\n      <td>0.0</td>\n      <td>0.000000</td>\n    </tr>\n    <tr>\n      <th>...</th>\n      <td>...</td>\n      <td>...</td>\n      <td>...</td>\n      <td>...</td>\n      <td>...</td>\n      <td>...</td>\n      <td>...</td>\n      <td>...</td>\n      <td>...</td>\n      <td>...</td>\n      <td>...</td>\n      <td>...</td>\n      <td>...</td>\n      <td>...</td>\n      <td>...</td>\n      <td>...</td>\n      <td>...</td>\n      <td>...</td>\n      <td>...</td>\n      <td>...</td>\n      <td>...</td>\n    </tr>\n    <tr>\n      <th>outcrop's</th>\n      <td>NaN</td>\n      <td>NaN</td>\n      <td>1.0</td>\n      <td>NaN</td>\n      <td>NaN</td>\n      <td>NaN</td>\n      <td>NaN</td>\n      <td>1.0</td>\n      <td>9</td>\n      <td>1.0</td>\n      <td>...</td>\n      <td>3.0</td>\n      <td>out</td>\n      <td>get</td>\n      <td>yo</td>\n      <td>2</td>\n      <td>out</td>\n      <td>False</td>\n      <td>8</td>\n      <td>0.0</td>\n      <td>0.000000</td>\n    </tr>\n    <tr>\n      <th>outcropped</th>\n      <td>NaN</td>\n      <td>NaN</td>\n      <td>1.0</td>\n      <td>NaN</td>\n      <td>NaN</td>\n      <td>NaN</td>\n      <td>NaN</td>\n      <td>1.0</td>\n      <td>10</td>\n      <td>1.0</td>\n      <td>...</td>\n      <td>3.0</td>\n      <td>out</td>\n      <td>get</td>\n      <td>yo</td>\n      <td>2</td>\n      <td>out</td>\n      <td>False</td>\n      <td>48</td>\n      <td>0.0</td>\n      <td>0.000000</td>\n    </tr>\n    <tr>\n      <th>outcropping</th>\n      <td>0.360041</td>\n      <td>NaN</td>\n      <td>1.0</td>\n      <td>NaN</td>\n      <td>NaN</td>\n      <td>NaN</td>\n      <td>NaN</td>\n      <td>1.0</td>\n      <td>11</td>\n      <td>1.0</td>\n      <td>...</td>\n      <td>3.0</td>\n      <td>out</td>\n      <td>get</td>\n      <td>yo</td>\n      <td>2</td>\n      <td>out</td>\n      <td>False</td>\n      <td>829</td>\n      <td>0.0</td>\n      <td>0.000000</td>\n    </tr>\n    <tr>\n      <th>outcropping's</th>\n      <td>NaN</td>\n      <td>NaN</td>\n      <td>1.0</td>\n      <td>NaN</td>\n      <td>NaN</td>\n      <td>NaN</td>\n      <td>NaN</td>\n      <td>1.0</td>\n      <td>13</td>\n      <td>1.0</td>\n      <td>...</td>\n      <td>3.0</td>\n      <td>out</td>\n      <td>get</td>\n      <td>yo</td>\n      <td>2</td>\n      <td>out</td>\n      <td>False</td>\n      <td>1</td>\n      <td>0.0</td>\n      <td>0.000000</td>\n    </tr>\n    <tr>\n      <th>outcroppings</th>\n      <td>0.381839</td>\n      <td>NaN</td>\n      <td>1.0</td>\n      <td>NaN</td>\n      <td>NaN</td>\n      <td>NaN</td>\n      <td>NaN</td>\n      <td>1.0</td>\n      <td>12</td>\n      <td>1.0</td>\n      <td>...</td>\n      <td>3.0</td>\n      <td>out</td>\n      <td>get</td>\n      <td>yo</td>\n      <td>2</td>\n      <td>out</td>\n      <td>False</td>\n      <td>516</td>\n      <td>0.0</td>\n      <td>0.000000</td>\n    </tr>\n  </tbody>\n</table>\n<p>100 rows × 23 columns</p>\n</div>"
     },
     "execution_count": 11,
     "metadata": {},
     "output_type": "execute_result"
    }
   ],
   "source": [
    "from lexnorm.generate_extract import process\n",
    "importlib.reload(process)\n",
    "test = dev[0:100].copy()\n",
    "\n",
    "process.add_ngram_orig_features(test, os.path.join(DATA_PATH, \"processed\"))\n",
    "test"
   ],
   "metadata": {
    "collapsed": false
   }
  },
  {
   "cell_type": "code",
   "execution_count": 63,
   "outputs": [],
   "source": [
    "from lexnorm.data.word_ngrams import counter_from_pickle\n",
    "\n",
    "wiki_unigram_counter = counter_from_pickle(\n",
    "        os.path.join(DATA_PATH, \"processed/wiki_unigram_counter.pickle\")\n",
    "    )\n",
    "wiki_bigram_counter = counter_from_pickle(\n",
    "    os.path.join(DATA_PATH, \"processed/wiki_bigram_counter.pickle\")\n",
    ")"
   ],
   "metadata": {
    "collapsed": false
   }
  },
  {
   "cell_type": "code",
   "execution_count": 12,
   "outputs": [],
   "source": [
    "dev = pd.read_csv(os.path.join(DATA_PATH, \"hpc/dev_processed_nocap_neighbours.txt\"), index_col=0, keep_default_na=False, na_values=\"\")"
   ],
   "metadata": {
    "collapsed": false
   }
  },
  {
   "cell_type": "code",
   "execution_count": 14,
   "outputs": [
    {
     "ename": "NameError",
     "evalue": "name 'prep_test' is not defined",
     "output_type": "error",
     "traceback": [
      "\u001B[0;31m---------------------------------------------------------------------------\u001B[0m",
      "\u001B[0;31mNameError\u001B[0m                                 Traceback (most recent call last)",
      "Cell \u001B[0;32mIn[14], line 1\u001B[0m\n\u001B[0;32m----> 1\u001B[0m \u001B[43mprep_test\u001B[49m(dev)\n",
      "\u001B[0;31mNameError\u001B[0m: name 'prep_test' is not defined"
     ]
    }
   ],
   "source": [
    "prep_test(dev)"
   ],
   "metadata": {
    "collapsed": false
   }
  },
  {
   "cell_type": "code",
   "execution_count": 26,
   "outputs": [],
   "source": [
    "import joblib\n",
    "clf = joblib.load(\"../models/rf.joblib\")"
   ],
   "metadata": {
    "collapsed": false
   }
  },
  {
   "cell_type": "code",
   "execution_count": 27,
   "outputs": [
    {
     "data": {
      "text/plain": "array([1.66313951e-01, 2.89970261e-03, 1.37841431e-01, 2.02185631e-01,\n       6.09071404e-05, 3.77073327e-01, 6.85489567e-03, 6.99705725e-03,\n       3.42001435e-02, 6.45510729e-03, 1.95442102e-02, 6.20882100e-03,\n       0.00000000e+00, 3.33648150e-02])"
     },
     "execution_count": 27,
     "metadata": {},
     "output_type": "execute_result"
    }
   ],
   "source": [
    "clf.feature_importances_"
   ],
   "metadata": {
    "collapsed": false
   }
  },
  {
   "cell_type": "code",
   "execution_count": 28,
   "outputs": [
    {
     "data": {
      "text/plain": "array(['cosine_to_orig', 'embeddings_rank', 'from_clipping',\n       'from_original_token', 'from_split', 'norms_seen',\n       'spellcheck_rank', 'in_lexicon', 'length', 'same_order',\n       'orig_norms_seen', 'orig_in_lexicon', 'orig_same_order',\n       'orig_length'], dtype=object)"
     },
     "execution_count": 28,
     "metadata": {},
     "output_type": "execute_result"
    }
   ],
   "source": [
    "clf.feature_names_in_"
   ],
   "metadata": {
    "collapsed": false
   }
  },
  {
   "cell_type": "code",
   "execution_count": 5,
   "outputs": [],
   "source": [
    "import pandas as pd\n",
    "import os\n",
    "from lexnorm.definitions import DATA_PATH\n",
    "dev = pd.read_csv(os.path.join(DATA_PATH, \"hpc/dev_processed_nocap_neighbours.txt\"), index_col=0, keep_default_na=False, na_values=\"\")"
   ],
   "metadata": {
    "collapsed": false
   }
  },
  {
   "cell_type": "code",
   "execution_count": 86,
   "outputs": [
    {
     "name": "stderr",
     "output_type": "stream",
     "text": [
      "[Parallel(n_jobs=12)]: Using backend ThreadingBackend with 12 concurrent workers.\n",
      "[Parallel(n_jobs=12)]: Done  26 tasks      | elapsed:    0.3s\n",
      "[Parallel(n_jobs=12)]: Done 100 out of 100 | elapsed:    0.9s finished\n"
     ]
    }
   ],
   "source": [
    "from lexnorm.models import random_forest\n",
    "from joblib import load\n",
    "importlib.reload(random_forest)\n",
    "clf = load(os.path.join(DATA_PATH, \"../models/rf.joblib\"))\n",
    "pred_probs = random_forest.predict_probs(clf, os.path.join(DATA_PATH, \"hpc/dev_processed_nocap.txt\"))"
   ],
   "metadata": {
    "collapsed": false
   }
  },
  {
   "cell_type": "code",
   "execution_count": 88,
   "outputs": [
    {
     "data": {
      "text/plain": "        cosine_to_orig  embeddings_rank  from_clipping  from_original_token  \\\nyou're        0.452694              NaN            NaN                  NaN   \nup            0.353898              NaN            NaN                  NaN   \ni             0.747761              NaN            NaN                  NaN   \nyou           0.776511              3.0            NaN                  NaN   \ncu            0.310109              NaN            NaN                  NaN   \n...                ...              ...            ...                  ...   \nyall          0.753364              7.0            NaN                  NaN   \nyoj           0.760222              6.0            NaN                  NaN   \nyoj           0.760222              6.0            NaN                  NaN   \nuou           0.775654              4.0            NaN                  NaN   \nyou're        0.452694              NaN            NaN                  NaN   \n\n        from_split  norms_seen  spellcheck_rank  in_lexicon  length  \\\nyou're         NaN         2.0              NaN         1.0       6   \nup             NaN         NaN              8.0         1.0       2   \ni              NaN         NaN              2.0         1.0       1   \nyou            NaN       266.0              NaN         1.0       3   \ncu             NaN         NaN              5.0         1.0       2   \n...            ...         ...              ...         ...     ...   \nyall           NaN         NaN              NaN         NaN       4   \nyoj            NaN         NaN              NaN         NaN       3   \nyoj            NaN         NaN              NaN         NaN       3   \nuou            NaN         NaN              NaN         NaN       3   \nyou're         NaN         2.0              NaN         1.0       6   \n\n        same_order  orig_norms_seen  orig_in_lexicon  orig_same_order  \\\nyou're         1.0              2.0              NaN              1.0   \nup             1.0              2.0              NaN              1.0   \ni              NaN              2.0              NaN              1.0   \nyou            1.0              2.0              NaN              1.0   \ncu             1.0              2.0              NaN              1.0   \n...            ...              ...              ...              ...   \nyall           NaN              2.0              NaN              1.0   \nyoj            NaN              2.0              NaN              1.0   \nyoj            NaN              2.0              NaN              1.0   \nuou            1.0              2.0              NaN              1.0   \nyou're         1.0              2.0              NaN              1.0   \n\n        orig_length raw  process  tweet  tok     probs  \nyou're          1.0   u       14      2    4  0.645051  \nup              1.0   u       16      8   20  0.153187  \ni               1.0   u       29      0   13  0.230261  \nyou             1.0   u       55      4   10  0.837055  \ncu              1.0   u       39      6    7  0.153187  \n...             ...  ..      ...    ...  ...       ...  \nyall            1.0   u       19      8   13  0.233204  \nyoj             1.0   u       16      8   28  0.229051  \nyoj             1.0   u       49      6    1  0.229051  \nuou             1.0   u        5      9   10  0.304017  \nyou're          1.0   u       26      4    8  0.645051  \n\n[1240 rows x 19 columns]",
      "text/html": "<div>\n<style scoped>\n    .dataframe tbody tr th:only-of-type {\n        vertical-align: middle;\n    }\n\n    .dataframe tbody tr th {\n        vertical-align: top;\n    }\n\n    .dataframe thead th {\n        text-align: right;\n    }\n</style>\n<table border=\"1\" class=\"dataframe\">\n  <thead>\n    <tr style=\"text-align: right;\">\n      <th></th>\n      <th>cosine_to_orig</th>\n      <th>embeddings_rank</th>\n      <th>from_clipping</th>\n      <th>from_original_token</th>\n      <th>from_split</th>\n      <th>norms_seen</th>\n      <th>spellcheck_rank</th>\n      <th>in_lexicon</th>\n      <th>length</th>\n      <th>same_order</th>\n      <th>orig_norms_seen</th>\n      <th>orig_in_lexicon</th>\n      <th>orig_same_order</th>\n      <th>orig_length</th>\n      <th>raw</th>\n      <th>process</th>\n      <th>tweet</th>\n      <th>tok</th>\n      <th>probs</th>\n    </tr>\n  </thead>\n  <tbody>\n    <tr>\n      <th>you're</th>\n      <td>0.452694</td>\n      <td>NaN</td>\n      <td>NaN</td>\n      <td>NaN</td>\n      <td>NaN</td>\n      <td>2.0</td>\n      <td>NaN</td>\n      <td>1.0</td>\n      <td>6</td>\n      <td>1.0</td>\n      <td>2.0</td>\n      <td>NaN</td>\n      <td>1.0</td>\n      <td>1.0</td>\n      <td>u</td>\n      <td>14</td>\n      <td>2</td>\n      <td>4</td>\n      <td>0.645051</td>\n    </tr>\n    <tr>\n      <th>up</th>\n      <td>0.353898</td>\n      <td>NaN</td>\n      <td>NaN</td>\n      <td>NaN</td>\n      <td>NaN</td>\n      <td>NaN</td>\n      <td>8.0</td>\n      <td>1.0</td>\n      <td>2</td>\n      <td>1.0</td>\n      <td>2.0</td>\n      <td>NaN</td>\n      <td>1.0</td>\n      <td>1.0</td>\n      <td>u</td>\n      <td>16</td>\n      <td>8</td>\n      <td>20</td>\n      <td>0.153187</td>\n    </tr>\n    <tr>\n      <th>i</th>\n      <td>0.747761</td>\n      <td>NaN</td>\n      <td>NaN</td>\n      <td>NaN</td>\n      <td>NaN</td>\n      <td>NaN</td>\n      <td>2.0</td>\n      <td>1.0</td>\n      <td>1</td>\n      <td>NaN</td>\n      <td>2.0</td>\n      <td>NaN</td>\n      <td>1.0</td>\n      <td>1.0</td>\n      <td>u</td>\n      <td>29</td>\n      <td>0</td>\n      <td>13</td>\n      <td>0.230261</td>\n    </tr>\n    <tr>\n      <th>you</th>\n      <td>0.776511</td>\n      <td>3.0</td>\n      <td>NaN</td>\n      <td>NaN</td>\n      <td>NaN</td>\n      <td>266.0</td>\n      <td>NaN</td>\n      <td>1.0</td>\n      <td>3</td>\n      <td>1.0</td>\n      <td>2.0</td>\n      <td>NaN</td>\n      <td>1.0</td>\n      <td>1.0</td>\n      <td>u</td>\n      <td>55</td>\n      <td>4</td>\n      <td>10</td>\n      <td>0.837055</td>\n    </tr>\n    <tr>\n      <th>cu</th>\n      <td>0.310109</td>\n      <td>NaN</td>\n      <td>NaN</td>\n      <td>NaN</td>\n      <td>NaN</td>\n      <td>NaN</td>\n      <td>5.0</td>\n      <td>1.0</td>\n      <td>2</td>\n      <td>1.0</td>\n      <td>2.0</td>\n      <td>NaN</td>\n      <td>1.0</td>\n      <td>1.0</td>\n      <td>u</td>\n      <td>39</td>\n      <td>6</td>\n      <td>7</td>\n      <td>0.153187</td>\n    </tr>\n    <tr>\n      <th>...</th>\n      <td>...</td>\n      <td>...</td>\n      <td>...</td>\n      <td>...</td>\n      <td>...</td>\n      <td>...</td>\n      <td>...</td>\n      <td>...</td>\n      <td>...</td>\n      <td>...</td>\n      <td>...</td>\n      <td>...</td>\n      <td>...</td>\n      <td>...</td>\n      <td>...</td>\n      <td>...</td>\n      <td>...</td>\n      <td>...</td>\n      <td>...</td>\n    </tr>\n    <tr>\n      <th>yall</th>\n      <td>0.753364</td>\n      <td>7.0</td>\n      <td>NaN</td>\n      <td>NaN</td>\n      <td>NaN</td>\n      <td>NaN</td>\n      <td>NaN</td>\n      <td>NaN</td>\n      <td>4</td>\n      <td>NaN</td>\n      <td>2.0</td>\n      <td>NaN</td>\n      <td>1.0</td>\n      <td>1.0</td>\n      <td>u</td>\n      <td>19</td>\n      <td>8</td>\n      <td>13</td>\n      <td>0.233204</td>\n    </tr>\n    <tr>\n      <th>yoj</th>\n      <td>0.760222</td>\n      <td>6.0</td>\n      <td>NaN</td>\n      <td>NaN</td>\n      <td>NaN</td>\n      <td>NaN</td>\n      <td>NaN</td>\n      <td>NaN</td>\n      <td>3</td>\n      <td>NaN</td>\n      <td>2.0</td>\n      <td>NaN</td>\n      <td>1.0</td>\n      <td>1.0</td>\n      <td>u</td>\n      <td>16</td>\n      <td>8</td>\n      <td>28</td>\n      <td>0.229051</td>\n    </tr>\n    <tr>\n      <th>yoj</th>\n      <td>0.760222</td>\n      <td>6.0</td>\n      <td>NaN</td>\n      <td>NaN</td>\n      <td>NaN</td>\n      <td>NaN</td>\n      <td>NaN</td>\n      <td>NaN</td>\n      <td>3</td>\n      <td>NaN</td>\n      <td>2.0</td>\n      <td>NaN</td>\n      <td>1.0</td>\n      <td>1.0</td>\n      <td>u</td>\n      <td>49</td>\n      <td>6</td>\n      <td>1</td>\n      <td>0.229051</td>\n    </tr>\n    <tr>\n      <th>uou</th>\n      <td>0.775654</td>\n      <td>4.0</td>\n      <td>NaN</td>\n      <td>NaN</td>\n      <td>NaN</td>\n      <td>NaN</td>\n      <td>NaN</td>\n      <td>NaN</td>\n      <td>3</td>\n      <td>1.0</td>\n      <td>2.0</td>\n      <td>NaN</td>\n      <td>1.0</td>\n      <td>1.0</td>\n      <td>u</td>\n      <td>5</td>\n      <td>9</td>\n      <td>10</td>\n      <td>0.304017</td>\n    </tr>\n    <tr>\n      <th>you're</th>\n      <td>0.452694</td>\n      <td>NaN</td>\n      <td>NaN</td>\n      <td>NaN</td>\n      <td>NaN</td>\n      <td>2.0</td>\n      <td>NaN</td>\n      <td>1.0</td>\n      <td>6</td>\n      <td>1.0</td>\n      <td>2.0</td>\n      <td>NaN</td>\n      <td>1.0</td>\n      <td>1.0</td>\n      <td>u</td>\n      <td>26</td>\n      <td>4</td>\n      <td>8</td>\n      <td>0.645051</td>\n    </tr>\n  </tbody>\n</table>\n<p>1240 rows × 19 columns</p>\n</div>"
     },
     "execution_count": 88,
     "metadata": {},
     "output_type": "execute_result"
    }
   ],
   "source": [
    "pred_probs.loc[pred_probs.raw == \"u\"]"
   ],
   "metadata": {
    "collapsed": false
   }
  },
  {
   "cell_type": "code",
   "execution_count": null,
   "outputs": [],
   "source": [
    "import graphviz\n",
    "from sklearn.tree import export_graphviz\n",
    "\n",
    "# fig = plt.figure(figsize=(15, 10))\n",
    "clf = load(os.path.join(DATA_PATH, \"../models/rf.joblib\"))\n",
    "clf"
   ],
   "metadata": {
    "collapsed": false,
    "pycharm": {
     "is_executing": true
    }
   }
  },
  {
   "cell_type": "code",
   "execution_count": 1,
   "outputs": [
    {
     "name": "stdout",
     "output_type": "stream",
     "text": [
      "|--- frac_norms_seen <= 0.488\n",
      "|   |--- from_original_token <= 0.500\n",
      "|   |   |--- norms_seen_orig <= 40.500\n",
      "|   |   |   |--- in_feature_lex_orig <= 0.500\n",
      "|   |   |   |   |--- frac_norms_seen <= 0.134\n",
      "|   |   |   |   |   |--- wiki_bi_cand_next <= 0.274\n",
      "|   |   |   |   |   |   |--- norms_seen <= 0.500\n",
      "|   |   |   |   |   |   |   |--- weights: [148301.000, 0.000] class: 0.0\n",
      "|   |   |   |   |   |   |--- norms_seen >  0.500\n",
      "|   |   |   |   |   |   |   |--- twitter_bi_prev_cand <= 0.002\n",
      "|   |   |   |   |   |   |   |   |--- wiki_bi_prev_cand_orig <= 0.006\n",
      "|   |   |   |   |   |   |   |   |   |--- frac_norms_seen_orig <= 0.071\n",
      "|   |   |   |   |   |   |   |   |   |   |--- twitter_bi_prev_cand <= 0.000\n",
      "|   |   |   |   |   |   |   |   |   |   |   |--- truncated branch of depth 2\n",
      "|   |   |   |   |   |   |   |   |   |   |--- twitter_bi_prev_cand >  0.000\n",
      "|   |   |   |   |   |   |   |   |   |   |   |--- weights: [377.000, 0.000] class: 0.0\n",
      "|   |   |   |   |   |   |   |   |   |--- frac_norms_seen_orig >  0.071\n",
      "|   |   |   |   |   |   |   |   |   |   |--- wiki_bi_prev_cand_orig <= 0.000\n",
      "|   |   |   |   |   |   |   |   |   |   |   |--- truncated branch of depth 7\n",
      "|   |   |   |   |   |   |   |   |   |   |--- wiki_bi_prev_cand_orig >  0.000\n",
      "|   |   |   |   |   |   |   |   |   |   |   |--- truncated branch of depth 2\n",
      "|   |   |   |   |   |   |   |   |--- wiki_bi_prev_cand_orig >  0.006\n",
      "|   |   |   |   |   |   |   |   |   |--- weights: [8.000, 2.000] class: 0.0\n",
      "|   |   |   |   |   |   |   |--- twitter_bi_prev_cand >  0.002\n",
      "|   |   |   |   |   |   |   |   |--- wiki_bi_cand_next <= 0.001\n",
      "|   |   |   |   |   |   |   |   |   |--- norms_seen_orig <= 19.500\n",
      "|   |   |   |   |   |   |   |   |   |   |--- twitter_uni_cand_orig <= 0.000\n",
      "|   |   |   |   |   |   |   |   |   |   |   |--- weights: [4.000, 3.000] class: 0.0\n",
      "|   |   |   |   |   |   |   |   |   |   |--- twitter_uni_cand_orig >  0.000\n",
      "|   |   |   |   |   |   |   |   |   |   |   |--- truncated branch of depth 5\n",
      "|   |   |   |   |   |   |   |   |   |--- norms_seen_orig >  19.500\n",
      "|   |   |   |   |   |   |   |   |   |   |--- twitter_bi_cand_next_orig <= 0.000\n",
      "|   |   |   |   |   |   |   |   |   |   |   |--- weights: [5.000, 5.000] class: 0.0\n",
      "|   |   |   |   |   |   |   |   |   |   |--- twitter_bi_cand_next_orig >  0.000\n",
      "|   |   |   |   |   |   |   |   |   |   |   |--- weights: [7.000, 0.000] class: 0.0\n",
      "|   |   |   |   |   |   |   |   |--- wiki_bi_cand_next >  0.001\n",
      "|   |   |   |   |   |   |   |   |   |--- frac_norms_seen <= 0.030\n",
      "|   |   |   |   |   |   |   |   |   |   |--- twitter_bi_prev_cand <= 0.052\n",
      "|   |   |   |   |   |   |   |   |   |   |   |--- truncated branch of depth 3\n",
      "|   |   |   |   |   |   |   |   |   |   |--- twitter_bi_prev_cand >  0.052\n",
      "|   |   |   |   |   |   |   |   |   |   |   |--- weights: [6.000, 1.000] class: 0.0\n",
      "|   |   |   |   |   |   |   |   |   |--- frac_norms_seen >  0.030\n",
      "|   |   |   |   |   |   |   |   |   |   |--- wiki_bi_prev_cand <= 0.022\n",
      "|   |   |   |   |   |   |   |   |   |   |   |--- weights: [6.000, 8.000] class: 1.0\n",
      "|   |   |   |   |   |   |   |   |   |   |--- wiki_bi_prev_cand >  0.022\n",
      "|   |   |   |   |   |   |   |   |   |   |   |--- weights: [11.000, 1.000] class: 0.0\n",
      "|   |   |   |   |   |--- wiki_bi_cand_next >  0.274\n",
      "|   |   |   |   |   |   |--- weights: [6.000, 1.000] class: 0.0\n",
      "|   |   |   |   |--- frac_norms_seen >  0.134\n",
      "|   |   |   |   |   |--- wiki_bi_prev_cand <= 0.044\n",
      "|   |   |   |   |   |   |--- twitter_bi_cand_next <= 0.005\n",
      "|   |   |   |   |   |   |   |--- frac_length <= 3.167\n",
      "|   |   |   |   |   |   |   |   |--- twitter_bi_cand_next_orig <= 0.000\n",
      "|   |   |   |   |   |   |   |   |   |--- from_split <= 0.500\n",
      "|   |   |   |   |   |   |   |   |   |   |--- twitter_bi_cand_next_orig <= 0.000\n",
      "|   |   |   |   |   |   |   |   |   |   |   |--- truncated branch of depth 4\n",
      "|   |   |   |   |   |   |   |   |   |   |--- twitter_bi_cand_next_orig >  0.000\n",
      "|   |   |   |   |   |   |   |   |   |   |   |--- truncated branch of depth 3\n",
      "|   |   |   |   |   |   |   |   |   |--- from_split >  0.500\n",
      "|   |   |   |   |   |   |   |   |   |   |--- weights: [7.000, 4.000] class: 0.0\n",
      "|   |   |   |   |   |   |   |   |--- twitter_bi_cand_next_orig >  0.000\n",
      "|   |   |   |   |   |   |   |   |   |--- frac_norms_seen_orig <= 0.677\n",
      "|   |   |   |   |   |   |   |   |   |   |--- twitter_bi_cand_next <= 0.002\n",
      "|   |   |   |   |   |   |   |   |   |   |   |--- truncated branch of depth 3\n",
      "|   |   |   |   |   |   |   |   |   |   |--- twitter_bi_cand_next >  0.002\n",
      "|   |   |   |   |   |   |   |   |   |   |   |--- weights: [7.000, 4.000] class: 0.0\n",
      "|   |   |   |   |   |   |   |   |   |--- frac_norms_seen_orig >  0.677\n",
      "|   |   |   |   |   |   |   |   |   |   |--- weights: [66.000, 0.000] class: 0.0\n",
      "|   |   |   |   |   |   |   |--- frac_length >  3.167\n",
      "|   |   |   |   |   |   |   |   |--- spellcheck_score <= -19.000\n",
      "|   |   |   |   |   |   |   |   |   |--- weights: [9.000, 4.000] class: 0.0\n",
      "|   |   |   |   |   |   |   |   |--- spellcheck_score >  -19.000\n",
      "|   |   |   |   |   |   |   |   |   |--- weights: [7.000, 6.000] class: 0.0\n",
      "|   |   |   |   |   |   |--- twitter_bi_cand_next >  0.005\n",
      "|   |   |   |   |   |   |   |--- twitter_bi_cand_next_orig <= 0.011\n",
      "|   |   |   |   |   |   |   |   |--- frac_length <= 1.583\n",
      "|   |   |   |   |   |   |   |   |   |--- weights: [6.000, 8.000] class: 1.0\n",
      "|   |   |   |   |   |   |   |   |--- frac_length >  1.583\n",
      "|   |   |   |   |   |   |   |   |   |--- twitter_uni_cand_orig <= 0.000\n",
      "|   |   |   |   |   |   |   |   |   |   |--- wiki_bi_prev_cand_orig <= 0.000\n",
      "|   |   |   |   |   |   |   |   |   |   |   |--- weights: [0.000, 32.000] class: 1.0\n",
      "|   |   |   |   |   |   |   |   |   |   |--- wiki_bi_prev_cand_orig >  0.000\n",
      "|   |   |   |   |   |   |   |   |   |   |   |--- weights: [1.000, 6.000] class: 1.0\n",
      "|   |   |   |   |   |   |   |   |   |--- twitter_uni_cand_orig >  0.000\n",
      "|   |   |   |   |   |   |   |   |   |   |--- weights: [4.000, 3.000] class: 0.0\n",
      "|   |   |   |   |   |   |   |--- twitter_bi_cand_next_orig >  0.011\n",
      "|   |   |   |   |   |   |   |   |--- wiki_bi_cand_next <= 0.001\n",
      "|   |   |   |   |   |   |   |   |   |--- weights: [4.000, 2.000] class: 0.0\n",
      "|   |   |   |   |   |   |   |   |--- wiki_bi_cand_next >  0.001\n",
      "|   |   |   |   |   |   |   |   |   |--- weights: [14.000, 0.000] class: 0.0\n",
      "|   |   |   |   |   |--- wiki_bi_prev_cand >  0.044\n",
      "|   |   |   |   |   |   |--- frac_norms_seen_orig <= 0.563\n",
      "|   |   |   |   |   |   |   |--- weights: [0.000, 10.000] class: 1.0\n",
      "|   |   |   |   |   |   |--- frac_norms_seen_orig >  0.563\n",
      "|   |   |   |   |   |   |   |--- weights: [4.000, 8.000] class: 1.0\n",
      "|   |   |   |--- in_feature_lex_orig >  0.500\n",
      "|   |   |   |   |--- twitter_bi_cand_next <= 0.011\n",
      "|   |   |   |   |   |--- wiki_bi_prev_cand <= 0.000\n",
      "|   |   |   |   |   |   |--- norms_seen <= 0.500\n",
      "|   |   |   |   |   |   |   |--- weights: [443902.000, 0.000] class: 0.0\n",
      "|   |   |   |   |   |   |--- norms_seen >  0.500\n",
      "|   |   |   |   |   |   |   |--- twitter_bi_cand_next <= 0.000\n",
      "|   |   |   |   |   |   |   |   |--- twitter_bi_cand_next_orig <= 0.001\n",
      "|   |   |   |   |   |   |   |   |   |--- weights: [5.000, 3.000] class: 0.0\n",
      "|   |   |   |   |   |   |   |   |--- twitter_bi_cand_next_orig >  0.001\n",
      "|   |   |   |   |   |   |   |   |   |--- weights: [8.000, 0.000] class: 0.0\n",
      "|   |   |   |   |   |   |   |--- twitter_bi_cand_next >  0.000\n",
      "|   |   |   |   |   |   |   |   |--- twitter_bi_prev_cand <= 0.001\n",
      "|   |   |   |   |   |   |   |   |   |--- weights: [46.000, 0.000] class: 0.0\n",
      "|   |   |   |   |   |   |   |   |--- twitter_bi_prev_cand >  0.001\n",
      "|   |   |   |   |   |   |   |   |   |--- weights: [6.000, 1.000] class: 0.0\n",
      "|   |   |   |   |   |--- wiki_bi_prev_cand >  0.000\n",
      "|   |   |   |   |   |   |--- cosine_to_orig <= 0.884\n",
      "|   |   |   |   |   |   |   |--- twitter_uni_cand <= 0.000\n",
      "|   |   |   |   |   |   |   |   |--- norms_seen <= 0.500\n",
      "|   |   |   |   |   |   |   |   |   |--- weights: [7079.000, 0.000] class: 0.0\n",
      "|   |   |   |   |   |   |   |   |--- norms_seen >  0.500\n",
      "|   |   |   |   |   |   |   |   |   |--- wiki_bi_cand_next <= 0.000\n",
      "|   |   |   |   |   |   |   |   |   |   |--- weights: [13.000, 0.000] class: 0.0\n",
      "|   |   |   |   |   |   |   |   |   |--- wiki_bi_cand_next >  0.000\n",
      "|   |   |   |   |   |   |   |   |   |   |--- weights: [10.000, 2.000] class: 0.0\n",
      "|   |   |   |   |   |   |   |--- twitter_uni_cand >  0.000\n",
      "|   |   |   |   |   |   |   |   |--- twitter_bi_prev_cand_orig <= 0.023\n",
      "|   |   |   |   |   |   |   |   |   |--- weights: [136.000, 0.000] class: 0.0\n",
      "|   |   |   |   |   |   |   |   |--- twitter_bi_prev_cand_orig >  0.023\n",
      "|   |   |   |   |   |   |   |   |   |--- twitter_bi_prev_cand <= 0.007\n",
      "|   |   |   |   |   |   |   |   |   |   |--- weights: [21.000, 0.000] class: 0.0\n",
      "|   |   |   |   |   |   |   |   |   |--- twitter_bi_prev_cand >  0.007\n",
      "|   |   |   |   |   |   |   |   |   |   |--- weights: [5.000, 1.000] class: 0.0\n",
      "|   |   |   |   |   |   |--- cosine_to_orig >  0.884\n",
      "|   |   |   |   |   |   |   |--- length_orig <= 4.500\n",
      "|   |   |   |   |   |   |   |   |--- wiki_uni_cand_orig <= 0.000\n",
      "|   |   |   |   |   |   |   |   |   |--- twitter_uni_cand <= 0.000\n",
      "|   |   |   |   |   |   |   |   |   |   |--- weights: [28.000, 0.000] class: 0.0\n",
      "|   |   |   |   |   |   |   |   |   |--- twitter_uni_cand >  0.000\n",
      "|   |   |   |   |   |   |   |   |   |   |--- weights: [6.000, 2.000] class: 0.0\n",
      "|   |   |   |   |   |   |   |   |--- wiki_uni_cand_orig >  0.000\n",
      "|   |   |   |   |   |   |   |   |   |--- weights: [139.000, 0.000] class: 0.0\n",
      "|   |   |   |   |   |   |   |--- length_orig >  4.500\n",
      "|   |   |   |   |   |   |   |   |--- weights: [261.000, 0.000] class: 0.0\n",
      "|   |   |   |   |--- twitter_bi_cand_next >  0.011\n",
      "|   |   |   |   |   |--- twitter_bi_cand_next <= 0.011\n",
      "|   |   |   |   |   |   |--- weights: [6.000, 2.000] class: 0.0\n",
      "|   |   |   |   |   |--- twitter_bi_cand_next >  0.011\n",
      "|   |   |   |   |   |   |--- norms_seen <= 0.500\n",
      "|   |   |   |   |   |   |   |--- weights: [1921.000, 0.000] class: 0.0\n",
      "|   |   |   |   |   |   |--- norms_seen >  0.500\n",
      "|   |   |   |   |   |   |   |--- wiki_bi_cand_next <= 0.004\n",
      "|   |   |   |   |   |   |   |   |--- wiki_bi_cand_next_orig <= 0.000\n",
      "|   |   |   |   |   |   |   |   |   |--- weights: [8.000, 1.000] class: 0.0\n",
      "|   |   |   |   |   |   |   |   |--- wiki_bi_cand_next_orig >  0.000\n",
      "|   |   |   |   |   |   |   |   |   |--- weights: [11.000, 2.000] class: 0.0\n",
      "|   |   |   |   |   |   |   |--- wiki_bi_cand_next >  0.004\n",
      "|   |   |   |   |   |   |   |   |--- weights: [3.000, 5.000] class: 1.0\n",
      "|   |   |--- norms_seen_orig >  40.500\n",
      "|   |   |   |--- from_clipping <= 0.500\n",
      "|   |   |   |   |--- twitter_bi_cand_next <= 0.100\n",
      "|   |   |   |   |   |--- norms_seen <= 0.500\n",
      "|   |   |   |   |   |   |--- weights: [152642.000, 0.000] class: 0.0\n",
      "|   |   |   |   |   |--- norms_seen >  0.500\n",
      "|   |   |   |   |   |   |--- twitter_bi_cand_next <= 0.019\n",
      "|   |   |   |   |   |   |   |--- wiki_uni_cand_orig <= 0.000\n",
      "|   |   |   |   |   |   |   |   |--- wiki_bi_prev_cand <= 0.000\n",
      "|   |   |   |   |   |   |   |   |   |--- twitter_bi_cand_next <= 0.001\n",
      "|   |   |   |   |   |   |   |   |   |   |--- weights: [69.000, 0.000] class: 0.0\n",
      "|   |   |   |   |   |   |   |   |   |--- twitter_bi_cand_next >  0.001\n",
      "|   |   |   |   |   |   |   |   |   |   |--- weights: [4.000, 1.000] class: 0.0\n",
      "|   |   |   |   |   |   |   |   |--- wiki_bi_prev_cand >  0.000\n",
      "|   |   |   |   |   |   |   |   |   |--- weights: [22.000, 0.000] class: 0.0\n",
      "|   |   |   |   |   |   |   |--- wiki_uni_cand_orig >  0.000\n",
      "|   |   |   |   |   |   |   |   |--- same_order <= 0.500\n",
      "|   |   |   |   |   |   |   |   |   |--- twitter_bi_prev_cand <= 0.007\n",
      "|   |   |   |   |   |   |   |   |   |   |--- weights: [151.000, 0.000] class: 0.0\n",
      "|   |   |   |   |   |   |   |   |   |--- twitter_bi_prev_cand >  0.007\n",
      "|   |   |   |   |   |   |   |   |   |   |--- weights: [6.000, 1.000] class: 0.0\n",
      "|   |   |   |   |   |   |   |   |--- same_order >  0.500\n",
      "|   |   |   |   |   |   |   |   |   |--- wiki_bi_cand_next_orig <= 0.001\n",
      "|   |   |   |   |   |   |   |   |   |   |--- wiki_bi_cand_next_orig <= 0.001\n",
      "|   |   |   |   |   |   |   |   |   |   |   |--- weights: [292.000, 0.000] class: 0.0\n",
      "|   |   |   |   |   |   |   |   |   |   |--- wiki_bi_cand_next_orig >  0.001\n",
      "|   |   |   |   |   |   |   |   |   |   |   |--- weights: [6.000, 1.000] class: 0.0\n",
      "|   |   |   |   |   |   |   |   |   |--- wiki_bi_cand_next_orig >  0.001\n",
      "|   |   |   |   |   |   |   |   |   |   |--- weights: [1054.000, 0.000] class: 0.0\n",
      "|   |   |   |   |   |   |--- twitter_bi_cand_next >  0.019\n",
      "|   |   |   |   |   |   |   |--- wiki_bi_cand_next <= 0.050\n",
      "|   |   |   |   |   |   |   |   |--- weights: [5.000, 2.000] class: 0.0\n",
      "|   |   |   |   |   |   |   |--- wiki_bi_cand_next >  0.050\n",
      "|   |   |   |   |   |   |   |   |--- weights: [28.000, 0.000] class: 0.0\n",
      "|   |   |   |   |--- twitter_bi_cand_next >  0.100\n",
      "|   |   |   |   |   |--- same_order <= 0.500\n",
      "|   |   |   |   |   |   |--- weights: [384.000, 0.000] class: 0.0\n",
      "|   |   |   |   |   |--- same_order >  0.500\n",
      "|   |   |   |   |   |   |--- twitter_uni_cand_orig <= 0.000\n",
      "|   |   |   |   |   |   |   |--- twitter_bi_prev_cand <= 0.001\n",
      "|   |   |   |   |   |   |   |   |--- weights: [14.000, 0.000] class: 0.0\n",
      "|   |   |   |   |   |   |   |--- twitter_bi_prev_cand >  0.001\n",
      "|   |   |   |   |   |   |   |   |--- weights: [8.000, 3.000] class: 0.0\n",
      "|   |   |   |   |   |   |--- twitter_uni_cand_orig >  0.000\n",
      "|   |   |   |   |   |   |   |--- weights: [68.000, 0.000] class: 0.0\n",
      "|   |   |   |--- from_clipping >  0.500\n",
      "|   |   |   |   |--- weights: [727993.000, 0.000] class: 0.0\n",
      "|   |--- from_original_token >  0.500\n",
      "|   |   |--- wiki_bi_cand_next <= 0.000\n",
      "|   |   |   |--- frac_norms_seen <= 0.303\n",
      "|   |   |   |   |--- norms_seen <= 0.500\n",
      "|   |   |   |   |   |--- weights: [2206.000, 0.000] class: 0.0\n",
      "|   |   |   |   |--- norms_seen >  0.500\n",
      "|   |   |   |   |   |--- norms_seen <= 2.500\n",
      "|   |   |   |   |   |   |--- length_orig <= 1.500\n",
      "|   |   |   |   |   |   |   |--- weights: [224.000, 0.000] class: 0.0\n",
      "|   |   |   |   |   |   |--- length_orig >  1.500\n",
      "|   |   |   |   |   |   |   |--- wiki_bi_prev_cand <= 0.000\n",
      "|   |   |   |   |   |   |   |   |--- wiki_bi_prev_cand <= 0.000\n",
      "|   |   |   |   |   |   |   |   |   |--- wiki_bi_cand_next <= 0.000\n",
      "|   |   |   |   |   |   |   |   |   |   |--- norms_seen <= 1.500\n",
      "|   |   |   |   |   |   |   |   |   |   |   |--- truncated branch of depth 3\n",
      "|   |   |   |   |   |   |   |   |   |   |--- norms_seen >  1.500\n",
      "|   |   |   |   |   |   |   |   |   |   |   |--- truncated branch of depth 3\n",
      "|   |   |   |   |   |   |   |   |   |--- wiki_bi_cand_next >  0.000\n",
      "|   |   |   |   |   |   |   |   |   |   |--- weights: [13.000, 0.000] class: 0.0\n",
      "|   |   |   |   |   |   |   |   |--- wiki_bi_prev_cand >  0.000\n",
      "|   |   |   |   |   |   |   |   |   |--- weights: [23.000, 0.000] class: 0.0\n",
      "|   |   |   |   |   |   |   |--- wiki_bi_prev_cand >  0.000\n",
      "|   |   |   |   |   |   |   |   |--- weights: [7.000, 2.000] class: 0.0\n",
      "|   |   |   |   |   |--- norms_seen >  2.500\n",
      "|   |   |   |   |   |   |--- length_orig <= 1.500\n",
      "|   |   |   |   |   |   |   |--- wiki_bi_prev_cand_orig <= 0.000\n",
      "|   |   |   |   |   |   |   |   |--- twitter_bi_prev_cand_orig <= 0.000\n",
      "|   |   |   |   |   |   |   |   |   |--- weights: [6.000, 1.000] class: 0.0\n",
      "|   |   |   |   |   |   |   |   |--- twitter_bi_prev_cand_orig >  0.000\n",
      "|   |   |   |   |   |   |   |   |   |--- weights: [32.000, 0.000] class: 0.0\n",
      "|   |   |   |   |   |   |   |--- wiki_bi_prev_cand_orig >  0.000\n",
      "|   |   |   |   |   |   |   |   |--- weights: [11.000, 2.000] class: 0.0\n",
      "|   |   |   |   |   |   |--- length_orig >  1.500\n",
      "|   |   |   |   |   |   |   |--- twitter_bi_prev_cand_orig <= 0.004\n",
      "|   |   |   |   |   |   |   |   |--- frac_norms_seen_orig <= 0.163\n",
      "|   |   |   |   |   |   |   |   |   |--- twitter_bi_cand_next <= 0.000\n",
      "|   |   |   |   |   |   |   |   |   |   |--- weights: [6.000, 3.000] class: 0.0\n",
      "|   |   |   |   |   |   |   |   |   |--- twitter_bi_cand_next >  0.000\n",
      "|   |   |   |   |   |   |   |   |   |   |--- weights: [31.000, 0.000] class: 0.0\n",
      "|   |   |   |   |   |   |   |   |--- frac_norms_seen_orig >  0.163\n",
      "|   |   |   |   |   |   |   |   |   |--- weights: [21.000, 2.000] class: 0.0\n",
      "|   |   |   |   |   |   |   |--- twitter_bi_prev_cand_orig >  0.004\n",
      "|   |   |   |   |   |   |   |   |--- weights: [3.000, 3.000] class: 0.0\n",
      "|   |   |   |--- frac_norms_seen >  0.303\n",
      "|   |   |   |   |--- length <= 2.500\n",
      "|   |   |   |   |   |--- wiki_bi_cand_next <= 0.000\n",
      "|   |   |   |   |   |   |--- twitter_bi_cand_next <= 0.000\n",
      "|   |   |   |   |   |   |   |--- twitter_bi_prev_cand <= 0.000\n",
      "|   |   |   |   |   |   |   |   |--- norms_seen <= 5.000\n",
      "|   |   |   |   |   |   |   |   |   |--- weights: [5.000, 4.000] class: 0.0\n",
      "|   |   |   |   |   |   |   |   |--- norms_seen >  5.000\n",
      "|   |   |   |   |   |   |   |   |   |--- weights: [0.000, 9.000] class: 1.0\n",
      "|   |   |   |   |   |   |   |--- twitter_bi_prev_cand >  0.000\n",
      "|   |   |   |   |   |   |   |   |--- weights: [9.000, 2.000] class: 0.0\n",
      "|   |   |   |   |   |   |--- twitter_bi_cand_next >  0.000\n",
      "|   |   |   |   |   |   |   |--- twitter_bi_prev_cand_orig <= 0.000\n",
      "|   |   |   |   |   |   |   |   |--- weights: [6.000, 5.000] class: 0.0\n",
      "|   |   |   |   |   |   |   |--- twitter_bi_prev_cand_orig >  0.000\n",
      "|   |   |   |   |   |   |   |   |--- norms_seen <= 11.000\n",
      "|   |   |   |   |   |   |   |   |   |--- wiki_bi_prev_cand <= 0.000\n",
      "|   |   |   |   |   |   |   |   |   |   |--- twitter_uni_cand <= 0.000\n",
      "|   |   |   |   |   |   |   |   |   |   |   |--- weights: [9.000, 1.000] class: 0.0\n",
      "|   |   |   |   |   |   |   |   |   |   |--- twitter_uni_cand >  0.000\n",
      "|   |   |   |   |   |   |   |   |   |   |   |--- weights: [12.000, 2.000] class: 0.0\n",
      "|   |   |   |   |   |   |   |   |   |--- wiki_bi_prev_cand >  0.000\n",
      "|   |   |   |   |   |   |   |   |   |   |--- weights: [8.000, 2.000] class: 0.0\n",
      "|   |   |   |   |   |   |   |   |--- norms_seen >  11.000\n",
      "|   |   |   |   |   |   |   |   |   |--- weights: [19.000, 0.000] class: 0.0\n",
      "|   |   |   |   |   |--- wiki_bi_cand_next >  0.000\n",
      "|   |   |   |   |   |   |--- twitter_bi_cand_next <= 0.000\n",
      "|   |   |   |   |   |   |   |--- weights: [2.000, 7.000] class: 1.0\n",
      "|   |   |   |   |   |   |--- twitter_bi_cand_next >  0.000\n",
      "|   |   |   |   |   |   |   |--- weights: [6.000, 2.000] class: 0.0\n",
      "|   |   |   |   |--- length >  2.500\n",
      "|   |   |   |   |   |--- twitter_bi_cand_next <= 0.000\n",
      "|   |   |   |   |   |   |--- weights: [3.000, 9.000] class: 1.0\n",
      "|   |   |   |   |   |--- twitter_bi_cand_next >  0.000\n",
      "|   |   |   |   |   |   |--- weights: [7.000, 4.000] class: 0.0\n",
      "|   |   |--- wiki_bi_cand_next >  0.000\n",
      "|   |   |   |--- twitter_bi_cand_next_orig <= 0.001\n",
      "|   |   |   |   |--- frac_norms_seen <= 0.065\n",
      "|   |   |   |   |   |--- weights: [14.000, 0.000] class: 0.0\n",
      "|   |   |   |   |--- frac_norms_seen >  0.065\n",
      "|   |   |   |   |   |--- twitter_bi_cand_next_orig <= 0.000\n",
      "|   |   |   |   |   |   |--- frac_norms_seen <= 0.237\n",
      "|   |   |   |   |   |   |   |--- weights: [1.000, 5.000] class: 1.0\n",
      "|   |   |   |   |   |   |--- frac_norms_seen >  0.237\n",
      "|   |   |   |   |   |   |   |--- weights: [0.000, 13.000] class: 1.0\n",
      "|   |   |   |   |   |--- twitter_bi_cand_next_orig >  0.000\n",
      "|   |   |   |   |   |   |--- weights: [3.000, 5.000] class: 1.0\n",
      "|   |   |   |--- twitter_bi_cand_next_orig >  0.001\n",
      "|   |   |   |   |--- twitter_bi_prev_cand_orig <= 0.000\n",
      "|   |   |   |   |   |--- wiki_bi_cand_next_orig <= 0.004\n",
      "|   |   |   |   |   |   |--- weights: [15.000, 0.000] class: 0.0\n",
      "|   |   |   |   |   |--- wiki_bi_cand_next_orig >  0.004\n",
      "|   |   |   |   |   |   |--- weights: [8.000, 3.000] class: 0.0\n",
      "|   |   |   |   |--- twitter_bi_prev_cand_orig >  0.000\n",
      "|   |   |   |   |   |--- twitter_bi_cand_next_orig <= 0.004\n",
      "|   |   |   |   |   |   |--- wiki_bi_cand_next_orig <= 0.000\n",
      "|   |   |   |   |   |   |   |--- weights: [24.000, 0.000] class: 0.0\n",
      "|   |   |   |   |   |   |--- wiki_bi_cand_next_orig >  0.000\n",
      "|   |   |   |   |   |   |   |--- weights: [6.000, 1.000] class: 0.0\n",
      "|   |   |   |   |   |--- twitter_bi_cand_next_orig >  0.004\n",
      "|   |   |   |   |   |   |--- weights: [118.000, 0.000] class: 0.0\n",
      "|--- frac_norms_seen >  0.488\n",
      "|   |--- frac_norms_seen <= 0.789\n",
      "|   |   |--- twitter_bi_prev_cand <= 0.010\n",
      "|   |   |   |--- norms_seen_orig <= 30.000\n",
      "|   |   |   |   |--- frac_norms_seen <= 0.618\n",
      "|   |   |   |   |   |--- frac_length <= 2.583\n",
      "|   |   |   |   |   |   |--- twitter_bi_prev_cand_orig <= 0.000\n",
      "|   |   |   |   |   |   |   |--- wiki_bi_cand_next <= 0.000\n",
      "|   |   |   |   |   |   |   |   |--- twitter_uni_cand <= 0.000\n",
      "|   |   |   |   |   |   |   |   |   |--- norms_seen_orig <= 5.500\n",
      "|   |   |   |   |   |   |   |   |   |   |--- twitter_bi_prev_cand_orig <= 0.000\n",
      "|   |   |   |   |   |   |   |   |   |   |   |--- truncated branch of depth 10\n",
      "|   |   |   |   |   |   |   |   |   |   |--- twitter_bi_prev_cand_orig >  0.000\n",
      "|   |   |   |   |   |   |   |   |   |   |   |--- weights: [4.000, 9.000] class: 1.0\n",
      "|   |   |   |   |   |   |   |   |   |--- norms_seen_orig >  5.500\n",
      "|   |   |   |   |   |   |   |   |   |   |--- weights: [6.000, 12.000] class: 1.0\n",
      "|   |   |   |   |   |   |   |   |--- twitter_uni_cand >  0.000\n",
      "|   |   |   |   |   |   |   |   |   |--- weights: [7.000, 2.000] class: 0.0\n",
      "|   |   |   |   |   |   |   |--- wiki_bi_cand_next >  0.000\n",
      "|   |   |   |   |   |   |   |   |--- twitter_bi_prev_cand_orig <= 0.000\n",
      "|   |   |   |   |   |   |   |   |   |--- weights: [1.000, 11.000] class: 1.0\n",
      "|   |   |   |   |   |   |   |   |--- twitter_bi_prev_cand_orig >  0.000\n",
      "|   |   |   |   |   |   |   |   |   |--- wiki_bi_cand_next <= 0.000\n",
      "|   |   |   |   |   |   |   |   |   |   |--- weights: [0.000, 11.000] class: 1.0\n",
      "|   |   |   |   |   |   |   |   |   |--- wiki_bi_cand_next >  0.000\n",
      "|   |   |   |   |   |   |   |   |   |   |--- frac_norms_seen <= 0.513\n",
      "|   |   |   |   |   |   |   |   |   |   |   |--- truncated branch of depth 3\n",
      "|   |   |   |   |   |   |   |   |   |   |--- frac_norms_seen >  0.513\n",
      "|   |   |   |   |   |   |   |   |   |   |   |--- weights: [3.000, 9.000] class: 1.0\n",
      "|   |   |   |   |   |   |--- twitter_bi_prev_cand_orig >  0.000\n",
      "|   |   |   |   |   |   |   |--- wiki_uni_cand <= 0.000\n",
      "|   |   |   |   |   |   |   |   |--- twitter_uni_cand_orig <= 0.000\n",
      "|   |   |   |   |   |   |   |   |   |--- weights: [6.000, 4.000] class: 0.0\n",
      "|   |   |   |   |   |   |   |   |--- twitter_uni_cand_orig >  0.000\n",
      "|   |   |   |   |   |   |   |   |   |--- weights: [9.000, 7.000] class: 0.0\n",
      "|   |   |   |   |   |   |   |--- wiki_uni_cand >  0.000\n",
      "|   |   |   |   |   |   |   |   |--- wiki_bi_prev_cand_orig <= 0.000\n",
      "|   |   |   |   |   |   |   |   |   |--- weights: [10.000, 2.000] class: 0.0\n",
      "|   |   |   |   |   |   |   |   |--- wiki_bi_prev_cand_orig >  0.000\n",
      "|   |   |   |   |   |   |   |   |   |--- weights: [8.000, 0.000] class: 0.0\n",
      "|   |   |   |   |   |--- frac_length >  2.583\n",
      "|   |   |   |   |   |   |--- twitter_bi_prev_cand_orig <= 0.000\n",
      "|   |   |   |   |   |   |   |--- weights: [5.000, 9.000] class: 1.0\n",
      "|   |   |   |   |   |   |--- twitter_bi_prev_cand_orig >  0.000\n",
      "|   |   |   |   |   |   |   |--- spellcheck_score <= -10.000\n",
      "|   |   |   |   |   |   |   |   |--- norms_seen_orig <= 7.500\n",
      "|   |   |   |   |   |   |   |   |   |--- weights: [5.000, 2.000] class: 0.0\n",
      "|   |   |   |   |   |   |   |   |--- norms_seen_orig >  7.500\n",
      "|   |   |   |   |   |   |   |   |   |--- weights: [19.000, 0.000] class: 0.0\n",
      "|   |   |   |   |   |   |   |--- spellcheck_score >  -10.000\n",
      "|   |   |   |   |   |   |   |   |--- twitter_bi_prev_cand <= 0.001\n",
      "|   |   |   |   |   |   |   |   |   |--- weights: [10.000, 3.000] class: 0.0\n",
      "|   |   |   |   |   |   |   |   |--- twitter_bi_prev_cand >  0.001\n",
      "|   |   |   |   |   |   |   |   |   |--- weights: [6.000, 5.000] class: 0.0\n",
      "|   |   |   |   |--- frac_norms_seen >  0.618\n",
      "|   |   |   |   |   |--- wiki_bi_cand_next <= 0.000\n",
      "|   |   |   |   |   |   |--- twitter_bi_prev_cand <= 0.000\n",
      "|   |   |   |   |   |   |   |--- frac_length <= 1.134\n",
      "|   |   |   |   |   |   |   |   |--- twitter_bi_cand_next_orig <= 0.001\n",
      "|   |   |   |   |   |   |   |   |   |--- length <= 2.500\n",
      "|   |   |   |   |   |   |   |   |   |   |--- weights: [0.000, 16.000] class: 1.0\n",
      "|   |   |   |   |   |   |   |   |   |--- length >  2.500\n",
      "|   |   |   |   |   |   |   |   |   |   |--- length_orig <= 6.500\n",
      "|   |   |   |   |   |   |   |   |   |   |   |--- weights: [4.000, 6.000] class: 1.0\n",
      "|   |   |   |   |   |   |   |   |   |   |--- length_orig >  6.500\n",
      "|   |   |   |   |   |   |   |   |   |   |   |--- weights: [2.000, 12.000] class: 1.0\n",
      "|   |   |   |   |   |   |   |   |--- twitter_bi_cand_next_orig >  0.001\n",
      "|   |   |   |   |   |   |   |   |   |--- weights: [3.000, 4.000] class: 1.0\n",
      "|   |   |   |   |   |   |   |--- frac_length >  1.134\n",
      "|   |   |   |   |   |   |   |   |--- frac_length <= 2.933\n",
      "|   |   |   |   |   |   |   |   |   |--- twitter_bi_cand_next <= 0.000\n",
      "|   |   |   |   |   |   |   |   |   |   |--- weights: [9.000, 4.000] class: 0.0\n",
      "|   |   |   |   |   |   |   |   |   |--- twitter_bi_cand_next >  0.000\n",
      "|   |   |   |   |   |   |   |   |   |   |--- weights: [2.000, 5.000] class: 1.0\n",
      "|   |   |   |   |   |   |   |   |--- frac_length >  2.933\n",
      "|   |   |   |   |   |   |   |   |   |--- spellcheck_score <= -19.000\n",
      "|   |   |   |   |   |   |   |   |   |   |--- norms_seen_orig <= 2.500\n",
      "|   |   |   |   |   |   |   |   |   |   |   |--- weights: [5.000, 9.000] class: 1.0\n",
      "|   |   |   |   |   |   |   |   |   |   |--- norms_seen_orig >  2.500\n",
      "|   |   |   |   |   |   |   |   |   |   |   |--- weights: [4.000, 4.000] class: 0.0\n",
      "|   |   |   |   |   |   |   |   |   |--- spellcheck_score >  -19.000\n",
      "|   |   |   |   |   |   |   |   |   |   |--- weights: [3.000, 8.000] class: 1.0\n",
      "|   |   |   |   |   |   |--- twitter_bi_prev_cand >  0.000\n",
      "|   |   |   |   |   |   |   |--- twitter_bi_cand_next_orig <= 0.001\n",
      "|   |   |   |   |   |   |   |   |--- wiki_bi_prev_cand <= 0.000\n",
      "|   |   |   |   |   |   |   |   |   |--- frac_norms_seen <= 0.701\n",
      "|   |   |   |   |   |   |   |   |   |   |--- weights: [12.000, 6.000] class: 0.0\n",
      "|   |   |   |   |   |   |   |   |   |--- frac_norms_seen >  0.701\n",
      "|   |   |   |   |   |   |   |   |   |   |--- spellcheck_score <= 1004.500\n",
      "|   |   |   |   |   |   |   |   |   |   |   |--- weights: [8.000, 2.000] class: 0.0\n",
      "|   |   |   |   |   |   |   |   |   |   |--- spellcheck_score >  1004.500\n",
      "|   |   |   |   |   |   |   |   |   |   |   |--- weights: [10.000, 1.000] class: 0.0\n",
      "|   |   |   |   |   |   |   |   |--- wiki_bi_prev_cand >  0.000\n",
      "|   |   |   |   |   |   |   |   |   |--- weights: [2.000, 3.000] class: 1.0\n",
      "|   |   |   |   |   |   |   |--- twitter_bi_cand_next_orig >  0.001\n",
      "|   |   |   |   |   |   |   |   |--- weights: [4.000, 9.000] class: 1.0\n",
      "|   |   |   |   |   |--- wiki_bi_cand_next >  0.000\n",
      "|   |   |   |   |   |   |--- spellcheck_score <= -10.500\n",
      "|   |   |   |   |   |   |   |--- weights: [4.000, 3.000] class: 0.0\n",
      "|   |   |   |   |   |   |--- spellcheck_score >  -10.500\n",
      "|   |   |   |   |   |   |   |--- length <= 2.000\n",
      "|   |   |   |   |   |   |   |   |--- wiki_bi_prev_cand_orig <= 0.000\n",
      "|   |   |   |   |   |   |   |   |   |--- wiki_bi_cand_next <= 0.000\n",
      "|   |   |   |   |   |   |   |   |   |   |--- weights: [4.000, 2.000] class: 0.0\n",
      "|   |   |   |   |   |   |   |   |   |--- wiki_bi_cand_next >  0.000\n",
      "|   |   |   |   |   |   |   |   |   |   |--- weights: [2.000, 11.000] class: 1.0\n",
      "|   |   |   |   |   |   |   |   |--- wiki_bi_prev_cand_orig >  0.000\n",
      "|   |   |   |   |   |   |   |   |   |--- weights: [2.000, 13.000] class: 1.0\n",
      "|   |   |   |   |   |   |   |--- length >  2.000\n",
      "|   |   |   |   |   |   |   |   |--- frac_length <= 1.267\n",
      "|   |   |   |   |   |   |   |   |   |--- weights: [2.000, 12.000] class: 1.0\n",
      "|   |   |   |   |   |   |   |   |--- frac_length >  1.267\n",
      "|   |   |   |   |   |   |   |   |   |--- twitter_uni_cand <= 0.000\n",
      "|   |   |   |   |   |   |   |   |   |   |--- weights: [1.000, 11.000] class: 1.0\n",
      "|   |   |   |   |   |   |   |   |   |--- twitter_uni_cand >  0.000\n",
      "|   |   |   |   |   |   |   |   |   |   |--- weights: [0.000, 15.000] class: 1.0\n",
      "|   |   |   |--- norms_seen_orig >  30.000\n",
      "|   |   |   |   |--- wiki_bi_cand_next <= 0.000\n",
      "|   |   |   |   |   |--- weights: [6.000, 11.000] class: 1.0\n",
      "|   |   |   |   |--- wiki_bi_cand_next >  0.000\n",
      "|   |   |   |   |   |--- weights: [0.000, 22.000] class: 1.0\n",
      "|   |   |--- twitter_bi_prev_cand >  0.010\n",
      "|   |   |   |--- twitter_bi_cand_next <= 0.004\n",
      "|   |   |   |   |--- wiki_bi_prev_cand_orig <= 0.001\n",
      "|   |   |   |   |   |--- wiki_bi_cand_next_orig <= 0.000\n",
      "|   |   |   |   |   |   |--- wiki_bi_prev_cand <= 0.007\n",
      "|   |   |   |   |   |   |   |--- twitter_uni_cand <= 0.000\n",
      "|   |   |   |   |   |   |   |   |--- weights: [1.000, 7.000] class: 1.0\n",
      "|   |   |   |   |   |   |   |--- twitter_uni_cand >  0.000\n",
      "|   |   |   |   |   |   |   |   |--- norms_seen <= 13.000\n",
      "|   |   |   |   |   |   |   |   |   |--- weights: [3.000, 4.000] class: 1.0\n",
      "|   |   |   |   |   |   |   |   |--- norms_seen >  13.000\n",
      "|   |   |   |   |   |   |   |   |   |--- weights: [5.000, 3.000] class: 0.0\n",
      "|   |   |   |   |   |   |--- wiki_bi_prev_cand >  0.007\n",
      "|   |   |   |   |   |   |   |--- weights: [6.000, 0.000] class: 0.0\n",
      "|   |   |   |   |   |--- wiki_bi_cand_next_orig >  0.000\n",
      "|   |   |   |   |   |   |--- weights: [10.000, 2.000] class: 0.0\n",
      "|   |   |   |   |--- wiki_bi_prev_cand_orig >  0.001\n",
      "|   |   |   |   |   |--- weights: [1.000, 9.000] class: 1.0\n",
      "|   |   |   |--- twitter_bi_cand_next >  0.004\n",
      "|   |   |   |   |--- length_orig <= 2.500\n",
      "|   |   |   |   |   |--- frac_norms_seen <= 0.618\n",
      "|   |   |   |   |   |   |--- weights: [0.000, 51.000] class: 1.0\n",
      "|   |   |   |   |   |--- frac_norms_seen >  0.618\n",
      "|   |   |   |   |   |   |--- frac_norms_seen <= 0.670\n",
      "|   |   |   |   |   |   |   |--- weights: [2.000, 8.000] class: 1.0\n",
      "|   |   |   |   |   |   |--- frac_norms_seen >  0.670\n",
      "|   |   |   |   |   |   |   |--- wiki_bi_prev_cand_orig <= 0.000\n",
      "|   |   |   |   |   |   |   |   |--- wiki_uni_cand_orig <= 0.000\n",
      "|   |   |   |   |   |   |   |   |   |--- weights: [1.000, 6.000] class: 1.0\n",
      "|   |   |   |   |   |   |   |   |--- wiki_uni_cand_orig >  0.000\n",
      "|   |   |   |   |   |   |   |   |   |--- weights: [0.000, 12.000] class: 1.0\n",
      "|   |   |   |   |   |   |   |--- wiki_bi_prev_cand_orig >  0.000\n",
      "|   |   |   |   |   |   |   |   |--- weights: [0.000, 17.000] class: 1.0\n",
      "|   |   |   |   |--- length_orig >  2.500\n",
      "|   |   |   |   |   |--- weights: [2.000, 11.000] class: 1.0\n",
      "|   |--- frac_norms_seen >  0.789\n",
      "|   |   |--- cosine_to_orig <= 0.937\n",
      "|   |   |   |--- frac_norms_seen <= 0.913\n",
      "|   |   |   |   |--- norms_seen <= 6.500\n",
      "|   |   |   |   |   |--- weights: [0.000, 14.000] class: 1.0\n",
      "|   |   |   |   |--- norms_seen >  6.500\n",
      "|   |   |   |   |   |--- twitter_bi_cand_next_orig <= 0.000\n",
      "|   |   |   |   |   |   |--- weights: [8.000, 1.000] class: 0.0\n",
      "|   |   |   |   |   |--- twitter_bi_cand_next_orig >  0.000\n",
      "|   |   |   |   |   |   |--- twitter_bi_cand_next_orig <= 0.001\n",
      "|   |   |   |   |   |   |   |--- twitter_bi_cand_next_orig <= 0.001\n",
      "|   |   |   |   |   |   |   |   |--- length_orig <= 2.500\n",
      "|   |   |   |   |   |   |   |   |   |--- twitter_bi_cand_next_orig <= 0.000\n",
      "|   |   |   |   |   |   |   |   |   |   |--- wiki_bi_cand_next <= 0.032\n",
      "|   |   |   |   |   |   |   |   |   |   |   |--- weights: [1.000, 14.000] class: 1.0\n",
      "|   |   |   |   |   |   |   |   |   |   |--- wiki_bi_cand_next >  0.032\n",
      "|   |   |   |   |   |   |   |   |   |   |   |--- weights: [4.000, 4.000] class: 0.0\n",
      "|   |   |   |   |   |   |   |   |   |--- twitter_bi_cand_next_orig >  0.000\n",
      "|   |   |   |   |   |   |   |   |   |   |--- twitter_bi_cand_next_orig <= 0.000\n",
      "|   |   |   |   |   |   |   |   |   |   |   |--- weights: [1.000, 11.000] class: 1.0\n",
      "|   |   |   |   |   |   |   |   |   |   |--- twitter_bi_cand_next_orig >  0.000\n",
      "|   |   |   |   |   |   |   |   |   |   |   |--- weights: [0.000, 35.000] class: 1.0\n",
      "|   |   |   |   |   |   |   |   |--- length_orig >  2.500\n",
      "|   |   |   |   |   |   |   |   |   |--- cosine_to_orig <= 0.424\n",
      "|   |   |   |   |   |   |   |   |   |   |--- weights: [1.000, 9.000] class: 1.0\n",
      "|   |   |   |   |   |   |   |   |   |--- cosine_to_orig >  0.424\n",
      "|   |   |   |   |   |   |   |   |   |   |--- frac_norms_seen_orig <= 0.062\n",
      "|   |   |   |   |   |   |   |   |   |   |   |--- weights: [3.000, 3.000] class: 0.0\n",
      "|   |   |   |   |   |   |   |   |   |   |--- frac_norms_seen_orig >  0.062\n",
      "|   |   |   |   |   |   |   |   |   |   |   |--- truncated branch of depth 2\n",
      "|   |   |   |   |   |   |   |--- twitter_bi_cand_next_orig >  0.001\n",
      "|   |   |   |   |   |   |   |   |--- weights: [6.000, 4.000] class: 0.0\n",
      "|   |   |   |   |   |   |--- twitter_bi_cand_next_orig >  0.001\n",
      "|   |   |   |   |   |   |   |--- twitter_bi_cand_next <= 0.000\n",
      "|   |   |   |   |   |   |   |   |--- weights: [1.000, 7.000] class: 1.0\n",
      "|   |   |   |   |   |   |   |--- twitter_bi_cand_next >  0.000\n",
      "|   |   |   |   |   |   |   |   |--- weights: [0.000, 43.000] class: 1.0\n",
      "|   |   |   |--- frac_norms_seen >  0.913\n",
      "|   |   |   |   |--- from_embeddings <= 0.500\n",
      "|   |   |   |   |   |--- weights: [0.000, 1935.000] class: 1.0\n",
      "|   |   |   |   |--- from_embeddings >  0.500\n",
      "|   |   |   |   |   |--- frac_length <= 2.292\n",
      "|   |   |   |   |   |   |--- length <= 3.500\n",
      "|   |   |   |   |   |   |   |--- twitter_bi_prev_cand_orig <= 0.009\n",
      "|   |   |   |   |   |   |   |   |--- weights: [0.000, 147.000] class: 1.0\n",
      "|   |   |   |   |   |   |   |--- twitter_bi_prev_cand_orig >  0.009\n",
      "|   |   |   |   |   |   |   |   |--- weights: [2.000, 17.000] class: 1.0\n",
      "|   |   |   |   |   |   |--- length >  3.500\n",
      "|   |   |   |   |   |   |   |--- weights: [0.000, 550.000] class: 1.0\n",
      "|   |   |   |   |   |--- frac_length >  2.292\n",
      "|   |   |   |   |   |   |--- wiki_bi_prev_cand_orig <= 0.000\n",
      "|   |   |   |   |   |   |   |--- frac_norms_seen_orig <= 0.045\n",
      "|   |   |   |   |   |   |   |   |--- twitter_bi_prev_cand_orig <= 0.000\n",
      "|   |   |   |   |   |   |   |   |   |--- wiki_bi_cand_next <= 0.000\n",
      "|   |   |   |   |   |   |   |   |   |   |--- weights: [2.000, 10.000] class: 1.0\n",
      "|   |   |   |   |   |   |   |   |   |--- wiki_bi_cand_next >  0.000\n",
      "|   |   |   |   |   |   |   |   |   |   |--- weights: [1.000, 5.000] class: 1.0\n",
      "|   |   |   |   |   |   |   |   |--- twitter_bi_prev_cand_orig >  0.000\n",
      "|   |   |   |   |   |   |   |   |   |--- wiki_bi_cand_next_orig <= 0.001\n",
      "|   |   |   |   |   |   |   |   |   |   |--- twitter_bi_prev_cand <= 0.013\n",
      "|   |   |   |   |   |   |   |   |   |   |   |--- truncated branch of depth 2\n",
      "|   |   |   |   |   |   |   |   |   |   |--- twitter_bi_prev_cand >  0.013\n",
      "|   |   |   |   |   |   |   |   |   |   |   |--- weights: [0.000, 57.000] class: 1.0\n",
      "|   |   |   |   |   |   |   |   |   |--- wiki_bi_cand_next_orig >  0.001\n",
      "|   |   |   |   |   |   |   |   |   |   |--- weights: [2.000, 9.000] class: 1.0\n",
      "|   |   |   |   |   |   |   |--- frac_norms_seen_orig >  0.045\n",
      "|   |   |   |   |   |   |   |   |--- weights: [1.000, 9.000] class: 1.0\n",
      "|   |   |   |   |   |   |--- wiki_bi_prev_cand_orig >  0.000\n",
      "|   |   |   |   |   |   |   |--- twitter_bi_prev_cand <= 0.004\n",
      "|   |   |   |   |   |   |   |   |--- twitter_bi_cand_next <= 0.012\n",
      "|   |   |   |   |   |   |   |   |   |--- weights: [0.000, 17.000] class: 1.0\n",
      "|   |   |   |   |   |   |   |   |--- twitter_bi_cand_next >  0.012\n",
      "|   |   |   |   |   |   |   |   |   |--- weights: [2.000, 10.000] class: 1.0\n",
      "|   |   |   |   |   |   |   |--- twitter_bi_prev_cand >  0.004\n",
      "|   |   |   |   |   |   |   |   |--- weights: [0.000, 179.000] class: 1.0\n",
      "|   |   |--- cosine_to_orig >  0.937\n",
      "|   |   |   |--- wiki_bi_prev_cand <= 0.001\n",
      "|   |   |   |   |--- length <= 1.500\n",
      "|   |   |   |   |   |--- twitter_bi_cand_next_orig <= 0.000\n",
      "|   |   |   |   |   |   |--- twitter_bi_cand_next <= 0.000\n",
      "|   |   |   |   |   |   |   |--- twitter_bi_prev_cand_orig <= 0.002\n",
      "|   |   |   |   |   |   |   |   |--- weights: [0.000, 31.000] class: 1.0\n",
      "|   |   |   |   |   |   |   |--- twitter_bi_prev_cand_orig >  0.002\n",
      "|   |   |   |   |   |   |   |   |--- weights: [1.000, 8.000] class: 1.0\n",
      "|   |   |   |   |   |   |--- twitter_bi_cand_next >  0.000\n",
      "|   |   |   |   |   |   |   |--- twitter_bi_prev_cand_orig <= 0.000\n",
      "|   |   |   |   |   |   |   |   |--- weights: [0.000, 14.000] class: 1.0\n",
      "|   |   |   |   |   |   |   |--- twitter_bi_prev_cand_orig >  0.000\n",
      "|   |   |   |   |   |   |   |   |--- weights: [9.000, 2.000] class: 0.0\n",
      "|   |   |   |   |   |--- twitter_bi_cand_next_orig >  0.000\n",
      "|   |   |   |   |   |   |--- twitter_bi_cand_next_orig <= 0.068\n",
      "|   |   |   |   |   |   |   |--- wiki_uni_cand_orig <= 0.000\n",
      "|   |   |   |   |   |   |   |   |--- norms_seen_orig <= 10.500\n",
      "|   |   |   |   |   |   |   |   |   |--- norms_seen_orig <= 9.500\n",
      "|   |   |   |   |   |   |   |   |   |   |--- weights: [0.000, 23.000] class: 1.0\n",
      "|   |   |   |   |   |   |   |   |   |--- norms_seen_orig >  9.500\n",
      "|   |   |   |   |   |   |   |   |   |   |--- weights: [4.000, 6.000] class: 1.0\n",
      "|   |   |   |   |   |   |   |   |--- norms_seen_orig >  10.500\n",
      "|   |   |   |   |   |   |   |   |   |--- twitter_bi_cand_next_orig <= 0.002\n",
      "|   |   |   |   |   |   |   |   |   |   |--- weights: [0.000, 75.000] class: 1.0\n",
      "|   |   |   |   |   |   |   |   |   |--- twitter_bi_cand_next_orig >  0.002\n",
      "|   |   |   |   |   |   |   |   |   |   |--- twitter_bi_cand_next <= 0.004\n",
      "|   |   |   |   |   |   |   |   |   |   |   |--- weights: [2.000, 3.000] class: 1.0\n",
      "|   |   |   |   |   |   |   |   |   |   |--- twitter_bi_cand_next >  0.004\n",
      "|   |   |   |   |   |   |   |   |   |   |   |--- weights: [0.000, 26.000] class: 1.0\n",
      "|   |   |   |   |   |   |   |--- wiki_uni_cand_orig >  0.000\n",
      "|   |   |   |   |   |   |   |   |--- norms_seen <= 256.500\n",
      "|   |   |   |   |   |   |   |   |   |--- weights: [0.000, 87.000] class: 1.0\n",
      "|   |   |   |   |   |   |   |   |--- norms_seen >  256.500\n",
      "|   |   |   |   |   |   |   |   |   |--- wiki_bi_prev_cand_orig <= 0.000\n",
      "|   |   |   |   |   |   |   |   |   |   |--- weights: [0.000, 39.000] class: 1.0\n",
      "|   |   |   |   |   |   |   |   |   |--- wiki_bi_prev_cand_orig >  0.000\n",
      "|   |   |   |   |   |   |   |   |   |   |--- twitter_bi_prev_cand <= 0.034\n",
      "|   |   |   |   |   |   |   |   |   |   |   |--- weights: [2.000, 18.000] class: 1.0\n",
      "|   |   |   |   |   |   |   |   |   |   |--- twitter_bi_prev_cand >  0.034\n",
      "|   |   |   |   |   |   |   |   |   |   |   |--- weights: [0.000, 12.000] class: 1.0\n",
      "|   |   |   |   |   |   |--- twitter_bi_cand_next_orig >  0.068\n",
      "|   |   |   |   |   |   |   |--- weights: [0.000, 430.000] class: 1.0\n",
      "|   |   |   |   |--- length >  1.500\n",
      "|   |   |   |   |   |--- frac_norms_seen <= 0.867\n",
      "|   |   |   |   |   |   |--- wiki_bi_prev_cand <= 0.000\n",
      "|   |   |   |   |   |   |   |--- twitter_bi_prev_cand_orig <= 0.000\n",
      "|   |   |   |   |   |   |   |   |--- weights: [8.000, 8.000] class: 0.0\n",
      "|   |   |   |   |   |   |   |--- twitter_bi_prev_cand_orig >  0.000\n",
      "|   |   |   |   |   |   |   |   |--- twitter_uni_cand_orig <= 0.000\n",
      "|   |   |   |   |   |   |   |   |   |--- twitter_bi_prev_cand_orig <= 0.005\n",
      "|   |   |   |   |   |   |   |   |   |   |--- weights: [0.000, 10.000] class: 1.0\n",
      "|   |   |   |   |   |   |   |   |   |--- twitter_bi_prev_cand_orig >  0.005\n",
      "|   |   |   |   |   |   |   |   |   |   |--- weights: [2.000, 8.000] class: 1.0\n",
      "|   |   |   |   |   |   |   |   |--- twitter_uni_cand_orig >  0.000\n",
      "|   |   |   |   |   |   |   |   |   |--- weights: [0.000, 10.000] class: 1.0\n",
      "|   |   |   |   |   |   |--- wiki_bi_prev_cand >  0.000\n",
      "|   |   |   |   |   |   |   |--- weights: [5.000, 1.000] class: 0.0\n",
      "|   |   |   |   |   |--- frac_norms_seen >  0.867\n",
      "|   |   |   |   |   |   |--- twitter_uni_cand <= 0.000\n",
      "|   |   |   |   |   |   |   |--- length <= 2.500\n",
      "|   |   |   |   |   |   |   |   |--- norms_seen <= 28.500\n",
      "|   |   |   |   |   |   |   |   |   |--- weights: [0.000, 672.000] class: 1.0\n",
      "|   |   |   |   |   |   |   |   |--- norms_seen >  28.500\n",
      "|   |   |   |   |   |   |   |   |   |--- norms_seen <= 36.500\n",
      "|   |   |   |   |   |   |   |   |   |   |--- twitter_bi_cand_next <= 0.000\n",
      "|   |   |   |   |   |   |   |   |   |   |   |--- weights: [5.000, 16.000] class: 1.0\n",
      "|   |   |   |   |   |   |   |   |   |   |--- twitter_bi_cand_next >  0.000\n",
      "|   |   |   |   |   |   |   |   |   |   |   |--- weights: [0.000, 53.000] class: 1.0\n",
      "|   |   |   |   |   |   |   |   |   |--- norms_seen >  36.500\n",
      "|   |   |   |   |   |   |   |   |   |   |--- weights: [0.000, 119.000] class: 1.0\n",
      "|   |   |   |   |   |   |   |--- length >  2.500\n",
      "|   |   |   |   |   |   |   |   |--- twitter_uni_cand <= 0.000\n",
      "|   |   |   |   |   |   |   |   |   |--- length_orig <= 5.500\n",
      "|   |   |   |   |   |   |   |   |   |   |--- twitter_bi_cand_next_orig <= 0.153\n",
      "|   |   |   |   |   |   |   |   |   |   |   |--- truncated branch of depth 5\n",
      "|   |   |   |   |   |   |   |   |   |   |--- twitter_bi_cand_next_orig >  0.153\n",
      "|   |   |   |   |   |   |   |   |   |   |   |--- truncated branch of depth 4\n",
      "|   |   |   |   |   |   |   |   |   |--- length_orig >  5.500\n",
      "|   |   |   |   |   |   |   |   |   |   |--- weights: [0.000, 5457.000] class: 1.0\n",
      "|   |   |   |   |   |   |   |   |--- twitter_uni_cand >  0.000\n",
      "|   |   |   |   |   |   |   |   |   |--- weights: [0.000, 1953.000] class: 1.0\n",
      "|   |   |   |   |   |   |--- twitter_uni_cand >  0.000\n",
      "|   |   |   |   |   |   |   |--- frac_norms_seen <= 0.987\n",
      "|   |   |   |   |   |   |   |   |--- wiki_bi_cand_next <= 0.000\n",
      "|   |   |   |   |   |   |   |   |   |--- norms_seen <= 100.000\n",
      "|   |   |   |   |   |   |   |   |   |   |--- wiki_bi_prev_cand_orig <= 0.000\n",
      "|   |   |   |   |   |   |   |   |   |   |   |--- truncated branch of depth 2\n",
      "|   |   |   |   |   |   |   |   |   |   |--- wiki_bi_prev_cand_orig >  0.000\n",
      "|   |   |   |   |   |   |   |   |   |   |   |--- weights: [0.000, 12.000] class: 1.0\n",
      "|   |   |   |   |   |   |   |   |   |--- norms_seen >  100.000\n",
      "|   |   |   |   |   |   |   |   |   |   |--- twitter_bi_cand_next_orig <= 0.001\n",
      "|   |   |   |   |   |   |   |   |   |   |   |--- weights: [4.000, 3.000] class: 0.0\n",
      "|   |   |   |   |   |   |   |   |   |   |--- twitter_bi_cand_next_orig >  0.001\n",
      "|   |   |   |   |   |   |   |   |   |   |   |--- weights: [0.000, 16.000] class: 1.0\n",
      "|   |   |   |   |   |   |   |   |--- wiki_bi_cand_next >  0.000\n",
      "|   |   |   |   |   |   |   |   |   |--- weights: [0.000, 78.000] class: 1.0\n",
      "|   |   |   |   |   |   |   |--- frac_norms_seen >  0.987\n",
      "|   |   |   |   |   |   |   |   |--- twitter_bi_cand_next <= 0.002\n",
      "|   |   |   |   |   |   |   |   |   |--- twitter_bi_cand_next <= 0.002\n",
      "|   |   |   |   |   |   |   |   |   |   |--- weights: [0.000, 302.000] class: 1.0\n",
      "|   |   |   |   |   |   |   |   |   |--- twitter_bi_cand_next >  0.002\n",
      "|   |   |   |   |   |   |   |   |   |   |--- weights: [1.000, 7.000] class: 1.0\n",
      "|   |   |   |   |   |   |   |   |--- twitter_bi_cand_next >  0.002\n",
      "|   |   |   |   |   |   |   |   |   |--- weights: [0.000, 2243.000] class: 1.0\n",
      "|   |   |   |--- wiki_bi_prev_cand >  0.001\n",
      "|   |   |   |   |--- norms_seen <= 24.500\n",
      "|   |   |   |   |   |--- frac_norms_seen_orig <= 0.980\n",
      "|   |   |   |   |   |   |--- wiki_bi_cand_next <= 0.001\n",
      "|   |   |   |   |   |   |   |--- norms_seen <= 16.500\n",
      "|   |   |   |   |   |   |   |   |--- weights: [0.000, 12.000] class: 1.0\n",
      "|   |   |   |   |   |   |   |--- norms_seen >  16.500\n",
      "|   |   |   |   |   |   |   |   |--- weights: [1.000, 6.000] class: 1.0\n",
      "|   |   |   |   |   |   |--- wiki_bi_cand_next >  0.001\n",
      "|   |   |   |   |   |   |   |--- weights: [0.000, 24.000] class: 1.0\n",
      "|   |   |   |   |   |--- frac_norms_seen_orig >  0.980\n",
      "|   |   |   |   |   |   |--- length <= 4.500\n",
      "|   |   |   |   |   |   |   |--- weights: [0.000, 860.000] class: 1.0\n",
      "|   |   |   |   |   |   |--- length >  4.500\n",
      "|   |   |   |   |   |   |   |--- norms_seen <= 8.500\n",
      "|   |   |   |   |   |   |   |   |--- weights: [0.000, 978.000] class: 1.0\n",
      "|   |   |   |   |   |   |   |--- norms_seen >  8.500\n",
      "|   |   |   |   |   |   |   |   |--- twitter_bi_cand_next <= 0.000\n",
      "|   |   |   |   |   |   |   |   |   |--- wiki_bi_cand_next <= 0.000\n",
      "|   |   |   |   |   |   |   |   |   |   |--- weights: [0.000, 34.000] class: 1.0\n",
      "|   |   |   |   |   |   |   |   |   |--- wiki_bi_cand_next >  0.000\n",
      "|   |   |   |   |   |   |   |   |   |   |--- weights: [2.000, 3.000] class: 1.0\n",
      "|   |   |   |   |   |   |   |   |--- twitter_bi_cand_next >  0.000\n",
      "|   |   |   |   |   |   |   |   |   |--- weights: [0.000, 293.000] class: 1.0\n",
      "|   |   |   |   |--- norms_seen >  24.500\n",
      "|   |   |   |   |   |--- weights: [0.000, 7363.000] class: 1.0\n",
      "\n"
     ]
    }
   ],
   "source": [
    "from sklearn.tree import export_text\n",
    "from joblib import load\n",
    "import os\n",
    "from lexnorm.definitions import DATA_PATH\n",
    "clf = load(os.path.join(DATA_PATH, \"../models/rf.joblib\"))\n",
    "print(export_text(clf.estimators_[0], spacing=3, decimals=3, show_weights=True, feature_names=clf.feature_names_in_.tolist()))"
   ],
   "metadata": {
    "collapsed": false,
    "ExecuteTime": {
     "start_time": "2023-05-05T18:48:01.963012Z",
     "end_time": "2023-05-05T18:48:03.329883Z"
    }
   }
  },
  {
   "cell_type": "code",
   "execution_count": 40,
   "outputs": [
    {
     "name": "stdout",
     "output_type": "stream",
     "text": [
      "['__class__', '__delattr__', '__dir__', '__doc__', '__eq__', '__format__', '__ge__', '__getattribute__', '__getstate__', '__gt__', '__hash__', '__init__', '__init_subclass__', '__le__', '__lt__', '__ne__', '__new__', '__pyx_vtable__', '__reduce__', '__reduce_ex__', '__repr__', '__setattr__', '__setstate__', '__sizeof__', '__str__', '__subclasshook__', 'apply', 'capacity', 'children_left', 'children_right', 'compute_feature_importances', 'compute_partial_dependence', 'decision_path', 'feature', 'impurity', 'max_depth', 'max_n_classes', 'n_classes', 'n_features', 'n_leaves', 'n_node_samples', 'n_outputs', 'node_count', 'predict', 'threshold', 'value', 'weighted_n_node_samples']\n",
      "281\n",
      "20\n",
      "[962635 941573 939611 381696  95183  94909  94904  93946    958    549\n",
      "    542    276     46     37      9    230    266    233    132     66\n",
      "     35     31      6     25     66     61     53     24      9     15\n",
      "     29      8      5    101     33     24      9      7    409    355\n",
      "    345      5    340     46     38      8    294    288     99     94\n",
      "      5    189      6     10      5      5     54     38     32     20\n",
      "     12      5      7      6     16      9      7      5    274    259\n",
      "    206    190     90     83     62     41     24     19      5     17\n",
      "      9      8     21      5     16     21     15      9      6      6\n",
      "      7    100     57     50     36     30      6     14      5      9\n",
      "      7     43     16      8      8     53     38      9     29     24\n",
      "     19      5      5     15      6      9     15      6      9 286513\n",
      " 285280 280408 280361     47     10      5      5     37     32      5\n",
      "   4872   4585   4487   4468     19     11      8     98     82     16\n",
      "     11      5    287    114     24     18      6     90    173   1233\n",
      "      5   1228   1211     17     11      6      5      6 557915  97612\n",
      "  97313  96287   1026   1006     67     48     43      5     19    939\n",
      "    100     95      5    839    190    185      5    649     20      5\n",
      "     15    299    244     55     13      8      5     42 460303   1962\n",
      "   1806   1720   1411    309    239    146     93     88     73     63\n",
      "     35     23     12      5      7     28     20     11      9      8\n",
      "     10     15      5     70     31     23      6     17      8     39\n",
      "     34     23      5     18     11      5     86     70     60     20\n",
      "     13      7      6      7     40      6     34     22     16      5\n",
      "     11      6     12     10      5      5     16      7      9    156\n",
      "     26      9     17     12      5      7      5    130     20     13\n",
      "      7    110     22     17      5     88  21062    508    399    374\n",
      "    214    176    146    107    102     94     87     82     76     11\n",
      "      6      5     65     54     22     16      6     32     26     19\n",
      "      8     11      6      5      7      6     11      6      5      6\n",
      "      5      7      8      5     39      7     32      7     25     16\n",
      "      5     11      5      6      9     30     16      6     10     14\n",
      "      9      5     38      9     29     15      5     10     14      9\n",
      "      5    160    104     65     28     23      6     17      9      8\n",
      "      5     37     15      9      6     22     14      9      5      8\n",
      "     39     32     27     11     16      9      7      5      7     56\n",
      "      5     51     23     14      5      9      9     28     10     18\n",
      "      8     10     25     10     15    109     33     27     21     16\n",
      "      6     10      5      5      5      6      6     76     67     34\n",
      "     33      8     25     13      7      6     12      9  20554   2045\n",
      "    120      8    112      6    106     73     68     43     16     10\n",
      "      6     27      8     19     25      7     18      5     13      8\n",
      "      5      5     33      5     28   1925   1253    672    446    108\n",
      "     94     14    338    226     94     87     14      9      5     73\n",
      "     67     30     25      5     37      6      7    132     20     13\n",
      "      7    112  18509  12432    509     39     25     20      5     14\n",
      "      9      5    470    197     92     22     17      5     70     51\n",
      "     19      5     14    105     58     47     25     22     14      8\n",
      "    273  11923     30     25      8     17     12      6      6      5\n",
      "      5  11893  10198    563    444    119     42     10     32     77\n",
      "   9635   8421   4932   4724     25     19     13      8      5      6\n",
      "      6   4699   4474    225      5    220    208    196    176     20\n",
      "      5     15     12      7      5   3489   1214   1695     93     38\n",
      "     21     10      5      5     11     17      5     12     55   1602\n",
      "    184    179      5   1418   6077   1434     29     15     10      5\n",
      "     14   1405    564    841    621    220     24     19      5    196\n",
      "   4643]\n"
     ]
    },
    {
     "data": {
      "text/plain": "<Figure size 2000x2000 with 1 Axes>",
      "image/png": "[encoded data removed]"
     },
     "metadata": {},
     "output_type": "display_data"
    }
   ],
   "source": [
    "from matplotlib import pyplot as plt\n",
    "import sklearn.tree\n",
    "\n",
    "print(dir(clf.estimators_[0].tree_))\n",
    "print(clf.estimators_[0].tree_.n_leaves)\n",
    "print(clf.estimators_[0].tree_.max_depth)\n",
    "print(clf.estimators_[0].tree_.n_node_samples)\n",
    "plt.figure(figsize=(20,20))\n",
    "sklearn.tree.plot_tree(clf.estimators_[0], max_depth=2, filled=True, proportion=True, rounded=True, class_names=[\"incorrect\", \"correct\"], feature_names=clf.feature_names_in_.tolist())\n",
    "plt.show()"
   ],
   "metadata": {
    "collapsed": false,
    "ExecuteTime": {
     "start_time": "2023-05-05T19:09:52.296782Z",
     "end_time": "2023-05-05T19:09:53.405835Z"
    }
   }
  },
  {
   "cell_type": "code",
   "execution_count": 24,
   "outputs": [
    {
     "data": {
      "text/plain": "'test.png'"
     },
     "execution_count": 24,
     "metadata": {},
     "output_type": "execute_result"
    }
   ],
   "source": [
    "from sklearn import tree\n",
    "import graphviz\n",
    "dot_data = tree.export_graphviz(clf.estimators_[0],\n",
    "                  feature_names=clf.feature_names_in_.tolist(),\n",
    "                  class_names=[\"incorrect\", \"correct\"],\n",
    "                                proportion=True,\n",
    "                  filled=True, rounded=True,\n",
    "                  special_characters=True,\n",
    "                   out_file=None,\n",
    "                           )\n",
    "graph = graphviz.Source(dot_data)\n",
    "graph.format = \"png\"\n",
    "graph.render(\"test\")"
   ],
   "metadata": {
    "collapsed": false
   }
  },
  {
   "cell_type": "code",
   "execution_count": 27,
   "outputs": [
    {
     "data": {
      "text/plain": "array(['cosine_to_orig', 'embeddings_rank', 'from_clipping',\n       'from_original_token', 'from_split', 'norms_seen',\n       'spellcheck_rank', 'in_lexicon', 'length', 'same_order',\n       'orig_norms_seen', 'orig_in_lexicon', 'orig_same_order',\n       'orig_length', 'twitter_uni', 'twitter_bi_prev', 'twitter_bi_next',\n       'wiki_uni', 'wiki_bi_prev', 'wiki_bi_next'], dtype=object)"
     },
     "execution_count": 27,
     "metadata": {},
     "output_type": "execute_result"
    }
   ],
   "source": [
    "clf.feature_names_in_"
   ],
   "metadata": {
    "collapsed": false
   }
  },
  {
   "cell_type": "code",
   "execution_count": 30,
   "outputs": [
    {
     "data": {
      "text/plain": "<module 'lexnorm.models.random_forest' from '/Users/elijoe/Library/Mobile Documents/com~apple~CloudDocs/Documents/2/Diss/lexnorm/src/lexnorm/models/random_forest.py'>"
     },
     "execution_count": 30,
     "metadata": {},
     "output_type": "execute_result"
    }
   ],
   "source": [
    "# ensuring shuffling data works\n",
    "from lexnorm.models import normalise\n",
    "from lexnorm.models import random_forest\n",
    "import importlib\n",
    "importlib.reload(normalise)\n",
    "importlib.reload(random_forest)"
   ],
   "metadata": {
    "collapsed": false
   }
  },
  {
   "cell_type": "markdown",
   "source": [],
   "metadata": {
    "collapsed": false
   }
  },
  {
   "cell_type": "markdown",
   "source": [
    "Getting candidates with (joint) highest probabilities per token"
   ],
   "metadata": {
    "collapsed": false
   }
  },
  {
   "cell_type": "code",
   "execution_count": 36,
   "outputs": [
    {
     "name": "stderr",
     "output_type": "stream",
     "text": [
      "[Parallel(n_jobs=12)]: Using backend ThreadingBackend with 12 concurrent workers.\n",
      "[Parallel(n_jobs=12)]: Done  26 tasks      | elapsed:    0.3s\n",
      "[Parallel(n_jobs=12)]: Done 176 tasks      | elapsed:    1.3s\n",
      "[Parallel(n_jobs=12)]: Done 200 out of 200 | elapsed:    1.5s finished\n"
     ]
    }
   ],
   "source": [
    "clf = load(os.path.join(DATA_PATH, \"../models/rf.joblib\"))\n",
    "probs = random_forest.predict_probs(clf, os.path.join(DATA_PATH, \"hpc/dev_ngrams.txt\"))\n",
    "max_cands = probs.loc[probs.groupby([\"process\", \"tweet\", \"tok\"])[\"probs\"].transform(max) == probs.probs]"
   ],
   "metadata": {
    "collapsed": false
   }
  },
  {
   "cell_type": "markdown",
   "source": [
    "Highest probability candidates with probabilities below 0.5 not from original token - perhaps keep original token in this case?"
   ],
   "metadata": {
    "collapsed": false
   }
  },
  {
   "cell_type": "code",
   "execution_count": 43,
   "outputs": [
    {
     "data": {
      "text/plain": "             cosine_to_orig  embeddings_rank  from_clipping  \\\nthames link             NaN              NaN            NaN   \nprowl ing               NaN              NaN            NaN   \nya                 0.465115              NaN            NaN   \nopen               0.209676              NaN            NaN   \nthemselves         0.827675              NaN            NaN   \n...                     ...              ...            ...   \ncan                0.228512              NaN            NaN   \nnot                0.173422              NaN            NaN   \nclaret a                NaN              NaN            NaN   \nkeep               0.752860              2.0            NaN   \nu                  0.612868              NaN            NaN   \n\n             from_original_token  from_split  norms_seen  spellcheck_rank  \\\nthames link                  NaN         1.0         NaN              NaN   \nprowl ing                    NaN         1.0         NaN              NaN   \nya                           NaN         NaN         NaN              3.0   \nopen                         NaN         NaN         NaN              6.0   \nthemselves                   NaN         NaN         NaN              3.0   \n...                          ...         ...         ...              ...   \ncan                          NaN         NaN         NaN             15.0   \nnot                          NaN         NaN         NaN             15.0   \nclaret a                     NaN         1.0         NaN              3.0   \nkeep                         NaN         NaN         NaN              NaN   \nu                            NaN         NaN         NaN              4.0   \n\n             in_lexicon  length  same_order  ...  process  tweet  tok  \\\nthames link         NaN      11         1.0  ...        2      0    6   \nprowl ing           NaN       9         1.0  ...       10      8    8   \nya                  NaN       2         NaN  ...       45      0    3   \nopen                1.0       4         NaN  ...        6      9    8   \nthemselves          1.0      10         NaN  ...       20      0   16   \n...                 ...     ...         ...  ...      ...    ...  ...   \ncan                 1.0       3         NaN  ...       27      6    2   \nnot                 1.0       3         NaN  ...       10      8   16   \nclaret a            NaN       8         1.0  ...       26      3   11   \nkeep                1.0       4         NaN  ...       38      3   19   \nu                   NaN       1         NaN  ...       26      2    7   \n\n             twitter_uni twitter_bi_prev twitter_bi_next wiki_uni  \\\nthames link            1        0.000000    0.000000e+00        1   \nprowl ing              1        0.000000    0.000000e+00        1   \nya              13065864        0.000222    1.025573e-05     6849   \nopen             6172092        0.000004    3.507725e-04   469082   \nthemselves       1362218        0.000062    2.422520e-05   177818   \n...                  ...             ...             ...      ...   \ncan             71160951        0.000198    1.545792e-07  1938264   \nnot            100452619        0.000356    1.124908e-06  4174421   \nclaret a               1        0.000000    0.000000e+00        1   \nkeep            16447532        0.013715    4.985550e-05   172136   \nu               54891268        0.000031    6.019172e-05    24958   \n\n             wiki_bi_prev  wiki_bi_next     probs  \nthames link      0.000000      0.000000  0.222608  \nprowl ing        0.000000      0.000000  0.191523  \nya               0.000730      0.000584  0.171454  \nopen             0.000000      0.000006  0.187157  \nthemselves       0.000000      0.000000  0.222408  \n...                   ...           ...       ...  \ncan              0.000000      0.000000  0.195511  \nnot              0.000270      0.000000  0.195336  \nclaret a         0.000000      0.000000  0.214866  \nkeep             0.008243      0.000000  0.195492  \nu                0.000000      0.000000  0.204574  \n\n[436 rows x 27 columns]",
      "text/html": "<div>\n<style scoped>\n    .dataframe tbody tr th:only-of-type {\n        vertical-align: middle;\n    }\n\n    .dataframe tbody tr th {\n        vertical-align: top;\n    }\n\n    .dataframe thead th {\n        text-align: right;\n    }\n</style>\n<table border=\"1\" class=\"dataframe\">\n  <thead>\n    <tr style=\"text-align: right;\">\n      <th></th>\n      <th>cosine_to_orig</th>\n      <th>embeddings_rank</th>\n      <th>from_clipping</th>\n      <th>from_original_token</th>\n      <th>from_split</th>\n      <th>norms_seen</th>\n      <th>spellcheck_rank</th>\n      <th>in_lexicon</th>\n      <th>length</th>\n      <th>same_order</th>\n      <th>...</th>\n      <th>process</th>\n      <th>tweet</th>\n      <th>tok</th>\n      <th>twitter_uni</th>\n      <th>twitter_bi_prev</th>\n      <th>twitter_bi_next</th>\n      <th>wiki_uni</th>\n      <th>wiki_bi_prev</th>\n      <th>wiki_bi_next</th>\n      <th>probs</th>\n    </tr>\n  </thead>\n  <tbody>\n    <tr>\n      <th>thames link</th>\n      <td>NaN</td>\n      <td>NaN</td>\n      <td>NaN</td>\n      <td>NaN</td>\n      <td>1.0</td>\n      <td>NaN</td>\n      <td>NaN</td>\n      <td>NaN</td>\n      <td>11</td>\n      <td>1.0</td>\n      <td>...</td>\n      <td>2</td>\n      <td>0</td>\n      <td>6</td>\n      <td>1</td>\n      <td>0.000000</td>\n      <td>0.000000e+00</td>\n      <td>1</td>\n      <td>0.000000</td>\n      <td>0.000000</td>\n      <td>0.222608</td>\n    </tr>\n    <tr>\n      <th>prowl ing</th>\n      <td>NaN</td>\n      <td>NaN</td>\n      <td>NaN</td>\n      <td>NaN</td>\n      <td>1.0</td>\n      <td>NaN</td>\n      <td>NaN</td>\n      <td>NaN</td>\n      <td>9</td>\n      <td>1.0</td>\n      <td>...</td>\n      <td>10</td>\n      <td>8</td>\n      <td>8</td>\n      <td>1</td>\n      <td>0.000000</td>\n      <td>0.000000e+00</td>\n      <td>1</td>\n      <td>0.000000</td>\n      <td>0.000000</td>\n      <td>0.191523</td>\n    </tr>\n    <tr>\n      <th>ya</th>\n      <td>0.465115</td>\n      <td>NaN</td>\n      <td>NaN</td>\n      <td>NaN</td>\n      <td>NaN</td>\n      <td>NaN</td>\n      <td>3.0</td>\n      <td>NaN</td>\n      <td>2</td>\n      <td>NaN</td>\n      <td>...</td>\n      <td>45</td>\n      <td>0</td>\n      <td>3</td>\n      <td>13065864</td>\n      <td>0.000222</td>\n      <td>1.025573e-05</td>\n      <td>6849</td>\n      <td>0.000730</td>\n      <td>0.000584</td>\n      <td>0.171454</td>\n    </tr>\n    <tr>\n      <th>open</th>\n      <td>0.209676</td>\n      <td>NaN</td>\n      <td>NaN</td>\n      <td>NaN</td>\n      <td>NaN</td>\n      <td>NaN</td>\n      <td>6.0</td>\n      <td>1.0</td>\n      <td>4</td>\n      <td>NaN</td>\n      <td>...</td>\n      <td>6</td>\n      <td>9</td>\n      <td>8</td>\n      <td>6172092</td>\n      <td>0.000004</td>\n      <td>3.507725e-04</td>\n      <td>469082</td>\n      <td>0.000000</td>\n      <td>0.000006</td>\n      <td>0.187157</td>\n    </tr>\n    <tr>\n      <th>themselves</th>\n      <td>0.827675</td>\n      <td>NaN</td>\n      <td>NaN</td>\n      <td>NaN</td>\n      <td>NaN</td>\n      <td>NaN</td>\n      <td>3.0</td>\n      <td>1.0</td>\n      <td>10</td>\n      <td>NaN</td>\n      <td>...</td>\n      <td>20</td>\n      <td>0</td>\n      <td>16</td>\n      <td>1362218</td>\n      <td>0.000062</td>\n      <td>2.422520e-05</td>\n      <td>177818</td>\n      <td>0.000000</td>\n      <td>0.000000</td>\n      <td>0.222408</td>\n    </tr>\n    <tr>\n      <th>...</th>\n      <td>...</td>\n      <td>...</td>\n      <td>...</td>\n      <td>...</td>\n      <td>...</td>\n      <td>...</td>\n      <td>...</td>\n      <td>...</td>\n      <td>...</td>\n      <td>...</td>\n      <td>...</td>\n      <td>...</td>\n      <td>...</td>\n      <td>...</td>\n      <td>...</td>\n      <td>...</td>\n      <td>...</td>\n      <td>...</td>\n      <td>...</td>\n      <td>...</td>\n      <td>...</td>\n    </tr>\n    <tr>\n      <th>can</th>\n      <td>0.228512</td>\n      <td>NaN</td>\n      <td>NaN</td>\n      <td>NaN</td>\n      <td>NaN</td>\n      <td>NaN</td>\n      <td>15.0</td>\n      <td>1.0</td>\n      <td>3</td>\n      <td>NaN</td>\n      <td>...</td>\n      <td>27</td>\n      <td>6</td>\n      <td>2</td>\n      <td>71160951</td>\n      <td>0.000198</td>\n      <td>1.545792e-07</td>\n      <td>1938264</td>\n      <td>0.000000</td>\n      <td>0.000000</td>\n      <td>0.195511</td>\n    </tr>\n    <tr>\n      <th>not</th>\n      <td>0.173422</td>\n      <td>NaN</td>\n      <td>NaN</td>\n      <td>NaN</td>\n      <td>NaN</td>\n      <td>NaN</td>\n      <td>15.0</td>\n      <td>1.0</td>\n      <td>3</td>\n      <td>NaN</td>\n      <td>...</td>\n      <td>10</td>\n      <td>8</td>\n      <td>16</td>\n      <td>100452619</td>\n      <td>0.000356</td>\n      <td>1.124908e-06</td>\n      <td>4174421</td>\n      <td>0.000270</td>\n      <td>0.000000</td>\n      <td>0.195336</td>\n    </tr>\n    <tr>\n      <th>claret a</th>\n      <td>NaN</td>\n      <td>NaN</td>\n      <td>NaN</td>\n      <td>NaN</td>\n      <td>1.0</td>\n      <td>NaN</td>\n      <td>3.0</td>\n      <td>NaN</td>\n      <td>8</td>\n      <td>1.0</td>\n      <td>...</td>\n      <td>26</td>\n      <td>3</td>\n      <td>11</td>\n      <td>1</td>\n      <td>0.000000</td>\n      <td>0.000000e+00</td>\n      <td>1</td>\n      <td>0.000000</td>\n      <td>0.000000</td>\n      <td>0.214866</td>\n    </tr>\n    <tr>\n      <th>keep</th>\n      <td>0.752860</td>\n      <td>2.0</td>\n      <td>NaN</td>\n      <td>NaN</td>\n      <td>NaN</td>\n      <td>NaN</td>\n      <td>NaN</td>\n      <td>1.0</td>\n      <td>4</td>\n      <td>NaN</td>\n      <td>...</td>\n      <td>38</td>\n      <td>3</td>\n      <td>19</td>\n      <td>16447532</td>\n      <td>0.013715</td>\n      <td>4.985550e-05</td>\n      <td>172136</td>\n      <td>0.008243</td>\n      <td>0.000000</td>\n      <td>0.195492</td>\n    </tr>\n    <tr>\n      <th>u</th>\n      <td>0.612868</td>\n      <td>NaN</td>\n      <td>NaN</td>\n      <td>NaN</td>\n      <td>NaN</td>\n      <td>NaN</td>\n      <td>4.0</td>\n      <td>NaN</td>\n      <td>1</td>\n      <td>NaN</td>\n      <td>...</td>\n      <td>26</td>\n      <td>2</td>\n      <td>7</td>\n      <td>54891268</td>\n      <td>0.000031</td>\n      <td>6.019172e-05</td>\n      <td>24958</td>\n      <td>0.000000</td>\n      <td>0.000000</td>\n      <td>0.204574</td>\n    </tr>\n  </tbody>\n</table>\n<p>436 rows × 27 columns</p>\n</div>"
     },
     "execution_count": 43,
     "metadata": {},
     "output_type": "execute_result"
    }
   ],
   "source": [
    "max_cands.loc[(max_cands.probs < 0.5) & (max_cands.from_original_token != 1)]"
   ],
   "metadata": {
    "collapsed": false
   }
  },
  {
   "cell_type": "markdown",
   "source": [
    "Linking gold tokens"
   ],
   "metadata": {
    "collapsed": false
   }
  },
  {
   "cell_type": "code",
   "execution_count": 72,
   "outputs": [],
   "source": [
    "from lexnorm.data import normEval\n",
    "from lexnorm.generate_extract.filtering import is_eligible\n",
    "from lexnorm.generate_extract import process\n",
    "importlib.reload(process)\n",
    "max_cands = process.create_index(max_cands)\n",
    "max_cands = process.link_to_gold(max_cands, os.path.join(DATA_PATH, \"raw/dev.norm\"))"
   ],
   "metadata": {
    "collapsed": false
   }
  },
  {
   "cell_type": "markdown",
   "source": [
    "Looking at how many non-raw candidates with highest probability are correct if probability below or above 0.5. Just from this random example, >=0.5: 371 correct, 24 incorrect. <0.5: 65 correct, 371 incorrect. In 332 of the latter case, the raw token was correct - seems to motivate being conservative!"
   ],
   "metadata": {
    "collapsed": false
   }
  },
  {
   "cell_type": "code",
   "execution_count": 73,
   "outputs": [
    {
     "data": {
      "text/plain": "            cosine_to_orig  embeddings_rank  from_clipping  \\\nma nan                 NaN              NaN            NaN   \nmini i                 NaN              NaN            NaN   \nskills            0.834030              2.0            1.0   \nwild ing               NaN              NaN            NaN   \nyou               0.346203              NaN            NaN   \n...                    ...              ...            ...   \nsee               0.203486              NaN            NaN   \nrange ra               NaN              NaN            NaN   \nheart             0.760539              NaN            NaN   \nhis               0.234643              NaN            NaN   \nsouth bank             NaN              NaN            NaN   \n\n            from_original_token  from_split  norms_seen  spellcheck_rank  \\\nma nan                      NaN         1.0         NaN              NaN   \nmini i                      NaN         1.0         NaN              5.0   \nskills                      NaN         NaN         NaN              5.0   \nwild ing                    NaN         1.0         NaN              NaN   \nyou                         NaN         NaN         NaN              5.0   \n...                         ...         ...         ...              ...   \nsee                         NaN         NaN         NaN              1.0   \nrange ra                    NaN         1.0         NaN              NaN   \nheart                       NaN         NaN         NaN              4.0   \nhis                         NaN         NaN         NaN              4.0   \nsouth bank                  NaN         1.0         NaN              1.0   \n\n            in_lexicon  length  same_order  ...                    next  \\\nma nan             NaN       6         1.0  ...                    dund   \nmini i             NaN       6         1.0  ...                     aav   \nskills             1.0       6         1.0  ...                   level   \nwild ing           NaN       8         1.0  ...                    last   \nyou                1.0       3         NaN  ...                      :d   \n...                ...     ...         ...  ...                     ...   \nsee                1.0       3         NaN  ...                      to   \nrange ra           NaN       8         1.0  ...                  hearts   \nheart              1.0       5         NaN  ...                    hibs   \nhis                1.0       3         NaN  ...                 falkirk   \nsouth bank         NaN      10         1.0  ...  http://t.co/0v8cfj6sog   \n\n            twitter_uni  twitter_bi_prev  twitter_bi_next  wiki_uni  \\\nma nan                1         0.000000     0.000000e+00         1   \nmini i                1         0.000000     0.000000e+00         1   \nskills           738084         0.000832     5.256854e-04     72373   \nwild ing              1         0.000000     0.000000e+00         1   \nyou           374989834         0.000000     2.131311e-04    431347   \n...                 ...              ...              ...       ...   \nsee            43600979         0.000001     6.337243e-04    323620   \nrange ra              1         0.000000     0.000000e+00         1   \nheart           7957991         0.000000     0.000000e+00    167538   \nhis            40429274         0.000003     2.968146e-07  11999277   \nsouth bank            1         0.000000     0.000000e+00         1   \n\n           wiki_bi_prev wiki_bi_next     probs  tok_id       gold  \nma nan         0.000000     0.000000  0.212320       6      manan  \nmini i         0.000000     0.000000  0.203984      12      minii  \nskills         0.000124     0.000193  0.227671      43      skill  \nwild ing       0.000000     0.000000  0.222099      71    wilding  \nyou            0.000000     0.000000  0.219711      74        yoh  \n...                 ...          ...       ...     ...        ...  \nsee            0.000000     0.004984  0.248927    6791        zee  \nrange ra       0.000000     0.000000  0.222099    6809    rangera  \nheart          0.000000     0.000000  0.220209    6810     hearts  \nhis            0.000000     0.000002  0.206385    6811       hibs  \nsouth bank     0.000000     0.000000  0.222382    6855  southbank  \n\n[332 rows x 26 columns]",
      "text/html": "<div>\n<style scoped>\n    .dataframe tbody tr th:only-of-type {\n        vertical-align: middle;\n    }\n\n    .dataframe tbody tr th {\n        vertical-align: top;\n    }\n\n    .dataframe thead th {\n        text-align: right;\n    }\n</style>\n<table border=\"1\" class=\"dataframe\">\n  <thead>\n    <tr style=\"text-align: right;\">\n      <th></th>\n      <th>cosine_to_orig</th>\n      <th>embeddings_rank</th>\n      <th>from_clipping</th>\n      <th>from_original_token</th>\n      <th>from_split</th>\n      <th>norms_seen</th>\n      <th>spellcheck_rank</th>\n      <th>in_lexicon</th>\n      <th>length</th>\n      <th>same_order</th>\n      <th>...</th>\n      <th>next</th>\n      <th>twitter_uni</th>\n      <th>twitter_bi_prev</th>\n      <th>twitter_bi_next</th>\n      <th>wiki_uni</th>\n      <th>wiki_bi_prev</th>\n      <th>wiki_bi_next</th>\n      <th>probs</th>\n      <th>tok_id</th>\n      <th>gold</th>\n    </tr>\n  </thead>\n  <tbody>\n    <tr>\n      <th>ma nan</th>\n      <td>NaN</td>\n      <td>NaN</td>\n      <td>NaN</td>\n      <td>NaN</td>\n      <td>1.0</td>\n      <td>NaN</td>\n      <td>NaN</td>\n      <td>NaN</td>\n      <td>6</td>\n      <td>1.0</td>\n      <td>...</td>\n      <td>dund</td>\n      <td>1</td>\n      <td>0.000000</td>\n      <td>0.000000e+00</td>\n      <td>1</td>\n      <td>0.000000</td>\n      <td>0.000000</td>\n      <td>0.212320</td>\n      <td>6</td>\n      <td>manan</td>\n    </tr>\n    <tr>\n      <th>mini i</th>\n      <td>NaN</td>\n      <td>NaN</td>\n      <td>NaN</td>\n      <td>NaN</td>\n      <td>1.0</td>\n      <td>NaN</td>\n      <td>5.0</td>\n      <td>NaN</td>\n      <td>6</td>\n      <td>1.0</td>\n      <td>...</td>\n      <td>aav</td>\n      <td>1</td>\n      <td>0.000000</td>\n      <td>0.000000e+00</td>\n      <td>1</td>\n      <td>0.000000</td>\n      <td>0.000000</td>\n      <td>0.203984</td>\n      <td>12</td>\n      <td>minii</td>\n    </tr>\n    <tr>\n      <th>skills</th>\n      <td>0.834030</td>\n      <td>2.0</td>\n      <td>1.0</td>\n      <td>NaN</td>\n      <td>NaN</td>\n      <td>NaN</td>\n      <td>5.0</td>\n      <td>1.0</td>\n      <td>6</td>\n      <td>1.0</td>\n      <td>...</td>\n      <td>level</td>\n      <td>738084</td>\n      <td>0.000832</td>\n      <td>5.256854e-04</td>\n      <td>72373</td>\n      <td>0.000124</td>\n      <td>0.000193</td>\n      <td>0.227671</td>\n      <td>43</td>\n      <td>skill</td>\n    </tr>\n    <tr>\n      <th>wild ing</th>\n      <td>NaN</td>\n      <td>NaN</td>\n      <td>NaN</td>\n      <td>NaN</td>\n      <td>1.0</td>\n      <td>NaN</td>\n      <td>NaN</td>\n      <td>NaN</td>\n      <td>8</td>\n      <td>1.0</td>\n      <td>...</td>\n      <td>last</td>\n      <td>1</td>\n      <td>0.000000</td>\n      <td>0.000000e+00</td>\n      <td>1</td>\n      <td>0.000000</td>\n      <td>0.000000</td>\n      <td>0.222099</td>\n      <td>71</td>\n      <td>wilding</td>\n    </tr>\n    <tr>\n      <th>you</th>\n      <td>0.346203</td>\n      <td>NaN</td>\n      <td>NaN</td>\n      <td>NaN</td>\n      <td>NaN</td>\n      <td>NaN</td>\n      <td>5.0</td>\n      <td>1.0</td>\n      <td>3</td>\n      <td>NaN</td>\n      <td>...</td>\n      <td>:d</td>\n      <td>374989834</td>\n      <td>0.000000</td>\n      <td>2.131311e-04</td>\n      <td>431347</td>\n      <td>0.000000</td>\n      <td>0.000000</td>\n      <td>0.219711</td>\n      <td>74</td>\n      <td>yoh</td>\n    </tr>\n    <tr>\n      <th>...</th>\n      <td>...</td>\n      <td>...</td>\n      <td>...</td>\n      <td>...</td>\n      <td>...</td>\n      <td>...</td>\n      <td>...</td>\n      <td>...</td>\n      <td>...</td>\n      <td>...</td>\n      <td>...</td>\n      <td>...</td>\n      <td>...</td>\n      <td>...</td>\n      <td>...</td>\n      <td>...</td>\n      <td>...</td>\n      <td>...</td>\n      <td>...</td>\n      <td>...</td>\n      <td>...</td>\n    </tr>\n    <tr>\n      <th>see</th>\n      <td>0.203486</td>\n      <td>NaN</td>\n      <td>NaN</td>\n      <td>NaN</td>\n      <td>NaN</td>\n      <td>NaN</td>\n      <td>1.0</td>\n      <td>1.0</td>\n      <td>3</td>\n      <td>NaN</td>\n      <td>...</td>\n      <td>to</td>\n      <td>43600979</td>\n      <td>0.000001</td>\n      <td>6.337243e-04</td>\n      <td>323620</td>\n      <td>0.000000</td>\n      <td>0.004984</td>\n      <td>0.248927</td>\n      <td>6791</td>\n      <td>zee</td>\n    </tr>\n    <tr>\n      <th>range ra</th>\n      <td>NaN</td>\n      <td>NaN</td>\n      <td>NaN</td>\n      <td>NaN</td>\n      <td>1.0</td>\n      <td>NaN</td>\n      <td>NaN</td>\n      <td>NaN</td>\n      <td>8</td>\n      <td>1.0</td>\n      <td>...</td>\n      <td>hearts</td>\n      <td>1</td>\n      <td>0.000000</td>\n      <td>0.000000e+00</td>\n      <td>1</td>\n      <td>0.000000</td>\n      <td>0.000000</td>\n      <td>0.222099</td>\n      <td>6809</td>\n      <td>rangera</td>\n    </tr>\n    <tr>\n      <th>heart</th>\n      <td>0.760539</td>\n      <td>NaN</td>\n      <td>NaN</td>\n      <td>NaN</td>\n      <td>NaN</td>\n      <td>NaN</td>\n      <td>4.0</td>\n      <td>1.0</td>\n      <td>5</td>\n      <td>NaN</td>\n      <td>...</td>\n      <td>hibs</td>\n      <td>7957991</td>\n      <td>0.000000</td>\n      <td>0.000000e+00</td>\n      <td>167538</td>\n      <td>0.000000</td>\n      <td>0.000000</td>\n      <td>0.220209</td>\n      <td>6810</td>\n      <td>hearts</td>\n    </tr>\n    <tr>\n      <th>his</th>\n      <td>0.234643</td>\n      <td>NaN</td>\n      <td>NaN</td>\n      <td>NaN</td>\n      <td>NaN</td>\n      <td>NaN</td>\n      <td>4.0</td>\n      <td>1.0</td>\n      <td>3</td>\n      <td>NaN</td>\n      <td>...</td>\n      <td>falkirk</td>\n      <td>40429274</td>\n      <td>0.000003</td>\n      <td>2.968146e-07</td>\n      <td>11999277</td>\n      <td>0.000000</td>\n      <td>0.000002</td>\n      <td>0.206385</td>\n      <td>6811</td>\n      <td>hibs</td>\n    </tr>\n    <tr>\n      <th>south bank</th>\n      <td>NaN</td>\n      <td>NaN</td>\n      <td>NaN</td>\n      <td>NaN</td>\n      <td>1.0</td>\n      <td>NaN</td>\n      <td>1.0</td>\n      <td>NaN</td>\n      <td>10</td>\n      <td>1.0</td>\n      <td>...</td>\n      <td>http://t.co/0v8cfj6sog</td>\n      <td>1</td>\n      <td>0.000000</td>\n      <td>0.000000e+00</td>\n      <td>1</td>\n      <td>0.000000</td>\n      <td>0.000000</td>\n      <td>0.222382</td>\n      <td>6855</td>\n      <td>southbank</td>\n    </tr>\n  </tbody>\n</table>\n<p>332 rows × 26 columns</p>\n</div>"
     },
     "execution_count": 73,
     "metadata": {},
     "output_type": "execute_result"
    }
   ],
   "source": [
    "max_cands.loc[(max_cands.probs < 0.5) & (max_cands.from_original_token != 1) & (max_cands.index.values != max_cands.gold) & (max_cands.raw == max_cands.gold)]"
   ],
   "metadata": {
    "collapsed": false
   }
  },
  {
   "cell_type": "code",
   "execution_count": 54,
   "outputs": [
    {
     "ename": "KeyError",
     "evalue": "\"['prev', 'next'] not found in axis\"",
     "output_type": "error",
     "traceback": [
      "\u001B[0;31m---------------------------------------------------------------------------\u001B[0m",
      "\u001B[0;31mKeyError\u001B[0m                                  Traceback (most recent call last)",
      "Cell \u001B[0;32mIn[54], line 1\u001B[0m\n\u001B[0;32m----> 1\u001B[0m random_forest\u001B[38;5;241m.\u001B[39mpredict_normalisations(\u001B[43mrandom_forest\u001B[49m\u001B[38;5;241;43m.\u001B[39;49m\u001B[43mpredict_probs\u001B[49m\u001B[43m(\u001B[49m\u001B[43mclf\u001B[49m\u001B[43m,\u001B[49m\u001B[43m \u001B[49m\u001B[43mos\u001B[49m\u001B[38;5;241;43m.\u001B[39;49m\u001B[43mpath\u001B[49m\u001B[38;5;241;43m.\u001B[39;49m\u001B[43mjoin\u001B[49m\u001B[43m(\u001B[49m\u001B[43mDATA_PATH\u001B[49m\u001B[43m,\u001B[49m\u001B[43m \u001B[49m\u001B[38;5;124;43m\"\u001B[39;49m\u001B[38;5;124;43mhpc/dev_processed_nocap.txt\u001B[39;49m\u001B[38;5;124;43m\"\u001B[39;49m\u001B[43m)\u001B[49m\u001B[43m)\u001B[49m\u001B[38;5;241m.\u001B[39msort_values([\u001B[38;5;124m\"\u001B[39m\u001B[38;5;124mprocess\u001B[39m\u001B[38;5;124m\"\u001B[39m, \u001B[38;5;124m\"\u001B[39m\u001B[38;5;124mtweet\u001B[39m\u001B[38;5;124m\"\u001B[39m, \u001B[38;5;124m\"\u001B[39m\u001B[38;5;124mtok\u001B[39m\u001B[38;5;124m\"\u001B[39m]))\n",
      "File \u001B[0;32m~/Library/Mobile Documents/com~apple~CloudDocs/Documents/2/Diss/lexnorm/src/lexnorm/models/random_forest.py:44\u001B[0m, in \u001B[0;36mpredict_probs\u001B[0;34m(model, data_path)\u001B[0m\n\u001B[1;32m     37\u001B[0m \u001B[38;5;28;01mdef\u001B[39;00m \u001B[38;5;21mpredict_probs\u001B[39m(model, data_path):\n\u001B[1;32m     38\u001B[0m     data \u001B[38;5;241m=\u001B[39m pd\u001B[38;5;241m.\u001B[39mread_csv(\n\u001B[1;32m     39\u001B[0m         data_path, index_col\u001B[38;5;241m=\u001B[39m\u001B[38;5;241m0\u001B[39m, keep_default_na\u001B[38;5;241m=\u001B[39m\u001B[38;5;28;01mFalse\u001B[39;00m, na_values\u001B[38;5;241m=\u001B[39m\u001B[38;5;124m\"\u001B[39m\u001B[38;5;124m\"\u001B[39m\n\u001B[1;32m     40\u001B[0m     )\u001B[38;5;241m.\u001B[39msample(\n\u001B[1;32m     41\u001B[0m         frac\u001B[38;5;241m=\u001B[39m\u001B[38;5;241m1\u001B[39m,\n\u001B[1;32m     42\u001B[0m         \u001B[38;5;66;03m# random_state=42,\u001B[39;00m\n\u001B[1;32m     43\u001B[0m     )\n\u001B[0;32m---> 44\u001B[0m     features \u001B[38;5;241m=\u001B[39m \u001B[43mprep_test\u001B[49m\u001B[43m(\u001B[49m\u001B[43mdata\u001B[49m\u001B[43m)\u001B[49m\n\u001B[1;32m     45\u001B[0m     probs \u001B[38;5;241m=\u001B[39m model\u001B[38;5;241m.\u001B[39mpredict_proba(features)\n\u001B[1;32m     46\u001B[0m     data \u001B[38;5;241m=\u001B[39m data\u001B[38;5;241m.\u001B[39mcopy()\n",
      "File \u001B[0;32m~/Library/Mobile Documents/com~apple~CloudDocs/Documents/2/Diss/lexnorm/src/lexnorm/models/normalise.py:32\u001B[0m, in \u001B[0;36mprep_test\u001B[0;34m(unannotated_dataframe)\u001B[0m\n\u001B[1;32m     31\u001B[0m \u001B[38;5;28;01mdef\u001B[39;00m \u001B[38;5;21mprep_test\u001B[39m(unannotated_dataframe):\n\u001B[0;32m---> 32\u001B[0m     test_X \u001B[38;5;241m=\u001B[39m \u001B[43munannotated_dataframe\u001B[49m\u001B[38;5;241;43m.\u001B[39;49m\u001B[43mdrop\u001B[49m\u001B[43m(\u001B[49m\n\u001B[1;32m     33\u001B[0m \u001B[43m        \u001B[49m\u001B[43m[\u001B[49m\n\u001B[1;32m     34\u001B[0m \u001B[43m            \u001B[49m\u001B[38;5;124;43m\"\u001B[39;49m\u001B[38;5;124;43mraw\u001B[39;49m\u001B[38;5;124;43m\"\u001B[39;49m\u001B[43m,\u001B[49m\n\u001B[1;32m     35\u001B[0m \u001B[43m            \u001B[49m\u001B[38;5;124;43m\"\u001B[39;49m\u001B[38;5;124;43mprev\u001B[39;49m\u001B[38;5;124;43m\"\u001B[39;49m\u001B[43m,\u001B[49m\n\u001B[1;32m     36\u001B[0m \u001B[43m            \u001B[49m\u001B[38;5;124;43m\"\u001B[39;49m\u001B[38;5;124;43mnext\u001B[39;49m\u001B[38;5;124;43m\"\u001B[39;49m\u001B[43m,\u001B[49m\n\u001B[1;32m     37\u001B[0m \u001B[43m            \u001B[49m\u001B[38;5;124;43m\"\u001B[39;49m\u001B[38;5;124;43mprocess\u001B[39;49m\u001B[38;5;124;43m\"\u001B[39;49m\u001B[43m,\u001B[49m\n\u001B[1;32m     38\u001B[0m \u001B[43m            \u001B[49m\u001B[38;5;124;43m\"\u001B[39;49m\u001B[38;5;124;43mtweet\u001B[39;49m\u001B[38;5;124;43m\"\u001B[39;49m\u001B[43m,\u001B[49m\n\u001B[1;32m     39\u001B[0m \u001B[43m            \u001B[49m\u001B[38;5;124;43m\"\u001B[39;49m\u001B[38;5;124;43mtok\u001B[39;49m\u001B[38;5;124;43m\"\u001B[39;49m\u001B[43m,\u001B[49m\n\u001B[1;32m     40\u001B[0m \u001B[43m            \u001B[49m\u001B[38;5;66;43;03m# \"twitter_uni\",\u001B[39;49;00m\n\u001B[1;32m     41\u001B[0m \u001B[43m            \u001B[49m\u001B[38;5;66;43;03m# \"twitter_bi_prev\",\u001B[39;49;00m\n\u001B[1;32m     42\u001B[0m \u001B[43m            \u001B[49m\u001B[38;5;66;43;03m# \"twitter_bi_next\",\u001B[39;49;00m\n\u001B[1;32m     43\u001B[0m \u001B[43m            \u001B[49m\u001B[38;5;66;43;03m# \"wiki_uni\",\u001B[39;49;00m\n\u001B[1;32m     44\u001B[0m \u001B[43m            \u001B[49m\u001B[38;5;66;43;03m# \"wiki_bi_prev\",\u001B[39;49;00m\n\u001B[1;32m     45\u001B[0m \u001B[43m            \u001B[49m\u001B[38;5;66;43;03m# \"wiki_bi_next\",\u001B[39;49;00m\n\u001B[1;32m     46\u001B[0m \u001B[43m        \u001B[49m\u001B[43m]\u001B[49m\u001B[43m,\u001B[49m\n\u001B[1;32m     47\u001B[0m \u001B[43m        \u001B[49m\u001B[43maxis\u001B[49m\u001B[38;5;241;43m=\u001B[39;49m\u001B[38;5;241;43m1\u001B[39;49m\u001B[43m,\u001B[49m\n\u001B[1;32m     48\u001B[0m \u001B[43m    \u001B[49m\u001B[43m)\u001B[49m\n\u001B[1;32m     49\u001B[0m     test_X\u001B[38;5;241m.\u001B[39mfillna(\u001B[38;5;241m0\u001B[39m, inplace\u001B[38;5;241m=\u001B[39m\u001B[38;5;28;01mTrue\u001B[39;00m)\n\u001B[1;32m     50\u001B[0m     \u001B[38;5;28;01mreturn\u001B[39;00m test_X\n",
      "File \u001B[0;32m~/Library/Mobile Documents/com~apple~CloudDocs/Documents/2/Diss/lexnorm/.venv/lib/python3.10/site-packages/pandas/util/_decorators.py:331\u001B[0m, in \u001B[0;36mdeprecate_nonkeyword_arguments.<locals>.decorate.<locals>.wrapper\u001B[0;34m(*args, **kwargs)\u001B[0m\n\u001B[1;32m    325\u001B[0m \u001B[38;5;28;01mif\u001B[39;00m \u001B[38;5;28mlen\u001B[39m(args) \u001B[38;5;241m>\u001B[39m num_allow_args:\n\u001B[1;32m    326\u001B[0m     warnings\u001B[38;5;241m.\u001B[39mwarn(\n\u001B[1;32m    327\u001B[0m         msg\u001B[38;5;241m.\u001B[39mformat(arguments\u001B[38;5;241m=\u001B[39m_format_argument_list(allow_args)),\n\u001B[1;32m    328\u001B[0m         \u001B[38;5;167;01mFutureWarning\u001B[39;00m,\n\u001B[1;32m    329\u001B[0m         stacklevel\u001B[38;5;241m=\u001B[39mfind_stack_level(),\n\u001B[1;32m    330\u001B[0m     )\n\u001B[0;32m--> 331\u001B[0m \u001B[38;5;28;01mreturn\u001B[39;00m \u001B[43mfunc\u001B[49m\u001B[43m(\u001B[49m\u001B[38;5;241;43m*\u001B[39;49m\u001B[43margs\u001B[49m\u001B[43m,\u001B[49m\u001B[43m \u001B[49m\u001B[38;5;241;43m*\u001B[39;49m\u001B[38;5;241;43m*\u001B[39;49m\u001B[43mkwargs\u001B[49m\u001B[43m)\u001B[49m\n",
      "File \u001B[0;32m~/Library/Mobile Documents/com~apple~CloudDocs/Documents/2/Diss/lexnorm/.venv/lib/python3.10/site-packages/pandas/core/frame.py:5399\u001B[0m, in \u001B[0;36mDataFrame.drop\u001B[0;34m(self, labels, axis, index, columns, level, inplace, errors)\u001B[0m\n\u001B[1;32m   5251\u001B[0m \u001B[38;5;129m@deprecate_nonkeyword_arguments\u001B[39m(version\u001B[38;5;241m=\u001B[39m\u001B[38;5;28;01mNone\u001B[39;00m, allowed_args\u001B[38;5;241m=\u001B[39m[\u001B[38;5;124m\"\u001B[39m\u001B[38;5;124mself\u001B[39m\u001B[38;5;124m\"\u001B[39m, \u001B[38;5;124m\"\u001B[39m\u001B[38;5;124mlabels\u001B[39m\u001B[38;5;124m\"\u001B[39m])\n\u001B[1;32m   5252\u001B[0m \u001B[38;5;28;01mdef\u001B[39;00m \u001B[38;5;21mdrop\u001B[39m(  \u001B[38;5;66;03m# type: ignore[override]\u001B[39;00m\n\u001B[1;32m   5253\u001B[0m     \u001B[38;5;28mself\u001B[39m,\n\u001B[0;32m   (...)\u001B[0m\n\u001B[1;32m   5260\u001B[0m     errors: IgnoreRaise \u001B[38;5;241m=\u001B[39m \u001B[38;5;124m\"\u001B[39m\u001B[38;5;124mraise\u001B[39m\u001B[38;5;124m\"\u001B[39m,\n\u001B[1;32m   5261\u001B[0m ) \u001B[38;5;241m-\u001B[39m\u001B[38;5;241m>\u001B[39m DataFrame \u001B[38;5;241m|\u001B[39m \u001B[38;5;28;01mNone\u001B[39;00m:\n\u001B[1;32m   5262\u001B[0m \u001B[38;5;250m    \u001B[39m\u001B[38;5;124;03m\"\"\"\u001B[39;00m\n\u001B[1;32m   5263\u001B[0m \u001B[38;5;124;03m    Drop specified labels from rows or columns.\u001B[39;00m\n\u001B[1;32m   5264\u001B[0m \n\u001B[0;32m   (...)\u001B[0m\n\u001B[1;32m   5397\u001B[0m \u001B[38;5;124;03m            weight  1.0     0.8\u001B[39;00m\n\u001B[1;32m   5398\u001B[0m \u001B[38;5;124;03m    \"\"\"\u001B[39;00m\n\u001B[0;32m-> 5399\u001B[0m     \u001B[38;5;28;01mreturn\u001B[39;00m \u001B[38;5;28;43msuper\u001B[39;49m\u001B[43m(\u001B[49m\u001B[43m)\u001B[49m\u001B[38;5;241;43m.\u001B[39;49m\u001B[43mdrop\u001B[49m\u001B[43m(\u001B[49m\n\u001B[1;32m   5400\u001B[0m \u001B[43m        \u001B[49m\u001B[43mlabels\u001B[49m\u001B[38;5;241;43m=\u001B[39;49m\u001B[43mlabels\u001B[49m\u001B[43m,\u001B[49m\n\u001B[1;32m   5401\u001B[0m \u001B[43m        \u001B[49m\u001B[43maxis\u001B[49m\u001B[38;5;241;43m=\u001B[39;49m\u001B[43maxis\u001B[49m\u001B[43m,\u001B[49m\n\u001B[1;32m   5402\u001B[0m \u001B[43m        \u001B[49m\u001B[43mindex\u001B[49m\u001B[38;5;241;43m=\u001B[39;49m\u001B[43mindex\u001B[49m\u001B[43m,\u001B[49m\n\u001B[1;32m   5403\u001B[0m \u001B[43m        \u001B[49m\u001B[43mcolumns\u001B[49m\u001B[38;5;241;43m=\u001B[39;49m\u001B[43mcolumns\u001B[49m\u001B[43m,\u001B[49m\n\u001B[1;32m   5404\u001B[0m \u001B[43m        \u001B[49m\u001B[43mlevel\u001B[49m\u001B[38;5;241;43m=\u001B[39;49m\u001B[43mlevel\u001B[49m\u001B[43m,\u001B[49m\n\u001B[1;32m   5405\u001B[0m \u001B[43m        \u001B[49m\u001B[43minplace\u001B[49m\u001B[38;5;241;43m=\u001B[39;49m\u001B[43minplace\u001B[49m\u001B[43m,\u001B[49m\n\u001B[1;32m   5406\u001B[0m \u001B[43m        \u001B[49m\u001B[43merrors\u001B[49m\u001B[38;5;241;43m=\u001B[39;49m\u001B[43merrors\u001B[49m\u001B[43m,\u001B[49m\n\u001B[1;32m   5407\u001B[0m \u001B[43m    \u001B[49m\u001B[43m)\u001B[49m\n",
      "File \u001B[0;32m~/Library/Mobile Documents/com~apple~CloudDocs/Documents/2/Diss/lexnorm/.venv/lib/python3.10/site-packages/pandas/util/_decorators.py:331\u001B[0m, in \u001B[0;36mdeprecate_nonkeyword_arguments.<locals>.decorate.<locals>.wrapper\u001B[0;34m(*args, **kwargs)\u001B[0m\n\u001B[1;32m    325\u001B[0m \u001B[38;5;28;01mif\u001B[39;00m \u001B[38;5;28mlen\u001B[39m(args) \u001B[38;5;241m>\u001B[39m num_allow_args:\n\u001B[1;32m    326\u001B[0m     warnings\u001B[38;5;241m.\u001B[39mwarn(\n\u001B[1;32m    327\u001B[0m         msg\u001B[38;5;241m.\u001B[39mformat(arguments\u001B[38;5;241m=\u001B[39m_format_argument_list(allow_args)),\n\u001B[1;32m    328\u001B[0m         \u001B[38;5;167;01mFutureWarning\u001B[39;00m,\n\u001B[1;32m    329\u001B[0m         stacklevel\u001B[38;5;241m=\u001B[39mfind_stack_level(),\n\u001B[1;32m    330\u001B[0m     )\n\u001B[0;32m--> 331\u001B[0m \u001B[38;5;28;01mreturn\u001B[39;00m \u001B[43mfunc\u001B[49m\u001B[43m(\u001B[49m\u001B[38;5;241;43m*\u001B[39;49m\u001B[43margs\u001B[49m\u001B[43m,\u001B[49m\u001B[43m \u001B[49m\u001B[38;5;241;43m*\u001B[39;49m\u001B[38;5;241;43m*\u001B[39;49m\u001B[43mkwargs\u001B[49m\u001B[43m)\u001B[49m\n",
      "File \u001B[0;32m~/Library/Mobile Documents/com~apple~CloudDocs/Documents/2/Diss/lexnorm/.venv/lib/python3.10/site-packages/pandas/core/generic.py:4505\u001B[0m, in \u001B[0;36mNDFrame.drop\u001B[0;34m(self, labels, axis, index, columns, level, inplace, errors)\u001B[0m\n\u001B[1;32m   4503\u001B[0m \u001B[38;5;28;01mfor\u001B[39;00m axis, labels \u001B[38;5;129;01min\u001B[39;00m axes\u001B[38;5;241m.\u001B[39mitems():\n\u001B[1;32m   4504\u001B[0m     \u001B[38;5;28;01mif\u001B[39;00m labels \u001B[38;5;129;01mis\u001B[39;00m \u001B[38;5;129;01mnot\u001B[39;00m \u001B[38;5;28;01mNone\u001B[39;00m:\n\u001B[0;32m-> 4505\u001B[0m         obj \u001B[38;5;241m=\u001B[39m \u001B[43mobj\u001B[49m\u001B[38;5;241;43m.\u001B[39;49m\u001B[43m_drop_axis\u001B[49m\u001B[43m(\u001B[49m\u001B[43mlabels\u001B[49m\u001B[43m,\u001B[49m\u001B[43m \u001B[49m\u001B[43maxis\u001B[49m\u001B[43m,\u001B[49m\u001B[43m \u001B[49m\u001B[43mlevel\u001B[49m\u001B[38;5;241;43m=\u001B[39;49m\u001B[43mlevel\u001B[49m\u001B[43m,\u001B[49m\u001B[43m \u001B[49m\u001B[43merrors\u001B[49m\u001B[38;5;241;43m=\u001B[39;49m\u001B[43merrors\u001B[49m\u001B[43m)\u001B[49m\n\u001B[1;32m   4507\u001B[0m \u001B[38;5;28;01mif\u001B[39;00m inplace:\n\u001B[1;32m   4508\u001B[0m     \u001B[38;5;28mself\u001B[39m\u001B[38;5;241m.\u001B[39m_update_inplace(obj)\n",
      "File \u001B[0;32m~/Library/Mobile Documents/com~apple~CloudDocs/Documents/2/Diss/lexnorm/.venv/lib/python3.10/site-packages/pandas/core/generic.py:4546\u001B[0m, in \u001B[0;36mNDFrame._drop_axis\u001B[0;34m(self, labels, axis, level, errors, only_slice)\u001B[0m\n\u001B[1;32m   4544\u001B[0m         new_axis \u001B[38;5;241m=\u001B[39m axis\u001B[38;5;241m.\u001B[39mdrop(labels, level\u001B[38;5;241m=\u001B[39mlevel, errors\u001B[38;5;241m=\u001B[39merrors)\n\u001B[1;32m   4545\u001B[0m     \u001B[38;5;28;01melse\u001B[39;00m:\n\u001B[0;32m-> 4546\u001B[0m         new_axis \u001B[38;5;241m=\u001B[39m \u001B[43maxis\u001B[49m\u001B[38;5;241;43m.\u001B[39;49m\u001B[43mdrop\u001B[49m\u001B[43m(\u001B[49m\u001B[43mlabels\u001B[49m\u001B[43m,\u001B[49m\u001B[43m \u001B[49m\u001B[43merrors\u001B[49m\u001B[38;5;241;43m=\u001B[39;49m\u001B[43merrors\u001B[49m\u001B[43m)\u001B[49m\n\u001B[1;32m   4547\u001B[0m     indexer \u001B[38;5;241m=\u001B[39m axis\u001B[38;5;241m.\u001B[39mget_indexer(new_axis)\n\u001B[1;32m   4549\u001B[0m \u001B[38;5;66;03m# Case for non-unique axis\u001B[39;00m\n\u001B[1;32m   4550\u001B[0m \u001B[38;5;28;01melse\u001B[39;00m:\n",
      "File \u001B[0;32m~/Library/Mobile Documents/com~apple~CloudDocs/Documents/2/Diss/lexnorm/.venv/lib/python3.10/site-packages/pandas/core/indexes/base.py:6934\u001B[0m, in \u001B[0;36mIndex.drop\u001B[0;34m(self, labels, errors)\u001B[0m\n\u001B[1;32m   6932\u001B[0m \u001B[38;5;28;01mif\u001B[39;00m mask\u001B[38;5;241m.\u001B[39many():\n\u001B[1;32m   6933\u001B[0m     \u001B[38;5;28;01mif\u001B[39;00m errors \u001B[38;5;241m!=\u001B[39m \u001B[38;5;124m\"\u001B[39m\u001B[38;5;124mignore\u001B[39m\u001B[38;5;124m\"\u001B[39m:\n\u001B[0;32m-> 6934\u001B[0m         \u001B[38;5;28;01mraise\u001B[39;00m \u001B[38;5;167;01mKeyError\u001B[39;00m(\u001B[38;5;124mf\u001B[39m\u001B[38;5;124m\"\u001B[39m\u001B[38;5;132;01m{\u001B[39;00m\u001B[38;5;28mlist\u001B[39m(labels[mask])\u001B[38;5;132;01m}\u001B[39;00m\u001B[38;5;124m not found in axis\u001B[39m\u001B[38;5;124m\"\u001B[39m)\n\u001B[1;32m   6935\u001B[0m     indexer \u001B[38;5;241m=\u001B[39m indexer[\u001B[38;5;241m~\u001B[39mmask]\n\u001B[1;32m   6936\u001B[0m \u001B[38;5;28;01mreturn\u001B[39;00m \u001B[38;5;28mself\u001B[39m\u001B[38;5;241m.\u001B[39mdelete(indexer)\n",
      "\u001B[0;31mKeyError\u001B[0m: \"['prev', 'next'] not found in axis\""
     ]
    }
   ],
   "source": [
    "random_forest.predict_normalisations(random_forest.predict_probs(clf, os.path.join(DATA_PATH, \"hpc/dev_processed_nocap.txt\")).sort_values([\"process\", \"tweet\", \"tok\"]))"
   ],
   "metadata": {
    "collapsed": false
   }
  },
  {
   "cell_type": "code",
   "execution_count": null,
   "outputs": [],
   "source": [],
   "metadata": {
    "collapsed": false
   }
  },
  {
   "cell_type": "code",
   "execution_count": 77,
   "outputs": [],
   "source": [
    "from lexnorm.models.normalise import prep_train\n",
    "# trying svc\n",
    "from sklearn import svm\n",
    "clf = svm.SVC()\n",
    "data = pd.read_csv(\n",
    "        os.path.join(DATA_PATH, \"hpc/train_processed_annotated_nocap.txt\"), index_col=0, keep_default_na=False, na_values=\"\"\n",
    "    ).sample(frac=1, random_state=42)\n",
    "train_X, train_y = prep_train(data)"
   ],
   "metadata": {
    "collapsed": false
   }
  },
  {
   "cell_type": "code",
   "execution_count": 78,
   "outputs": [
    {
     "data": {
      "text/plain": "beguile         0.0\nindia           0.0\ncreased         0.0\nbestseller's    0.0\nbenefactors     0.0\n               ... \nandroid's       0.0\nderision        0.0\nonslaught       0.0\nmeteor's        0.0\nbutcher's       0.0\nName: correct, Length: 2977600, dtype: float64"
     },
     "execution_count": 78,
     "metadata": {},
     "output_type": "execute_result"
    }
   ],
   "source": [
    "train_X.s"
   ],
   "metadata": {
    "collapsed": false
   }
  }
 ],
 "metadata": {
  "kernelspec": {
   "display_name": "Python 3",
   "language": "python",
   "name": "python3"
  },
  "language_info": {
   "codemirror_mode": {
    "name": "ipython",
    "version": 2
   },
   "file_extension": ".py",
   "mimetype": "text/x-python",
   "name": "python",
   "nbconvert_exporter": "python",
   "pygments_lexer": "ipython2",
   "version": "2.7.6"
  }
 },
 "nbformat": 4,
 "nbformat_minor": 0
}
